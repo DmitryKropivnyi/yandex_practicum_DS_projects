{
 "cells": [
  {
   "cell_type": "markdown",
   "metadata": {
    "toc": true
   },
   "source": [
    "<h1>Содержание<span class=\"tocSkip\"></span></h1>\n",
    "<div class=\"toc\"><ul class=\"toc-item\"><li><span><a href=\"#Подготовка-данных\" data-toc-modified-id=\"Подготовка-данных-1\"><span class=\"toc-item-num\">1&nbsp;&nbsp;</span>Подготовка данных</a></span></li><li><span><a href=\"#Исследование-задачи\" data-toc-modified-id=\"Исследование-задачи-2\"><span class=\"toc-item-num\">2&nbsp;&nbsp;</span>Исследование задачи</a></span><ul class=\"toc-item\"><li><span><a href=\"#Распределение-классов\" data-toc-modified-id=\"Распределение-классов-2.1\"><span class=\"toc-item-num\">2.1&nbsp;&nbsp;</span>Распределение классов</a></span></li><li><span><a href=\"#Исследование-баланса-классов\" data-toc-modified-id=\"Исследование-баланса-классов-2.2\"><span class=\"toc-item-num\">2.2&nbsp;&nbsp;</span>Исследование баланса классов</a></span></li><li><span><a href=\"#Вывод\" data-toc-modified-id=\"Вывод-2.3\"><span class=\"toc-item-num\">2.3&nbsp;&nbsp;</span>Вывод</a></span></li><li><span><a href=\"#Поиск-наилучшей-модели\" data-toc-modified-id=\"Поиск-наилучшей-модели-2.4\"><span class=\"toc-item-num\">2.4&nbsp;&nbsp;</span>Поиск наилучшей модели</a></span></li></ul></li><li><span><a href=\"#Борьба-с-дисбалансом\" data-toc-modified-id=\"Борьба-с-дисбалансом-3\"><span class=\"toc-item-num\">3&nbsp;&nbsp;</span>Борьба с дисбалансом</a></span><ul class=\"toc-item\"><li><span><a href=\"#Проведём-оценку-эффективности-методов-борьбы-с-дисбалансом\" data-toc-modified-id=\"Проведём-оценку-эффективности-методов-борьбы-с-дисбалансом-3.1\"><span class=\"toc-item-num\">3.1&nbsp;&nbsp;</span>Проведём оценку эффективности методов борьбы с дисбалансом</a></span></li></ul></li><li><span><a href=\"#Тестирование-модели\" data-toc-modified-id=\"Тестирование-модели-4\"><span class=\"toc-item-num\">4&nbsp;&nbsp;</span>Тестирование модели</a></span></li><li><span><a href=\"#Проверка-модели-на-адекватность\" data-toc-modified-id=\"Проверка-модели-на-адекватность-5\"><span class=\"toc-item-num\">5&nbsp;&nbsp;</span>Проверка модели на адекватность</a></span></li><li><span><a href=\"#Общий-вывод:\" data-toc-modified-id=\"Общий-вывод:-6\"><span class=\"toc-item-num\">6&nbsp;&nbsp;</span>Общий вывод:</a></span></li></ul></div>"
   ]
  },
  {
   "cell_type": "markdown",
   "metadata": {},
   "source": [
    "# Отток клиентов"
   ]
  },
  {
   "cell_type": "markdown",
   "metadata": {},
   "source": [
    "Из «Бета-Банка» стали уходить клиенты. Каждый месяц. Немного, но заметно. Банковские маркетологи посчитали: сохранять текущих клиентов дешевле, чем привлекать новых.\n",
    "\n",
    "Нужно спрогнозировать, уйдёт клиент из банка в ближайшее время или нет. Вам предоставлены исторические данные о поведении клиентов и расторжении договоров с банком. \n"
   ]
  },
  {
   "cell_type": "markdown",
   "metadata": {},
   "source": [
    "\n",
    "**_Описание данных:_**\n",
    " - `RowNumber` — индекс строки в данных\n",
    " - `CustomerId` — уникальный идентификатор клиента\n",
    " - `Surname` — фамилия\n",
    " - `CreditScore` — кредитный рейтинг\n",
    " - `Geography` — страна проживания\n",
    " - `Gender` — пол\n",
    " - `Age` — возраст\n",
    " - `Tenure` — сколько лет человек является клиентом банка\n",
    " - `Balance` — баланс на счёте\n",
    " - `NumOfProducts` — количество продуктов банка, используемых клиентом\n",
    " - `HasCrCard` — наличие кредитной карты\n",
    " - `IsActiveMember` — активность клиента\n",
    " - `EstimatedSalary` — предполагаемая зарплата\n",
    " - `Exited` — факт ухода клиента\n",
    " \n",
    "**_План работы:_**\n",
    " - Исследование задачи\n",
    " - Создание модели\n",
    " - Борьба с дисбалансом\n",
    " - Тестирование модели\n",
    " - Проверка модели на адекватность\n",
    " - Общий вывод"
   ]
  },
  {
   "cell_type": "markdown",
   "metadata": {},
   "source": [
    "## Подготовка данных"
   ]
  },
  {
   "cell_type": "code",
   "execution_count": 2,
   "metadata": {},
   "outputs": [],
   "source": [
    "import pandas as pd\n",
    "import seaborn as sns\n",
    "import warnings\n",
    "from IPython.display import display, HTML\n",
    "import matplotlib.pyplot as plt\n",
    "from sklearn.model_selection import GridSearchCV\n",
    "import numpy as np\n",
    "from xgboost import XGBClassifier\n",
    "from sklearn.model_selection import train_test_split\n",
    "from sklearn.tree import DecisionTreeClassifier\n",
    "from sklearn.ensemble import RandomForestClassifier\n",
    "from sklearn.linear_model import LogisticRegression\n",
    "from sklearn.dummy import DummyClassifier\n",
    "from catboost import CatBoostClassifier\n",
    "from sklearn.utils import shuffle\n",
    "from sklearn.utils.class_weight import compute_class_weight\n",
    "from sklearn.metrics import f1_score, roc_auc_score, roc_curve, accuracy_score"
   ]
  },
  {
   "cell_type": "code",
   "execution_count": 3,
   "metadata": {},
   "outputs": [
    {
     "data": {},
     "metadata": {},
     "output_type": "display_data"
    }
   ],
   "source": [
    "display(HTML(\"<style>.container { width:80% !important; <style>}\"))\n",
    "pd.set_option('display.max_columns', None)\n",
    "pd.set_option('display.max_rows', None)\n",
    "warnings.filterwarnings(\"ignore\")"
   ]
  },
  {
   "cell_type": "code",
   "execution_count": 4,
   "metadata": {},
   "outputs": [],
   "source": [
    "try:\n",
    "    data = pd.read_csv('E:/BuduBogatym/Churn.csv')\n",
    "except:\n",
    "    data = pd.read_csv(\n",
    "        'https://code.s3.yandex.net/datasets/Churn.csv')"
   ]
  },
  {
   "cell_type": "code",
   "execution_count": 5,
   "metadata": {
    "scrolled": false
   },
   "outputs": [
    {
     "data": {},
     "execution_count": 5,
     "metadata": {},
     "output_type": "execute_result"
    }
   ],
   "source": [
    "data.head(10)"
   ]
  },
  {
   "cell_type": "code",
   "execution_count": 6,
   "metadata": {
    "scrolled": false
   },
   "outputs": [],
   "source": [
    "# Проверим информацию о датасете\n",
    "data.info()"
   ]
  },
  {
   "cell_type": "code",
   "execution_count": 7,
   "metadata": {
    "scrolled": true
   },
   "outputs": [
    {
     "data": {},
     "execution_count": 7,
     "metadata": {},
     "output_type": "execute_result"
    }
   ],
   "source": [
    "# Проверим наличеие пропусков в датасете\n",
    "data.isnull().sum()"
   ]
  },
  {
   "cell_type": "markdown",
   "metadata": {},
   "source": [
    "Заметим, что пропуски имеются только в столбце `Tenure` , а также тип данных всех столбцов является корректным."
   ]
  },
  {
   "cell_type": "markdown",
   "metadata": {},
   "source": [
    "Предположу, что данные пропуски связаны с тем, что это новые клиенты. Поэтому заменим данные пропуски на 0"
   ]
  },
  {
   "cell_type": "code",
   "execution_count": 8,
   "metadata": {},
   "outputs": [],
   "source": [
    "#Заменим пропуски в столбце на 0\n",
    "data['Tenure'].fillna(0, inplace=True)"
   ]
  },
  {
   "cell_type": "markdown",
   "metadata": {},
   "source": [
    "Попробуем удалить столбцы `CustomerId`,`Surname`,`RowNumber`, так как эти столбцы помешают обучению нашей модели."
   ]
  },
  {
   "cell_type": "code",
   "execution_count": 9,
   "metadata": {
    "scrolled": true
   },
   "outputs": [],
   "source": [
    "print('Уникальные ID:', data['CustomerId'].nunique())"
   ]
  },
  {
   "cell_type": "markdown",
   "metadata": {},
   "source": [
    "Так как количество уникальных пользователей совпадает с числом строк, то можно удалить вышеперечисленные столбцы"
   ]
  },
  {
   "cell_type": "code",
   "execution_count": 10,
   "metadata": {},
   "outputs": [],
   "source": [
    "data = data.drop(['CustomerId','Surname','RowNumber'], axis = 1)"
   ]
  },
  {
   "cell_type": "markdown",
   "metadata": {},
   "source": [
    "У нас имеются категориальные признаки, которое могут серьёзно повлиять на обучение моделей, поэтому воспользуемся `OHE`."
   ]
  },
  {
   "cell_type": "code",
   "execution_count": 11,
   "metadata": {},
   "outputs": [],
   "source": [
    "# Применим OHE к датасету, с удалением первоначального столбца\n",
    "data = pd.get_dummies(data, drop_first=True)"
   ]
  },
  {
   "cell_type": "code",
   "execution_count": 12,
   "metadata": {
    "scrolled": true
   },
   "outputs": [
    {
     "data": {},
     "execution_count": 12,
     "metadata": {},
     "output_type": "execute_result"
    }
   ],
   "source": [
    "data.head(5)"
   ]
  },
  {
   "cell_type": "code",
   "execution_count": 13,
   "metadata": {
    "scrolled": true
   },
   "outputs": [],
   "source": [
    "#Переименуем столбц\n",
    "data.rename({'Gender_Male':'gender'}, axis = 1, inplace=True)"
   ]
  },
  {
   "cell_type": "markdown",
   "metadata": {},
   "source": [
    "Приведём названия столбцов в нашем датасете к стандарту"
   ]
  },
  {
   "cell_type": "code",
   "execution_count": 14,
   "metadata": {
    "scrolled": true
   },
   "outputs": [],
   "source": [
    "data.columns = data.columns.str.replace(r\"([A-Z])\", r\" \\1\").str.lower().str.replace(' ', '_').str[1:]\n",
    "data.rename({'ender':'gender', 'geography__germany':'geography_germany', \\\n",
    "            'geography__spain':'geography_spain'}, axis=1, inplace=True)\n"
   ]
  },
  {
   "cell_type": "markdown",
   "metadata": {},
   "source": [
    "## Исследование задачи"
   ]
  },
  {
   "cell_type": "markdown",
   "metadata": {},
   "source": [
    "### Распределение классов"
   ]
  },
  {
   "cell_type": "markdown",
   "metadata": {},
   "source": [
    "Построим гистограммы по количественным переменным для оценки на выбросы и распределения."
   ]
  },
  {
   "cell_type": "code",
   "execution_count": 15,
   "metadata": {
    "scrolled": false
   },
   "outputs": [
    {
     "data": {
      "image/png": "[encoded data removed]"
     },
     "metadata": {
      "needs_background": "light"
     },
     "output_type": "display_data"
    },
    {
     "data": {
      "image/png": "[encoded data removed]"
     },
     "metadata": {
      "needs_background": "light"
     },
     "output_type": "display_data"
    },
    {
     "data": {
      "image/png": "[encoded data removed]"
     },
     "metadata": {
      "needs_background": "light"
     },
     "output_type": "display_data"
    },
    {
     "data": {
      "image/png": "[encoded data removed]"
     },
     "metadata": {
      "needs_background": "light"
     },
     "output_type": "display_data"
    },
    {
     "data": {
      "image/png": "[encoded data removed]"
     },
     "metadata": {
      "needs_background": "light"
     },
     "output_type": "display_data"
    }
   ],
   "source": [
    "# Создадим цикл, который пройдется по выбранным столбцам и построит графики для каждого из них\n",
    "for i in ['credit_score', 'age', 'tenure', 'balance', 'num_of_products']:\n",
    "    data[i].hist(bins = 20).set(ylabel = i)\n",
    "    plt.show()\n",
    "    "
   ]
  },
  {
   "cell_type": "markdown",
   "metadata": {},
   "source": [
    " * `credit_score` имеет нормальное распределение\n",
    " * `age` имеет нормальное распределение но с некоторым смещением влево\n",
    " * `tenure` имеет почти одинаковые значения на участке пользования банков от 1 до 9 лет включительно\n",
    " * `balance` имеет нормальное распределение\n",
    " * `num_of_products` похож на распределение Пуассона"
   ]
  },
  {
   "cell_type": "markdown",
   "metadata": {},
   "source": [
    "**Удалять аномальные значения черевато для данного исследования, так как в условиях задачи такие значения имеют место быть и значительно влиять на дальнейшее обучение моделей**"
   ]
  },
  {
   "cell_type": "markdown",
   "metadata": {},
   "source": [
    "### Исследование баланса классов"
   ]
  },
  {
   "cell_type": "code",
   "execution_count": 16,
   "metadata": {},
   "outputs": [
    {
     "data": {},
     "execution_count": 16,
     "metadata": {},
     "output_type": "execute_result"
    }
   ],
   "source": [
    "data.head()"
   ]
  },
  {
   "cell_type": "code",
   "execution_count": 17,
   "metadata": {},
   "outputs": [
    {
     "data": {},
     "execution_count": 17,
     "metadata": {},
     "output_type": "execute_result"
    }
   ],
   "source": [
    "data.has_cr_card.sum()/data.has_cr_card.count()*100"
   ]
  },
  {
   "cell_type": "markdown",
   "metadata": {},
   "source": [
    "Более 70 процентов людей владеют кредитной картой"
   ]
  },
  {
   "cell_type": "code",
   "execution_count": 18,
   "metadata": {},
   "outputs": [
    {
     "data": {},
     "execution_count": 18,
     "metadata": {},
     "output_type": "execute_result"
    }
   ],
   "source": [
    "data.is_active_member.sum()/data.is_active_member.count()*100"
   ]
  },
  {
   "cell_type": "markdown",
   "metadata": {},
   "source": [
    "Более 51 процента клиентов являются активными"
   ]
  },
  {
   "cell_type": "code",
   "execution_count": 19,
   "metadata": {},
   "outputs": [
    {
     "data": {},
     "execution_count": 19,
     "metadata": {},
     "output_type": "execute_result"
    }
   ],
   "source": [
    "data.exited.sum()/data.exited.count()*100"
   ]
  },
  {
   "cell_type": "markdown",
   "metadata": {},
   "source": [
    "Лишь 20 процентов клиентов перестали пользоваться услугами банка"
   ]
  },
  {
   "cell_type": "code",
   "execution_count": 20,
   "metadata": {},
   "outputs": [
    {
     "data": {},
     "execution_count": 20,
     "metadata": {},
     "output_type": "execute_result"
    }
   ],
   "source": [
    "data.geography_germany.sum()/data.geography_germany.count()*100"
   ]
  },
  {
   "cell_type": "markdown",
   "metadata": {},
   "source": [
    "Около 25 процентов клиентов из Германии"
   ]
  },
  {
   "cell_type": "code",
   "execution_count": 21,
   "metadata": {},
   "outputs": [
    {
     "data": {},
     "execution_count": 21,
     "metadata": {},
     "output_type": "execute_result"
    }
   ],
   "source": [
    "data.geography_spain.sum()/data.geography_spain.count()*100"
   ]
  },
  {
   "cell_type": "markdown",
   "metadata": {},
   "source": [
    "Около 25 процентов клиентов из Испании"
   ]
  },
  {
   "cell_type": "markdown",
   "metadata": {},
   "source": [
    "Следовательно, оставшиеся 50% клиенты Франции"
   ]
  },
  {
   "cell_type": "code",
   "execution_count": 22,
   "metadata": {},
   "outputs": [
    {
     "data": {},
     "execution_count": 22,
     "metadata": {},
     "output_type": "execute_result"
    }
   ],
   "source": [
    "data.gender.sum()/data.gender.count()*100"
   ]
  },
  {
   "cell_type": "markdown",
   "metadata": {},
   "source": [
    "54 процентов клиентов мужчины"
   ]
  },
  {
   "cell_type": "markdown",
   "metadata": {},
   "source": [
    "### Вывод"
   ]
  },
  {
   "cell_type": "markdown",
   "metadata": {},
   "source": [
    "Явный дисбаланс классов можно проследить в столбцах `has_cr_card`, `geography`, `exited`.\n",
    "    \n",
    "В конечном итоге их нужно будет сбалансировать для получения лучшей модели"
   ]
  },
  {
   "cell_type": "markdown",
   "metadata": {},
   "source": [
    "### Поиск наилучшей модели"
   ]
  },
  {
   "cell_type": "markdown",
   "metadata": {},
   "source": [
    "Разобьём наш датасет на выборки"
   ]
  },
  {
   "cell_type": "code",
   "execution_count": 23,
   "metadata": {},
   "outputs": [],
   "source": [
    "data_features = data.drop('exited', axis=1)\n",
    "data_target = data['exited']"
   ]
  },
  {
   "cell_type": "code",
   "execution_count": 24,
   "metadata": {},
   "outputs": [],
   "source": [
    "# Делим выборки на тестовую и тренировочную\n",
    "train_features, test_features, train_target, test_target = train_test_split(\n",
    "    data_features, data_target, test_size=0.25, random_state=12345, stratify=data['exited'])"
   ]
  },
  {
   "cell_type": "code",
   "execution_count": 25,
   "metadata": {},
   "outputs": [],
   "source": [
    "# Проверим корректность деления\n",
    "print(train_features.shape)\n",
    "print(train_target.shape)\n",
    "\n",
    "\n",
    "print(test_features.shape)\n",
    "print(test_target.shape)"
   ]
  },
  {
   "cell_type": "markdown",
   "metadata": {},
   "source": [
    "Воспользуемся функцией подбора оптимальных параметров для модели - `GridSearch`"
   ]
  },
  {
   "cell_type": "code",
   "execution_count": 26,
   "metadata": {},
   "outputs": [],
   "source": [
    "def find_best_pr(model, parameters=None, features=None, target=None):\n",
    "    # Определяем GridSearch с необходимыми параметрами\n",
    "    grid = GridSearchCV(model, parameters, cv=5, n_jobs=-1,\n",
    "                        scoring=['f1', 'roc_auc', 'accuracy'], refit='f1')\n",
    "    grid.fit(features, target)\n",
    "    \n",
    "    try:\n",
    "        feature_importance = grid.best_estimator_.feature_importances_\n",
    "        sorted_idx = np.argsort(feature_importance)\n",
    "        fig = plt.figure(figsize=(6, 6))\n",
    "        plt.barh(range(len(sorted_idx)),\n",
    "                 feature_importance[sorted_idx], align='center')\n",
    "        plt.yticks(range(len(sorted_idx)), np.array(features.columns)[sorted_idx])\n",
    "        plt.title('Feature Importance')\n",
    "        fig.show()\n",
    "    except:\n",
    "        pass\n",
    "\n",
    "    print('Accuracy:', grid.cv_results_[\n",
    "          'mean_test_accuracy'][grid.best_index_])\n",
    "    print('f1:', grid.cv_results_['mean_test_f1'][grid.best_index_])\n",
    "    print('ROC_AUC:', grid.cv_results_['mean_test_roc_auc'][grid.best_index_])\n",
    "    print('Model:', grid.best_estimator_)\n",
    "    return grid"
   ]
  },
  {
   "cell_type": "markdown",
   "metadata": {},
   "source": [
    "**Модель решающего дерева**"
   ]
  },
  {
   "cell_type": "code",
   "execution_count": 27,
   "metadata": {
    "scrolled": false
   },
   "outputs": [
    {
     "data": {
      "image/png": "[encoded data removed]"
     },
     "metadata": {
      "needs_background": "light"
     },
     "output_type": "display_data"
    }
   ],
   "source": [
    "%%time\n",
    "model = DecisionTreeClassifier(random_state=12345)\n",
    "parameters = {\n",
    "    'max_depth': range(1, 25, 1)\n",
    "}\n",
    "\n",
    "best_dt_model = find_best_pr(model, parameters, train_features, train_target)"
   ]
  },
  {
   "cell_type": "markdown",
   "metadata": {},
   "source": [
    "**Модель логистической регрессии**"
   ]
  },
  {
   "cell_type": "code",
   "execution_count": 28,
   "metadata": {
    "scrolled": true
   },
   "outputs": [],
   "source": [
    "%%time\n",
    "model = LogisticRegression(random_state=12345)\n",
    "parameters = {}\n",
    "\n",
    "best_lr_model = find_best_pr(model, parameters, train_features, train_target)"
   ]
  },
  {
   "cell_type": "markdown",
   "metadata": {},
   "source": [
    "**Модель случайного леса**"
   ]
  },
  {
   "cell_type": "code",
   "execution_count": 29,
   "metadata": {
    "scrolled": false
   },
   "outputs": [
    {
     "data": {
      "image/png": "[encoded data removed]"
     },
     "metadata": {
      "needs_background": "light"
     },
     "output_type": "display_data"
    }
   ],
   "source": [
    "%%time\n",
    "model = RandomForestClassifier(random_state=12345)\n",
    "parameters = {\n",
    "    'max_depth': range(1, 25, 1), 'n_estimators': range(10, 101, 10)\n",
    "}\n",
    "\n",
    "best_rf_model = find_best_pr(model, parameters, train_features, train_target)"
   ]
  },
  {
   "cell_type": "markdown",
   "metadata": {},
   "source": [
    "**Модель XGBoost**"
   ]
  },
  {
   "cell_type": "code",
   "execution_count": 30,
   "metadata": {
    "scrolled": false
   },
   "outputs": [
    {
     "data": {
      "image/png": "[encoded data removed]"
     },
     "metadata": {
      "needs_background": "light"
     },
     "output_type": "display_data"
    }
   ],
   "source": [
    "%%time\n",
    "model = XGBClassifier(booster='gbtree',\n",
    "                      eval_metric='auc',\n",
    "                      use_rmm=True,\n",
    "                      verbosity=0)\n",
    "parametrs = {\n",
    "    'max_depth': [5, 10, 15],\n",
    "    'learning_rate': [0.1, 0.15]\n",
    "}\n",
    "\n",
    "best_xgb_model = find_best_pr(model, parameters, train_features, train_target)"
   ]
  },
  {
   "cell_type": "markdown",
   "metadata": {},
   "source": [
    "**Модель CatBoost**"
   ]
  },
  {
   "cell_type": "code",
   "execution_count": 31,
   "metadata": {
    "scrolled": false
   },
   "outputs": [
    {
     "data": {
      "image/png": "[encoded data removed]"
     },
     "metadata": {
      "needs_background": "light"
     },
     "output_type": "display_data"
    }
   ],
   "source": [
    "%%time\n",
    "model = CatBoostClassifier(\n",
    "    random_state=12345, verbose=False, loss_function='Logloss')\n",
    "parameters = {\n",
    "    'max_depth': range(6, 12),\n",
    "    'learning_rate': [.015]\n",
    "}\n",
    "\n",
    "best_cb_model = find_best_pr(model, parameters, train_features, train_target)"
   ]
  },
  {
   "cell_type": "markdown",
   "metadata": {},
   "source": [
    "**По результатам исследования без учёта баланса классов наилучшие показатели метрик имеет модель CatBoost:**  \n",
    " * f1 = 0.593\n",
    " * ROC_AUC = 0.865\n"
   ]
  },
  {
   "cell_type": "markdown",
   "metadata": {},
   "source": [
    "## Борьба с дисбалансом"
   ]
  },
  {
   "cell_type": "markdown",
   "metadata": {},
   "source": [
    "**Воспользуемся методом увеличения выборки `Upsample`**"
   ]
  },
  {
   "cell_type": "code",
   "execution_count": 32,
   "metadata": {},
   "outputs": [],
   "source": [
    "# Для удобства создадим функцию, которая будет увеличивать выборку\n",
    "def upsample(features, target, repeat):\n",
    "    features_zeros = features[target == 0]\n",
    "    features_ones = features[target == 1]\n",
    "    target_zeros = target[target == 0]\n",
    "    target_ones = target[target == 1]\n",
    "\n",
    "    features_upsampled = pd.concat([features_zeros] + [features_ones] * repeat)\n",
    "    target_upsampled = pd.concat([target_zeros] + [target_ones] * repeat)\n",
    "\n",
    "    features_upsampled, target_upsampled = shuffle(\n",
    "        features_upsampled, target_upsampled, random_state=12345)\n",
    "\n",
    "    return features_upsampled, target_upsampled"
   ]
  },
  {
   "cell_type": "code",
   "execution_count": 33,
   "metadata": {
    "scrolled": false
   },
   "outputs": [],
   "source": [
    "# Воспользуемся полученной функцией на тренировочной выборке и проверим снова дисбаланс\n",
    "features_upsampled, target_upsampled = upsample(\n",
    "    train_features, train_target, 4)\n",
    "\n",
    "print('Процент клиентов, которые ушли из банка: {:.0f}%'.format(\n",
    "    target_upsampled.sum()/target_upsampled.count()*100))\n",
    "print('Процент клиентов, которые имеют кредитную карту: {:.0f}%'.format(\n",
    "    features_upsampled.has_cr_card.sum()/features_upsampled.has_cr_card.count()*100))"
   ]
  },
  {
   "cell_type": "markdown",
   "metadata": {},
   "source": [
    "В данном методе классы стали сбалансированными"
   ]
  },
  {
   "cell_type": "markdown",
   "metadata": {},
   "source": [
    "**Воспользуемся алгоритмом `downsample`**"
   ]
  },
  {
   "cell_type": "code",
   "execution_count": 46,
   "metadata": {},
   "outputs": [],
   "source": [
    "# Для удобства создадим функцию, которая будет уменьшать выборку\n",
    "def downsample(features, target, fraction):\n",
    "    features_zeros = features[target == 0]\n",
    "    features_ones = features[target == 1]\n",
    "    target_zeros = target[target == 0]\n",
    "    target_ones = target[target == 1]\n",
    "\n",
    "    features_downsampled = pd.concat(\n",
    "        [features_zeros.sample(frac=fraction, random_state=12345)] + [features_ones])\n",
    "    target_downsampled = pd.concat(\n",
    "        [target_zeros.sample(frac=fraction, random_state=12345)] + [target_ones])\n",
    "\n",
    "    features_downsampled, target_downsampled = shuffle(\n",
    "        features_downsampled, target_downsampled, random_state=12345)\n",
    "\n",
    "    return features_downsampled, target_downsampled"
   ]
  },
  {
   "cell_type": "code",
   "execution_count": 44,
   "metadata": {
    "scrolled": true
   },
   "outputs": [],
   "source": [
    "features_downsampled, target_downsampled = downsample(\n",
    "    train_features, train_target, 0.1)\n",
    "print(features_downsampled.shape)\n",
    "print(target_downsampled.shape)\n",
    "\n",
    "\n",
    "print('Процент клиентов, которые ушли из банка: {:.0f}%'.format(\n",
    "    target_downsampled.sum()/target_downsampled.count()*100))\n",
    "print('Процент клиентов, которые имеют кредитную карту: {:.2f}%'.format(\n",
    "    features_downsampled.has_cr_card.sum()/features_downsampled.has_cr_card.count()*100))"
   ]
  },
  {
   "cell_type": "markdown",
   "metadata": {},
   "source": [
    "Баланс классов с данным методом не стал лучше, предполагаю, что дело в малом количестве данных, которые получились после уменьшения выборки. Дальнейшее использование данного метода в работе не считаю целесообразным."
   ]
  },
  {
   "cell_type": "markdown",
   "metadata": {},
   "source": [
    "### Проведём оценку эффективности методов борьбы с дисбалансом"
   ]
  },
  {
   "cell_type": "markdown",
   "metadata": {},
   "source": [
    "Для более быстрого анализа воспользуемся моделью DeсisionTree, так как она имеет не высокую скорость обучения и подходит для выбора наилучшего метода баланса классов"
   ]
  },
  {
   "cell_type": "markdown",
   "metadata": {},
   "source": [
    "**Используем метод Balanced на модели**"
   ]
  },
  {
   "cell_type": "code",
   "execution_count": 47,
   "metadata": {
    "scrolled": false
   },
   "outputs": [
    {
     "data": {
      "image/png": "[encoded data removed]"
     },
     "metadata": {
      "needs_background": "light"
     },
     "output_type": "display_data"
    }
   ],
   "source": [
    "%%time\n",
    "#Используем параметр class_weight = 'balanced' для балансировки классов и посмотрим на необходимые метрики\n",
    "\n",
    "model = DecisionTreeClassifier(random_state=12345, class_weight='balanced')\n",
    "parameters = {\n",
    "    'max_depth': range(1, 25, 1)\n",
    "}\n",
    "\n",
    "best_dt_model = find_best_pr(model, parameters, train_features, train_target)"
   ]
  },
  {
   "cell_type": "markdown",
   "metadata": {},
   "source": [
    "**Воспользуемся методом Upsample**"
   ]
  },
  {
   "cell_type": "code",
   "execution_count": 48,
   "metadata": {
    "scrolled": false
   },
   "outputs": [
    {
     "data": {
      "image/png": "[encoded data removed]"
     },
     "metadata": {
      "needs_background": "light"
     },
     "output_type": "display_data"
    }
   ],
   "source": [
    "%%time\n",
    "# Проверим метрики на upsambled выборке\n",
    "model = DecisionTreeClassifier(random_state=12345)\n",
    "parameters = {\n",
    "    'max_depth': range(1, 25, 1)\n",
    "}\n",
    "\n",
    "best_dt_model_u = find_best_pr(\n",
    "    model, parameters, features_upsampled, target_upsampled)"
   ]
  },
  {
   "cell_type": "markdown",
   "metadata": {},
   "source": [
    "**Вывод:** В результате исследования наилучшем способом борьбы с дисбалансом оказался метод `balanced`. Поэтому обучим с нуля моделии, используя этот параметр."
   ]
  },
  {
   "cell_type": "markdown",
   "metadata": {},
   "source": [
    "**Модель решающего дерева**"
   ]
  },
  {
   "cell_type": "code",
   "execution_count": 49,
   "metadata": {
    "scrolled": false
   },
   "outputs": [
    {
     "data": {
      "image/png": "[encoded data removed]"
     },
     "metadata": {
      "needs_background": "light"
     },
     "output_type": "display_data"
    }
   ],
   "source": [
    "%%time\n",
    "model = DecisionTreeClassifier(random_state=12345)\n",
    "parameters = {\n",
    "    'max_depth': range(1, 25, 1)\n",
    "}\n",
    "\n",
    "best_dt_model = find_best_pr(model, parameters, train_features, train_target)"
   ]
  },
  {
   "cell_type": "markdown",
   "metadata": {},
   "source": [
    "**Модель логистической регрессии**"
   ]
  },
  {
   "cell_type": "code",
   "execution_count": 50,
   "metadata": {},
   "outputs": [],
   "source": [
    "%%time\n",
    "model = LogisticRegression(random_state=12345, class_weight='balanced')\n",
    "parameters = {}\n",
    "\n",
    "best_lr_model = find_best_pr(model, parameters, train_features, train_target)"
   ]
  },
  {
   "cell_type": "markdown",
   "metadata": {},
   "source": [
    "**Модель случайного леса**"
   ]
  },
  {
   "cell_type": "code",
   "execution_count": 51,
   "metadata": {},
   "outputs": [
    {
     "data": {
      "image/png": "[encoded data removed]"
     },
     "metadata": {
      "needs_background": "light"
     },
     "output_type": "display_data"
    }
   ],
   "source": [
    "%%time\n",
    "model = RandomForestClassifier(random_state=12345, class_weight='balanced')\n",
    "parameters = {\n",
    "    'max_depth': range(1, 25, 1), 'n_estimators': range(10, 101, 10)\n",
    "}\n",
    "\n",
    "best_rf_model = find_best_pr(model, parameters, train_features, train_target)"
   ]
  },
  {
   "cell_type": "markdown",
   "metadata": {},
   "source": [
    "**Модель Catboost**"
   ]
  },
  {
   "cell_type": "code",
   "execution_count": 52,
   "metadata": {},
   "outputs": [
    {
     "data": {
      "image/png": "[encoded data removed]"
     },
     "metadata": {
      "needs_background": "light"
     },
     "output_type": "display_data"
    }
   ],
   "source": [
    "%%time\n",
    "# Создадим отдельную переменную, куда запишем вес класса для CatBoost\n",
    "classes = np.unique(train_target)\n",
    "weights = compute_class_weight(\n",
    "    class_weight='balanced', classes=classes, y=train_target)\n",
    "class_weights = dict(zip(classes, weights))\n",
    "\n",
    "# Обучим модель учитывая вес класса\n",
    "model = CatBoostClassifier(random_state=12345, verbose=False,\n",
    "                           loss_function='Logloss', class_weights=class_weights)\n",
    "parameters = {\n",
    "    'max_depth': range(6, 12),\n",
    "    'learning_rate': [.01]\n",
    "}\n",
    "\n",
    "best_cb_model = find_best_pr(model, parameters, train_features, train_target)"
   ]
  },
  {
   "cell_type": "markdown",
   "metadata": {},
   "source": [
    "В очередной раз лучшими метриками обладает модель `CatBoost` и имеет следующие показатели:\n",
    " * f1 = 0.622\n",
    " * ROC_AUC = 0.85"
   ]
  },
  {
   "cell_type": "markdown",
   "metadata": {},
   "source": [
    "В результате данная модель будет использована для тестирования"
   ]
  },
  {
   "cell_type": "markdown",
   "metadata": {},
   "source": [
    "## Тестирование модели"
   ]
  },
  {
   "cell_type": "code",
   "execution_count": null,
   "metadata": {
    "scrolled": false
   },
   "outputs": [],
   "source": [
    "# Предсказываем целевой признак на тестовой выборке \n",
    "prediction = best_cb_model.predict(test_features)\n",
    "print('f1_CatBoost: {:.4f}'.format(f1_score(test_target, prediction)))\n",
    "print('Accuracy_CatBoost: {:.4f}'.format(\n",
    "    accuracy_score(test_target, prediction)))\n",
    "\n",
    "# Рассчитываем auc_roc на тестовой выборке\n",
    "probabilities = best_cb_model.predict_proba(test_features)\n",
    "probabilities_one = probabilities[:, 1]\n",
    "\n",
    "auc_roc = roc_auc_score(test_target, probabilities_one)\n",
    "\n",
    "print('ROC_AUC_CatBoost: {:.4f}'.format(auc_roc))"
   ]
  },
  {
   "cell_type": "markdown",
   "metadata": {},
   "source": [
    "Прослеживается рост показателей при тестировании моделей, что не может не радовать."
   ]
  },
  {
   "cell_type": "code",
   "execution_count": 55,
   "metadata": {
    "scrolled": false
   },
   "outputs": [
    {
     "data": {
      "image/png": "[encoded data removed]"
     },
     "metadata": {
      "needs_background": "light"
     },
     "output_type": "display_data"
    }
   ],
   "source": [
    "# Построим ROC-кривую\n",
    "probabilities_test = best_cb_model.predict_proba(test_features)\n",
    "probabilities_one_test = probabilities_test[:, 1]\n",
    "print('Площадь под кривой ROC: {:.4f}'.format(roc_auc_score(test_target, probabilities_one_test)))\n",
    "fpr, tpr, thresholds = roc_curve(test_target, probabilities_one_test) \n",
    "plt.figure(figsize=(10,10))\n",
    "plt.plot(fpr, tpr)\n",
    "plt.plot([0, 1], [0, 1], linestyle='--')\n",
    "plt.xlim([0.0, 1.0])\n",
    "plt.ylim([0.0, 1.0])\n",
    "plt.xlabel('False Positive Rate')\n",
    "plt.ylabel('True Positive Rate')\n",
    "plt.title('ROC-кривая')\n",
    "plt.show()"
   ]
  },
  {
   "cell_type": "markdown",
   "metadata": {},
   "source": [
    "Результатом данного графика является вывод о высоком качестве модели, так как его предсказания сильно отличаются от кривой случайной модели."
   ]
  },
  {
   "cell_type": "markdown",
   "metadata": {},
   "source": [
    "## Проверка модели на адекватность"
   ]
  },
  {
   "cell_type": "code",
   "execution_count": null,
   "metadata": {},
   "outputs": [],
   "source": [
    "dummy_clf = DummyClassifier(strategy=\"most_frequent\")  # Определяем тип модели\n",
    "dummy_clf.fit(train_features, train_target)  # Обучаем модель\n",
    "\n",
    "# Предсказываем целевые признаки используя тестовые признаки\n",
    "dummy_predict = dummy_clf.predict(test_features)\n",
    "\n",
    "print('Accuracy_DummyClassifier: {:.4f}'.format(\n",
    "    accuracy_score(test_target, dummy_predict)))\n",
    "print('f1_DummyClassifier: {:.4f}'.format(\n",
    "    f1_score(test_target, dummy_predict)))\n",
    "\n",
    "probabilities_dummy = dummy_clf.predict_proba(test_features)\n",
    "probabilities_one_dummy = probabilities_dummy[:, 1]\n",
    "\n",
    "auc_roc_dummy = roc_auc_score(test_target, probabilities_one_dummy)\n",
    "\n",
    "\n",
    "print('ROC_AUC_DummyClassifier: {:.4f}'.format(auc_roc_dummy))"
   ]
  },
  {
   "cell_type": "markdown",
   "metadata": {},
   "source": [
    "## Общий вывод:"
   ]
  },
  {
   "cell_type": "markdown",
   "metadata": {},
   "source": [
    "1. В ходе работы были подготовлены данные к исследованию\n",
    "2. Была исследована данная задача:\n",
    "    * Исследован баланс классов\n",
    "    * Изучены модели без учёта дисбаланса\n",
    "3. Созданы следующие модели обучения:\n",
    "    * Логистическая регрессия\n",
    "    * Случайный лес\n",
    "    * Решающее дерево\n",
    "    * CatBoost\n",
    "    * XGBoost\n",
    "4. Исследованы методы борьбы с дисбалансом классов:\n",
    "    * Upsampling\n",
    "    * Downsampling\n",
    "    * Balanced\n",
    "5. Были переобучены модели с учетом баланса классов\n",
    "6. По результатам исследования признана лучшей моделью - `CatBoost`\n",
    "7. Полученная модель прошла проверку на адекватность."
   ]
  }
 ],
 "metadata": {
  "kernelspec": {
   "display_name": "Python 3 (ipykernel)",
   "language": "python",
   "name": "python3"
  },
  "language_info": {
   "codemirror_mode": {
    "name": "ipython",
    "version": 3
   },
   "file_extension": ".py",
   "mimetype": "text/x-python",
   "name": "python",
   "nbconvert_exporter": "python",
   "pygments_lexer": "ipython3",
   "version": "3.9.12"
  },
  "toc": {
   "base_numbering": 1,
   "nav_menu": {},
   "number_sections": true,
   "sideBar": true,
   "skip_h1_title": true,
   "title_cell": "Содержание",
   "title_sidebar": "Contents",
   "toc_cell": true,
   "toc_position": {
    "height": "calc(100% - 180px)",
    "left": "10px",
    "top": "150px",
    "width": "165px"
   },
   "toc_section_display": true,
   "toc_window_display": true
  }
 },
 "nbformat": 4,
 "nbformat_minor": 2
}
