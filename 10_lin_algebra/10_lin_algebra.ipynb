{
 "cells": [
  {
   "cell_type": "markdown",
   "id": "7bf28e4f",
   "metadata": {},
   "source": [
    "# Содержание"
   ]
  },
  {
   "cell_type": "markdown",
   "id": "0571c677",
   "metadata": {},
   "source": [
    "* Загрузка данных\n",
    "* Умножение матриц\n",
    "* Алгоритм преобразования\n",
    "* Проверка алгоритма\n",
    "* Вывод"
   ]
  },
  {
   "cell_type": "markdown",
   "id": "a73bb984",
   "metadata": {},
   "source": [
    "# Защита персональных данных клиентов"
   ]
  },
  {
   "cell_type": "markdown",
   "id": "4f6f75f6",
   "metadata": {},
   "source": [
    "Нам нужно защитить данные клиентов страховой компании «Хоть потоп». Разработаем такой метод преобразования данных, чтобы по ним было сложно восстановить персональную информацию. Обоснуйте корректность его работы.\n",
    "\n",
    "Нужно защитить данные, чтобы при преобразовании качество моделей машинного обучения не ухудшилось. Подбирать наилучшую модель не требуется."
   ]
  },
  {
   "cell_type": "markdown",
   "id": "add41e3b",
   "metadata": {},
   "source": [
    "## Загрузка данных"
   ]
  },
  {
   "cell_type": "code",
   "execution_count": 1,
   "id": "b60b174c",
   "metadata": {},
   "outputs": [],
   "source": [
    "import pandas as pd\n",
    "import matplotlib.pyplot as plt\n",
    "plt.style.use('seaborn-pastel')\n",
    "import numpy as np\n",
    "\n",
    "from sklearn.model_selection import train_test_split\n",
    "from sklearn.metrics import r2_score\n",
    "\n",
    "from sklearn.linear_model import LinearRegression\n",
    "\n",
    "import time\n",
    "from tqdm import tqdm"
   ]
  },
  {
   "cell_type": "code",
   "execution_count": 2,
   "id": "1f244b37",
   "metadata": {},
   "outputs": [],
   "source": [
    "try:\n",
    "    data = pd.read_csv('E:/BuduBogatym/insurance.csv')\n",
    "except:\n",
    "    data = pd.read_csv(\n",
    "        'https://code.s3.yandex.net/datasets/insurance.csv')"
   ]
  },
  {
   "cell_type": "code",
   "execution_count": 3,
   "id": "e6314f5c",
   "metadata": {},
   "outputs": [
    {
     "data": {
      "text/html": [
       "<div>\n",
       "<style scoped>\n",
       "    .dataframe tbody tr th:only-of-type {\n",
       "        vertical-align: middle;\n",
       "    }\n",
       "\n",
       "    .dataframe tbody tr th {\n",
       "        vertical-align: top;\n",
       "    }\n",
       "\n",
       "    .dataframe thead th {\n",
       "        text-align: right;\n",
       "    }\n",
       "</style>\n",
       "<table border=\"1\" class=\"dataframe\">\n",
       "  <thead>\n",
       "    <tr style=\"text-align: right;\">\n",
       "      <th></th>\n",
       "      <th>Пол</th>\n",
       "      <th>Возраст</th>\n",
       "      <th>Зарплата</th>\n",
       "      <th>Члены семьи</th>\n",
       "      <th>Страховые выплаты</th>\n",
       "    </tr>\n",
       "  </thead>\n",
       "  <tbody>\n",
       "    <tr>\n",
       "      <th>0</th>\n",
       "      <td>1</td>\n",
       "      <td>41.0</td>\n",
       "      <td>49600.0</td>\n",
       "      <td>1</td>\n",
       "      <td>0</td>\n",
       "    </tr>\n",
       "    <tr>\n",
       "      <th>1</th>\n",
       "      <td>0</td>\n",
       "      <td>46.0</td>\n",
       "      <td>38000.0</td>\n",
       "      <td>1</td>\n",
       "      <td>1</td>\n",
       "    </tr>\n",
       "    <tr>\n",
       "      <th>2</th>\n",
       "      <td>0</td>\n",
       "      <td>29.0</td>\n",
       "      <td>21000.0</td>\n",
       "      <td>0</td>\n",
       "      <td>0</td>\n",
       "    </tr>\n",
       "    <tr>\n",
       "      <th>3</th>\n",
       "      <td>0</td>\n",
       "      <td>21.0</td>\n",
       "      <td>41700.0</td>\n",
       "      <td>2</td>\n",
       "      <td>0</td>\n",
       "    </tr>\n",
       "    <tr>\n",
       "      <th>4</th>\n",
       "      <td>1</td>\n",
       "      <td>28.0</td>\n",
       "      <td>26100.0</td>\n",
       "      <td>0</td>\n",
       "      <td>0</td>\n",
       "    </tr>\n",
       "  </tbody>\n",
       "</table>\n",
       "</div>"
      ],
      "text/plain": [
       "   Пол  Возраст  Зарплата  Члены семьи  Страховые выплаты\n",
       "0    1     41.0   49600.0            1                  0\n",
       "1    0     46.0   38000.0            1                  1\n",
       "2    0     29.0   21000.0            0                  0\n",
       "3    0     21.0   41700.0            2                  0\n",
       "4    1     28.0   26100.0            0                  0"
      ]
     },
     "execution_count": 3,
     "metadata": {},
     "output_type": "execute_result"
    }
   ],
   "source": [
    "# Посмотрим таблицу\n",
    "\n",
    "data.head()"
   ]
  },
  {
   "cell_type": "code",
   "execution_count": 4,
   "id": "8f69f973",
   "metadata": {
    "scrolled": true
   },
   "outputs": [
    {
     "name": "stdout",
     "output_type": "stream",
     "text": [
      "<class 'pandas.core.frame.DataFrame'>\n",
      "RangeIndex: 5000 entries, 0 to 4999\n",
      "Data columns (total 5 columns):\n",
      " #   Column             Non-Null Count  Dtype  \n",
      "---  ------             --------------  -----  \n",
      " 0   Пол                5000 non-null   int64  \n",
      " 1   Возраст            5000 non-null   float64\n",
      " 2   Зарплата           5000 non-null   float64\n",
      " 3   Члены семьи        5000 non-null   int64  \n",
      " 4   Страховые выплаты  5000 non-null   int64  \n",
      "dtypes: float64(2), int64(3)\n",
      "memory usage: 195.4 KB\n"
     ]
    }
   ],
   "source": [
    "data.info()"
   ]
  },
  {
   "cell_type": "markdown",
   "id": "cdd6a453",
   "metadata": {},
   "source": [
    "Судя по количеству значений в каждом столбце - пропуски отсутствуют "
   ]
  },
  {
   "cell_type": "code",
   "execution_count": 5,
   "id": "a271f5f7",
   "metadata": {},
   "outputs": [
    {
     "data": {
      "image/png": "[encoded data removed]",
      "text/plain": [
       "<Figure size 504x360 with 1 Axes>"
      ]
     },
     "metadata": {
      "needs_background": "light"
     },
     "output_type": "display_data"
    },
    {
     "data": {
      "image/png": "[encoded data removed]",
      "text/plain": [
       "<Figure size 504x360 with 1 Axes>"
      ]
     },
     "metadata": {
      "needs_background": "light"
     },
     "output_type": "display_data"
    },
    {
     "data": {
      "image/png": "[encoded data removed]",
      "text/plain": [
       "<Figure size 504x360 with 1 Axes>"
      ]
     },
     "metadata": {
      "needs_background": "light"
     },
     "output_type": "display_data"
    },
    {
     "data": {
      "image/png": "[encoded data removed]",
      "text/plain": [
       "<Figure size 504x360 with 1 Axes>"
      ]
     },
     "metadata": {
      "needs_background": "light"
     },
     "output_type": "display_data"
    },
    {
     "data": {
      "image/png": "[encoded data removed]",
      "text/plain": [
       "<Figure size 504x360 with 1 Axes>"
      ]
     },
     "metadata": {
      "needs_background": "light"
     },
     "output_type": "display_data"
    }
   ],
   "source": [
    "for i in data.columns:\n",
    "    plt.figure(figsize=(7,5))\n",
    "    data[i].hist(bins=25)\n",
    "    plt.title(f'Распределение по столбцу - {i}')"
   ]
  },
  {
   "cell_type": "markdown",
   "id": "8d16df31",
   "metadata": {},
   "source": [
    "**Вывод:**\n",
    "\n",
    "* Пропуски отсутствуют\n",
    "* Аномальные значения (выбросы) на гистограммах отсутствуют\n",
    "* Лишние данные отсутствуют"
   ]
  },
  {
   "cell_type": "markdown",
   "id": "1f9e6034",
   "metadata": {},
   "source": [
    "## Умножение матриц"
   ]
  },
  {
   "cell_type": "markdown",
   "id": "9d98b36d",
   "metadata": {},
   "source": [
    "Ответьте на вопрос и обоснуйте решение.\n",
    "\n",
    "Признаки умножают на обратимую матрицу. Изменится ли качество линейной регрессии?\n",
    "\n",
    "**a.** Изменится. Приведите примеры матриц.\n",
    "\n",
    "**b.** Не изменится. Укажите, как связаны параметры линейной регрессии в исходной задаче и в преобразованной.\n",
    "\n",
    "Обозначения:\n",
    "\n",
    "* **X** — матрица признаков (нулевой столбец состоит из единиц)\n",
    "\n",
    "* **y** — вектор целевого признака\n",
    "\n",
    "* **P** — матрица, на которую умножаются признаки\n",
    "\n",
    "* **w** — вектор весов линейной регрессии (нулевой элемент равен сдвигу)\n",
    "\n",
    "Предсказания:"
   ]
  },
  {
   "cell_type": "markdown",
   "id": "4834851f",
   "metadata": {},
   "source": [
    "$$a=Xw$$"
   ]
  },
  {
   "cell_type": "markdown",
   "id": "c887abf6",
   "metadata": {},
   "source": [
    "Задача обучения:"
   ]
  },
  {
   "attachments": {
    "image.png": {
     "image/png": "[encoded data removed]"
    }
   },
   "cell_type": "markdown",
   "id": "67daed39",
   "metadata": {},
   "source": [
    "![image.png](attachment:image.png)"
   ]
  },
  {
   "cell_type": "markdown",
   "id": "d454c265",
   "metadata": {},
   "source": [
    "Формула обучения:"
   ]
  },
  {
   "cell_type": "markdown",
   "id": "44865a4b",
   "metadata": {},
   "source": [
    "$$w=(x^{T}X)^{-1}X^{T}y$$"
   ]
  },
  {
   "cell_type": "markdown",
   "id": "a0df1755",
   "metadata": {},
   "source": [
    "**Обоснование:**  \n",
    " Изучим следующие свойства матриц\n",
    "1. $$ AA^{-1}=E$$\n",
    "2. $$(AB)^{T}=B^{T}A^{T}$$\n",
    "3. $$(AB)^{-1}=B^{-1}A^{-1}$$\n",
    "4. $$(AB)C=A(BC)$$"
   ]
  },
  {
   "cell_type": "markdown",
   "id": "f9938cc9",
   "metadata": {},
   "source": [
    "Из данных свойст можно выделить второе и четвертое, которые всегда применимы, а также первое и третье, которые применимы только в случае обратных матриц\n",
    "  \n",
    "Подставим наши аргументы в данные равенства:"
   ]
  },
  {
   "cell_type": "markdown",
   "id": "5ac05003",
   "metadata": {},
   "source": [
    "1. $$ PP^{-1}=E$$\n",
    "2. $$(XP)^{T}=P^{T}X^{T}$$\n",
    "3. $$(XP)^{-1}=P^{-1}X^{-1}$$\n",
    "4. $$(XP)C=X(PC)$$"
   ]
  },
  {
   "cell_type": "markdown",
   "id": "aa402865",
   "metadata": {},
   "source": [
    "Подставим в формулу обучения:"
   ]
  },
  {
   "cell_type": "markdown",
   "id": "101ad43f",
   "metadata": {},
   "source": [
    "$$w'=((XP)^{T}XP)^{-1}P^{T}X^{T}y$$"
   ]
  },
  {
   "cell_type": "markdown",
   "id": "c6ea5e1c",
   "metadata": {},
   "source": [
    "Раскроем скобки внутри скобок согласно второму свойству матриц:"
   ]
  },
  {
   "cell_type": "markdown",
   "id": "a616ea29",
   "metadata": {},
   "source": [
    "$$w'=((P^{T}X^{T}XP)^{-1}P^{T}X^{T}y$$"
   ]
  },
  {
   "cell_type": "markdown",
   "id": "810344f3",
   "metadata": {},
   "source": [
    "Раскроем скобки, а также упростим выражение согласно первому свойству матриц:"
   ]
  },
  {
   "cell_type": "markdown",
   "id": "b640ebd0",
   "metadata": {},
   "source": [
    "$$w'=P^{-1}(X^{T}X)^{-1}(P^{T})^{-1}P^{T}X^{T}y$$\n",
    "$$w'=P^{-1}(X^{T}X)^{-1}X^{T}y$$"
   ]
  },
  {
   "cell_type": "markdown",
   "id": "51a8c776",
   "metadata": {},
   "source": [
    "Сократим данное выражение в соответствии с формулой обучения:"
   ]
  },
  {
   "cell_type": "markdown",
   "id": "18e362b0",
   "metadata": {},
   "source": [
    "$$w'=P^{-1}w$$"
   ]
  },
  {
   "cell_type": "markdown",
   "id": "c5143f49",
   "metadata": {},
   "source": [
    "Подставим в предсказания перемноженные матрицы:"
   ]
  },
  {
   "cell_type": "markdown",
   "id": "cab26088",
   "metadata": {},
   "source": [
    "$$a'=XPw'$$"
   ]
  },
  {
   "cell_type": "markdown",
   "id": "fffa3981",
   "metadata": {},
   "source": [
    "В итоге получим:"
   ]
  },
  {
   "cell_type": "markdown",
   "id": "21c8e79c",
   "metadata": {},
   "source": [
    "$$a'=XPP^{-1}w$$\n",
    "$$a'=Xw=a$$\n",
    "$$a'=a$$"
   ]
  },
  {
   "cell_type": "markdown",
   "id": "bdd02736",
   "metadata": {},
   "source": [
    "**Вывод:**  \n",
    "При использовании обратной матрицы признаков, как метод шифрования данных - метрика не меняется, согласно вышеприведённому доказательству"
   ]
  },
  {
   "cell_type": "markdown",
   "id": "15ecee3e",
   "metadata": {},
   "source": [
    "## Алгоритм преобразования"
   ]
  },
  {
   "cell_type": "markdown",
   "id": "5a6abcaf",
   "metadata": {},
   "source": [
    "**Предложите алгоритм преобразования данных для решения задачи. Обоснуйте, почему качество линейной регрессии не поменяется.**"
   ]
  },
  {
   "cell_type": "markdown",
   "id": "076cbae4",
   "metadata": {},
   "source": [
    "**Алгоритм**\n",
    "\n",
    "Для преобразования воспользуемся данным алгоритмом:\n",
    "\n",
    "1. Разделим данные на признаки и целевой признак.\n",
    "2. Cоздадим рандомизированную квадратную матрицу, ширина которой будет равняться количеству признаков.\n",
    "3. Проверим матрицу на обратимость. Если необратима - зададим другие параметры рандомизации.\n",
    "4. Преобразуем признаки, умножив их на матрицу и сохраним их в новой переменной - зашифрованной таблице.\n",
    "5. Сохраним обратную матрицу, чтобы была возможность дешифровать признаки.\n",
    "6. Разделим изначальный датасет и зашифрованный на тестовую и тренировочную выборку.\n",
    "7. Проверим метрики. Если не отличаются - задача выполнена.\n",
    "**Обоснование**\n",
    "\n",
    "Так как, на основании полученной ранее формулы, где предсказания  равны , при умножении матрицы признаков на обратимую матрицу, метрики качества не изменятся.\n",
    "\n",
    "Проверим наш алгоритм."
   ]
  },
  {
   "cell_type": "markdown",
   "id": "fd598228",
   "metadata": {},
   "source": [
    "## Проверка алгоритма"
   ]
  },
  {
   "cell_type": "markdown",
   "id": "d92b577d",
   "metadata": {},
   "source": [
    "Запрограммируйте этот алгоритм, применив матричные операции. Проверьте, что качество линейной регрессии из sklearn не отличается до и после преобразования. Примените метрику R2.\n",
    "\n",
    "Создадим функцию, которая выполняет необходимые операции:"
   ]
  },
  {
   "cell_type": "code",
   "execution_count": 6,
   "id": "f992a80e",
   "metadata": {},
   "outputs": [],
   "source": [
    "# Создаём функцию, которая преобразовывает данные:\n",
    "\n",
    "def encode(data, randomstate=12345, randint=1000):\n",
    "    try:\n",
    "        # задаём рандом\n",
    "        rng = np.random.RandomState(randomstate)\n",
    "        \n",
    "        # создаём матрицу, где идет разброс значений от 0 до 1000\n",
    "        P = rng.randint(randint, size=(data.shape[1], data.shape[1]))\n",
    "        \n",
    "        # проверяем обратимость. Если будет необратимая - перенесет на except\n",
    "        Pinv = np.linalg.inv(P)\n",
    "        \n",
    "        # преобразуем таблицу и снова задаём столбцы\n",
    "        encoded_data = np.dot(data, P)\n",
    "        encoded_data = pd.DataFrame(encoded_data, columns=data.columns)\n",
    "        \n",
    "        # возвращаем ключ шифрования и преобразованную таблицу\n",
    "        return encoded_data, Pinv\n",
    "    except:\n",
    "        print('Cannot create inverted matrix. Try another RandInt or RandomState.')"
   ]
  },
  {
   "cell_type": "code",
   "execution_count": 7,
   "id": "c8d5a8d8",
   "metadata": {},
   "outputs": [],
   "source": [
    "# Разделим датасет на целевые и обычные признаки\n",
    "\n",
    "features = data.drop('Страховые выплаты', axis=1)\n",
    "target = data['Страховые выплаты']\n",
    "\n",
    "features_encoded, encode_key = encode(features)\n"
   ]
  },
  {
   "cell_type": "code",
   "execution_count": 8,
   "id": "d1bf7f30",
   "metadata": {},
   "outputs": [
    {
     "data": {
      "text/html": [
       "<div>\n",
       "<style scoped>\n",
       "    .dataframe tbody tr th:only-of-type {\n",
       "        vertical-align: middle;\n",
       "    }\n",
       "\n",
       "    .dataframe tbody tr th {\n",
       "        vertical-align: top;\n",
       "    }\n",
       "\n",
       "    .dataframe thead th {\n",
       "        text-align: right;\n",
       "    }\n",
       "</style>\n",
       "<table border=\"1\" class=\"dataframe\">\n",
       "  <thead>\n",
       "    <tr style=\"text-align: right;\">\n",
       "      <th></th>\n",
       "      <th>Пол</th>\n",
       "      <th>Возраст</th>\n",
       "      <th>Зарплата</th>\n",
       "      <th>Члены семьи</th>\n",
       "    </tr>\n",
       "  </thead>\n",
       "  <tbody>\n",
       "    <tr>\n",
       "      <th>0</th>\n",
       "      <td>27099671.0</td>\n",
       "      <td>26851825.0</td>\n",
       "      <td>38159001.0</td>\n",
       "      <td>5867671.0</td>\n",
       "    </tr>\n",
       "    <tr>\n",
       "      <th>1</th>\n",
       "      <td>20767689.0</td>\n",
       "      <td>20577865.0</td>\n",
       "      <td>29240226.0</td>\n",
       "      <td>4500527.0</td>\n",
       "    </tr>\n",
       "    <tr>\n",
       "      <th>2</th>\n",
       "      <td>11478180.0</td>\n",
       "      <td>11373325.0</td>\n",
       "      <td>16160078.0</td>\n",
       "      <td>2488353.0</td>\n",
       "    </tr>\n",
       "    <tr>\n",
       "      <th>3</th>\n",
       "      <td>22777758.0</td>\n",
       "      <td>22569255.0</td>\n",
       "      <td>32076630.0</td>\n",
       "      <td>4928307.0</td>\n",
       "    </tr>\n",
       "    <tr>\n",
       "      <th>4</th>\n",
       "      <td>14262842.0</td>\n",
       "      <td>14132485.0</td>\n",
       "      <td>20081881.0</td>\n",
       "      <td>3089925.0</td>\n",
       "    </tr>\n",
       "    <tr>\n",
       "      <th>...</th>\n",
       "      <td>...</td>\n",
       "      <td>...</td>\n",
       "      <td>...</td>\n",
       "      <td>...</td>\n",
       "    </tr>\n",
       "    <tr>\n",
       "      <th>4995</th>\n",
       "      <td>19504698.0</td>\n",
       "      <td>19326230.0</td>\n",
       "      <td>27465304.0</td>\n",
       "      <td>4222806.0</td>\n",
       "    </tr>\n",
       "    <tr>\n",
       "      <th>4996</th>\n",
       "      <td>28625049.0</td>\n",
       "      <td>28363165.0</td>\n",
       "      <td>40309242.0</td>\n",
       "      <td>6195443.0</td>\n",
       "    </tr>\n",
       "    <tr>\n",
       "      <th>4997</th>\n",
       "      <td>18518538.0</td>\n",
       "      <td>18349030.0</td>\n",
       "      <td>26078048.0</td>\n",
       "      <td>4007550.0</td>\n",
       "    </tr>\n",
       "    <tr>\n",
       "      <th>4998</th>\n",
       "      <td>17865029.0</td>\n",
       "      <td>17701480.0</td>\n",
       "      <td>25156951.0</td>\n",
       "      <td>3866898.0</td>\n",
       "    </tr>\n",
       "    <tr>\n",
       "      <th>4999</th>\n",
       "      <td>22180211.0</td>\n",
       "      <td>21977300.0</td>\n",
       "      <td>31233035.0</td>\n",
       "      <td>4801030.0</td>\n",
       "    </tr>\n",
       "  </tbody>\n",
       "</table>\n",
       "<p>5000 rows × 4 columns</p>\n",
       "</div>"
      ],
      "text/plain": [
       "             Пол     Возраст    Зарплата  Члены семьи\n",
       "0     27099671.0  26851825.0  38159001.0    5867671.0\n",
       "1     20767689.0  20577865.0  29240226.0    4500527.0\n",
       "2     11478180.0  11373325.0  16160078.0    2488353.0\n",
       "3     22777758.0  22569255.0  32076630.0    4928307.0\n",
       "4     14262842.0  14132485.0  20081881.0    3089925.0\n",
       "...          ...         ...         ...          ...\n",
       "4995  19504698.0  19326230.0  27465304.0    4222806.0\n",
       "4996  28625049.0  28363165.0  40309242.0    6195443.0\n",
       "4997  18518538.0  18349030.0  26078048.0    4007550.0\n",
       "4998  17865029.0  17701480.0  25156951.0    3866898.0\n",
       "4999  22180211.0  21977300.0  31233035.0    4801030.0\n",
       "\n",
       "[5000 rows x 4 columns]"
      ]
     },
     "execution_count": 8,
     "metadata": {},
     "output_type": "execute_result"
    }
   ],
   "source": [
    "#Проверим зашифрованные данные\n",
    "\n",
    "features_encoded"
   ]
  },
  {
   "cell_type": "markdown",
   "id": "ad81362f",
   "metadata": {},
   "source": [
    "Создадим функцию, для проверки метрики r2"
   ]
  },
  {
   "cell_type": "code",
   "execution_count": 9,
   "id": "e92fc95b",
   "metadata": {},
   "outputs": [],
   "source": [
    "def check_r2(features, target, model=LinearRegression()):\n",
    "    \n",
    "    train_features, test_features, train_target, test_target = \\\n",
    "    train_test_split(features, target, test_size=0.2, random_state=12345)\n",
    "                                                                                                                                                                \n",
    "                                                                            \n",
    "    model = model\n",
    "    model.fit(train_features, train_target)\n",
    "    \n",
    "    train_predicted = model.predict(train_features)\n",
    "    test_predicted = model.predict(test_features)\n",
    "    \n",
    "    train_score = r2_score(train_target, train_predicted)\n",
    "    test_score = r2_score(test_target, test_predicted)\n",
    "    \n",
    "    print('Метрика R2 на тренировочной выборке:', round(train_score, 4), \n",
    "          '\\nМетрика R2 на тестовой выборке:', round(test_score, 4))"
   ]
  },
  {
   "cell_type": "markdown",
   "id": "4bfb0e05",
   "metadata": {},
   "source": [
    "Проверим на обычном датасете:"
   ]
  },
  {
   "cell_type": "code",
   "execution_count": 10,
   "id": "3870c879",
   "metadata": {},
   "outputs": [
    {
     "name": "stdout",
     "output_type": "stream",
     "text": [
      "Метрика R2 на тренировочной выборке: 0.4273 \n",
      "Метрика R2 на тестовой выборке: 0.4118\n"
     ]
    }
   ],
   "source": [
    "check_r2(features, target)"
   ]
  },
  {
   "cell_type": "markdown",
   "id": "da8df6cc",
   "metadata": {},
   "source": [
    "Проверим на зашифрованном датасете:"
   ]
  },
  {
   "cell_type": "code",
   "execution_count": 11,
   "id": "ec19a96e",
   "metadata": {},
   "outputs": [
    {
     "name": "stdout",
     "output_type": "stream",
     "text": [
      "Метрика R2 на тренировочной выборке: 0.4273 \n",
      "Метрика R2 на тестовой выборке: 0.4118\n"
     ]
    }
   ],
   "source": [
    "check_r2(features_encoded, target)"
   ]
  },
  {
   "cell_type": "markdown",
   "id": "502e9b01",
   "metadata": {},
   "source": [
    "## Вывод"
   ]
  },
  {
   "cell_type": "markdown",
   "id": "a89de5f4",
   "metadata": {},
   "source": [
    "Метрика моделей r2 до и после шифрования не притерпела никаких изменений, следовательно данной функцией можно пользоваться компании, чтобы защитить данные своих клиентов. При этом шифровка никак не повлияет на качество модели!"
   ]
  }
 ],
 "metadata": {
  "ExecuteTimeLog": [
   {
    "duration": 1616,
    "start_time": "2022-11-08T11:21:19.106Z"
   },
   {
    "duration": 446,
    "start_time": "2022-11-08T11:21:20.723Z"
   },
   {
    "duration": 12,
    "start_time": "2022-11-08T11:21:21.170Z"
   },
   {
    "duration": 11,
    "start_time": "2022-11-08T11:21:21.183Z"
   },
   {
    "duration": 683,
    "start_time": "2022-11-08T11:21:21.196Z"
   },
   {
    "duration": 4,
    "start_time": "2022-11-08T11:21:21.881Z"
   },
   {
    "duration": 13,
    "start_time": "2022-11-08T11:21:21.887Z"
   },
   {
    "duration": 68,
    "start_time": "2022-11-08T11:21:21.901Z"
   },
   {
    "duration": 88,
    "start_time": "2022-11-08T11:21:21.971Z"
   },
   {
    "duration": 30,
    "start_time": "2022-11-08T11:21:22.061Z"
   },
   {
    "duration": 167,
    "start_time": "2022-11-08T11:21:22.092Z"
   },
   {
    "duration": 70,
    "start_time": "2022-11-08T11:24:26.872Z"
   },
   {
    "duration": 96,
    "start_time": "2022-11-08T16:07:47.763Z"
   },
   {
    "duration": 50,
    "start_time": "2022-11-08T16:08:03.549Z"
   },
   {
    "duration": 53,
    "start_time": "2022-11-08T16:08:07.612Z"
   },
   {
    "duration": 1527,
    "start_time": "2022-11-08T16:08:31.614Z"
   },
   {
    "duration": 139,
    "start_time": "2022-11-08T16:08:33.143Z"
   },
   {
    "duration": 13,
    "start_time": "2022-11-08T16:08:33.283Z"
   },
   {
    "duration": 15,
    "start_time": "2022-11-08T16:08:33.299Z"
   },
   {
    "duration": 754,
    "start_time": "2022-11-08T16:08:33.316Z"
   },
   {
    "duration": 4,
    "start_time": "2022-11-08T16:08:34.072Z"
   },
   {
    "duration": 22,
    "start_time": "2022-11-08T16:08:34.077Z"
   },
   {
    "duration": 110,
    "start_time": "2022-11-08T16:08:34.133Z"
   },
   {
    "duration": 17,
    "start_time": "2022-11-08T16:08:34.244Z"
   },
   {
    "duration": 25,
    "start_time": "2022-11-08T16:08:34.263Z"
   },
   {
    "duration": 112,
    "start_time": "2022-11-08T16:08:34.334Z"
   },
   {
    "duration": 49,
    "start_time": "2022-11-08T20:09:21.545Z"
   },
   {
    "duration": 1475,
    "start_time": "2022-11-08T20:10:56.538Z"
   },
   {
    "duration": 64,
    "start_time": "2022-11-08T20:10:58.015Z"
   },
   {
    "duration": 14,
    "start_time": "2022-11-08T20:10:58.080Z"
   },
   {
    "duration": 10,
    "start_time": "2022-11-08T20:10:58.096Z"
   },
   {
    "duration": 796,
    "start_time": "2022-11-08T20:10:58.108Z"
   },
   {
    "duration": 5,
    "start_time": "2022-11-08T20:10:58.905Z"
   },
   {
    "duration": 22,
    "start_time": "2022-11-08T20:10:58.912Z"
   },
   {
    "duration": 201,
    "start_time": "2022-11-08T20:10:58.935Z"
   },
   {
    "duration": 5,
    "start_time": "2022-11-08T20:10:59.138Z"
   },
   {
    "duration": 22,
    "start_time": "2022-11-08T20:10:59.145Z"
   },
   {
    "duration": 101,
    "start_time": "2022-11-08T20:10:59.233Z"
   }
  ],
  "kernelspec": {
   "display_name": "Python 3 (ipykernel)",
   "language": "python",
   "name": "python3"
  },
  "language_info": {
   "codemirror_mode": {
    "name": "ipython",
    "version": 3
   },
   "file_extension": ".py",
   "mimetype": "text/x-python",
   "name": "python",
   "nbconvert_exporter": "python",
   "pygments_lexer": "ipython3",
   "version": "3.9.12"
  },
  "toc": {
   "base_numbering": 1,
   "nav_menu": {},
   "number_sections": true,
   "sideBar": true,
   "skip_h1_title": true,
   "title_cell": "Table of Contents",
   "title_sidebar": "Contents",
   "toc_cell": false,
   "toc_position": {},
   "toc_section_display": true,
   "toc_window_display": false
  }
 },
 "nbformat": 4,
 "nbformat_minor": 5
}
