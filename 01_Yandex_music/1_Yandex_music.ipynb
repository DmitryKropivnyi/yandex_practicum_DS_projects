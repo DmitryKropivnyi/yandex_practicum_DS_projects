{
 "cells": [
  {
   "cell_type": "markdown",
   "metadata": {
    "deletable": false,
    "editable": false,
    "id": "E0vqbgi9ay0H"
   },
   "source": [
    "# Яндекс Музыка"
   ]
  },
  {
   "cell_type": "markdown",
   "metadata": {
    "id": "VUC88oWjTJw2"
   },
   "source": [
    "Сравнение Москвы и Петербурга окружено мифами. Например:\n",
    " * Москва — мегаполис, подчинённый жёсткому ритму рабочей недели;\n",
    " * Петербург — культурная столица, со своими вкусами.\n",
    "\n",
    "На данных Яндекс Музыки мы сравним поведение пользователей двух столиц.\n",
    "\n",
    "**Цель исследования** — проверьте три гипотезы:\n",
    "1. Активность пользователей зависит от дня недели. Причём в Москве и Петербурге это проявляется по-разному.\n",
    "2. В понедельник утром в Москве преобладают одни жанры, а в Петербурге — другие. Так же и вечером пятницы преобладают разные жанры — в зависимости от города. \n",
    "3. Москва и Петербург предпочитают разные жанры музыки. В Москве чаще слушают поп-музыку, в Петербурге — русский рэп.\n",
    "\n",
    "**Ход исследования**\n",
    "\n",
    "Данные о поведении пользователей мы получим из файла `yandex_music_project.csv`. О качестве данных ничего не известно. Поэтому перед проверкой гипотез понадобится обзор данных. \n",
    "\n",
    "Мы проверим данные на ошибки и оценим их влияние на исследование. Затем, на этапе предобработки мы поищем возможность исправить самые критичные ошибки данных.\n",
    " \n",
    "Таким образом, исследование пройдёт в три этапа:\n",
    " 1. Обзор данных.\n",
    " 2. Предобработка данных.\n",
    " 3. Проверка гипотез.\n",
    "\n"
   ]
  },
  {
   "cell_type": "markdown",
   "metadata": {
    "id": "Ml1hmfXC_Zcs"
   },
   "source": [
    "## Обзор данных\n",
    "\n",
    "Составим первое представление о данных Яндекс Музыки.\n",
    "\n",
    "\n"
   ]
  },
  {
   "cell_type": "code",
   "execution_count": 1,
   "metadata": {
    "deletable": false,
    "id": "AXN7PHPN_Zcs"
   },
   "outputs": [],
   "source": [
    "import pandas as pd# импорт библиотеки pandas"
   ]
  },
  {
   "cell_type": "code",
   "execution_count": 2,
   "metadata": {
    "deletable": false,
    "id": "fFVu7vqh_Zct"
   },
   "outputs": [],
   "source": [
    "try:\n",
    "    df = pd.read_csv('/datasets/yandex_music_project.csv')\n",
    "except:\n",
    "    df = pd.read_csv('E:/BuduBogatym/yandex_music_project.csv')# чтение файла с данными и сохранение в df"
   ]
  },
  {
   "cell_type": "code",
   "execution_count": 3,
   "metadata": {
    "deletable": false,
    "id": "oWTVX3gW_Zct"
   },
   "outputs": [
    {
     "name": "stdout",
     "output_type": "stream",
     "text": [
      "     userID                        Track            artist   genre  \\\n",
      "0  FFB692EC            Kamigata To Boots  The Mass Missile    rock   \n",
      "1  55204538  Delayed Because of Accident  Andreas Rönnberg    rock   \n",
      "2    20EC38            Funiculì funiculà       Mario Lanza     pop   \n",
      "3  A3DD03C9        Dragons in the Sunset        Fire + Ice    folk   \n",
      "4  E2DC1FAE                  Soul People        Space Echo   dance   \n",
      "5  842029A1                    Преданная         IMPERVTOR  rusrap   \n",
      "6  4CB90AA5                         True      Roman Messer   dance   \n",
      "7  F03E1C1F             Feeling This Way   Polina Griffith   dance   \n",
      "8  8FA1D3BE     И вновь продолжается бой               NaN  ruspop   \n",
      "9  E772D5C0                    Pessimist               NaN   dance   \n",
      "\n",
      "             City        time        Day  \n",
      "0  Saint-Petersburg  20:28:33  Wednesday  \n",
      "1            Moscow  14:07:09     Friday  \n",
      "2  Saint-Petersburg  20:58:07  Wednesday  \n",
      "3  Saint-Petersburg  08:37:09     Monday  \n",
      "4            Moscow  08:34:34     Monday  \n",
      "5  Saint-Petersburg  13:09:41     Friday  \n",
      "6            Moscow  13:00:07  Wednesday  \n",
      "7            Moscow  20:47:49  Wednesday  \n",
      "8            Moscow  09:17:40     Friday  \n",
      "9  Saint-Petersburg  21:20:49  Wednesday  \n"
     ]
    }
   ],
   "source": [
    "print(df.head(10))# получение первых 10 строк таблицы df"
   ]
  },
  {
   "cell_type": "code",
   "execution_count": 4,
   "metadata": {
    "deletable": false,
    "id": "DSf2kIb-_Zct"
   },
   "outputs": [
    {
     "name": "stdout",
     "output_type": "stream",
     "text": [
      "<class 'pandas.core.frame.DataFrame'>\n",
      "RangeIndex: 65079 entries, 0 to 65078\n",
      "Data columns (total 7 columns):\n",
      " #   Column    Non-Null Count  Dtype \n",
      "---  ------    --------------  ----- \n",
      " 0     userID  65079 non-null  object\n",
      " 1   Track     63848 non-null  object\n",
      " 2   artist    57876 non-null  object\n",
      " 3   genre     63881 non-null  object\n",
      " 4     City    65079 non-null  object\n",
      " 5   time      65079 non-null  object\n",
      " 6   Day       65079 non-null  object\n",
      "dtypes: object(7)\n",
      "memory usage: 3.5+ MB\n"
     ]
    }
   ],
   "source": [
    "df.info()# получение общей информации о данных в таблице df"
   ]
  },
  {
   "cell_type": "markdown",
   "metadata": {
    "deletable": false,
    "editable": false,
    "id": "TaQ2Iwbr_Zct"
   },
   "source": [
    "Итак, в таблице семь столбцов. Тип данных во всех столбцах — `object`.\n",
    "\n",
    "Согласно документации к данным:\n",
    "* `userID` — идентификатор пользователя;\n",
    "* `Track` — название трека;  \n",
    "* `artist` — имя исполнителя;\n",
    "* `genre` — название жанра;\n",
    "* `City` — город пользователя;\n",
    "* `time` — время начала прослушивания;\n",
    "* `Day` — день недели.\n",
    "\n",
    "Количество значений в столбцах различается. Значит, в данных есть пропущенные значения."
   ]
  },
  {
   "cell_type": "markdown",
   "metadata": {
    "deletable": false,
    "editable": false,
    "id": "MCB6-dXG_Zct"
   },
   "source": [
    "**Выводы**\n",
    "\n",
    "В каждой строке таблицы — данные о прослушанном треке. Часть колонок описывает саму композицию: название, исполнителя и жанр. Остальные данные рассказывают о пользователе: из какого он города, когда он слушал музыку. \n",
    "\n",
    "Предварительно можно утверждать, что данных достаточно для проверки гипотез. Но встречаются пропуски в данных, а в названиях колонок — расхождения с хорошим стилем.\n",
    "\n",
    "Чтобы двигаться дальше, нужно устранить проблемы в данных."
   ]
  },
  {
   "cell_type": "markdown",
   "metadata": {
    "deletable": false,
    "editable": false,
    "id": "SjYF6Ub9_Zct"
   },
   "source": [
    "## Предобработка данных\n",
    "Исправьте стиль в заголовках столбцов, исключите пропуски. Затем проверьте данные на дубликаты."
   ]
  },
  {
   "cell_type": "code",
   "execution_count": 5,
   "metadata": {
    "deletable": false,
    "id": "oKOTdF_Q_Zct"
   },
   "outputs": [
    {
     "name": "stdout",
     "output_type": "stream",
     "text": [
      "Index(['  userID', 'Track', 'artist', 'genre', '  City  ', 'time', 'Day'], dtype='object')\n"
     ]
    }
   ],
   "source": [
    "print(df.columns)# перечень названий столбцов таблицы df"
   ]
  },
  {
   "cell_type": "code",
   "execution_count": 6,
   "metadata": {
    "deletable": false,
    "id": "ISlFqs5y_Zct"
   },
   "outputs": [],
   "source": [
    "df = df.rename(columns={ '  userID':'user_id','Track':'track','  City  ':'city','Day':'day'})# переименование столбцов"
   ]
  },
  {
   "cell_type": "code",
   "execution_count": 7,
   "metadata": {
    "deletable": false,
    "id": "d4NOAmTW_Zct"
   },
   "outputs": [
    {
     "name": "stdout",
     "output_type": "stream",
     "text": [
      "Index(['user_id', 'track', 'artist', 'genre', 'city', 'time', 'day'], dtype='object')\n"
     ]
    }
   ],
   "source": [
    "print(df.columns)# проверка результатов - перечень названий столбцов"
   ]
  },
  {
   "cell_type": "code",
   "execution_count": 8,
   "metadata": {
    "deletable": false,
    "id": "RskX29qr_Zct"
   },
   "outputs": [
    {
     "name": "stdout",
     "output_type": "stream",
     "text": [
      "user_id       0\n",
      "track      1231\n",
      "artist     7203\n",
      "genre      1198\n",
      "city          0\n",
      "time          0\n",
      "day           0\n",
      "dtype: int64\n"
     ]
    }
   ],
   "source": [
    "print(df.isna().sum())# подсчёт пропусков"
   ]
  },
  {
   "cell_type": "markdown",
   "metadata": {
    "deletable": false,
    "editable": false,
    "id": "qubhgnlO_Zct"
   },
   "source": [
    "Не все пропущенные значения влияют на исследование. Так в `track` и `artist` пропуски не важны для вашей работы. Достаточно заменить их явными обозначениями.\n",
    "\n",
    "Но пропуски в `genre` могут помешать сравнению музыкальных вкусов в Москве и Санкт-Петербурге. На практике было бы правильно установить причину пропусков и восстановить данные. Такой возможности нет в учебном проекте. Придётся:\n",
    "* заполнить и эти пропуски явными обозначениями;\n",
    "* оценить, насколько они повредят расчётам. "
   ]
  },
  {
   "cell_type": "code",
   "execution_count": 9,
   "metadata": {
    "deletable": false,
    "id": "KplB5qWs_Zct"
   },
   "outputs": [],
   "source": [
    "columns_to_replace = ['track','artist','genre']\n",
    "for column in columns_to_replace:\n",
    "    df[column] = df[column].fillna('unknown')# перебор названий столбцов в цикле и замена пропущенных значений на 'unknown'"
   ]
  },
  {
   "cell_type": "code",
   "execution_count": 10,
   "metadata": {
    "deletable": false,
    "id": "Tq4nYRX4_Zct"
   },
   "outputs": [
    {
     "name": "stdout",
     "output_type": "stream",
     "text": [
      "user_id    0\n",
      "track      0\n",
      "artist     0\n",
      "genre      0\n",
      "city       0\n",
      "time       0\n",
      "day        0\n",
      "dtype: int64\n"
     ]
    }
   ],
   "source": [
    "print(df.isna().sum())# подсчёт пропусков"
   ]
  },
  {
   "cell_type": "code",
   "execution_count": 11,
   "metadata": {
    "deletable": false,
    "id": "36eES_S0_Zct"
   },
   "outputs": [
    {
     "name": "stdout",
     "output_type": "stream",
     "text": [
      "3826\n"
     ]
    }
   ],
   "source": [
    "print(df.duplicated().sum())# подсчёт явных дубликатов"
   ]
  },
  {
   "cell_type": "code",
   "execution_count": 12,
   "metadata": {
    "deletable": false,
    "id": "exFHq6tt_Zct"
   },
   "outputs": [],
   "source": [
    "df = df.drop_duplicates()# удаление явных дубликатов"
   ]
  },
  {
   "cell_type": "code",
   "execution_count": 13,
   "metadata": {
    "deletable": false,
    "id": "-8PuNWQ0_Zct"
   },
   "outputs": [
    {
     "name": "stdout",
     "output_type": "stream",
     "text": [
      "0\n"
     ]
    }
   ],
   "source": [
    "print(df.duplicated().sum())# проверка на отсутствие дубликатов"
   ]
  },
  {
   "cell_type": "markdown",
   "metadata": {
    "id": "QlFBsxAr_Zct"
   },
   "source": [
    "Теперь избавимся от неявных дубликатов в колонке `genre`. Например, название одного и того же жанра может быть записано немного по-разному. Такие ошибки тоже повлияют на результат исследования."
   ]
  },
  {
   "cell_type": "code",
   "execution_count": 14,
   "metadata": {
    "deletable": false,
    "id": "JIUcqzZN_Zct"
   },
   "outputs": [
    {
     "name": "stdout",
     "output_type": "stream",
     "text": [
      "['acid' 'acoustic' 'action' 'adult' 'africa' 'afrikaans' 'alternative'\n",
      " 'alternativepunk' 'ambient' 'americana' 'animated' 'anime' 'arabesk'\n",
      " 'arabic' 'arena' 'argentinetango' 'art' 'audiobook' 'author' 'avantgarde'\n",
      " 'axé' 'baile' 'balkan' 'beats' 'bigroom' 'black' 'bluegrass' 'blues'\n",
      " 'bollywood' 'bossa' 'brazilian' 'breakbeat' 'breaks' 'broadway'\n",
      " 'cantautori' 'cantopop' 'canzone' 'caribbean' 'caucasian' 'celtic'\n",
      " 'chamber' 'chanson' 'children' 'chill' 'chinese' 'choral' 'christian'\n",
      " 'christmas' 'classical' 'classicmetal' 'club' 'colombian' 'comedy'\n",
      " 'conjazz' 'contemporary' 'country' 'cuban' 'dance' 'dancehall' 'dancepop'\n",
      " 'dark' 'death' 'deep' 'deutschrock' 'deutschspr' 'dirty' 'disco' 'dnb'\n",
      " 'documentary' 'downbeat' 'downtempo' 'drum' 'dub' 'dubstep' 'eastern'\n",
      " 'easy' 'electronic' 'electropop' 'emo' 'entehno' 'epicmetal' 'estrada'\n",
      " 'ethnic' 'eurofolk' 'european' 'experimental' 'extrememetal' 'fado'\n",
      " 'fairytail' 'film' 'fitness' 'flamenco' 'folk' 'folklore' 'folkmetal'\n",
      " 'folkrock' 'folktronica' 'forró' 'frankreich' 'französisch' 'french'\n",
      " 'funk' 'future' 'gangsta' 'garage' 'german' 'ghazal' 'gitarre' 'glitch'\n",
      " 'gospel' 'gothic' 'grime' 'grunge' 'gypsy' 'handsup' \"hard'n'heavy\"\n",
      " 'hardcore' 'hardstyle' 'hardtechno' 'hip' 'hip-hop' 'hiphop' 'historisch'\n",
      " 'holiday' 'hop' 'horror' 'house' 'hymn' 'idm' 'independent' 'indian'\n",
      " 'indie' 'indipop' 'industrial' 'inspirational' 'instrumental'\n",
      " 'international' 'irish' 'jam' 'japanese' 'jazz' 'jewish' 'jpop' 'jungle'\n",
      " 'k-pop' 'karadeniz' 'karaoke' 'kayokyoku' 'korean' 'laiko' 'latin'\n",
      " 'latino' 'leftfield' 'local' 'lounge' 'loungeelectronic' 'lovers'\n",
      " 'malaysian' 'mandopop' 'marschmusik' 'meditative' 'mediterranean'\n",
      " 'melodic' 'metal' 'metalcore' 'mexican' 'middle' 'minimal'\n",
      " 'miscellaneous' 'modern' 'mood' 'mpb' 'muslim' 'native' 'neoklassik'\n",
      " 'neue' 'new' 'newage' 'newwave' 'nu' 'nujazz' 'numetal' 'oceania' 'old'\n",
      " 'opera' 'orchestral' 'other' 'piano' 'podcasts' 'pop' 'popdance'\n",
      " 'popelectronic' 'popeurodance' 'poprussian' 'post' 'posthardcore'\n",
      " 'postrock' 'power' 'progmetal' 'progressive' 'psychedelic' 'punjabi'\n",
      " 'punk' 'quebecois' 'ragga' 'ram' 'rancheras' 'rap' 'rave' 'reggae'\n",
      " 'reggaeton' 'regional' 'relax' 'religious' 'retro' 'rhythm' 'rnb' 'rnr'\n",
      " 'rock' 'rockabilly' 'rockalternative' 'rockindie' 'rockother' 'romance'\n",
      " 'roots' 'ruspop' 'rusrap' 'rusrock' 'russian' 'salsa' 'samba' 'scenic'\n",
      " 'schlager' 'self' 'sertanejo' 'shanson' 'shoegazing' 'showtunes' 'singer'\n",
      " 'ska' 'skarock' 'slow' 'smooth' 'soft' 'soul' 'soulful' 'sound'\n",
      " 'soundtrack' 'southern' 'specialty' 'speech' 'spiritual' 'sport'\n",
      " 'stonerrock' 'surf' 'swing' 'synthpop' 'synthrock' 'sängerportrait'\n",
      " 'tango' 'tanzorchester' 'taraftar' 'tatar' 'tech' 'techno' 'teen'\n",
      " 'thrash' 'top' 'traditional' 'tradjazz' 'trance' 'tribal' 'trip'\n",
      " 'triphop' 'tropical' 'türk' 'türkçe' 'ukrrock' 'unknown' 'urban' 'uzbek'\n",
      " 'variété' 'vi' 'videogame' 'vocal' 'western' 'world' 'worldbeat' 'ïîï'\n",
      " 'электроника']\n"
     ]
    }
   ],
   "source": [
    "df_new = df['genre']\n",
    "df_new = df_new.sort_values(ascending = True)\n",
    "print(df_new.unique())\n",
    "# Просмотр уникальных названий жанров"
   ]
  },
  {
   "cell_type": "code",
   "execution_count": 15,
   "metadata": {
    "deletable": false,
    "id": "ErNDkmns_Zct"
   },
   "outputs": [],
   "source": [
    "hiphop_name = ['hip','hop','hip-hop']\n",
    "df = df.replace(hiphop_name, 'hiphop')# Устранение неявных дубликатов"
   ]
  },
  {
   "cell_type": "code",
   "execution_count": 16,
   "metadata": {
    "deletable": false,
    "id": "wvixALnFG15m"
   },
   "outputs": [
    {
     "name": "stdout",
     "output_type": "stream",
     "text": [
      "['acid' 'acoustic' 'action' 'adult' 'africa' 'afrikaans' 'alternative'\n",
      " 'alternativepunk' 'ambient' 'americana' 'animated' 'anime' 'arabesk'\n",
      " 'arabic' 'arena' 'argentinetango' 'art' 'audiobook' 'author' 'avantgarde'\n",
      " 'axé' 'baile' 'balkan' 'beats' 'bigroom' 'black' 'bluegrass' 'blues'\n",
      " 'bollywood' 'bossa' 'brazilian' 'breakbeat' 'breaks' 'broadway'\n",
      " 'cantautori' 'cantopop' 'canzone' 'caribbean' 'caucasian' 'celtic'\n",
      " 'chamber' 'chanson' 'children' 'chill' 'chinese' 'choral' 'christian'\n",
      " 'christmas' 'classical' 'classicmetal' 'club' 'colombian' 'comedy'\n",
      " 'conjazz' 'contemporary' 'country' 'cuban' 'dance' 'dancehall' 'dancepop'\n",
      " 'dark' 'death' 'deep' 'deutschrock' 'deutschspr' 'dirty' 'disco' 'dnb'\n",
      " 'documentary' 'downbeat' 'downtempo' 'drum' 'dub' 'dubstep' 'eastern'\n",
      " 'easy' 'electronic' 'electropop' 'emo' 'entehno' 'epicmetal' 'estrada'\n",
      " 'ethnic' 'eurofolk' 'european' 'experimental' 'extrememetal' 'fado'\n",
      " 'fairytail' 'film' 'fitness' 'flamenco' 'folk' 'folklore' 'folkmetal'\n",
      " 'folkrock' 'folktronica' 'forró' 'frankreich' 'französisch' 'french'\n",
      " 'funk' 'future' 'gangsta' 'garage' 'german' 'ghazal' 'gitarre' 'glitch'\n",
      " 'gospel' 'gothic' 'grime' 'grunge' 'gypsy' 'handsup' \"hard'n'heavy\"\n",
      " 'hardcore' 'hardstyle' 'hardtechno' 'hiphop' 'historisch' 'holiday'\n",
      " 'horror' 'house' 'hymn' 'idm' 'independent' 'indian' 'indie' 'indipop'\n",
      " 'industrial' 'inspirational' 'instrumental' 'international' 'irish' 'jam'\n",
      " 'japanese' 'jazz' 'jewish' 'jpop' 'jungle' 'k-pop' 'karadeniz' 'karaoke'\n",
      " 'kayokyoku' 'korean' 'laiko' 'latin' 'latino' 'leftfield' 'local'\n",
      " 'lounge' 'loungeelectronic' 'lovers' 'malaysian' 'mandopop' 'marschmusik'\n",
      " 'meditative' 'mediterranean' 'melodic' 'metal' 'metalcore' 'mexican'\n",
      " 'middle' 'minimal' 'miscellaneous' 'modern' 'mood' 'mpb' 'muslim'\n",
      " 'native' 'neoklassik' 'neue' 'new' 'newage' 'newwave' 'nu' 'nujazz'\n",
      " 'numetal' 'oceania' 'old' 'opera' 'orchestral' 'other' 'piano' 'podcasts'\n",
      " 'pop' 'popdance' 'popelectronic' 'popeurodance' 'poprussian' 'post'\n",
      " 'posthardcore' 'postrock' 'power' 'progmetal' 'progressive' 'psychedelic'\n",
      " 'punjabi' 'punk' 'quebecois' 'ragga' 'ram' 'rancheras' 'rap' 'rave'\n",
      " 'reggae' 'reggaeton' 'regional' 'relax' 'religious' 'retro' 'rhythm'\n",
      " 'rnb' 'rnr' 'rock' 'rockabilly' 'rockalternative' 'rockindie' 'rockother'\n",
      " 'romance' 'roots' 'ruspop' 'rusrap' 'rusrock' 'russian' 'salsa' 'samba'\n",
      " 'scenic' 'schlager' 'self' 'sertanejo' 'shanson' 'shoegazing' 'showtunes'\n",
      " 'singer' 'ska' 'skarock' 'slow' 'smooth' 'soft' 'soul' 'soulful' 'sound'\n",
      " 'soundtrack' 'southern' 'specialty' 'speech' 'spiritual' 'sport'\n",
      " 'stonerrock' 'surf' 'swing' 'synthpop' 'synthrock' 'sängerportrait'\n",
      " 'tango' 'tanzorchester' 'taraftar' 'tatar' 'tech' 'techno' 'teen'\n",
      " 'thrash' 'top' 'traditional' 'tradjazz' 'trance' 'tribal' 'trip'\n",
      " 'triphop' 'tropical' 'türk' 'türkçe' 'ukrrock' 'unknown' 'urban' 'uzbek'\n",
      " 'variété' 'vi' 'videogame' 'vocal' 'western' 'world' 'worldbeat' 'ïîï'\n",
      " 'электроника']\n"
     ]
    }
   ],
   "source": [
    "df_new = df['genre']\n",
    "df_new = df_new.sort_values(ascending = True)\n",
    "print(df_new.unique())\n",
    "# Проверка на неявные дубликаты"
   ]
  },
  {
   "cell_type": "markdown",
   "metadata": {
    "deletable": false,
    "editable": false,
    "id": "jz6a9-7HQUDd"
   },
   "source": [
    "**Выводы**\n",
    "\n",
    "Предобработка обнаружила три проблемы в данных:\n",
    "\n",
    "- нарушения в стиле заголовков,\n",
    "- пропущенные значения,\n",
    "- дубликаты — явные и неявные.\n",
    "\n",
    "Вы исправили заголовки, чтобы упростить работу с таблицей. Без дубликатов исследование станет более точным.\n",
    "\n",
    "Пропущенные значения вы заменили на `'unknown'`. Ещё предстоит увидеть, не повредят ли исследованию пропуски в колонке `genre`.\n",
    "\n",
    "Теперь можно перейти к проверке гипотез. "
   ]
  },
  {
   "cell_type": "markdown",
   "metadata": {
    "deletable": false,
    "editable": false,
    "id": "WttZHXH0SqKk"
   },
   "source": [
    "## Проверка гипотез"
   ]
  },
  {
   "cell_type": "markdown",
   "metadata": {
    "deletable": false,
    "editable": false,
    "id": "Im936VVi_Zcu"
   },
   "source": [
    "### Сравнение поведения пользователей двух столиц"
   ]
  },
  {
   "cell_type": "markdown",
   "metadata": {
    "id": "nwt_MuaL_Zcu"
   },
   "source": [
    "Первая гипотеза утверждает, что пользователи по-разному слушают музыку в Москве и Санкт-Петербурге. Проверим это предположение по данным о трёх днях недели — понедельнике, среде и пятнице. Для этого:\n",
    "\n",
    "* Разделим пользователей Москвы и Санкт-Петербурга.\n",
    "* Сравним, сколько треков послушала каждая группа пользователей в понедельник, среду и пятницу.\n"
   ]
  },
  {
   "cell_type": "code",
   "execution_count": 17,
   "metadata": {
    "deletable": false,
    "id": "0_Qs96oh_Zcu"
   },
   "outputs": [
    {
     "name": "stdout",
     "output_type": "stream",
     "text": [
      "city\n",
      "Moscow              42741\n",
      "Saint-Petersburg    18512\n",
      "Name: user_id, dtype: int64\n"
     ]
    }
   ],
   "source": [
    "df_new = df.groupby('city')['user_id'].count()\n",
    "print(df_new)\n",
    "#print(df_group_city)# Подсчёт прослушиваний в каждом городе"
   ]
  },
  {
   "cell_type": "markdown",
   "metadata": {
    "id": "dzli3w8o_Zcu",
    "tags": [
     "start_task"
    ]
   },
   "source": [
    "В Москве прослушиваний больше, чем в Петербурге. Из этого не следует, что московские пользователи чаще слушают музыку. Просто самих пользователей в Москве больше.\n",
    "\n"
   ]
  },
  {
   "cell_type": "code",
   "execution_count": 18,
   "metadata": {
    "deletable": false,
    "id": "uZMKjiJz_Zcu"
   },
   "outputs": [
    {
     "name": "stdout",
     "output_type": "stream",
     "text": [
      "day\n",
      "Friday       21840\n",
      "Monday       21354\n",
      "Wednesday    18059\n",
      "Name: user_id, dtype: int64\n"
     ]
    }
   ],
   "source": [
    "df_new = df.groupby('day')['user_id'].count()\n",
    "print(df_new)# Подсчёт прослушиваний в каждый из трёх дней"
   ]
  },
  {
   "cell_type": "markdown",
   "metadata": {
    "deletable": false,
    "editable": false,
    "id": "cC2tNrlL_Zcu"
   },
   "source": [
    "В среднем пользователи из двух городов менее активны по средам. Но картина может измениться, если рассмотреть каждый город в отдельности."
   ]
  },
  {
   "cell_type": "code",
   "execution_count": 19,
   "metadata": {
    "deletable": false,
    "id": "Nz3GdQB1_Zcu"
   },
   "outputs": [],
   "source": [
    "def number_tracks(day, city):\n",
    "    track_list = []\n",
    "    track_list = df[df['day']==day]\n",
    "    track_list = track_list[track_list['city']==city]\n",
    "    track_list_count = track_list['user_id'].count()\n",
    "    return track_list_count\n"
   ]
  },
  {
   "cell_type": "code",
   "execution_count": 20,
   "metadata": {
    "deletable": false,
    "id": "rJcRATNQ_Zcu"
   },
   "outputs": [
    {
     "name": "stdout",
     "output_type": "stream",
     "text": [
      "15740\n"
     ]
    }
   ],
   "source": [
    "print(number_tracks('Monday', 'Moscow'))# количество прослушиваний в Москве по понедельникам"
   ]
  },
  {
   "cell_type": "code",
   "execution_count": 21,
   "metadata": {
    "deletable": false,
    "id": "hq_ncZ5T_Zcu"
   },
   "outputs": [
    {
     "name": "stdout",
     "output_type": "stream",
     "text": [
      "5614\n"
     ]
    }
   ],
   "source": [
    "print(number_tracks('Monday', 'Saint-Petersburg'))# количество прослушиваний в Санкт-Петербурге по понедельникам"
   ]
  },
  {
   "cell_type": "code",
   "execution_count": 22,
   "metadata": {
    "deletable": false,
    "id": "_NTy2VPU_Zcu"
   },
   "outputs": [
    {
     "name": "stdout",
     "output_type": "stream",
     "text": [
      "11056\n"
     ]
    }
   ],
   "source": [
    "print(number_tracks('Wednesday', 'Moscow'))# количество прослушиваний в Москве по средам"
   ]
  },
  {
   "cell_type": "code",
   "execution_count": 23,
   "metadata": {
    "deletable": false,
    "id": "j2y3TAwo_Zcu"
   },
   "outputs": [
    {
     "name": "stdout",
     "output_type": "stream",
     "text": [
      "7003\n"
     ]
    }
   ],
   "source": [
    "print(number_tracks('Wednesday', 'Saint-Petersburg'))# количество прослушиваний в Санкт-Петербурге по средам"
   ]
  },
  {
   "cell_type": "code",
   "execution_count": 24,
   "metadata": {
    "deletable": false,
    "id": "vYDw5u_K_Zcu"
   },
   "outputs": [
    {
     "name": "stdout",
     "output_type": "stream",
     "text": [
      "15945\n"
     ]
    }
   ],
   "source": [
    "print(number_tracks('Friday', 'Moscow'))# количество прослушиваний в Москве по пятницам"
   ]
  },
  {
   "cell_type": "code",
   "execution_count": 25,
   "metadata": {
    "deletable": false,
    "id": "8_yzFtW3_Zcu"
   },
   "outputs": [
    {
     "name": "stdout",
     "output_type": "stream",
     "text": [
      "5895\n"
     ]
    }
   ],
   "source": [
    "print(number_tracks('Friday', 'Saint-Petersburg'))# количество прослушиваний в Санкт-Петербурге по пятницам"
   ]
  },
  {
   "cell_type": "code",
   "execution_count": 26,
   "metadata": {
    "deletable": false,
    "id": "APAcLpOr_Zcu"
   },
   "outputs": [
    {
     "name": "stdout",
     "output_type": "stream",
     "text": [
      "              city  monday  wednesday  friday\n",
      "0           Москва   15740      11056   15945\n",
      "1  Сантк-Петербург    5614       7003    5895\n"
     ]
    }
   ],
   "source": [
    "infa = ['city', 'monday', 'wednesday', 'friday']\n",
    "Moscow = ['Москва', 15740 , 11056 , 15945]\n",
    "Saint = ['Сантк-Петербург', 5614 , 7003 , 5895]\n",
    "info = pd.DataFrame(data = [ Moscow, Saint], columns = infa)\n",
    "print(info)# Таблица с результатами"
   ]
  },
  {
   "cell_type": "markdown",
   "metadata": {
    "deletable": false,
    "editable": false,
    "id": "-EgPIHYu_Zcu"
   },
   "source": [
    "**Выводы**\n",
    "\n",
    "Данные показывают разницу поведения пользователей:\n",
    "\n",
    "- В Москве пик прослушиваний приходится на понедельник и пятницу, а в среду заметен спад.\n",
    "- В Петербурге, наоборот, больше слушают музыку по средам. Активность в понедельник и пятницу здесь почти в равной мере уступает среде.\n",
    "\n",
    "Значит, данные говорят в пользу первой гипотезы."
   ]
  },
  {
   "cell_type": "markdown",
   "metadata": {
    "deletable": false,
    "editable": false,
    "id": "atZAxtq4_Zcu"
   },
   "source": [
    "### Музыка в начале и в конце недели"
   ]
  },
  {
   "cell_type": "markdown",
   "metadata": {
    "deletable": false,
    "editable": false,
    "id": "eXrQqXFH_Zcu"
   },
   "source": [
    "Согласно второй гипотезе, утром в понедельник в Москве преобладают одни жанры, а в Петербурге — другие. Так же и вечером пятницы преобладают разные жанры — в зависимости от города."
   ]
  },
  {
   "cell_type": "code",
   "execution_count": 27,
   "metadata": {
    "deletable": false,
    "id": "qeaFfM_P_Zcu"
   },
   "outputs": [],
   "source": [
    "moscow_general = df[df['city']=='Moscow']# получение таблицы moscow_general из тех строк таблицы df, \n",
    "# для которых значение в столбце 'city' равно 'Moscow'\n"
   ]
  },
  {
   "cell_type": "code",
   "execution_count": 28,
   "metadata": {
    "deletable": false,
    "id": "ORaVRKto_Zcu"
   },
   "outputs": [],
   "source": [
    "spb_general = df[df['city']=='Saint-Petersburg']# получение таблицы spb_general из тех строк таблицы df,\n",
    "# для которых значение в столбце 'city' равно 'Saint-Petersburg'\n"
   ]
  },
  {
   "cell_type": "code",
   "execution_count": 29,
   "metadata": {
    "deletable": false,
    "id": "laJT9BYl_Zcu"
   },
   "outputs": [],
   "source": [
    "def genre_weekday(df, day, time1, time2):\n",
    "    # последовательная фильтрация\n",
    "    # оставляем в genre_df только те строки df, у которых день равен day\n",
    "    genre_df = df[df['day'] == day]# ваш код здесь\n",
    "    # оставляем в genre_df только те строки genre_df, у которых время меньше time2\n",
    "    genre_df = genre_df[genre_df['time'] < time2]# ваш код здесь\n",
    "    # оставляем в genre_df только те строки genre_df, у которых время больше time1\n",
    "    genre_df = genre_df[genre_df['time'] > time1]# ваш код здесь\n",
    "    # сгруппируем отфильтрованный датафрейм по столбцу с названиями жанров, возьмём столбец genre и посчитаем кол-во строк для каждого жанра методом count()\n",
    "    genre_df_grouped = genre_df.groupby('genre')['genre'].count()# ваш код здесь\n",
    "    # отсортируем результат по убыванию (чтобы в начале Series оказались самые популярные жанры)\n",
    "    genre_df_sorted = genre_df_grouped.sort_values(ascending=False)# ваш код здесь\n",
    "    # вернём Series с 10 самыми популярными жанрами в указанный отрезок времени заданного дня\n",
    "    return genre_df_sorted[:10]"
   ]
  },
  {
   "cell_type": "code",
   "execution_count": 30,
   "metadata": {
    "deletable": false,
    "id": "yz7itPUQ_Zcu"
   },
   "outputs": [
    {
     "data": {
      "text/plain": [
       "genre\n",
       "pop            781\n",
       "dance          549\n",
       "electronic     480\n",
       "rock           474\n",
       "hiphop         286\n",
       "ruspop         186\n",
       "world          181\n",
       "rusrap         175\n",
       "alternative    164\n",
       "unknown        161\n",
       "Name: genre, dtype: int64"
      ]
     },
     "execution_count": 30,
     "metadata": {},
     "output_type": "execute_result"
    }
   ],
   "source": [
    "genre_weekday(moscow_general, 'Monday', '07:00', '11:00')\n"
   ]
  },
  {
   "cell_type": "code",
   "execution_count": 31,
   "metadata": {
    "deletable": false,
    "id": "kwUcHPdy_Zcu"
   },
   "outputs": [
    {
     "data": {
      "text/plain": [
       "genre\n",
       "pop            218\n",
       "dance          182\n",
       "rock           162\n",
       "electronic     147\n",
       "hiphop          80\n",
       "ruspop          64\n",
       "alternative     58\n",
       "rusrap          55\n",
       "jazz            44\n",
       "classical       40\n",
       "Name: genre, dtype: int64"
      ]
     },
     "execution_count": 31,
     "metadata": {},
     "output_type": "execute_result"
    }
   ],
   "source": [
    "genre_weekday(spb_general, 'Monday', '07:00', '11:00')# вызов функции для утра понедельника в Петербурге (вместо df — таблица spb_general)"
   ]
  },
  {
   "cell_type": "code",
   "execution_count": 32,
   "metadata": {
    "deletable": false,
    "id": "EzXVRE1o_Zcu"
   },
   "outputs": [
    {
     "data": {
      "text/plain": [
       "genre\n",
       "pop            713\n",
       "rock           517\n",
       "dance          495\n",
       "electronic     482\n",
       "hiphop         273\n",
       "world          208\n",
       "ruspop         170\n",
       "alternative    163\n",
       "classical      163\n",
       "rusrap         142\n",
       "Name: genre, dtype: int64"
      ]
     },
     "execution_count": 32,
     "metadata": {},
     "output_type": "execute_result"
    }
   ],
   "source": [
    "genre_weekday(moscow_general, 'Friday', '17:00', '23:00')# вызов функции для вечера пятницы в Москве"
   ]
  },
  {
   "cell_type": "code",
   "execution_count": 33,
   "metadata": {
    "deletable": false,
    "id": "JZaEKu5v_Zcu"
   },
   "outputs": [
    {
     "data": {
      "text/plain": [
       "genre\n",
       "pop            256\n",
       "electronic     216\n",
       "rock           216\n",
       "dance          210\n",
       "hiphop          97\n",
       "alternative     63\n",
       "jazz            61\n",
       "classical       60\n",
       "rusrap          59\n",
       "world           54\n",
       "Name: genre, dtype: int64"
      ]
     },
     "execution_count": 33,
     "metadata": {},
     "output_type": "execute_result"
    }
   ],
   "source": [
    "genre_weekday(spb_general, 'Friday', '17:00', '23:00')# вызов функции для вечера пятницы в Петербурге"
   ]
  },
  {
   "cell_type": "markdown",
   "metadata": {
    "deletable": false,
    "editable": false,
    "id": "wrCe4MNX_Zcu"
   },
   "source": [
    "**Выводы**\n",
    "\n",
    "Если сравнить топ-10 жанров в понедельник утром, можно сделать такие выводы:\n",
    "\n",
    "1. В Москве и Петербурге слушают похожую музыку. Единственное отличие — в московский рейтинг вошёл жанр “world”, а в петербургский — джаз и классика.\n",
    "\n",
    "2. В Москве пропущенных значений оказалось так много, что значение `'unknown'` заняло десятое место среди самых популярных жанров. Значит, пропущенные значения занимают существенную долю в данных и угрожают достоверности исследования.\n",
    "\n",
    "Вечер пятницы не меняет эту картину. Некоторые жанры поднимаются немного выше, другие спускаются, но в целом топ-10 остаётся тем же самым.\n",
    "\n",
    "Таким образом, вторая гипотеза подтвердилась лишь частично:\n",
    "* Пользователи слушают похожую музыку в начале недели и в конце.\n",
    "* Разница между Москвой и Петербургом не слишком выражена. В Москве чаще слушают русскую популярную музыку, в Петербурге — джаз.\n",
    "\n",
    "Однако пропуски в данных ставят под сомнение этот результат. В Москве их так много, что рейтинг топ-10 мог бы выглядеть иначе, если бы не утерянные  данные о жанрах."
   ]
  },
  {
   "cell_type": "markdown",
   "metadata": {
    "deletable": false,
    "editable": false,
    "id": "JolODAqr_Zcu"
   },
   "source": [
    "### Жанровые предпочтения в Москве и Петербурге\n",
    "\n",
    "Гипотеза: Петербург — столица рэпа, музыку этого жанра там слушают чаще, чем в Москве.  А Москва — город контрастов, в котором, тем не менее, преобладает поп-музыка."
   ]
  },
  {
   "cell_type": "code",
   "execution_count": 34,
   "metadata": {
    "deletable": false,
    "id": "r19lIPke_Zcu"
   },
   "outputs": [],
   "source": [
    "moscow_genres = moscow_general.groupby('genre')['genre'].count()# одной строкой: группировка таблицы moscow_general по столбцу 'genre', \n",
    "moscow_genres = moscow_genres.sort_values(ascending = False)# подсчёт числа значений 'genre' в этой группировке методом count(), \n",
    "# сортировка получившегося Series в порядке убывания и сохранение в moscow_genres"
   ]
  },
  {
   "cell_type": "code",
   "execution_count": 35,
   "metadata": {
    "deletable": false,
    "id": "WhCSooF8_Zcv"
   },
   "outputs": [
    {
     "name": "stdout",
     "output_type": "stream",
     "text": [
      "genre\n",
      "pop            5892\n",
      "dance          4435\n",
      "rock           3965\n",
      "electronic     3786\n",
      "hiphop         2096\n",
      "classical      1616\n",
      "world          1432\n",
      "alternative    1379\n",
      "ruspop         1372\n",
      "rusrap         1161\n",
      "Name: genre, dtype: int64\n"
     ]
    }
   ],
   "source": [
    "print(moscow_genres.head(10))# просмотр первых 10 строк moscow_genres"
   ]
  },
  {
   "cell_type": "code",
   "execution_count": 36,
   "metadata": {
    "deletable": false,
    "id": "gluLIpE7_Zcv"
   },
   "outputs": [],
   "source": [
    "spb_genres = spb_general.groupby('genre')['genre'].count()# одной строкой: группировка таблицы moscow_general по столбцу 'genre', \n",
    "spb_genres = spb_genres.sort_values(ascending = False)\n",
    "# одной строкой: группировка таблицы spb_general по столбцу 'genre', \n",
    "# подсчёт числа значений 'genre' в этой группировке методом count(), \n",
    "# сортировка получившегося Series в порядке убывания и сохранение в spb_genres"
   ]
  },
  {
   "cell_type": "code",
   "execution_count": 37,
   "metadata": {
    "deletable": false,
    "id": "uaGJHjVU_Zcv"
   },
   "outputs": [
    {
     "name": "stdout",
     "output_type": "stream",
     "text": [
      "genre\n",
      "pop            2431\n",
      "dance          1932\n",
      "rock           1879\n",
      "electronic     1736\n",
      "hiphop          960\n",
      "alternative     649\n",
      "classical       646\n",
      "rusrap          564\n",
      "ruspop          538\n",
      "world           515\n",
      "Name: genre, dtype: int64\n"
     ]
    }
   ],
   "source": [
    "print(spb_genres.head(10))"
   ]
  },
  {
   "cell_type": "markdown",
   "metadata": {
    "deletable": false,
    "editable": false,
    "id": "RY51YJYu_Zcv"
   },
   "source": [
    "**Выводы**"
   ]
  },
  {
   "cell_type": "markdown",
   "metadata": {
    "deletable": false,
    "editable": false,
    "id": "nVhnJEm__Zcv"
   },
   "source": [
    "Гипотеза частично подтвердилась:\n",
    "* Поп-музыка — самый популярный жанр в Москве, как и предполагала гипотеза. Более того, в топ-10 жанров встречается близкий жанр — русская популярная музыка.\n",
    "* Вопреки ожиданиям, рэп одинаково популярен в Москве и Петербурге. \n"
   ]
  },
  {
   "cell_type": "markdown",
   "metadata": {
    "deletable": false,
    "editable": false,
    "id": "ykKQ0N65_Zcv"
   },
   "source": [
    "## Итоги исследования"
   ]
  },
  {
   "cell_type": "markdown",
   "metadata": {
    "id": "tjUwbHb3_Zcv"
   },
   "source": [
    "Вы проверили три гипотезы и установили:\n",
    "\n",
    "1. День недели по-разному влияет на активность пользователей в Москве и Петербурге. \n",
    "\n",
    "Первая гипотеза полностью подтвердилась.\n",
    "\n",
    "2. Музыкальные предпочтения не сильно меняются в течение недели — будь то Москва или Петербург. Небольшие различия заметны в начале недели, по понедельникам:\n",
    "* в Москве слушают музыку жанра “world”,\n",
    "* в Петербурге — джаз и классику.\n",
    "\n",
    "Таким образом, вторая гипотеза подтвердилась лишь отчасти. Этот результат мог оказаться иным, если бы не пропуски в данных.\n",
    "\n",
    "3. Во вкусах пользователей Москвы и Петербурга больше общего чем различий. Вопреки ожиданиям, предпочтения жанров в Петербурге напоминают московские.\n",
    "\n",
    "Третья гипотеза не подтвердилась. Если различия в предпочтениях и существуют, на основной массе пользователей они незаметны."
   ]
  }
 ],
 "metadata": {
  "ExecuteTimeLog": [
   {
    "duration": 351,
    "start_time": "2022-07-04T09:42:35.884Z"
   },
   {
    "duration": 57,
    "start_time": "2022-07-04T09:47:49.847Z"
   },
   {
    "duration": 8,
    "start_time": "2022-07-04T09:48:04.195Z"
   },
   {
    "duration": 6,
    "start_time": "2022-07-04T09:48:06.639Z"
   },
   {
    "duration": 8,
    "start_time": "2022-07-04T09:49:51.107Z"
   },
   {
    "duration": 6,
    "start_time": "2022-07-04T13:21:37.666Z"
   },
   {
    "duration": 21,
    "start_time": "2022-07-04T13:21:54.339Z"
   },
   {
    "duration": 46,
    "start_time": "2022-07-04T13:22:21.169Z"
   },
   {
    "duration": 383,
    "start_time": "2022-07-04T13:22:30.066Z"
   },
   {
    "duration": 229,
    "start_time": "2022-07-04T13:22:31.857Z"
   },
   {
    "duration": 164,
    "start_time": "2022-07-04T13:22:36.030Z"
   },
   {
    "duration": 13,
    "start_time": "2022-07-04T13:22:40.150Z"
   },
   {
    "duration": 28,
    "start_time": "2022-07-04T13:22:46.697Z"
   },
   {
    "duration": 3,
    "start_time": "2022-07-04T13:24:05.076Z"
   },
   {
    "duration": 3,
    "start_time": "2022-07-04T13:26:55.689Z"
   },
   {
    "duration": 12,
    "start_time": "2022-07-04T13:40:20.481Z"
   },
   {
    "duration": 4,
    "start_time": "2022-07-04T13:40:57.242Z"
   },
   {
    "duration": 4,
    "start_time": "2022-07-04T13:41:32.771Z"
   },
   {
    "duration": 4,
    "start_time": "2022-07-04T13:41:37.580Z"
   },
   {
    "duration": 92,
    "start_time": "2022-07-04T13:42:41.810Z"
   },
   {
    "duration": 20,
    "start_time": "2022-07-04T13:45:25.266Z"
   },
   {
    "duration": 21,
    "start_time": "2022-07-04T13:46:12.895Z"
   },
   {
    "duration": 18,
    "start_time": "2022-07-04T13:46:44.375Z"
   },
   {
    "duration": 72,
    "start_time": "2022-07-04T13:47:14.690Z"
   },
   {
    "duration": 31,
    "start_time": "2022-07-04T13:48:29.120Z"
   },
   {
    "duration": 96,
    "start_time": "2022-07-04T13:48:41.530Z"
   },
   {
    "duration": 64,
    "start_time": "2022-07-04T13:49:01.364Z"
   },
   {
    "duration": 7,
    "start_time": "2022-07-04T13:52:10.922Z"
   },
   {
    "duration": 55,
    "start_time": "2022-07-04T13:54:19.636Z"
   },
   {
    "duration": 35,
    "start_time": "2022-07-04T13:56:18.775Z"
   },
   {
    "duration": 40,
    "start_time": "2022-07-04T13:58:37.292Z"
   },
   {
    "duration": 66,
    "start_time": "2022-07-04T13:58:54.988Z"
   },
   {
    "duration": 46,
    "start_time": "2022-07-04T13:59:01.910Z"
   },
   {
    "duration": 58,
    "start_time": "2022-07-04T14:00:04.543Z"
   },
   {
    "duration": 10,
    "start_time": "2022-07-04T14:01:30.259Z"
   },
   {
    "duration": 9,
    "start_time": "2022-07-04T14:02:17.140Z"
   },
   {
    "duration": 719,
    "start_time": "2022-07-04T14:02:30.905Z"
   },
   {
    "duration": 39,
    "start_time": "2022-07-04T14:02:43.961Z"
   },
   {
    "duration": 37,
    "start_time": "2022-07-04T14:04:19.586Z"
   },
   {
    "duration": 14,
    "start_time": "2022-07-04T14:07:52.127Z"
   },
   {
    "duration": 497,
    "start_time": "2022-07-04T14:08:42.161Z"
   },
   {
    "duration": 600,
    "start_time": "2022-07-04T14:10:16.166Z"
   },
   {
    "duration": 7,
    "start_time": "2022-07-04T14:10:35.273Z"
   },
   {
    "duration": 577,
    "start_time": "2022-07-04T14:10:37.645Z"
   },
   {
    "duration": 42,
    "start_time": "2022-07-04T14:11:10.164Z"
   },
   {
    "duration": 328,
    "start_time": "2022-07-04T14:11:15.892Z"
   },
   {
    "duration": 140,
    "start_time": "2022-07-04T14:11:16.235Z"
   },
   {
    "duration": 8,
    "start_time": "2022-07-04T14:11:16.583Z"
   },
   {
    "duration": 27,
    "start_time": "2022-07-04T14:11:16.940Z"
   },
   {
    "duration": 2,
    "start_time": "2022-07-04T14:11:17.480Z"
   },
   {
    "duration": 3,
    "start_time": "2022-07-04T14:11:18.224Z"
   },
   {
    "duration": 13,
    "start_time": "2022-07-04T14:11:18.624Z"
   },
   {
    "duration": 3,
    "start_time": "2022-07-04T14:11:19.000Z"
   },
   {
    "duration": 20,
    "start_time": "2022-07-04T14:11:19.392Z"
   },
   {
    "duration": 16,
    "start_time": "2022-07-04T14:11:19.963Z"
   },
   {
    "duration": 20,
    "start_time": "2022-07-04T14:11:20.336Z"
   },
   {
    "duration": 67,
    "start_time": "2022-07-04T14:11:20.724Z"
   },
   {
    "duration": 60,
    "start_time": "2022-07-04T14:11:21.124Z"
   },
   {
    "duration": 65,
    "start_time": "2022-07-04T14:11:21.516Z"
   },
   {
    "duration": 31,
    "start_time": "2022-07-04T14:11:22.096Z"
   },
   {
    "duration": 82,
    "start_time": "2022-07-04T14:11:23.307Z"
   },
   {
    "duration": 32,
    "start_time": "2022-07-04T14:11:24.633Z"
   },
   {
    "duration": 152,
    "start_time": "2022-07-04T14:13:40.725Z"
   },
   {
    "duration": 28,
    "start_time": "2022-07-04T14:15:39.609Z"
   },
   {
    "duration": 10,
    "start_time": "2022-07-04T14:16:06.572Z"
   },
   {
    "duration": 10,
    "start_time": "2022-07-04T14:16:25.346Z"
   },
   {
    "duration": 35,
    "start_time": "2022-07-04T14:16:50.115Z"
   },
   {
    "duration": 9,
    "start_time": "2022-07-04T14:16:54.807Z"
   },
   {
    "duration": 3,
    "start_time": "2022-07-04T14:16:57.114Z"
   },
   {
    "duration": 10,
    "start_time": "2022-07-04T14:37:30.063Z"
   },
   {
    "duration": 10,
    "start_time": "2022-07-04T14:38:09.454Z"
   },
   {
    "duration": 44,
    "start_time": "2022-07-04T14:38:26.045Z"
   },
   {
    "duration": 350,
    "start_time": "2022-07-04T14:38:32.581Z"
   },
   {
    "duration": 136,
    "start_time": "2022-07-04T14:38:32.960Z"
   },
   {
    "duration": 8,
    "start_time": "2022-07-04T14:38:33.337Z"
   },
   {
    "duration": 24,
    "start_time": "2022-07-04T14:38:33.817Z"
   },
   {
    "duration": 3,
    "start_time": "2022-07-04T14:38:34.589Z"
   },
   {
    "duration": 3,
    "start_time": "2022-07-04T14:38:35.764Z"
   },
   {
    "duration": 12,
    "start_time": "2022-07-04T14:38:36.465Z"
   },
   {
    "duration": 3,
    "start_time": "2022-07-04T14:38:36.939Z"
   },
   {
    "duration": 21,
    "start_time": "2022-07-04T14:38:37.338Z"
   },
   {
    "duration": 17,
    "start_time": "2022-07-04T14:38:38.096Z"
   },
   {
    "duration": 21,
    "start_time": "2022-07-04T14:38:38.857Z"
   },
   {
    "duration": 61,
    "start_time": "2022-07-04T14:38:39.593Z"
   },
   {
    "duration": 76,
    "start_time": "2022-07-04T14:38:40.741Z"
   },
   {
    "duration": 58,
    "start_time": "2022-07-04T14:38:41.856Z"
   },
   {
    "duration": 33,
    "start_time": "2022-07-04T14:38:44.193Z"
   },
   {
    "duration": 70,
    "start_time": "2022-07-04T14:38:45.360Z"
   },
   {
    "duration": 34,
    "start_time": "2022-07-04T14:38:46.948Z"
   },
   {
    "duration": 3,
    "start_time": "2022-07-04T14:38:49.705Z"
   },
   {
    "duration": 26,
    "start_time": "2022-07-04T14:38:59.146Z"
   },
   {
    "duration": 48,
    "start_time": "2022-07-04T14:40:08.705Z"
   },
   {
    "duration": 28,
    "start_time": "2022-07-04T14:40:21.968Z"
   },
   {
    "duration": 28,
    "start_time": "2022-07-04T14:40:26.704Z"
   },
   {
    "duration": 31,
    "start_time": "2022-07-04T14:40:51.450Z"
   },
   {
    "duration": 11,
    "start_time": "2022-07-04T14:41:22.243Z"
   },
   {
    "duration": 11,
    "start_time": "2022-07-04T14:42:52.093Z"
   },
   {
    "duration": 3,
    "start_time": "2022-07-04T14:47:30.177Z"
   },
   {
    "duration": 3,
    "start_time": "2022-07-04T14:48:23.773Z"
   },
   {
    "duration": 3,
    "start_time": "2022-07-04T14:49:53.757Z"
   },
   {
    "duration": 3,
    "start_time": "2022-07-04T14:50:06.953Z"
   },
   {
    "duration": 50,
    "start_time": "2022-07-04T14:50:50.072Z"
   },
   {
    "duration": 15,
    "start_time": "2022-07-04T14:51:14.176Z"
   },
   {
    "duration": 48,
    "start_time": "2022-07-04T14:53:53.632Z"
   },
   {
    "duration": 45,
    "start_time": "2022-07-04T14:53:59.159Z"
   },
   {
    "duration": 70,
    "start_time": "2022-07-04T14:53:59.787Z"
   },
   {
    "duration": 72,
    "start_time": "2022-07-04T14:54:00.343Z"
   },
   {
    "duration": 55,
    "start_time": "2022-07-04T14:54:00.732Z"
   },
   {
    "duration": 52,
    "start_time": "2022-07-04T14:54:01.119Z"
   },
   {
    "duration": 15,
    "start_time": "2022-07-04T14:54:48.659Z"
   },
   {
    "duration": 13,
    "start_time": "2022-07-04T14:54:49.414Z"
   },
   {
    "duration": 14,
    "start_time": "2022-07-04T14:54:49.895Z"
   },
   {
    "duration": 12,
    "start_time": "2022-07-04T14:54:50.275Z"
   },
   {
    "duration": 23,
    "start_time": "2022-07-04T14:54:50.676Z"
   },
   {
    "duration": 17,
    "start_time": "2022-07-04T14:54:51.524Z"
   },
   {
    "duration": 17,
    "start_time": "2022-07-04T14:58:13.675Z"
   },
   {
    "duration": 8,
    "start_time": "2022-07-04T14:59:09.388Z"
   },
   {
    "duration": 49,
    "start_time": "2022-07-04T15:02:18.603Z"
   },
   {
    "duration": 10,
    "start_time": "2022-07-04T15:02:40.475Z"
   },
   {
    "duration": 12,
    "start_time": "2022-07-04T15:02:53.055Z"
   },
   {
    "duration": 8,
    "start_time": "2022-07-04T15:03:56.379Z"
   },
   {
    "duration": 10,
    "start_time": "2022-07-04T15:04:08.767Z"
   },
   {
    "duration": 7,
    "start_time": "2022-07-04T15:04:29.043Z"
   },
   {
    "duration": 45,
    "start_time": "2022-07-04T15:04:43.473Z"
   },
   {
    "duration": 6,
    "start_time": "2022-07-04T15:04:56.489Z"
   },
   {
    "duration": 6,
    "start_time": "2022-07-04T15:04:57.762Z"
   },
   {
    "duration": 6,
    "start_time": "2022-07-04T15:05:04.946Z"
   },
   {
    "duration": 368,
    "start_time": "2022-07-04T15:05:10.756Z"
   },
   {
    "duration": 138,
    "start_time": "2022-07-04T15:05:11.126Z"
   },
   {
    "duration": 10,
    "start_time": "2022-07-04T15:05:11.324Z"
   },
   {
    "duration": 39,
    "start_time": "2022-07-04T15:05:11.626Z"
   },
   {
    "duration": 2,
    "start_time": "2022-07-04T15:05:12.089Z"
   },
   {
    "duration": 3,
    "start_time": "2022-07-04T15:05:12.729Z"
   },
   {
    "duration": 15,
    "start_time": "2022-07-04T15:05:13.057Z"
   },
   {
    "duration": 4,
    "start_time": "2022-07-04T15:05:13.384Z"
   },
   {
    "duration": 21,
    "start_time": "2022-07-04T15:05:13.705Z"
   },
   {
    "duration": 19,
    "start_time": "2022-07-04T15:05:14.174Z"
   },
   {
    "duration": 27,
    "start_time": "2022-07-04T15:05:14.490Z"
   },
   {
    "duration": 61,
    "start_time": "2022-07-04T15:05:14.809Z"
   },
   {
    "duration": 66,
    "start_time": "2022-07-04T15:05:15.117Z"
   },
   {
    "duration": 57,
    "start_time": "2022-07-04T15:05:15.438Z"
   },
   {
    "duration": 32,
    "start_time": "2022-07-04T15:05:15.946Z"
   },
   {
    "duration": 79,
    "start_time": "2022-07-04T15:05:16.278Z"
   },
   {
    "duration": 33,
    "start_time": "2022-07-04T15:05:16.618Z"
   },
   {
    "duration": 12,
    "start_time": "2022-07-04T15:05:17.613Z"
   },
   {
    "duration": 11,
    "start_time": "2022-07-04T15:05:18.021Z"
   },
   {
    "duration": 3,
    "start_time": "2022-07-04T15:05:19.045Z"
   },
   {
    "duration": 15,
    "start_time": "2022-07-04T15:05:19.861Z"
   },
   {
    "duration": 15,
    "start_time": "2022-07-04T15:05:20.273Z"
   },
   {
    "duration": 15,
    "start_time": "2022-07-04T15:05:20.460Z"
   },
   {
    "duration": 14,
    "start_time": "2022-07-04T15:05:20.654Z"
   },
   {
    "duration": 24,
    "start_time": "2022-07-04T15:05:21.014Z"
   },
   {
    "duration": 14,
    "start_time": "2022-07-04T15:05:21.713Z"
   },
   {
    "duration": 28,
    "start_time": "2022-07-04T15:05:22.537Z"
   },
   {
    "duration": 6,
    "start_time": "2022-07-04T15:08:43.766Z"
   },
   {
    "duration": 15,
    "start_time": "2022-07-04T15:10:49.582Z"
   },
   {
    "duration": 17,
    "start_time": "2022-07-04T15:10:58.234Z"
   },
   {
    "duration": 9,
    "start_time": "2022-07-04T15:11:25.749Z"
   },
   {
    "duration": 5,
    "start_time": "2022-07-04T15:18:58.810Z"
   },
   {
    "duration": 4,
    "start_time": "2022-07-04T15:22:26.860Z"
   },
   {
    "duration": 7,
    "start_time": "2022-07-04T15:24:23.606Z"
   },
   {
    "duration": 10,
    "start_time": "2022-07-04T15:24:31.499Z"
   },
   {
    "duration": 11,
    "start_time": "2022-07-04T15:24:38.882Z"
   },
   {
    "duration": 11,
    "start_time": "2022-07-04T15:24:39.278Z"
   },
   {
    "duration": 4,
    "start_time": "2022-07-04T15:24:41.154Z"
   },
   {
    "duration": 20,
    "start_time": "2022-07-04T15:24:41.954Z"
   },
   {
    "duration": 11,
    "start_time": "2022-07-04T15:24:43.170Z"
   },
   {
    "duration": 20,
    "start_time": "2022-07-04T15:24:43.761Z"
   },
   {
    "duration": 18,
    "start_time": "2022-07-04T15:24:44.269Z"
   },
   {
    "duration": 5,
    "start_time": "2022-07-04T15:29:21.965Z"
   },
   {
    "duration": 8,
    "start_time": "2022-07-04T15:31:51.911Z"
   },
   {
    "duration": 11,
    "start_time": "2022-07-04T15:33:10.365Z"
   },
   {
    "duration": 8,
    "start_time": "2022-07-04T15:33:23.601Z"
   },
   {
    "duration": 8,
    "start_time": "2022-07-04T15:33:51.693Z"
   },
   {
    "duration": 9,
    "start_time": "2022-07-04T15:34:35.716Z"
   },
   {
    "duration": 8,
    "start_time": "2022-07-04T15:35:14.725Z"
   },
   {
    "duration": 4,
    "start_time": "2022-07-04T15:35:35.770Z"
   },
   {
    "duration": 7,
    "start_time": "2022-07-04T15:36:24.685Z"
   },
   {
    "duration": 6,
    "start_time": "2022-07-04T15:36:57.301Z"
   },
   {
    "duration": 7,
    "start_time": "2022-07-04T15:37:04.213Z"
   },
   {
    "duration": 5,
    "start_time": "2022-07-04T15:37:09.741Z"
   },
   {
    "duration": 6,
    "start_time": "2022-07-04T15:37:11.669Z"
   }
  ],
  "celltoolbar": "Edit Metadata",
  "colab": {
   "collapsed_sections": [
    "E0vqbgi9ay0H",
    "VUC88oWjTJw2"
   ],
   "name": "automatization_template_upd4.ipynb",
   "provenance": []
  },
  "kernelspec": {
   "display_name": "Python 3 (ipykernel)",
   "language": "python",
   "name": "python3"
  },
  "language_info": {
   "codemirror_mode": {
    "name": "ipython",
    "version": 3
   },
   "file_extension": ".py",
   "mimetype": "text/x-python",
   "name": "python",
   "nbconvert_exporter": "python",
   "pygments_lexer": "ipython3",
   "version": "3.9.12"
  },
  "toc": {
   "base_numbering": 1,
   "nav_menu": {
    "height": "215px",
    "width": "403px"
   },
   "number_sections": true,
   "sideBar": true,
   "skip_h1_title": true,
   "title_cell": "Table of Contents",
   "title_sidebar": "Contents",
   "toc_cell": false,
   "toc_position": {
    "height": "calc(100% - 180px)",
    "left": "10px",
    "top": "150px",
    "width": "285.825px"
   },
   "toc_section_display": true,
   "toc_window_display": false
  }
 },
 "nbformat": 4,
 "nbformat_minor": 1
}
