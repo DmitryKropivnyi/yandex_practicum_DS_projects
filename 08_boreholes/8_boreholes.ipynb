{
 "cells": [
  {
   "cell_type": "markdown",
   "metadata": {},
   "source": [
    "# Выбор локации для скважины"
   ]
  },
  {
   "cell_type": "markdown",
   "metadata": {},
   "source": [
    "Допустим, мы работаете в добывающей компании «ГлавРосГосНефть». Нужно решить, где бурить новую скважину.\n",
    "\n",
    "Нам предоставлены пробы нефти в трёх регионах: в каждом 10 000 месторождений, где измерили качество нефти и объём её запасов. Построим модель машинного обучения, которая поможет определить регион, где добыча принесёт наибольшую прибыль. Проанализируйте возможную прибыль и риски техникой *Bootstrap.*\n",
    "\n",
    "Шаги для выбора локации:\n",
    "\n",
    "- В избранном регионе ищут месторождения, для каждого определяют значения признаков;\n",
    "- Строят модель и оценивают объём запасов;\n",
    "- Выбирают месторождения с самым высокими оценками значений. Количество месторождений зависит от бюджета компании и стоимости разработки одной скважины;\n",
    "- Прибыль равна суммарной прибыли отобранных месторождений."
   ]
  },
  {
   "cell_type": "markdown",
   "metadata": {},
   "source": [
    "## Загрузка и подготовка данных"
   ]
  },
  {
   "cell_type": "code",
   "execution_count": 1,
   "metadata": {},
   "outputs": [],
   "source": [
    "import pandas as pd\n",
    "import seaborn as sns\n",
    "import warnings\n",
    "from IPython.display import display, HTML\n",
    "import matplotlib.pyplot as plt\n",
    "import numpy as np\n",
    "from scipy import stats as st\n",
    "\n",
    "from sklearn.model_selection import train_test_split\n",
    "from sklearn.linear_model import LinearRegression\n",
    "from sklearn.metrics import mean_squared_error\n",
    "\n",
    "# Доход за тысячу бареллей\n",
    "INCOME = 450000\n",
    "# Число необходимых скважин\n",
    "WELLS = 200\n",
    "# значение random_state\n",
    "RS = 12345\n",
    "# Бюджет \n",
    "BUDGET = 10_000_000_000"
   ]
  },
  {
   "cell_type": "code",
   "execution_count": 2,
   "metadata": {},
   "outputs": [
    {
     "data": {
      "text/html": [
       "<style>.container { width:70% !important; <style>}"
      ],
      "text/plain": [
       "<IPython.core.display.HTML object>"
      ]
     },
     "metadata": {},
     "output_type": "display_data"
    }
   ],
   "source": [
    "display(HTML(\"<style>.container { width:70% !important; <style>}\"))\n",
    "pd.set_option('display.max_columns', None)\n",
    "pd.set_option('display.max_rows', None)\n",
    "warnings.filterwarnings(\"ignore\")"
   ]
  },
  {
   "cell_type": "code",
   "execution_count": 3,
   "metadata": {},
   "outputs": [],
   "source": [
    "try:\n",
    "    df_1 = pd.read_csv('E:/BuduBogatym/geo_data_0.csv')\n",
    "    df_2 = pd.read_csv('E:/BuduBogatym/geo_data_1.csv')\n",
    "    df_3 = pd.read_csv('E:/BuduBogatym/geo_data_2.csv')\n",
    "except:\n",
    "    df_1 = pd.read_csv(\n",
    "        'https://code.s3.yandex.net/datasets/geo_data_0.csv')\n",
    "    df_2 = pd.read_csv(\n",
    "        'https://code.s3.yandex.net/datasets/geo_data_1.csv')\n",
    "    df_3 = pd.read_csv(\n",
    "        'https://code.s3.yandex.net/datasets/geo_data_2.csv')"
   ]
  },
  {
   "cell_type": "code",
   "execution_count": 4,
   "metadata": {
    "scrolled": false
   },
   "outputs": [
    {
     "name": "stdout",
     "output_type": "stream",
     "text": [
      "<class 'pandas.core.frame.DataFrame'>\n",
      "RangeIndex: 100000 entries, 0 to 99999\n",
      "Data columns (total 5 columns):\n",
      " #   Column   Non-Null Count   Dtype  \n",
      "---  ------   --------------   -----  \n",
      " 0   id       100000 non-null  object \n",
      " 1   f0       100000 non-null  float64\n",
      " 2   f1       100000 non-null  float64\n",
      " 3   f2       100000 non-null  float64\n",
      " 4   product  100000 non-null  float64\n",
      "dtypes: float64(4), object(1)\n",
      "memory usage: 3.8+ MB\n",
      "<class 'pandas.core.frame.DataFrame'>\n",
      "RangeIndex: 100000 entries, 0 to 99999\n",
      "Data columns (total 5 columns):\n",
      " #   Column   Non-Null Count   Dtype  \n",
      "---  ------   --------------   -----  \n",
      " 0   id       100000 non-null  object \n",
      " 1   f0       100000 non-null  float64\n",
      " 2   f1       100000 non-null  float64\n",
      " 3   f2       100000 non-null  float64\n",
      " 4   product  100000 non-null  float64\n",
      "dtypes: float64(4), object(1)\n",
      "memory usage: 3.8+ MB\n",
      "<class 'pandas.core.frame.DataFrame'>\n",
      "RangeIndex: 100000 entries, 0 to 99999\n",
      "Data columns (total 5 columns):\n",
      " #   Column   Non-Null Count   Dtype  \n",
      "---  ------   --------------   -----  \n",
      " 0   id       100000 non-null  object \n",
      " 1   f0       100000 non-null  float64\n",
      " 2   f1       100000 non-null  float64\n",
      " 3   f2       100000 non-null  float64\n",
      " 4   product  100000 non-null  float64\n",
      "dtypes: float64(4), object(1)\n",
      "memory usage: 3.8+ MB\n"
     ]
    }
   ],
   "source": [
    "df_1.info()\n",
    "df_2.info()\n",
    "df_3.info()"
   ]
  },
  {
   "cell_type": "markdown",
   "metadata": {},
   "source": [
    "Во всех датасетах отсутствуют пропущенные значения, а также корректны типы данных в столбцах."
   ]
  },
  {
   "cell_type": "code",
   "execution_count": 5,
   "metadata": {
    "scrolled": true
   },
   "outputs": [
    {
     "name": "stdout",
     "output_type": "stream",
     "text": [
      "Дубликатов в 1 датасете 10\n",
      "Дубликатов в 2 датасете 4\n",
      "Дубликатов в 3 датасете 4\n"
     ]
    }
   ],
   "source": [
    "print('Дубликатов в 1 датасете',df_1['id'].duplicated().sum())\n",
    "print('Дубликатов в 2 датасете',df_2['id'].duplicated().sum())\n",
    "print('Дубликатов в 3 датасете',df_3['id'].duplicated().sum())\n"
   ]
  },
  {
   "cell_type": "markdown",
   "metadata": {},
   "source": [
    "Так как дубликатов не так много, то я предлагаю избавиться от них"
   ]
  },
  {
   "cell_type": "code",
   "execution_count": 6,
   "metadata": {},
   "outputs": [],
   "source": [
    "# избавимся от дубликатов\n",
    "df_1.drop_duplicates(subset = 'id',inplace=True)\n",
    "df_2.drop_duplicates(subset = 'id',inplace=True)\n",
    "df_3.drop_duplicates(subset = 'id',inplace=True)\n"
   ]
  },
  {
   "cell_type": "code",
   "execution_count": 7,
   "metadata": {
    "scrolled": true
   },
   "outputs": [
    {
     "name": "stdout",
     "output_type": "stream",
     "text": [
      "Дубликатов в 1 датасете 0\n",
      "Дубликатов в 2 датасете 0\n",
      "Дубликатов в 3 датасете 0\n"
     ]
    }
   ],
   "source": [
    "print('Дубликатов в 1 датасете',df_1['id'].duplicated().sum())\n",
    "print('Дубликатов в 2 датасете',df_2['id'].duplicated().sum())\n",
    "print('Дубликатов в 3 датасете',df_3['id'].duplicated().sum())"
   ]
  },
  {
   "cell_type": "markdown",
   "metadata": {},
   "source": [
    "## Обучение и проверка модели"
   ]
  },
  {
   "cell_type": "code",
   "execution_count": 8,
   "metadata": {},
   "outputs": [],
   "source": [
    "features_df1 = df_1.drop(['product','id'], axis=1)\n",
    "features_df2 = df_2.drop(['product','id'], axis=1)\n",
    "features_df3 = df_3.drop(['product','id'], axis=1)\n",
    "target_df1 = df_1['product']\n",
    "target_df2 = df_2['product']\n",
    "target_df3 = df_3['product']"
   ]
  },
  {
   "cell_type": "code",
   "execution_count": 9,
   "metadata": {},
   "outputs": [],
   "source": [
    "def split_data(features,target):\n",
    "    train_features, valid_features, train_target, valid_target = train_test_split(\n",
    "        features, target, test_size=0.25, random_state = RS)\n",
    "    return train_features, valid_features, train_target, valid_target"
   ]
  },
  {
   "cell_type": "markdown",
   "metadata": {},
   "source": [
    "### Обучение модели на 1 датасете"
   ]
  },
  {
   "cell_type": "code",
   "execution_count": 10,
   "metadata": {
    "scrolled": true
   },
   "outputs": [
    {
     "name": "stdout",
     "output_type": "stream",
     "text": [
      "CPU times: total: 0 ns\n",
      "Wall time: 0 ns\n",
      "(74992, 3)\n",
      "(24998, 3)\n",
      "(74992,)\n",
      "(24998,)\n"
     ]
    }
   ],
   "source": [
    "# Обучим модель линейной регрессии на 1 датасете\n",
    "%time\n",
    "train_features_df1, valid_features_df1, train_target_df1, valid_target_df1 = split_data(features_df1, target_df1)\n",
    "\n",
    "# Проверим размерность выборок\n",
    "print(train_features_df1.shape)\n",
    "print(valid_features_df1.shape)\n",
    "print(train_target_df1.shape)\n",
    "print(valid_target_df1.shape)\n",
    "\n",
    "model_df1 = LinearRegression()\n",
    "model_df1.fit(train_features_df1,train_target_df1)\n",
    "predictions_valid_df1 = model_df1.predict(valid_features_df1)"
   ]
  },
  {
   "cell_type": "markdown",
   "metadata": {},
   "source": [
    "Рассчитаем RMSE и средний запас предсказанного сырья"
   ]
  },
  {
   "cell_type": "code",
   "execution_count": 11,
   "metadata": {},
   "outputs": [
    {
     "name": "stdout",
     "output_type": "stream",
     "text": [
      "RMSE модели линейной регрессии на валидационной выборке первой модели: 37.853527328872964\n",
      "Средний запас предсказанного сырье на 1 модели 92.78915638280621\n"
     ]
    }
   ],
   "source": [
    "# Посчитаем средний запас предсказанного сырья\n",
    "mean_df1 = predictions_valid_df1.mean()\n",
    "# посчитаем значение метрики RMSE на валидационной выборке\n",
    "rmse_df1 = mean_squared_error(valid_target_df1,predictions_valid_df1)**0.5# посчитайте значение метрики RMSE на валидационной выборке\n",
    "\n",
    "print(\"RMSE модели линейной регрессии на валидационной выборке первой модели:\", rmse_df1)\n",
    "print('Средний запас предсказанного сырье на 1 модели', mean_df1)"
   ]
  },
  {
   "cell_type": "markdown",
   "metadata": {},
   "source": [
    "### Обучение модели на 2 датасете"
   ]
  },
  {
   "cell_type": "code",
   "execution_count": 12,
   "metadata": {},
   "outputs": [
    {
     "name": "stdout",
     "output_type": "stream",
     "text": [
      "CPU times: total: 0 ns\n",
      "Wall time: 0 ns\n",
      "(74997, 3)\n",
      "(24999, 3)\n",
      "(74997,)\n",
      "(24999,)\n"
     ]
    }
   ],
   "source": [
    "# Обучим модель линейной регрессии на 2 датасете\n",
    "%time\n",
    "train_features_df2, valid_features_df2, train_target_df2, valid_target_df2 = split_data(features_df2, target_df2)\n",
    "\n",
    "# Проверим размерность выборок\n",
    "print(train_features_df2.shape)\n",
    "print(valid_features_df2.shape)\n",
    "print(train_target_df2.shape)\n",
    "print(valid_target_df2.shape)\n",
    "\n",
    "model_df2 = LinearRegression()\n",
    "model_df2.fit(train_features_df2,train_target_df2)\n",
    "predictions_valid_df2 = model_df2.predict(valid_features_df2)"
   ]
  },
  {
   "cell_type": "markdown",
   "metadata": {},
   "source": [
    "Рассчитаем RMSE и средний запас предсказанного сырья"
   ]
  },
  {
   "cell_type": "code",
   "execution_count": 13,
   "metadata": {},
   "outputs": [
    {
     "name": "stdout",
     "output_type": "stream",
     "text": [
      "RMSE модели линейной регрессии на валидационной выборке второй модели: 0.8920592647717028\n",
      "Средний запас предсказанного сырье на второй модели 69.1783195703043\n"
     ]
    }
   ],
   "source": [
    "# Посчитаем средний запас предсказанного сырья\n",
    "mean_df2 = predictions_valid_df2.mean()\n",
    "# посчитаем значение метрики RMSE на валидационной выборке\n",
    "rmse_df2 = mean_squared_error(valid_target_df2,predictions_valid_df2)**0.5\n",
    "\n",
    "print(\"RMSE модели линейной регрессии на валидационной выборке второй модели:\", rmse_df2)\n",
    "print('Средний запас предсказанного сырье на второй модели', mean_df2)"
   ]
  },
  {
   "cell_type": "markdown",
   "metadata": {},
   "source": [
    "### Обучение модели на 3 датасете"
   ]
  },
  {
   "cell_type": "code",
   "execution_count": 14,
   "metadata": {},
   "outputs": [
    {
     "name": "stdout",
     "output_type": "stream",
     "text": [
      "CPU times: total: 0 ns\n",
      "Wall time: 0 ns\n",
      "(74997, 3)\n",
      "(24999, 3)\n",
      "(74997,)\n",
      "(24999,)\n"
     ]
    }
   ],
   "source": [
    "# Обучим модель линейной регрессии на 3 датасете\n",
    "%time\n",
    "train_features_df3, valid_features_df3, train_target_df3, valid_target_df3 = split_data(features_df3, target_df3)\n",
    "\n",
    "# Проверим размерность выборок\n",
    "print(train_features_df3.shape)\n",
    "print(valid_features_df3.shape)\n",
    "print(train_target_df3.shape)\n",
    "print(valid_target_df3.shape)\n",
    "\n",
    "model_df3 = LinearRegression()\n",
    "model_df3.fit(train_features_df3,train_target_df3)\n",
    "predictions_valid_df3 = model_df3.predict(valid_features_df3)"
   ]
  },
  {
   "cell_type": "markdown",
   "metadata": {},
   "source": [
    "Рассчитаем RMSE и средний запас предсказанного сырья"
   ]
  },
  {
   "cell_type": "code",
   "execution_count": 15,
   "metadata": {
    "scrolled": true
   },
   "outputs": [
    {
     "name": "stdout",
     "output_type": "stream",
     "text": [
      "RMSE модели линейной регрессии на валидационной выборке третьей модели: 40.07585073246016\n",
      "Средний запас предсказанного сырье на третьей модели 94.86572480562035\n"
     ]
    }
   ],
   "source": [
    "# Посчитаем средний запас предсказанного сырья\n",
    "mean_df3 = predictions_valid_df3.mean()\n",
    "# посчитаем значение метрики RMSE на валидационной выборке\n",
    "rmse_df3 = mean_squared_error(valid_target_df3,predictions_valid_df3)**0.5\n",
    "\n",
    "print(\"RMSE модели линейной регрессии на валидационной выборке третьей модели:\", rmse_df3)\n",
    "print('Средний запас предсказанного сырье на третьей модели', mean_df3)"
   ]
  },
  {
   "cell_type": "markdown",
   "metadata": {},
   "source": [
    "Согласно полученному результату можно сделать выбор в пользу модели по второму датасету, так как используемая нами метрика RMSE имеет отличный показатель чуть меньше 1.\n",
    "Однако остальные две модели имеют больший средний запас, но это не так важно, так как RMSE отражает сумму квадратов ошибок, а показатели этих моделей по метрике RMSE крайне плохие."
   ]
  },
  {
   "cell_type": "markdown",
   "metadata": {},
   "source": [
    "## Подготовка к расчёту прибыли"
   ]
  },
  {
   "cell_type": "markdown",
   "metadata": {},
   "source": [
    "Рассчитаем достаточный объём сырья для безубыточной разработки новой скважины и сравним эти значения со средним запасом в каждом регионе"
   ]
  },
  {
   "cell_type": "code",
   "execution_count": 16,
   "metadata": {},
   "outputs": [
    {
     "name": "stdout",
     "output_type": "stream",
     "text": [
      "Достаточный объём сырья для безубыточной разработки новой скважины: 111.11111111111111\n",
      "True\n",
      "True\n",
      "True\n"
     ]
    }
   ],
   "source": [
    "# Расчёт объёма сырья для безубыточной разработки новой скважины\n",
    "stock = BUDGET / (WELLS * INCOME)\n",
    "print('Достаточный объём сырья для безубыточной разработки новой скважины:', stock)\n",
    "# Сравнение необходимых значений друг с другом\n",
    "for i in [df_1, df_2, df_3]:\n",
    "    print(stock > i['product'].mean())"
   ]
  },
  {
   "cell_type": "markdown",
   "metadata": {},
   "source": [
    "По полученным результатам можно сделать вывод о том, что больше половины скавжин в каждом регионе не будет подходить для нашей задачи"
   ]
  },
  {
   "cell_type": "markdown",
   "metadata": {},
   "source": [
    "## Расчёт прибыли и рисков "
   ]
  },
  {
   "cell_type": "code",
   "execution_count": 17,
   "metadata": {},
   "outputs": [],
   "source": [
    "predictions_valid_df1 = pd.Series(predictions_valid_df1)\n",
    "predictions_valid_df2 = pd.Series(predictions_valid_df2)\n",
    "predictions_valid_df3 = pd.Series(predictions_valid_df3)"
   ]
  },
  {
   "cell_type": "code",
   "execution_count": 18,
   "metadata": {
    "scrolled": true
   },
   "outputs": [],
   "source": [
    "# Функция расчёта прибыли по выбранным скважинам\n",
    "def revenue(target, predictions, count):\n",
    "    best_index = predictions.sort_values(ascending=False)[\n",
    "        :count].index.values\n",
    "    selected = target.iloc[best_index]\n",
    "    return INCOME * selected.sum() - BUDGET"
   ]
  },
  {
   "cell_type": "code",
   "execution_count": 19,
   "metadata": {
    "scrolled": false
   },
   "outputs": [
    {
     "name": "stdout",
     "output_type": "stream",
     "text": [
      "Прибыль первого региона: 3.37 млрд. руб.\n"
     ]
    }
   ],
   "source": [
    "print('Прибыль первого региона:', round((revenue(valid_target_df1, predictions_valid_df1, 200)/10**9),2), 'млрд. руб.')"
   ]
  },
  {
   "cell_type": "code",
   "execution_count": 20,
   "metadata": {},
   "outputs": [
    {
     "name": "stdout",
     "output_type": "stream",
     "text": [
      "Прибыль второго региона: 2.42 млрд. руб.\n"
     ]
    }
   ],
   "source": [
    "print('Прибыль второго региона:', round((revenue(valid_target_df2, predictions_valid_df2, 200)/10**9),2), 'млрд. руб.')"
   ]
  },
  {
   "cell_type": "code",
   "execution_count": 21,
   "metadata": {},
   "outputs": [
    {
     "name": "stdout",
     "output_type": "stream",
     "text": [
      "Прибыль третьего региона: 2.5 млрд. руб.\n"
     ]
    }
   ],
   "source": [
    "print('Прибыль третьего региона:', round((revenue(valid_target_df3, predictions_valid_df3, 200)/10**9),2), 'млрд. руб.')"
   ]
  },
  {
   "cell_type": "markdown",
   "metadata": {},
   "source": [
    "Далее с помощью бустрепа рассчитаем доверительный интервал, среднюю выручку и риск убытков."
   ]
  },
  {
   "cell_type": "markdown",
   "metadata": {},
   "source": [
    "### Расчёт первого региона"
   ]
  },
  {
   "cell_type": "code",
   "execution_count": 22,
   "metadata": {},
   "outputs": [],
   "source": [
    "state = np.random.RandomState(RS)\n",
    "\n",
    "valid_target_df1.reset_index(drop = 'first')\n",
    "\n",
    "values = []\n",
    "# Бустреп модели \n",
    "for i in range(1000):\n",
    "    predict_subsample = predictions_valid_df1.sample(n=500, replace=True, random_state=state)\n",
    "    predict_subsample = pd.Series(predict_subsample.sort_values(ascending=False)[:WELLS].index.values)\n",
    "    target_subsample = valid_target_df1.iloc[predict_subsample] \n",
    "\n",
    "    values.append(revenue(target_subsample, predict_subsample, WELLS))"
   ]
  },
  {
   "cell_type": "code",
   "execution_count": 23,
   "metadata": {
    "scrolled": true
   },
   "outputs": [
    {
     "name": "stdout",
     "output_type": "stream",
     "text": [
      "Доверительный интервал (364560620.98509455, 396666319.05010056)\n",
      "Средняя выручка: 380613470.01759756\n",
      "Риск убытков: 7.7 %\n"
     ]
    }
   ],
   "source": [
    "# Расчёт необходимых параметров\n",
    "values = pd.Series(values)\n",
    "mean = values.mean()\n",
    "\n",
    "confidence_interval = st.t.interval(0.95 , values.count()-1 ,values.mean() , values.sem())\n",
    "risk = (values < 0).mean()\n",
    " \n",
    "\n",
    "print('Доверительный интервал', confidence_interval)\n",
    "print(\"Средняя выручка:\", mean)\n",
    "print(\"Риск убытков:\", risk*100,'%')"
   ]
  },
  {
   "cell_type": "markdown",
   "metadata": {},
   "source": [
    "### Расчёт второго региона"
   ]
  },
  {
   "cell_type": "code",
   "execution_count": 24,
   "metadata": {},
   "outputs": [],
   "source": [
    "valid_target_df2.reset_index(drop = 'first')\n",
    "\n",
    "values = []\n",
    " \n",
    "for i in range(1000):\n",
    "    predict_subsample = predictions_valid_df2.sample(n=500, replace=True, random_state=state)\n",
    "    predict_subsample = pd.Series(predict_subsample.sort_values(ascending=False)[:WELLS].index.values)\n",
    "    target_subsample = valid_target_df2.iloc[predict_subsample] \n",
    "\n",
    "    values.append(revenue(target_subsample, predict_subsample, WELLS))"
   ]
  },
  {
   "cell_type": "code",
   "execution_count": 25,
   "metadata": {},
   "outputs": [
    {
     "name": "stdout",
     "output_type": "stream",
     "text": [
      "Доверительный интервал (466404387.9390931, 491915352.0240818)\n",
      "Средняя выручка: 479159869.98158747\n",
      "Риск убытков: 0.6 %\n"
     ]
    }
   ],
   "source": [
    "values = pd.Series(values)\n",
    "\n",
    "mean = values.mean()\n",
    "\n",
    "confidence_interval = st.t.interval(0.95 , values.count()-1 ,values.mean() , values.sem())\n",
    "risk = (values < 0).mean()\n",
    " \n",
    "\n",
    "print('Доверительный интервал', confidence_interval)\n",
    "print(\"Средняя выручка:\", mean)\n",
    "print(\"Риск убытков:\", risk*100,'%')"
   ]
  },
  {
   "cell_type": "markdown",
   "metadata": {},
   "source": [
    "### Расчёт третьего региона"
   ]
  },
  {
   "cell_type": "code",
   "execution_count": 26,
   "metadata": {},
   "outputs": [],
   "source": [
    "valid_target_df3.reset_index(drop = 'first')\n",
    "\n",
    "values = []\n",
    " \n",
    "for i in range(1000):\n",
    "    predict_subsample = predictions_valid_df3.sample(n=500, replace=True, random_state=state)\n",
    "    predict_subsample = pd.Series(predict_subsample.sort_values(ascending=False)[:WELLS].index.values)\n",
    "    target_subsample = valid_target_df3.iloc[predict_subsample] \n",
    "\n",
    "    values.append(revenue(target_subsample, predict_subsample, WELLS))"
   ]
  },
  {
   "cell_type": "code",
   "execution_count": 27,
   "metadata": {
    "scrolled": false
   },
   "outputs": [
    {
     "name": "stdout",
     "output_type": "stream",
     "text": [
      "Доверительный интервал (298798348.57535076, 332085483.471629)\n",
      "Средняя выручка: 315441916.0234899\n",
      "Риск убытков: 12.4 %\n"
     ]
    }
   ],
   "source": [
    "values = pd.Series(values)\n",
    "\n",
    "mean = values.mean()\n",
    "\n",
    "confidence_interval = st.t.interval(0.95 , values.count()-1 ,values.mean() , values.sem())\n",
    "risk = (values < 0).mean()\n",
    " \n",
    "\n",
    "print('Доверительный интервал', confidence_interval)\n",
    "print(\"Средняя выручка:\", mean)\n",
    "print(\"Риск убытков:\", risk*100,'%')"
   ]
  },
  {
   "cell_type": "markdown",
   "metadata": {},
   "source": [
    "## Вывод:\n",
    "---\n",
    "   * В ходе работы на основе трёх регионов были построены модели и произведена оценка метрики RMSE, согласно которой лучшим показателем обладает второй регион.\n",
    "   ---\n",
    "   * Разработана функция определения прибыли для каждого региона, результат использования которой представлен ниже:\n",
    "       * Прибыль первого региона: 3.37 млрд. руб.\n",
    "       * Прибыль второго региона: 2.42 млрд. руб.\n",
    "       * Прибыль третьего региона: 2.5 млрд. руб.\n",
    "       ---\n",
    "   * Произведён расчёт рисков по каждому региону со следующими результатами:\n",
    "       * Риск убытков первого региона: 7.7 %\n",
    "       * Риск убытков второго региона: 0.6 %\n",
    "       * Риск убытков третьего региона: 12.4 %\n",
    "       ---\n",
    "По итогам исследования можно дать рекомендации о выборе второго региона, не смотря на то, что прибыль его не самая высокая, но риск убытков вписывается в необходимые 2,5%"
   ]
  },
  {
   "cell_type": "code",
   "execution_count": null,
   "metadata": {},
   "outputs": [],
   "source": []
  }
 ],
 "metadata": {
  "kernelspec": {
   "display_name": "Python 3 (ipykernel)",
   "language": "python",
   "name": "python3"
  },
  "language_info": {
   "codemirror_mode": {
    "name": "ipython",
    "version": 3
   },
   "file_extension": ".py",
   "mimetype": "text/x-python",
   "name": "python",
   "nbconvert_exporter": "python",
   "pygments_lexer": "ipython3",
   "version": "3.9.12"
  },
  "toc": {
   "base_numbering": 1,
   "nav_menu": {},
   "number_sections": true,
   "sideBar": true,
   "skip_h1_title": true,
   "title_cell": "Table of Contents",
   "title_sidebar": "Contents",
   "toc_cell": false,
   "toc_position": {},
   "toc_section_display": true,
   "toc_window_display": false
  }
 },
 "nbformat": 4,
 "nbformat_minor": 2
}
