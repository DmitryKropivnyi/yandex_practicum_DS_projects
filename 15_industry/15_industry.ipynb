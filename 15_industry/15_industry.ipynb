{
 "cells": [
  {
   "cell_type": "markdown",
   "id": "901ce7b8",
   "metadata": {},
   "source": [
    "# Промышленность"
   ]
  },
  {
   "cell_type": "markdown",
   "id": "691fad08",
   "metadata": {},
   "source": [
    "Чтобы оптимизировать производственные расходы, металлургический комбинат ООО «Так закаляем сталь» решил уменьшить потребление электроэнергии на этапе обработки стали. Вам предстоит построить модель, которая предскажет температуру стали."
   ]
  },
  {
   "cell_type": "markdown",
   "id": "d0bca6e5",
   "metadata": {},
   "source": [
    "### Описание этапа обработки"
   ]
  },
  {
   "cell_type": "markdown",
   "id": "f871bf30",
   "metadata": {},
   "source": [
    "Сталь обрабатывают в металлическом ковше вместимостью около 100 тонн. Чтобы ковш выдерживал высокие температуры, изнутри его облицовывают огнеупорным кирпичом. Расплавленную сталь заливают в ковш и подогревают до нужной температуры графитовыми электродами. Они установлены в крышке ковша. \n",
    "\n",
    "Из сплава выводится сера (десульфурация), добавлением примесей корректируется химический состав и отбираются пробы. Сталь легируют — изменяют её состав — подавая куски сплава из бункера для сыпучих материалов или проволоку через специальный трайб-аппарат (англ. tribe, «масса»).\n",
    "\n",
    "Перед тем как первый раз ввести легирующие добавки, измеряют температуру стали и производят её химический анализ. Потом температуру на несколько минут повышают, добавляют легирующие материалы и продувают сплав инертным газом. Затем его перемешивают и снова проводят измерения. Такой цикл повторяется до достижения целевого химического состава и оптимальной температуры плавки.\n",
    "\n",
    "Тогда расплавленная сталь отправляется на доводку металла или поступает в машину непрерывной разливки. Оттуда готовый продукт выходит в виде заготовок-слябов (англ. *slab*, «плита»)."
   ]
  },
  {
   "cell_type": "markdown",
   "id": "7041d284",
   "metadata": {},
   "source": [
    "### Описание данных"
   ]
  },
  {
   "cell_type": "markdown",
   "id": "8cf345c1",
   "metadata": {},
   "source": [
    "Данные состоят из файлов, полученных из разных источников:\n",
    "\n",
    "- `data_arc.csv` — данные об электродах;\n",
    "- `data_bulk.csv` — данные о подаче сыпучих материалов (объём);\n",
    "- `data_bulk_time.csv` *—* данные о подаче сыпучих материалов (время);\n",
    "- `data_gas.csv` — данные о продувке сплава газом;\n",
    "- `data_temp.csv` — результаты измерения температуры;\n",
    "- `data_wire.csv` — данные о проволочных материалах (объём);\n",
    "- `data_wire_time.csv` — данные о проволочных материалах (время).\n",
    "\n",
    "Во всех файлах столбец `key` содержит номер партии. В файлах может быть несколько строк с одинаковым значением `key`: они соответствуют разным итерациям обработки."
   ]
  },
  {
   "cell_type": "code",
   "execution_count": 1,
   "id": "79a84284",
   "metadata": {},
   "outputs": [],
   "source": [
    "import pandas as pd\n",
    "import matplotlib.pyplot as plt \n",
    "import seaborn as sns \n",
    "import numpy as np \n",
    "\n",
    "import warnings\n",
    "from IPython.display import display, HTML"
   ]
  },
  {
   "cell_type": "code",
   "execution_count": 2,
   "id": "2b29bb77",
   "metadata": {},
   "outputs": [
    {
     "data": {
      "text/html": [
       "<style>.container { width:70% !important; <style>}"
      ],
      "text/plain": [
       "<IPython.core.display.HTML object>"
      ]
     },
     "metadata": {},
     "output_type": "display_data"
    }
   ],
   "source": [
    "display(HTML(\"<style>.container { width:70% !important; <style>}\"))\n",
    "pd.set_option('display.max_columns', None)\n",
    "pd.set_option('display.max_rows', None)\n",
    "warnings.filterwarnings(\"ignore\")"
   ]
  },
  {
   "cell_type": "markdown",
   "id": "f897d060",
   "metadata": {},
   "source": [
    "Загрузим данные"
   ]
  },
  {
   "cell_type": "code",
   "execution_count": 3,
   "id": "e6b157dc",
   "metadata": {},
   "outputs": [],
   "source": [
    "try:\n",
    "    df_arc = pd.read_csv('E:/Data Science/final_steel/data_arc.csv')\n",
    "    df_bulk = pd.read_csv('E:/Data Science/final_steel/data_bulk.csv')\n",
    "    df_bulk_time = pd.read_csv('E:/Data Science/final_steel/data_bulk_time.csv')\n",
    "    df_gas = pd.read_csv('E:/Data Science/final_steel/data_gas.csv')\n",
    "    df_temp = pd.read_csv('E:/Data Science/final_steel/data_temp.csv')\n",
    "    df_wire = pd.read_csv('E:/Data Science/final_steel/data_wire.csv')\n",
    "    df_wire_time = pd.read_csv('E:/Data Science/final_steel/data_wire_time.csv')\n",
    "except:\n",
    "    df_arc = pd.read_csv('/datasets/final_steel/data_arc.csv')\n",
    "    df_bulk = pd.read_csv('/datasets/final_steel/data_bulk.csv')\n",
    "    df_bulk_time = pd.read_csv('/datasets/final_steel/data_bulk_time.csv')\n",
    "    df_gas = pd.read_csv('/datasets/final_steel/data_gas.csv')\n",
    "    df_temp = pd.read_csv('/datasets/final_steel/data_temp.csv')\n",
    "    df_wire = pd.read_csv('/datasets/final_steel/data_wire.csv')\n",
    "    df_wire_time = pd.read_csv('/datasets/final_steel/data_wire_time.csv')\n"
   ]
  },
  {
   "cell_type": "markdown",
   "id": "cfeb8d2b",
   "metadata": {},
   "source": [
    "# План проекта"
   ]
  },
  {
   "cell_type": "markdown",
   "id": "00dcb101",
   "metadata": {},
   "source": [
    "1. Провести исследовательский анализ данных\n",
    "2. Проверить данные на предмет наличия выбросов и решить, что с ними делать\n",
    "3. Разобраться с пропущенными значениями в данных\n",
    "4. Проверить наличие некорректных данных\n",
    "5. Объединить исходные данные для возможности обучения модели\n",
    "6. Разделить выборку на тестовую и тренировочную\n",
    "7. Оценить качество полученных моделей и выбрать лучшую\n",
    "8. Результат проделанной работы (Отчёт)"
   ]
  },
  {
   "cell_type": "markdown",
   "id": "9c8666d2",
   "metadata": {},
   "source": [
    "#  Исследовательский анализ данных"
   ]
  },
  {
   "cell_type": "code",
   "execution_count": 4,
   "id": "41f90a49",
   "metadata": {},
   "outputs": [],
   "source": [
    "datasets = {\n",
    "    'Данные об электродах':df_arc, \n",
    "    'Данные о подаче сыпучих материалов (объём)':df_bulk, \n",
    "    'Данные о подаче сыпучих материалов (время)':df_bulk_time,\n",
    "    'Данные о продувке сплава газом':df_gas,\n",
    "    'Результаты измерения температуры':df_temp,\n",
    "    'Данные о проволочных материалах (объём)':df_wire,\n",
    "    'Данные о проволочных материалах (время)':df_wire_time\n",
    "}"
   ]
  },
  {
   "cell_type": "code",
   "execution_count": 5,
   "id": "cd778ea8",
   "metadata": {
    "scrolled": true
   },
   "outputs": [
    {
     "name": "stdout",
     "output_type": "stream",
     "text": [
      "Данные об электродах\n"
     ]
    },
    {
     "data": {
      "text/html": [
       "<div>\n",
       "<style scoped>\n",
       "    .dataframe tbody tr th:only-of-type {\n",
       "        vertical-align: middle;\n",
       "    }\n",
       "\n",
       "    .dataframe tbody tr th {\n",
       "        vertical-align: top;\n",
       "    }\n",
       "\n",
       "    .dataframe thead th {\n",
       "        text-align: right;\n",
       "    }\n",
       "</style>\n",
       "<table border=\"1\" class=\"dataframe\">\n",
       "  <thead>\n",
       "    <tr style=\"text-align: right;\">\n",
       "      <th></th>\n",
       "      <th>key</th>\n",
       "      <th>Начало нагрева дугой</th>\n",
       "      <th>Конец нагрева дугой</th>\n",
       "      <th>Активная мощность</th>\n",
       "      <th>Реактивная мощность</th>\n",
       "    </tr>\n",
       "  </thead>\n",
       "  <tbody>\n",
       "    <tr>\n",
       "      <th>0</th>\n",
       "      <td>1</td>\n",
       "      <td>2019-05-03 11:02:14</td>\n",
       "      <td>2019-05-03 11:06:02</td>\n",
       "      <td>0.976059</td>\n",
       "      <td>0.687084</td>\n",
       "    </tr>\n",
       "    <tr>\n",
       "      <th>1</th>\n",
       "      <td>1</td>\n",
       "      <td>2019-05-03 11:07:28</td>\n",
       "      <td>2019-05-03 11:10:33</td>\n",
       "      <td>0.805607</td>\n",
       "      <td>0.520285</td>\n",
       "    </tr>\n",
       "    <tr>\n",
       "      <th>2</th>\n",
       "      <td>1</td>\n",
       "      <td>2019-05-03 11:11:44</td>\n",
       "      <td>2019-05-03 11:14:36</td>\n",
       "      <td>0.744363</td>\n",
       "      <td>0.498805</td>\n",
       "    </tr>\n",
       "    <tr>\n",
       "      <th>3</th>\n",
       "      <td>1</td>\n",
       "      <td>2019-05-03 11:18:14</td>\n",
       "      <td>2019-05-03 11:24:19</td>\n",
       "      <td>1.659363</td>\n",
       "      <td>1.062669</td>\n",
       "    </tr>\n",
       "    <tr>\n",
       "      <th>4</th>\n",
       "      <td>1</td>\n",
       "      <td>2019-05-03 11:26:09</td>\n",
       "      <td>2019-05-03 11:28:37</td>\n",
       "      <td>0.692755</td>\n",
       "      <td>0.414397</td>\n",
       "    </tr>\n",
       "    <tr>\n",
       "      <th>5</th>\n",
       "      <td>2</td>\n",
       "      <td>2019-05-03 11:34:14</td>\n",
       "      <td>2019-05-03 11:36:31</td>\n",
       "      <td>0.438063</td>\n",
       "      <td>0.283043</td>\n",
       "    </tr>\n",
       "    <tr>\n",
       "      <th>6</th>\n",
       "      <td>2</td>\n",
       "      <td>2019-05-03 11:38:50</td>\n",
       "      <td>2019-05-03 11:44:28</td>\n",
       "      <td>1.296415</td>\n",
       "      <td>0.892914</td>\n",
       "    </tr>\n",
       "    <tr>\n",
       "      <th>7</th>\n",
       "      <td>2</td>\n",
       "      <td>2019-05-03 11:46:19</td>\n",
       "      <td>2019-05-03 11:48:25</td>\n",
       "      <td>0.490377</td>\n",
       "      <td>0.305281</td>\n",
       "    </tr>\n",
       "    <tr>\n",
       "      <th>8</th>\n",
       "      <td>2</td>\n",
       "      <td>2019-05-03 11:49:48</td>\n",
       "      <td>2019-05-03 11:53:18</td>\n",
       "      <td>0.827743</td>\n",
       "      <td>0.516874</td>\n",
       "    </tr>\n",
       "    <tr>\n",
       "      <th>9</th>\n",
       "      <td>3</td>\n",
       "      <td>2019-05-03 12:06:54</td>\n",
       "      <td>2019-05-03 12:11:34</td>\n",
       "      <td>1.062053</td>\n",
       "      <td>0.671494</td>\n",
       "    </tr>\n",
       "  </tbody>\n",
       "</table>\n",
       "</div>"
      ],
      "text/plain": [
       "   key Начало нагрева дугой  Конец нагрева дугой  Активная мощность  \\\n",
       "0    1  2019-05-03 11:02:14  2019-05-03 11:06:02           0.976059   \n",
       "1    1  2019-05-03 11:07:28  2019-05-03 11:10:33           0.805607   \n",
       "2    1  2019-05-03 11:11:44  2019-05-03 11:14:36           0.744363   \n",
       "3    1  2019-05-03 11:18:14  2019-05-03 11:24:19           1.659363   \n",
       "4    1  2019-05-03 11:26:09  2019-05-03 11:28:37           0.692755   \n",
       "5    2  2019-05-03 11:34:14  2019-05-03 11:36:31           0.438063   \n",
       "6    2  2019-05-03 11:38:50  2019-05-03 11:44:28           1.296415   \n",
       "7    2  2019-05-03 11:46:19  2019-05-03 11:48:25           0.490377   \n",
       "8    2  2019-05-03 11:49:48  2019-05-03 11:53:18           0.827743   \n",
       "9    3  2019-05-03 12:06:54  2019-05-03 12:11:34           1.062053   \n",
       "\n",
       "   Реактивная мощность  \n",
       "0             0.687084  \n",
       "1             0.520285  \n",
       "2             0.498805  \n",
       "3             1.062669  \n",
       "4             0.414397  \n",
       "5             0.283043  \n",
       "6             0.892914  \n",
       "7             0.305281  \n",
       "8             0.516874  \n",
       "9             0.671494  "
      ]
     },
     "metadata": {},
     "output_type": "display_data"
    },
    {
     "name": "stdout",
     "output_type": "stream",
     "text": [
      "\n",
      "<class 'pandas.core.frame.DataFrame'>\n",
      "RangeIndex: 14876 entries, 0 to 14875\n",
      "Data columns (total 5 columns):\n",
      " #   Column                Non-Null Count  Dtype  \n",
      "---  ------                --------------  -----  \n",
      " 0   key                   14876 non-null  int64  \n",
      " 1   Начало нагрева дугой  14876 non-null  object \n",
      " 2   Конец нагрева дугой   14876 non-null  object \n",
      " 3   Активная мощность     14876 non-null  float64\n",
      " 4   Реактивная мощность   14876 non-null  float64\n",
      "dtypes: float64(2), int64(1), object(2)\n",
      "memory usage: 581.2+ KB\n"
     ]
    },
    {
     "data": {
      "text/plain": [
       "None"
      ]
     },
     "metadata": {},
     "output_type": "display_data"
    },
    {
     "name": "stdout",
     "output_type": "stream",
     "text": [
      "Данные о подаче сыпучих материалов (объём)\n"
     ]
    },
    {
     "data": {
      "text/html": [
       "<div>\n",
       "<style scoped>\n",
       "    .dataframe tbody tr th:only-of-type {\n",
       "        vertical-align: middle;\n",
       "    }\n",
       "\n",
       "    .dataframe tbody tr th {\n",
       "        vertical-align: top;\n",
       "    }\n",
       "\n",
       "    .dataframe thead th {\n",
       "        text-align: right;\n",
       "    }\n",
       "</style>\n",
       "<table border=\"1\" class=\"dataframe\">\n",
       "  <thead>\n",
       "    <tr style=\"text-align: right;\">\n",
       "      <th></th>\n",
       "      <th>key</th>\n",
       "      <th>Bulk 1</th>\n",
       "      <th>Bulk 2</th>\n",
       "      <th>Bulk 3</th>\n",
       "      <th>Bulk 4</th>\n",
       "      <th>Bulk 5</th>\n",
       "      <th>Bulk 6</th>\n",
       "      <th>Bulk 7</th>\n",
       "      <th>Bulk 8</th>\n",
       "      <th>Bulk 9</th>\n",
       "      <th>Bulk 10</th>\n",
       "      <th>Bulk 11</th>\n",
       "      <th>Bulk 12</th>\n",
       "      <th>Bulk 13</th>\n",
       "      <th>Bulk 14</th>\n",
       "      <th>Bulk 15</th>\n",
       "    </tr>\n",
       "  </thead>\n",
       "  <tbody>\n",
       "    <tr>\n",
       "      <th>0</th>\n",
       "      <td>1</td>\n",
       "      <td>NaN</td>\n",
       "      <td>NaN</td>\n",
       "      <td>NaN</td>\n",
       "      <td>43.0</td>\n",
       "      <td>NaN</td>\n",
       "      <td>NaN</td>\n",
       "      <td>NaN</td>\n",
       "      <td>NaN</td>\n",
       "      <td>NaN</td>\n",
       "      <td>NaN</td>\n",
       "      <td>NaN</td>\n",
       "      <td>206.0</td>\n",
       "      <td>NaN</td>\n",
       "      <td>150.0</td>\n",
       "      <td>154.0</td>\n",
       "    </tr>\n",
       "    <tr>\n",
       "      <th>1</th>\n",
       "      <td>2</td>\n",
       "      <td>NaN</td>\n",
       "      <td>NaN</td>\n",
       "      <td>NaN</td>\n",
       "      <td>73.0</td>\n",
       "      <td>NaN</td>\n",
       "      <td>NaN</td>\n",
       "      <td>NaN</td>\n",
       "      <td>NaN</td>\n",
       "      <td>NaN</td>\n",
       "      <td>NaN</td>\n",
       "      <td>NaN</td>\n",
       "      <td>206.0</td>\n",
       "      <td>NaN</td>\n",
       "      <td>149.0</td>\n",
       "      <td>154.0</td>\n",
       "    </tr>\n",
       "    <tr>\n",
       "      <th>2</th>\n",
       "      <td>3</td>\n",
       "      <td>NaN</td>\n",
       "      <td>NaN</td>\n",
       "      <td>NaN</td>\n",
       "      <td>34.0</td>\n",
       "      <td>NaN</td>\n",
       "      <td>NaN</td>\n",
       "      <td>NaN</td>\n",
       "      <td>NaN</td>\n",
       "      <td>NaN</td>\n",
       "      <td>NaN</td>\n",
       "      <td>NaN</td>\n",
       "      <td>205.0</td>\n",
       "      <td>NaN</td>\n",
       "      <td>152.0</td>\n",
       "      <td>153.0</td>\n",
       "    </tr>\n",
       "    <tr>\n",
       "      <th>3</th>\n",
       "      <td>4</td>\n",
       "      <td>NaN</td>\n",
       "      <td>NaN</td>\n",
       "      <td>NaN</td>\n",
       "      <td>81.0</td>\n",
       "      <td>NaN</td>\n",
       "      <td>NaN</td>\n",
       "      <td>NaN</td>\n",
       "      <td>NaN</td>\n",
       "      <td>NaN</td>\n",
       "      <td>NaN</td>\n",
       "      <td>NaN</td>\n",
       "      <td>207.0</td>\n",
       "      <td>NaN</td>\n",
       "      <td>153.0</td>\n",
       "      <td>154.0</td>\n",
       "    </tr>\n",
       "    <tr>\n",
       "      <th>4</th>\n",
       "      <td>5</td>\n",
       "      <td>NaN</td>\n",
       "      <td>NaN</td>\n",
       "      <td>NaN</td>\n",
       "      <td>78.0</td>\n",
       "      <td>NaN</td>\n",
       "      <td>NaN</td>\n",
       "      <td>NaN</td>\n",
       "      <td>NaN</td>\n",
       "      <td>NaN</td>\n",
       "      <td>NaN</td>\n",
       "      <td>NaN</td>\n",
       "      <td>203.0</td>\n",
       "      <td>NaN</td>\n",
       "      <td>151.0</td>\n",
       "      <td>152.0</td>\n",
       "    </tr>\n",
       "    <tr>\n",
       "      <th>5</th>\n",
       "      <td>6</td>\n",
       "      <td>NaN</td>\n",
       "      <td>NaN</td>\n",
       "      <td>NaN</td>\n",
       "      <td>117.0</td>\n",
       "      <td>NaN</td>\n",
       "      <td>NaN</td>\n",
       "      <td>NaN</td>\n",
       "      <td>NaN</td>\n",
       "      <td>NaN</td>\n",
       "      <td>NaN</td>\n",
       "      <td>NaN</td>\n",
       "      <td>204.0</td>\n",
       "      <td>NaN</td>\n",
       "      <td>201.0</td>\n",
       "      <td>154.0</td>\n",
       "    </tr>\n",
       "    <tr>\n",
       "      <th>6</th>\n",
       "      <td>7</td>\n",
       "      <td>NaN</td>\n",
       "      <td>NaN</td>\n",
       "      <td>NaN</td>\n",
       "      <td>117.0</td>\n",
       "      <td>NaN</td>\n",
       "      <td>NaN</td>\n",
       "      <td>NaN</td>\n",
       "      <td>NaN</td>\n",
       "      <td>NaN</td>\n",
       "      <td>NaN</td>\n",
       "      <td>NaN</td>\n",
       "      <td>204.0</td>\n",
       "      <td>NaN</td>\n",
       "      <td>152.0</td>\n",
       "      <td>154.0</td>\n",
       "    </tr>\n",
       "    <tr>\n",
       "      <th>7</th>\n",
       "      <td>8</td>\n",
       "      <td>NaN</td>\n",
       "      <td>NaN</td>\n",
       "      <td>NaN</td>\n",
       "      <td>99.0</td>\n",
       "      <td>NaN</td>\n",
       "      <td>NaN</td>\n",
       "      <td>NaN</td>\n",
       "      <td>NaN</td>\n",
       "      <td>NaN</td>\n",
       "      <td>NaN</td>\n",
       "      <td>NaN</td>\n",
       "      <td>410.0</td>\n",
       "      <td>NaN</td>\n",
       "      <td>252.0</td>\n",
       "      <td>153.0</td>\n",
       "    </tr>\n",
       "    <tr>\n",
       "      <th>8</th>\n",
       "      <td>9</td>\n",
       "      <td>NaN</td>\n",
       "      <td>NaN</td>\n",
       "      <td>NaN</td>\n",
       "      <td>117.0</td>\n",
       "      <td>NaN</td>\n",
       "      <td>NaN</td>\n",
       "      <td>NaN</td>\n",
       "      <td>NaN</td>\n",
       "      <td>NaN</td>\n",
       "      <td>NaN</td>\n",
       "      <td>NaN</td>\n",
       "      <td>107.0</td>\n",
       "      <td>NaN</td>\n",
       "      <td>99.0</td>\n",
       "      <td>203.0</td>\n",
       "    </tr>\n",
       "    <tr>\n",
       "      <th>9</th>\n",
       "      <td>10</td>\n",
       "      <td>NaN</td>\n",
       "      <td>NaN</td>\n",
       "      <td>NaN</td>\n",
       "      <td>NaN</td>\n",
       "      <td>NaN</td>\n",
       "      <td>NaN</td>\n",
       "      <td>NaN</td>\n",
       "      <td>NaN</td>\n",
       "      <td>NaN</td>\n",
       "      <td>NaN</td>\n",
       "      <td>NaN</td>\n",
       "      <td>203.0</td>\n",
       "      <td>NaN</td>\n",
       "      <td>102.0</td>\n",
       "      <td>204.0</td>\n",
       "    </tr>\n",
       "  </tbody>\n",
       "</table>\n",
       "</div>"
      ],
      "text/plain": [
       "   key  Bulk 1  Bulk 2  Bulk 3  Bulk 4  Bulk 5  Bulk 6  Bulk 7  Bulk 8  \\\n",
       "0    1     NaN     NaN     NaN    43.0     NaN     NaN     NaN     NaN   \n",
       "1    2     NaN     NaN     NaN    73.0     NaN     NaN     NaN     NaN   \n",
       "2    3     NaN     NaN     NaN    34.0     NaN     NaN     NaN     NaN   \n",
       "3    4     NaN     NaN     NaN    81.0     NaN     NaN     NaN     NaN   \n",
       "4    5     NaN     NaN     NaN    78.0     NaN     NaN     NaN     NaN   \n",
       "5    6     NaN     NaN     NaN   117.0     NaN     NaN     NaN     NaN   \n",
       "6    7     NaN     NaN     NaN   117.0     NaN     NaN     NaN     NaN   \n",
       "7    8     NaN     NaN     NaN    99.0     NaN     NaN     NaN     NaN   \n",
       "8    9     NaN     NaN     NaN   117.0     NaN     NaN     NaN     NaN   \n",
       "9   10     NaN     NaN     NaN     NaN     NaN     NaN     NaN     NaN   \n",
       "\n",
       "   Bulk 9  Bulk 10  Bulk 11  Bulk 12  Bulk 13  Bulk 14  Bulk 15  \n",
       "0     NaN      NaN      NaN    206.0      NaN    150.0    154.0  \n",
       "1     NaN      NaN      NaN    206.0      NaN    149.0    154.0  \n",
       "2     NaN      NaN      NaN    205.0      NaN    152.0    153.0  \n",
       "3     NaN      NaN      NaN    207.0      NaN    153.0    154.0  \n",
       "4     NaN      NaN      NaN    203.0      NaN    151.0    152.0  \n",
       "5     NaN      NaN      NaN    204.0      NaN    201.0    154.0  \n",
       "6     NaN      NaN      NaN    204.0      NaN    152.0    154.0  \n",
       "7     NaN      NaN      NaN    410.0      NaN    252.0    153.0  \n",
       "8     NaN      NaN      NaN    107.0      NaN     99.0    203.0  \n",
       "9     NaN      NaN      NaN    203.0      NaN    102.0    204.0  "
      ]
     },
     "metadata": {},
     "output_type": "display_data"
    },
    {
     "name": "stdout",
     "output_type": "stream",
     "text": [
      "\n",
      "<class 'pandas.core.frame.DataFrame'>\n",
      "RangeIndex: 3129 entries, 0 to 3128\n",
      "Data columns (total 16 columns):\n",
      " #   Column   Non-Null Count  Dtype  \n",
      "---  ------   --------------  -----  \n",
      " 0   key      3129 non-null   int64  \n",
      " 1   Bulk 1   252 non-null    float64\n",
      " 2   Bulk 2   22 non-null     float64\n",
      " 3   Bulk 3   1298 non-null   float64\n",
      " 4   Bulk 4   1014 non-null   float64\n",
      " 5   Bulk 5   77 non-null     float64\n",
      " 6   Bulk 6   576 non-null    float64\n",
      " 7   Bulk 7   25 non-null     float64\n",
      " 8   Bulk 8   1 non-null      float64\n",
      " 9   Bulk 9   19 non-null     float64\n",
      " 10  Bulk 10  176 non-null    float64\n",
      " 11  Bulk 11  177 non-null    float64\n",
      " 12  Bulk 12  2450 non-null   float64\n",
      " 13  Bulk 13  18 non-null     float64\n",
      " 14  Bulk 14  2806 non-null   float64\n",
      " 15  Bulk 15  2248 non-null   float64\n",
      "dtypes: float64(15), int64(1)\n",
      "memory usage: 391.2 KB\n"
     ]
    },
    {
     "data": {
      "text/plain": [
       "None"
      ]
     },
     "metadata": {},
     "output_type": "display_data"
    },
    {
     "name": "stdout",
     "output_type": "stream",
     "text": [
      "Данные о подаче сыпучих материалов (время)\n"
     ]
    },
    {
     "data": {
      "text/html": [
       "<div>\n",
       "<style scoped>\n",
       "    .dataframe tbody tr th:only-of-type {\n",
       "        vertical-align: middle;\n",
       "    }\n",
       "\n",
       "    .dataframe tbody tr th {\n",
       "        vertical-align: top;\n",
       "    }\n",
       "\n",
       "    .dataframe thead th {\n",
       "        text-align: right;\n",
       "    }\n",
       "</style>\n",
       "<table border=\"1\" class=\"dataframe\">\n",
       "  <thead>\n",
       "    <tr style=\"text-align: right;\">\n",
       "      <th></th>\n",
       "      <th>key</th>\n",
       "      <th>Bulk 1</th>\n",
       "      <th>Bulk 2</th>\n",
       "      <th>Bulk 3</th>\n",
       "      <th>Bulk 4</th>\n",
       "      <th>Bulk 5</th>\n",
       "      <th>Bulk 6</th>\n",
       "      <th>Bulk 7</th>\n",
       "      <th>Bulk 8</th>\n",
       "      <th>Bulk 9</th>\n",
       "      <th>Bulk 10</th>\n",
       "      <th>Bulk 11</th>\n",
       "      <th>Bulk 12</th>\n",
       "      <th>Bulk 13</th>\n",
       "      <th>Bulk 14</th>\n",
       "      <th>Bulk 15</th>\n",
       "    </tr>\n",
       "  </thead>\n",
       "  <tbody>\n",
       "    <tr>\n",
       "      <th>0</th>\n",
       "      <td>1</td>\n",
       "      <td>NaN</td>\n",
       "      <td>NaN</td>\n",
       "      <td>NaN</td>\n",
       "      <td>2019-05-03 11:21:30</td>\n",
       "      <td>NaN</td>\n",
       "      <td>NaN</td>\n",
       "      <td>NaN</td>\n",
       "      <td>NaN</td>\n",
       "      <td>NaN</td>\n",
       "      <td>NaN</td>\n",
       "      <td>NaN</td>\n",
       "      <td>2019-05-03 11:03:52</td>\n",
       "      <td>NaN</td>\n",
       "      <td>2019-05-03 11:03:52</td>\n",
       "      <td>2019-05-03 11:03:52</td>\n",
       "    </tr>\n",
       "    <tr>\n",
       "      <th>1</th>\n",
       "      <td>2</td>\n",
       "      <td>NaN</td>\n",
       "      <td>NaN</td>\n",
       "      <td>NaN</td>\n",
       "      <td>2019-05-03 11:46:38</td>\n",
       "      <td>NaN</td>\n",
       "      <td>NaN</td>\n",
       "      <td>NaN</td>\n",
       "      <td>NaN</td>\n",
       "      <td>NaN</td>\n",
       "      <td>NaN</td>\n",
       "      <td>NaN</td>\n",
       "      <td>2019-05-03 11:40:20</td>\n",
       "      <td>NaN</td>\n",
       "      <td>2019-05-03 11:40:20</td>\n",
       "      <td>2019-05-03 11:40:20</td>\n",
       "    </tr>\n",
       "    <tr>\n",
       "      <th>2</th>\n",
       "      <td>3</td>\n",
       "      <td>NaN</td>\n",
       "      <td>NaN</td>\n",
       "      <td>NaN</td>\n",
       "      <td>2019-05-03 12:31:06</td>\n",
       "      <td>NaN</td>\n",
       "      <td>NaN</td>\n",
       "      <td>NaN</td>\n",
       "      <td>NaN</td>\n",
       "      <td>NaN</td>\n",
       "      <td>NaN</td>\n",
       "      <td>NaN</td>\n",
       "      <td>2019-05-03 12:09:40</td>\n",
       "      <td>NaN</td>\n",
       "      <td>2019-05-03 12:09:40</td>\n",
       "      <td>2019-05-03 12:09:40</td>\n",
       "    </tr>\n",
       "    <tr>\n",
       "      <th>3</th>\n",
       "      <td>4</td>\n",
       "      <td>NaN</td>\n",
       "      <td>NaN</td>\n",
       "      <td>NaN</td>\n",
       "      <td>2019-05-03 12:48:43</td>\n",
       "      <td>NaN</td>\n",
       "      <td>NaN</td>\n",
       "      <td>NaN</td>\n",
       "      <td>NaN</td>\n",
       "      <td>NaN</td>\n",
       "      <td>NaN</td>\n",
       "      <td>NaN</td>\n",
       "      <td>2019-05-03 12:41:24</td>\n",
       "      <td>NaN</td>\n",
       "      <td>2019-05-03 12:41:24</td>\n",
       "      <td>2019-05-03 12:41:24</td>\n",
       "    </tr>\n",
       "    <tr>\n",
       "      <th>4</th>\n",
       "      <td>5</td>\n",
       "      <td>NaN</td>\n",
       "      <td>NaN</td>\n",
       "      <td>NaN</td>\n",
       "      <td>2019-05-03 13:18:50</td>\n",
       "      <td>NaN</td>\n",
       "      <td>NaN</td>\n",
       "      <td>NaN</td>\n",
       "      <td>NaN</td>\n",
       "      <td>NaN</td>\n",
       "      <td>NaN</td>\n",
       "      <td>NaN</td>\n",
       "      <td>2019-05-03 13:12:56</td>\n",
       "      <td>NaN</td>\n",
       "      <td>2019-05-03 13:12:56</td>\n",
       "      <td>2019-05-03 13:12:56</td>\n",
       "    </tr>\n",
       "    <tr>\n",
       "      <th>5</th>\n",
       "      <td>6</td>\n",
       "      <td>NaN</td>\n",
       "      <td>NaN</td>\n",
       "      <td>NaN</td>\n",
       "      <td>2019-05-03 13:59:24</td>\n",
       "      <td>NaN</td>\n",
       "      <td>NaN</td>\n",
       "      <td>NaN</td>\n",
       "      <td>NaN</td>\n",
       "      <td>NaN</td>\n",
       "      <td>NaN</td>\n",
       "      <td>NaN</td>\n",
       "      <td>2019-05-03 13:53:27</td>\n",
       "      <td>NaN</td>\n",
       "      <td>2019-05-03 13:53:27</td>\n",
       "      <td>2019-05-03 13:53:27</td>\n",
       "    </tr>\n",
       "    <tr>\n",
       "      <th>6</th>\n",
       "      <td>7</td>\n",
       "      <td>NaN</td>\n",
       "      <td>NaN</td>\n",
       "      <td>NaN</td>\n",
       "      <td>2019-05-03 14:29:14</td>\n",
       "      <td>NaN</td>\n",
       "      <td>NaN</td>\n",
       "      <td>NaN</td>\n",
       "      <td>NaN</td>\n",
       "      <td>NaN</td>\n",
       "      <td>NaN</td>\n",
       "      <td>NaN</td>\n",
       "      <td>2019-05-03 14:22:19</td>\n",
       "      <td>NaN</td>\n",
       "      <td>2019-05-03 14:22:19</td>\n",
       "      <td>2019-05-03 14:22:19</td>\n",
       "    </tr>\n",
       "    <tr>\n",
       "      <th>7</th>\n",
       "      <td>8</td>\n",
       "      <td>NaN</td>\n",
       "      <td>NaN</td>\n",
       "      <td>NaN</td>\n",
       "      <td>2019-05-03 15:04:05</td>\n",
       "      <td>NaN</td>\n",
       "      <td>NaN</td>\n",
       "      <td>NaN</td>\n",
       "      <td>NaN</td>\n",
       "      <td>NaN</td>\n",
       "      <td>NaN</td>\n",
       "      <td>NaN</td>\n",
       "      <td>2019-05-03 14:55:46</td>\n",
       "      <td>NaN</td>\n",
       "      <td>2019-05-03 14:55:46</td>\n",
       "      <td>2019-05-03 14:55:46</td>\n",
       "    </tr>\n",
       "    <tr>\n",
       "      <th>8</th>\n",
       "      <td>9</td>\n",
       "      <td>NaN</td>\n",
       "      <td>NaN</td>\n",
       "      <td>NaN</td>\n",
       "      <td>2019-05-03 15:47:34</td>\n",
       "      <td>NaN</td>\n",
       "      <td>NaN</td>\n",
       "      <td>NaN</td>\n",
       "      <td>NaN</td>\n",
       "      <td>NaN</td>\n",
       "      <td>NaN</td>\n",
       "      <td>NaN</td>\n",
       "      <td>2019-05-03 15:41:00</td>\n",
       "      <td>NaN</td>\n",
       "      <td>2019-05-03 15:41:00</td>\n",
       "      <td>2019-05-03 15:41:00</td>\n",
       "    </tr>\n",
       "    <tr>\n",
       "      <th>9</th>\n",
       "      <td>10</td>\n",
       "      <td>NaN</td>\n",
       "      <td>NaN</td>\n",
       "      <td>NaN</td>\n",
       "      <td>NaN</td>\n",
       "      <td>NaN</td>\n",
       "      <td>NaN</td>\n",
       "      <td>NaN</td>\n",
       "      <td>NaN</td>\n",
       "      <td>NaN</td>\n",
       "      <td>NaN</td>\n",
       "      <td>NaN</td>\n",
       "      <td>2019-05-03 16:18:52</td>\n",
       "      <td>NaN</td>\n",
       "      <td>2019-05-03 16:18:52</td>\n",
       "      <td>2019-05-03 16:18:52</td>\n",
       "    </tr>\n",
       "  </tbody>\n",
       "</table>\n",
       "</div>"
      ],
      "text/plain": [
       "   key Bulk 1 Bulk 2 Bulk 3               Bulk 4 Bulk 5 Bulk 6 Bulk 7 Bulk 8  \\\n",
       "0    1    NaN    NaN    NaN  2019-05-03 11:21:30    NaN    NaN    NaN    NaN   \n",
       "1    2    NaN    NaN    NaN  2019-05-03 11:46:38    NaN    NaN    NaN    NaN   \n",
       "2    3    NaN    NaN    NaN  2019-05-03 12:31:06    NaN    NaN    NaN    NaN   \n",
       "3    4    NaN    NaN    NaN  2019-05-03 12:48:43    NaN    NaN    NaN    NaN   \n",
       "4    5    NaN    NaN    NaN  2019-05-03 13:18:50    NaN    NaN    NaN    NaN   \n",
       "5    6    NaN    NaN    NaN  2019-05-03 13:59:24    NaN    NaN    NaN    NaN   \n",
       "6    7    NaN    NaN    NaN  2019-05-03 14:29:14    NaN    NaN    NaN    NaN   \n",
       "7    8    NaN    NaN    NaN  2019-05-03 15:04:05    NaN    NaN    NaN    NaN   \n",
       "8    9    NaN    NaN    NaN  2019-05-03 15:47:34    NaN    NaN    NaN    NaN   \n",
       "9   10    NaN    NaN    NaN                  NaN    NaN    NaN    NaN    NaN   \n",
       "\n",
       "  Bulk 9 Bulk 10 Bulk 11              Bulk 12 Bulk 13              Bulk 14  \\\n",
       "0    NaN     NaN     NaN  2019-05-03 11:03:52     NaN  2019-05-03 11:03:52   \n",
       "1    NaN     NaN     NaN  2019-05-03 11:40:20     NaN  2019-05-03 11:40:20   \n",
       "2    NaN     NaN     NaN  2019-05-03 12:09:40     NaN  2019-05-03 12:09:40   \n",
       "3    NaN     NaN     NaN  2019-05-03 12:41:24     NaN  2019-05-03 12:41:24   \n",
       "4    NaN     NaN     NaN  2019-05-03 13:12:56     NaN  2019-05-03 13:12:56   \n",
       "5    NaN     NaN     NaN  2019-05-03 13:53:27     NaN  2019-05-03 13:53:27   \n",
       "6    NaN     NaN     NaN  2019-05-03 14:22:19     NaN  2019-05-03 14:22:19   \n",
       "7    NaN     NaN     NaN  2019-05-03 14:55:46     NaN  2019-05-03 14:55:46   \n",
       "8    NaN     NaN     NaN  2019-05-03 15:41:00     NaN  2019-05-03 15:41:00   \n",
       "9    NaN     NaN     NaN  2019-05-03 16:18:52     NaN  2019-05-03 16:18:52   \n",
       "\n",
       "               Bulk 15  \n",
       "0  2019-05-03 11:03:52  \n",
       "1  2019-05-03 11:40:20  \n",
       "2  2019-05-03 12:09:40  \n",
       "3  2019-05-03 12:41:24  \n",
       "4  2019-05-03 13:12:56  \n",
       "5  2019-05-03 13:53:27  \n",
       "6  2019-05-03 14:22:19  \n",
       "7  2019-05-03 14:55:46  \n",
       "8  2019-05-03 15:41:00  \n",
       "9  2019-05-03 16:18:52  "
      ]
     },
     "metadata": {},
     "output_type": "display_data"
    },
    {
     "name": "stdout",
     "output_type": "stream",
     "text": [
      "\n",
      "<class 'pandas.core.frame.DataFrame'>\n",
      "RangeIndex: 3129 entries, 0 to 3128\n",
      "Data columns (total 16 columns):\n",
      " #   Column   Non-Null Count  Dtype \n",
      "---  ------   --------------  ----- \n",
      " 0   key      3129 non-null   int64 \n",
      " 1   Bulk 1   252 non-null    object\n",
      " 2   Bulk 2   22 non-null     object\n",
      " 3   Bulk 3   1298 non-null   object\n",
      " 4   Bulk 4   1014 non-null   object\n",
      " 5   Bulk 5   77 non-null     object\n",
      " 6   Bulk 6   576 non-null    object\n",
      " 7   Bulk 7   25 non-null     object\n",
      " 8   Bulk 8   1 non-null      object\n",
      " 9   Bulk 9   19 non-null     object\n",
      " 10  Bulk 10  176 non-null    object\n",
      " 11  Bulk 11  177 non-null    object\n",
      " 12  Bulk 12  2450 non-null   object\n",
      " 13  Bulk 13  18 non-null     object\n",
      " 14  Bulk 14  2806 non-null   object\n",
      " 15  Bulk 15  2248 non-null   object\n",
      "dtypes: int64(1), object(15)\n",
      "memory usage: 391.2+ KB\n"
     ]
    },
    {
     "data": {
      "text/plain": [
       "None"
      ]
     },
     "metadata": {},
     "output_type": "display_data"
    },
    {
     "name": "stdout",
     "output_type": "stream",
     "text": [
      "Данные о продувке сплава газом\n"
     ]
    },
    {
     "data": {
      "text/html": [
       "<div>\n",
       "<style scoped>\n",
       "    .dataframe tbody tr th:only-of-type {\n",
       "        vertical-align: middle;\n",
       "    }\n",
       "\n",
       "    .dataframe tbody tr th {\n",
       "        vertical-align: top;\n",
       "    }\n",
       "\n",
       "    .dataframe thead th {\n",
       "        text-align: right;\n",
       "    }\n",
       "</style>\n",
       "<table border=\"1\" class=\"dataframe\">\n",
       "  <thead>\n",
       "    <tr style=\"text-align: right;\">\n",
       "      <th></th>\n",
       "      <th>key</th>\n",
       "      <th>Газ 1</th>\n",
       "    </tr>\n",
       "  </thead>\n",
       "  <tbody>\n",
       "    <tr>\n",
       "      <th>0</th>\n",
       "      <td>1</td>\n",
       "      <td>29.749986</td>\n",
       "    </tr>\n",
       "    <tr>\n",
       "      <th>1</th>\n",
       "      <td>2</td>\n",
       "      <td>12.555561</td>\n",
       "    </tr>\n",
       "    <tr>\n",
       "      <th>2</th>\n",
       "      <td>3</td>\n",
       "      <td>28.554793</td>\n",
       "    </tr>\n",
       "    <tr>\n",
       "      <th>3</th>\n",
       "      <td>4</td>\n",
       "      <td>18.841219</td>\n",
       "    </tr>\n",
       "    <tr>\n",
       "      <th>4</th>\n",
       "      <td>5</td>\n",
       "      <td>5.413692</td>\n",
       "    </tr>\n",
       "    <tr>\n",
       "      <th>5</th>\n",
       "      <td>6</td>\n",
       "      <td>11.273392</td>\n",
       "    </tr>\n",
       "    <tr>\n",
       "      <th>6</th>\n",
       "      <td>7</td>\n",
       "      <td>9.836267</td>\n",
       "    </tr>\n",
       "    <tr>\n",
       "      <th>7</th>\n",
       "      <td>8</td>\n",
       "      <td>15.171553</td>\n",
       "    </tr>\n",
       "    <tr>\n",
       "      <th>8</th>\n",
       "      <td>9</td>\n",
       "      <td>8.216623</td>\n",
       "    </tr>\n",
       "    <tr>\n",
       "      <th>9</th>\n",
       "      <td>10</td>\n",
       "      <td>6.529891</td>\n",
       "    </tr>\n",
       "  </tbody>\n",
       "</table>\n",
       "</div>"
      ],
      "text/plain": [
       "   key      Газ 1\n",
       "0    1  29.749986\n",
       "1    2  12.555561\n",
       "2    3  28.554793\n",
       "3    4  18.841219\n",
       "4    5   5.413692\n",
       "5    6  11.273392\n",
       "6    7   9.836267\n",
       "7    8  15.171553\n",
       "8    9   8.216623\n",
       "9   10   6.529891"
      ]
     },
     "metadata": {},
     "output_type": "display_data"
    },
    {
     "name": "stdout",
     "output_type": "stream",
     "text": [
      "\n",
      "<class 'pandas.core.frame.DataFrame'>\n",
      "RangeIndex: 3239 entries, 0 to 3238\n",
      "Data columns (total 2 columns):\n",
      " #   Column  Non-Null Count  Dtype  \n",
      "---  ------  --------------  -----  \n",
      " 0   key     3239 non-null   int64  \n",
      " 1   Газ 1   3239 non-null   float64\n",
      "dtypes: float64(1), int64(1)\n",
      "memory usage: 50.7 KB\n"
     ]
    },
    {
     "data": {
      "text/plain": [
       "None"
      ]
     },
     "metadata": {},
     "output_type": "display_data"
    },
    {
     "name": "stdout",
     "output_type": "stream",
     "text": [
      "Результаты измерения температуры\n"
     ]
    },
    {
     "data": {
      "text/html": [
       "<div>\n",
       "<style scoped>\n",
       "    .dataframe tbody tr th:only-of-type {\n",
       "        vertical-align: middle;\n",
       "    }\n",
       "\n",
       "    .dataframe tbody tr th {\n",
       "        vertical-align: top;\n",
       "    }\n",
       "\n",
       "    .dataframe thead th {\n",
       "        text-align: right;\n",
       "    }\n",
       "</style>\n",
       "<table border=\"1\" class=\"dataframe\">\n",
       "  <thead>\n",
       "    <tr style=\"text-align: right;\">\n",
       "      <th></th>\n",
       "      <th>key</th>\n",
       "      <th>Время замера</th>\n",
       "      <th>Температура</th>\n",
       "    </tr>\n",
       "  </thead>\n",
       "  <tbody>\n",
       "    <tr>\n",
       "      <th>0</th>\n",
       "      <td>1</td>\n",
       "      <td>2019-05-03 11:16:18</td>\n",
       "      <td>1571.0</td>\n",
       "    </tr>\n",
       "    <tr>\n",
       "      <th>1</th>\n",
       "      <td>1</td>\n",
       "      <td>2019-05-03 11:25:53</td>\n",
       "      <td>1604.0</td>\n",
       "    </tr>\n",
       "    <tr>\n",
       "      <th>2</th>\n",
       "      <td>1</td>\n",
       "      <td>2019-05-03 11:29:11</td>\n",
       "      <td>1618.0</td>\n",
       "    </tr>\n",
       "    <tr>\n",
       "      <th>3</th>\n",
       "      <td>1</td>\n",
       "      <td>2019-05-03 11:30:01</td>\n",
       "      <td>1601.0</td>\n",
       "    </tr>\n",
       "    <tr>\n",
       "      <th>4</th>\n",
       "      <td>1</td>\n",
       "      <td>2019-05-03 11:30:39</td>\n",
       "      <td>1613.0</td>\n",
       "    </tr>\n",
       "    <tr>\n",
       "      <th>5</th>\n",
       "      <td>2</td>\n",
       "      <td>2019-05-03 11:37:27</td>\n",
       "      <td>1581.0</td>\n",
       "    </tr>\n",
       "    <tr>\n",
       "      <th>6</th>\n",
       "      <td>2</td>\n",
       "      <td>2019-05-03 11:38:00</td>\n",
       "      <td>1577.0</td>\n",
       "    </tr>\n",
       "    <tr>\n",
       "      <th>7</th>\n",
       "      <td>2</td>\n",
       "      <td>2019-05-03 11:49:38</td>\n",
       "      <td>1589.0</td>\n",
       "    </tr>\n",
       "    <tr>\n",
       "      <th>8</th>\n",
       "      <td>2</td>\n",
       "      <td>2019-05-03 11:55:50</td>\n",
       "      <td>1604.0</td>\n",
       "    </tr>\n",
       "    <tr>\n",
       "      <th>9</th>\n",
       "      <td>2</td>\n",
       "      <td>2019-05-03 11:58:24</td>\n",
       "      <td>1608.0</td>\n",
       "    </tr>\n",
       "  </tbody>\n",
       "</table>\n",
       "</div>"
      ],
      "text/plain": [
       "   key         Время замера  Температура\n",
       "0    1  2019-05-03 11:16:18       1571.0\n",
       "1    1  2019-05-03 11:25:53       1604.0\n",
       "2    1  2019-05-03 11:29:11       1618.0\n",
       "3    1  2019-05-03 11:30:01       1601.0\n",
       "4    1  2019-05-03 11:30:39       1613.0\n",
       "5    2  2019-05-03 11:37:27       1581.0\n",
       "6    2  2019-05-03 11:38:00       1577.0\n",
       "7    2  2019-05-03 11:49:38       1589.0\n",
       "8    2  2019-05-03 11:55:50       1604.0\n",
       "9    2  2019-05-03 11:58:24       1608.0"
      ]
     },
     "metadata": {},
     "output_type": "display_data"
    },
    {
     "name": "stdout",
     "output_type": "stream",
     "text": [
      "\n",
      "<class 'pandas.core.frame.DataFrame'>\n",
      "RangeIndex: 15907 entries, 0 to 15906\n",
      "Data columns (total 3 columns):\n",
      " #   Column        Non-Null Count  Dtype  \n",
      "---  ------        --------------  -----  \n",
      " 0   key           15907 non-null  int64  \n",
      " 1   Время замера  15907 non-null  object \n",
      " 2   Температура   13006 non-null  float64\n",
      "dtypes: float64(1), int64(1), object(1)\n",
      "memory usage: 372.9+ KB\n"
     ]
    },
    {
     "data": {
      "text/plain": [
       "None"
      ]
     },
     "metadata": {},
     "output_type": "display_data"
    },
    {
     "name": "stdout",
     "output_type": "stream",
     "text": [
      "Данные о проволочных материалах (объём)\n"
     ]
    },
    {
     "data": {
      "text/html": [
       "<div>\n",
       "<style scoped>\n",
       "    .dataframe tbody tr th:only-of-type {\n",
       "        vertical-align: middle;\n",
       "    }\n",
       "\n",
       "    .dataframe tbody tr th {\n",
       "        vertical-align: top;\n",
       "    }\n",
       "\n",
       "    .dataframe thead th {\n",
       "        text-align: right;\n",
       "    }\n",
       "</style>\n",
       "<table border=\"1\" class=\"dataframe\">\n",
       "  <thead>\n",
       "    <tr style=\"text-align: right;\">\n",
       "      <th></th>\n",
       "      <th>key</th>\n",
       "      <th>Wire 1</th>\n",
       "      <th>Wire 2</th>\n",
       "      <th>Wire 3</th>\n",
       "      <th>Wire 4</th>\n",
       "      <th>Wire 5</th>\n",
       "      <th>Wire 6</th>\n",
       "      <th>Wire 7</th>\n",
       "      <th>Wire 8</th>\n",
       "      <th>Wire 9</th>\n",
       "    </tr>\n",
       "  </thead>\n",
       "  <tbody>\n",
       "    <tr>\n",
       "      <th>0</th>\n",
       "      <td>1</td>\n",
       "      <td>60.059998</td>\n",
       "      <td>NaN</td>\n",
       "      <td>NaN</td>\n",
       "      <td>NaN</td>\n",
       "      <td>NaN</td>\n",
       "      <td>NaN</td>\n",
       "      <td>NaN</td>\n",
       "      <td>NaN</td>\n",
       "      <td>NaN</td>\n",
       "    </tr>\n",
       "    <tr>\n",
       "      <th>1</th>\n",
       "      <td>2</td>\n",
       "      <td>96.052315</td>\n",
       "      <td>NaN</td>\n",
       "      <td>NaN</td>\n",
       "      <td>NaN</td>\n",
       "      <td>NaN</td>\n",
       "      <td>NaN</td>\n",
       "      <td>NaN</td>\n",
       "      <td>NaN</td>\n",
       "      <td>NaN</td>\n",
       "    </tr>\n",
       "    <tr>\n",
       "      <th>2</th>\n",
       "      <td>3</td>\n",
       "      <td>91.160157</td>\n",
       "      <td>NaN</td>\n",
       "      <td>NaN</td>\n",
       "      <td>NaN</td>\n",
       "      <td>NaN</td>\n",
       "      <td>NaN</td>\n",
       "      <td>NaN</td>\n",
       "      <td>NaN</td>\n",
       "      <td>NaN</td>\n",
       "    </tr>\n",
       "    <tr>\n",
       "      <th>3</th>\n",
       "      <td>4</td>\n",
       "      <td>89.063515</td>\n",
       "      <td>NaN</td>\n",
       "      <td>NaN</td>\n",
       "      <td>NaN</td>\n",
       "      <td>NaN</td>\n",
       "      <td>NaN</td>\n",
       "      <td>NaN</td>\n",
       "      <td>NaN</td>\n",
       "      <td>NaN</td>\n",
       "    </tr>\n",
       "    <tr>\n",
       "      <th>4</th>\n",
       "      <td>5</td>\n",
       "      <td>89.238236</td>\n",
       "      <td>9.114560</td>\n",
       "      <td>NaN</td>\n",
       "      <td>NaN</td>\n",
       "      <td>NaN</td>\n",
       "      <td>NaN</td>\n",
       "      <td>NaN</td>\n",
       "      <td>NaN</td>\n",
       "      <td>NaN</td>\n",
       "    </tr>\n",
       "    <tr>\n",
       "      <th>5</th>\n",
       "      <td>6</td>\n",
       "      <td>99.109917</td>\n",
       "      <td>9.114560</td>\n",
       "      <td>NaN</td>\n",
       "      <td>NaN</td>\n",
       "      <td>NaN</td>\n",
       "      <td>NaN</td>\n",
       "      <td>NaN</td>\n",
       "      <td>NaN</td>\n",
       "      <td>NaN</td>\n",
       "    </tr>\n",
       "    <tr>\n",
       "      <th>6</th>\n",
       "      <td>7</td>\n",
       "      <td>98.061600</td>\n",
       "      <td>NaN</td>\n",
       "      <td>NaN</td>\n",
       "      <td>NaN</td>\n",
       "      <td>NaN</td>\n",
       "      <td>NaN</td>\n",
       "      <td>NaN</td>\n",
       "      <td>NaN</td>\n",
       "      <td>NaN</td>\n",
       "    </tr>\n",
       "    <tr>\n",
       "      <th>7</th>\n",
       "      <td>8</td>\n",
       "      <td>155.282394</td>\n",
       "      <td>NaN</td>\n",
       "      <td>NaN</td>\n",
       "      <td>NaN</td>\n",
       "      <td>NaN</td>\n",
       "      <td>NaN</td>\n",
       "      <td>NaN</td>\n",
       "      <td>NaN</td>\n",
       "      <td>NaN</td>\n",
       "    </tr>\n",
       "    <tr>\n",
       "      <th>8</th>\n",
       "      <td>9</td>\n",
       "      <td>113.393279</td>\n",
       "      <td>9.143681</td>\n",
       "      <td>NaN</td>\n",
       "      <td>NaN</td>\n",
       "      <td>NaN</td>\n",
       "      <td>NaN</td>\n",
       "      <td>NaN</td>\n",
       "      <td>NaN</td>\n",
       "      <td>NaN</td>\n",
       "    </tr>\n",
       "    <tr>\n",
       "      <th>9</th>\n",
       "      <td>10</td>\n",
       "      <td>81.244796</td>\n",
       "      <td>12.376000</td>\n",
       "      <td>NaN</td>\n",
       "      <td>NaN</td>\n",
       "      <td>NaN</td>\n",
       "      <td>NaN</td>\n",
       "      <td>NaN</td>\n",
       "      <td>NaN</td>\n",
       "      <td>NaN</td>\n",
       "    </tr>\n",
       "  </tbody>\n",
       "</table>\n",
       "</div>"
      ],
      "text/plain": [
       "   key      Wire 1     Wire 2  Wire 3  Wire 4  Wire 5  Wire 6  Wire 7  Wire 8  \\\n",
       "0    1   60.059998        NaN     NaN     NaN     NaN     NaN     NaN     NaN   \n",
       "1    2   96.052315        NaN     NaN     NaN     NaN     NaN     NaN     NaN   \n",
       "2    3   91.160157        NaN     NaN     NaN     NaN     NaN     NaN     NaN   \n",
       "3    4   89.063515        NaN     NaN     NaN     NaN     NaN     NaN     NaN   \n",
       "4    5   89.238236   9.114560     NaN     NaN     NaN     NaN     NaN     NaN   \n",
       "5    6   99.109917   9.114560     NaN     NaN     NaN     NaN     NaN     NaN   \n",
       "6    7   98.061600        NaN     NaN     NaN     NaN     NaN     NaN     NaN   \n",
       "7    8  155.282394        NaN     NaN     NaN     NaN     NaN     NaN     NaN   \n",
       "8    9  113.393279   9.143681     NaN     NaN     NaN     NaN     NaN     NaN   \n",
       "9   10   81.244796  12.376000     NaN     NaN     NaN     NaN     NaN     NaN   \n",
       "\n",
       "   Wire 9  \n",
       "0     NaN  \n",
       "1     NaN  \n",
       "2     NaN  \n",
       "3     NaN  \n",
       "4     NaN  \n",
       "5     NaN  \n",
       "6     NaN  \n",
       "7     NaN  \n",
       "8     NaN  \n",
       "9     NaN  "
      ]
     },
     "metadata": {},
     "output_type": "display_data"
    },
    {
     "name": "stdout",
     "output_type": "stream",
     "text": [
      "\n",
      "<class 'pandas.core.frame.DataFrame'>\n",
      "RangeIndex: 3081 entries, 0 to 3080\n",
      "Data columns (total 10 columns):\n",
      " #   Column  Non-Null Count  Dtype  \n",
      "---  ------  --------------  -----  \n",
      " 0   key     3081 non-null   int64  \n",
      " 1   Wire 1  3055 non-null   float64\n",
      " 2   Wire 2  1079 non-null   float64\n",
      " 3   Wire 3  63 non-null     float64\n",
      " 4   Wire 4  14 non-null     float64\n",
      " 5   Wire 5  1 non-null      float64\n",
      " 6   Wire 6  73 non-null     float64\n",
      " 7   Wire 7  11 non-null     float64\n",
      " 8   Wire 8  19 non-null     float64\n",
      " 9   Wire 9  29 non-null     float64\n",
      "dtypes: float64(9), int64(1)\n",
      "memory usage: 240.8 KB\n"
     ]
    },
    {
     "data": {
      "text/plain": [
       "None"
      ]
     },
     "metadata": {},
     "output_type": "display_data"
    },
    {
     "name": "stdout",
     "output_type": "stream",
     "text": [
      "Данные о проволочных материалах (время)\n"
     ]
    },
    {
     "data": {
      "text/html": [
       "<div>\n",
       "<style scoped>\n",
       "    .dataframe tbody tr th:only-of-type {\n",
       "        vertical-align: middle;\n",
       "    }\n",
       "\n",
       "    .dataframe tbody tr th {\n",
       "        vertical-align: top;\n",
       "    }\n",
       "\n",
       "    .dataframe thead th {\n",
       "        text-align: right;\n",
       "    }\n",
       "</style>\n",
       "<table border=\"1\" class=\"dataframe\">\n",
       "  <thead>\n",
       "    <tr style=\"text-align: right;\">\n",
       "      <th></th>\n",
       "      <th>key</th>\n",
       "      <th>Wire 1</th>\n",
       "      <th>Wire 2</th>\n",
       "      <th>Wire 3</th>\n",
       "      <th>Wire 4</th>\n",
       "      <th>Wire 5</th>\n",
       "      <th>Wire 6</th>\n",
       "      <th>Wire 7</th>\n",
       "      <th>Wire 8</th>\n",
       "      <th>Wire 9</th>\n",
       "    </tr>\n",
       "  </thead>\n",
       "  <tbody>\n",
       "    <tr>\n",
       "      <th>0</th>\n",
       "      <td>1</td>\n",
       "      <td>2019-05-03 11:11:41</td>\n",
       "      <td>NaN</td>\n",
       "      <td>NaN</td>\n",
       "      <td>NaN</td>\n",
       "      <td>NaN</td>\n",
       "      <td>NaN</td>\n",
       "      <td>NaN</td>\n",
       "      <td>NaN</td>\n",
       "      <td>NaN</td>\n",
       "    </tr>\n",
       "    <tr>\n",
       "      <th>1</th>\n",
       "      <td>2</td>\n",
       "      <td>2019-05-03 11:46:10</td>\n",
       "      <td>NaN</td>\n",
       "      <td>NaN</td>\n",
       "      <td>NaN</td>\n",
       "      <td>NaN</td>\n",
       "      <td>NaN</td>\n",
       "      <td>NaN</td>\n",
       "      <td>NaN</td>\n",
       "      <td>NaN</td>\n",
       "    </tr>\n",
       "    <tr>\n",
       "      <th>2</th>\n",
       "      <td>3</td>\n",
       "      <td>2019-05-03 12:13:47</td>\n",
       "      <td>NaN</td>\n",
       "      <td>NaN</td>\n",
       "      <td>NaN</td>\n",
       "      <td>NaN</td>\n",
       "      <td>NaN</td>\n",
       "      <td>NaN</td>\n",
       "      <td>NaN</td>\n",
       "      <td>NaN</td>\n",
       "    </tr>\n",
       "    <tr>\n",
       "      <th>3</th>\n",
       "      <td>4</td>\n",
       "      <td>2019-05-03 12:48:05</td>\n",
       "      <td>NaN</td>\n",
       "      <td>NaN</td>\n",
       "      <td>NaN</td>\n",
       "      <td>NaN</td>\n",
       "      <td>NaN</td>\n",
       "      <td>NaN</td>\n",
       "      <td>NaN</td>\n",
       "      <td>NaN</td>\n",
       "    </tr>\n",
       "    <tr>\n",
       "      <th>4</th>\n",
       "      <td>5</td>\n",
       "      <td>2019-05-03 13:18:15</td>\n",
       "      <td>2019-05-03 13:32:06</td>\n",
       "      <td>NaN</td>\n",
       "      <td>NaN</td>\n",
       "      <td>NaN</td>\n",
       "      <td>NaN</td>\n",
       "      <td>NaN</td>\n",
       "      <td>NaN</td>\n",
       "      <td>NaN</td>\n",
       "    </tr>\n",
       "    <tr>\n",
       "      <th>5</th>\n",
       "      <td>6</td>\n",
       "      <td>2019-05-03 13:59:02</td>\n",
       "      <td>2019-05-03 13:59:54</td>\n",
       "      <td>NaN</td>\n",
       "      <td>NaN</td>\n",
       "      <td>NaN</td>\n",
       "      <td>NaN</td>\n",
       "      <td>NaN</td>\n",
       "      <td>NaN</td>\n",
       "      <td>NaN</td>\n",
       "    </tr>\n",
       "    <tr>\n",
       "      <th>6</th>\n",
       "      <td>7</td>\n",
       "      <td>2019-05-03 14:28:46</td>\n",
       "      <td>NaN</td>\n",
       "      <td>NaN</td>\n",
       "      <td>NaN</td>\n",
       "      <td>NaN</td>\n",
       "      <td>NaN</td>\n",
       "      <td>NaN</td>\n",
       "      <td>NaN</td>\n",
       "      <td>NaN</td>\n",
       "    </tr>\n",
       "    <tr>\n",
       "      <th>7</th>\n",
       "      <td>8</td>\n",
       "      <td>2019-05-03 15:03:42</td>\n",
       "      <td>NaN</td>\n",
       "      <td>NaN</td>\n",
       "      <td>NaN</td>\n",
       "      <td>NaN</td>\n",
       "      <td>NaN</td>\n",
       "      <td>NaN</td>\n",
       "      <td>NaN</td>\n",
       "      <td>NaN</td>\n",
       "    </tr>\n",
       "    <tr>\n",
       "      <th>8</th>\n",
       "      <td>9</td>\n",
       "      <td>2019-05-03 15:42:43</td>\n",
       "      <td>2019-05-03 15:58:12</td>\n",
       "      <td>NaN</td>\n",
       "      <td>NaN</td>\n",
       "      <td>NaN</td>\n",
       "      <td>NaN</td>\n",
       "      <td>NaN</td>\n",
       "      <td>NaN</td>\n",
       "      <td>NaN</td>\n",
       "    </tr>\n",
       "    <tr>\n",
       "      <th>9</th>\n",
       "      <td>10</td>\n",
       "      <td>2019-05-03 16:20:25</td>\n",
       "      <td>2019-05-03 16:21:02</td>\n",
       "      <td>NaN</td>\n",
       "      <td>NaN</td>\n",
       "      <td>NaN</td>\n",
       "      <td>NaN</td>\n",
       "      <td>NaN</td>\n",
       "      <td>NaN</td>\n",
       "      <td>NaN</td>\n",
       "    </tr>\n",
       "  </tbody>\n",
       "</table>\n",
       "</div>"
      ],
      "text/plain": [
       "   key               Wire 1               Wire 2 Wire 3 Wire 4 Wire 5 Wire 6  \\\n",
       "0    1  2019-05-03 11:11:41                  NaN    NaN    NaN    NaN    NaN   \n",
       "1    2  2019-05-03 11:46:10                  NaN    NaN    NaN    NaN    NaN   \n",
       "2    3  2019-05-03 12:13:47                  NaN    NaN    NaN    NaN    NaN   \n",
       "3    4  2019-05-03 12:48:05                  NaN    NaN    NaN    NaN    NaN   \n",
       "4    5  2019-05-03 13:18:15  2019-05-03 13:32:06    NaN    NaN    NaN    NaN   \n",
       "5    6  2019-05-03 13:59:02  2019-05-03 13:59:54    NaN    NaN    NaN    NaN   \n",
       "6    7  2019-05-03 14:28:46                  NaN    NaN    NaN    NaN    NaN   \n",
       "7    8  2019-05-03 15:03:42                  NaN    NaN    NaN    NaN    NaN   \n",
       "8    9  2019-05-03 15:42:43  2019-05-03 15:58:12    NaN    NaN    NaN    NaN   \n",
       "9   10  2019-05-03 16:20:25  2019-05-03 16:21:02    NaN    NaN    NaN    NaN   \n",
       "\n",
       "  Wire 7 Wire 8 Wire 9  \n",
       "0    NaN    NaN    NaN  \n",
       "1    NaN    NaN    NaN  \n",
       "2    NaN    NaN    NaN  \n",
       "3    NaN    NaN    NaN  \n",
       "4    NaN    NaN    NaN  \n",
       "5    NaN    NaN    NaN  \n",
       "6    NaN    NaN    NaN  \n",
       "7    NaN    NaN    NaN  \n",
       "8    NaN    NaN    NaN  \n",
       "9    NaN    NaN    NaN  "
      ]
     },
     "metadata": {},
     "output_type": "display_data"
    },
    {
     "name": "stdout",
     "output_type": "stream",
     "text": [
      "\n",
      "<class 'pandas.core.frame.DataFrame'>\n",
      "RangeIndex: 3081 entries, 0 to 3080\n",
      "Data columns (total 10 columns):\n",
      " #   Column  Non-Null Count  Dtype \n",
      "---  ------  --------------  ----- \n",
      " 0   key     3081 non-null   int64 \n",
      " 1   Wire 1  3055 non-null   object\n",
      " 2   Wire 2  1079 non-null   object\n",
      " 3   Wire 3  63 non-null     object\n",
      " 4   Wire 4  14 non-null     object\n",
      " 5   Wire 5  1 non-null      object\n",
      " 6   Wire 6  73 non-null     object\n",
      " 7   Wire 7  11 non-null     object\n",
      " 8   Wire 8  19 non-null     object\n",
      " 9   Wire 9  29 non-null     object\n",
      "dtypes: int64(1), object(9)\n",
      "memory usage: 240.8+ KB\n"
     ]
    },
    {
     "data": {
      "text/plain": [
       "None"
      ]
     },
     "metadata": {},
     "output_type": "display_data"
    }
   ],
   "source": [
    "for data in datasets:\n",
    "    print(data)\n",
    "    display(datasets[data].head(10))\n",
    "    print()\n",
    "    display(datasets[data].info())\n"
   ]
  },
  {
   "cell_type": "markdown",
   "id": "65f33c35",
   "metadata": {},
   "source": [
    "- `data_arc.csv` — данные об электродах\\\n",
    "В данных отсутствуют пропуски, также с помощью реактивной и активной мощностей можно расчитать полную мощность. Произведение полной мощности на время нагрева даст энергию, затрачиваемую при нагреве.\n",
    "- `data_bulk.csv`,`data_bulk_time.csv`,`data_wire.csv``data_wire_time.csv`\\\n",
    "В этих данных находится информация о времени и объёмах легирующих изначальный сплав добавках, присутствует большое количество пропусков, которые целесообразно заполнить нулями.\n",
    "- `data_gas.csv` — данные о продувке сплава газом\\\n",
    "Содержит общее количественное значение о продувке сплава газом, пропуски отсутствуют.\n",
    "- `data_temp.csv` — результаты измерения температуры\\\n",
    "Содержит время и замера и целевой признак исследования - температуру, имеется около 3000 пропусков, которые, вероятнее всего, придётся отбросить\n"
   ]
  },
  {
   "cell_type": "markdown",
   "id": "a35e5f47",
   "metadata": {},
   "source": [
    "### **Продолжим исследовать данные**"
   ]
  },
  {
   "cell_type": "markdown",
   "id": "ea8ba8a5",
   "metadata": {},
   "source": [
    "Построим по порядку \"ящики с усами\" для имеющихся данных"
   ]
  },
  {
   "cell_type": "code",
   "execution_count": 6,
   "id": "a770e3ef",
   "metadata": {},
   "outputs": [
    {
     "data": {
      "image/png": "[encoded data removed]",
      "text/plain": [
       "<Figure size 1440x360 with 1 Axes>"
      ]
     },
     "metadata": {
      "needs_background": "light"
     },
     "output_type": "display_data"
    },
    {
     "data": {
      "image/png": "[encoded data removed]",
      "text/plain": [
       "<Figure size 1440x360 with 1 Axes>"
      ]
     },
     "metadata": {
      "needs_background": "light"
     },
     "output_type": "display_data"
    }
   ],
   "source": [
    "plt.figure(figsize=(20, 5))\n",
    "df_arc.boxplot('Активная мощность', vert=False)\n",
    "plt.show()\n",
    "\n",
    "plt.figure(figsize=(20, 5))\n",
    "df_arc.boxplot('Реактивная мощность', vert=False)\n",
    "plt.show()"
   ]
  },
  {
   "cell_type": "markdown",
   "id": "e8b53cf3",
   "metadata": {},
   "source": [
    "Видно наличие единичного выброса в реактивной мощности, для более корректной оценки сразу избавимся от него"
   ]
  },
  {
   "cell_type": "code",
   "execution_count": 7,
   "id": "6c0b6179",
   "metadata": {},
   "outputs": [],
   "source": [
    "df_arc = df_arc[df_arc['Реактивная мощность'] > 0]"
   ]
  },
  {
   "cell_type": "code",
   "execution_count": 8,
   "id": "1e60874f",
   "metadata": {},
   "outputs": [
    {
     "data": {
      "image/png": "[encoded data removed]",
      "text/plain": [
       "<Figure size 1440x360 with 1 Axes>"
      ]
     },
     "metadata": {
      "needs_background": "light"
     },
     "output_type": "display_data"
    }
   ],
   "source": [
    "plt.figure(figsize=(20, 5))\n",
    "df_arc.boxplot('Реактивная мощность', vert=False)\n",
    "plt.show()"
   ]
  },
  {
   "cell_type": "markdown",
   "id": "6d9d634f",
   "metadata": {},
   "source": [
    "Также построим распределения для данных столбцов"
   ]
  },
  {
   "cell_type": "code",
   "execution_count": 9,
   "id": "77efd02d",
   "metadata": {
    "scrolled": false
   },
   "outputs": [
    {
     "data": {
      "image/png": "[encoded data removed]",
      "text/plain": [
       "<Figure size 1080x720 with 1 Axes>"
      ]
     },
     "metadata": {
      "needs_background": "light"
     },
     "output_type": "display_data"
    },
    {
     "data": {
      "image/png": "[encoded data removed]",
      "text/plain": [
       "<Figure size 1080x720 with 1 Axes>"
      ]
     },
     "metadata": {
      "needs_background": "light"
     },
     "output_type": "display_data"
    }
   ],
   "source": [
    "plt.figure(figsize=(15,10))\n",
    "sns.histplot(df_arc['Активная мощность'], kde=True, line_kws = {'color': 'black', 'lw':5}, color='orange', bins = 200)\n",
    "plt.show()\n",
    "\n",
    "plt.figure(figsize=(15,10))\n",
    "sns.histplot(df_arc['Реактивная мощность'], kde=True, line_kws = {'color' : 'black', 'lw':5}, bins = 200, color='orange')\n",
    "plt.show()\n",
    "\n"
   ]
  },
  {
   "cell_type": "markdown",
   "id": "47ab526d",
   "metadata": {},
   "source": [
    "По результатам анализа нужно узнать у заказчика, нужно ли оставить выбросы, является ли это каким-либо редкоиспользуемым режимом работы нагревательной конструкции, либо нужно от них избавиться."
   ]
  },
  {
   "cell_type": "code",
   "execution_count": 10,
   "id": "dab949ed",
   "metadata": {},
   "outputs": [
    {
     "data": {
      "image/png": "[encoded data removed]",
      "text/plain": [
       "<Figure size 1440x1440 with 1 Axes>"
      ]
     },
     "metadata": {
      "needs_background": "light"
     },
     "output_type": "display_data"
    }
   ],
   "source": [
    "plt.figure(figsize=(20, 20))\n",
    "df_bulk.boxplot([col for col in df_bulk.columns if col != 'key'], vert=False,color = 'Blue')\n",
    "plt.show()"
   ]
  },
  {
   "cell_type": "code",
   "execution_count": 11,
   "id": "e5266f5d",
   "metadata": {},
   "outputs": [
    {
     "data": {
      "image/png": "[encoded data removed]",
      "text/plain": [
       "<Figure size 1440x1440 with 1 Axes>"
      ]
     },
     "metadata": {
      "needs_background": "light"
     },
     "output_type": "display_data"
    }
   ],
   "source": [
    "plt.figure(figsize=(20, 20))\n",
    "df_wire.boxplot([col for col in df_wire.columns if col != 'key'], vert=False, color = 'Blue')\n",
    "plt.show()"
   ]
  },
  {
   "cell_type": "markdown",
   "id": "75f4a67d",
   "metadata": {},
   "source": [
    "По полученным результатам можно сделать вывод о необходимости уточнить информацию по выбросам, так как они очень сконцентрированны, поэтому следует убедиться в необходимости от них избавиться, либо же принять как варианты создания редких сплавов"
   ]
  },
  {
   "cell_type": "code",
   "execution_count": 12,
   "id": "4fa4b15a",
   "metadata": {},
   "outputs": [
    {
     "data": {
      "image/png": "[encoded data removed]",
      "text/plain": [
       "<Figure size 1440x360 with 1 Axes>"
      ]
     },
     "metadata": {
      "needs_background": "light"
     },
     "output_type": "display_data"
    },
    {
     "data": {
      "image/png": "[encoded data removed]",
      "text/plain": [
       "<Figure size 1080x720 with 1 Axes>"
      ]
     },
     "metadata": {
      "needs_background": "light"
     },
     "output_type": "display_data"
    }
   ],
   "source": [
    "plt.figure(figsize=(20, 5))\n",
    "df_gas.boxplot('Газ 1', vert=False, color = 'Blue')\n",
    "plt.show()\n",
    "\n",
    "plt.figure(figsize=(15,10))\n",
    "sns.histplot(df_gas['Газ 1'], kde=True, line_kws={'lw':8}, bins = 200, color='orange')\n",
    "plt.show()"
   ]
  },
  {
   "cell_type": "markdown",
   "id": "709085f1",
   "metadata": {},
   "source": [
    "По анологии с предыдущими данными есть ряд сконцентрированных значений, касаемо которых необходимо произвести уточнение"
   ]
  },
  {
   "cell_type": "code",
   "execution_count": 13,
   "id": "0bbd3b61",
   "metadata": {
    "scrolled": false
   },
   "outputs": [
    {
     "data": {
      "image/png": "[encoded data removed]",
      "text/plain": [
       "<Figure size 1440x360 with 1 Axes>"
      ]
     },
     "metadata": {
      "needs_background": "light"
     },
     "output_type": "display_data"
    },
    {
     "data": {
      "image/png": "[encoded data removed]",
      "text/plain": [
       "<Figure size 1080x720 with 1 Axes>"
      ]
     },
     "metadata": {
      "needs_background": "light"
     },
     "output_type": "display_data"
    }
   ],
   "source": [
    "plt.figure(figsize=(20, 5))\n",
    "df_temp.boxplot('Температура', vert=False)\n",
    "plt.show()\n",
    "\n",
    "plt.figure(figsize=(15,10))\n",
    "sns.histplot(df_temp['Температура'], kde=True, line_kws={'lw':5})\n",
    "plt.show()"
   ]
  },
  {
   "cell_type": "code",
   "execution_count": 14,
   "id": "c6d53573",
   "metadata": {},
   "outputs": [
    {
     "data": {
      "text/html": [
       "<div>\n",
       "<style scoped>\n",
       "    .dataframe tbody tr th:only-of-type {\n",
       "        vertical-align: middle;\n",
       "    }\n",
       "\n",
       "    .dataframe tbody tr th {\n",
       "        vertical-align: top;\n",
       "    }\n",
       "\n",
       "    .dataframe thead th {\n",
       "        text-align: right;\n",
       "    }\n",
       "</style>\n",
       "<table border=\"1\" class=\"dataframe\">\n",
       "  <thead>\n",
       "    <tr style=\"text-align: right;\">\n",
       "      <th></th>\n",
       "      <th>key</th>\n",
       "      <th>Температура</th>\n",
       "    </tr>\n",
       "  </thead>\n",
       "  <tbody>\n",
       "    <tr>\n",
       "      <th>count</th>\n",
       "      <td>15907.000000</td>\n",
       "      <td>13006.000000</td>\n",
       "    </tr>\n",
       "    <tr>\n",
       "      <th>mean</th>\n",
       "      <td>1607.880870</td>\n",
       "      <td>1591.840920</td>\n",
       "    </tr>\n",
       "    <tr>\n",
       "      <th>std</th>\n",
       "      <td>942.212073</td>\n",
       "      <td>21.375851</td>\n",
       "    </tr>\n",
       "    <tr>\n",
       "      <th>min</th>\n",
       "      <td>1.000000</td>\n",
       "      <td>1191.000000</td>\n",
       "    </tr>\n",
       "    <tr>\n",
       "      <th>25%</th>\n",
       "      <td>790.000000</td>\n",
       "      <td>1581.000000</td>\n",
       "    </tr>\n",
       "    <tr>\n",
       "      <th>50%</th>\n",
       "      <td>1618.000000</td>\n",
       "      <td>1591.000000</td>\n",
       "    </tr>\n",
       "    <tr>\n",
       "      <th>75%</th>\n",
       "      <td>2427.000000</td>\n",
       "      <td>1601.000000</td>\n",
       "    </tr>\n",
       "    <tr>\n",
       "      <th>max</th>\n",
       "      <td>3241.000000</td>\n",
       "      <td>1705.000000</td>\n",
       "    </tr>\n",
       "  </tbody>\n",
       "</table>\n",
       "</div>"
      ],
      "text/plain": [
       "                key   Температура\n",
       "count  15907.000000  13006.000000\n",
       "mean    1607.880870   1591.840920\n",
       "std      942.212073     21.375851\n",
       "min        1.000000   1191.000000\n",
       "25%      790.000000   1581.000000\n",
       "50%     1618.000000   1591.000000\n",
       "75%     2427.000000   1601.000000\n",
       "max     3241.000000   1705.000000"
      ]
     },
     "execution_count": 14,
     "metadata": {},
     "output_type": "execute_result"
    }
   ],
   "source": [
    "df_temp.describe()"
   ]
  },
  {
   "cell_type": "markdown",
   "id": "75eb6682",
   "metadata": {},
   "source": [
    "По результатам исследования температуры можно сделать вывод о наличии большинства значений в диапазоне от 1500 до 1650, однако при наличии у заказчика информации, можно узнать более точный диапазон, который скорее всего нормирован документами, либо условиями эксплуатации. Также заметны просадки в histplot, которые указывают, что распределение не нормальное, возможно стоит **логарифмировать** значения"
   ]
  },
  {
   "cell_type": "markdown",
   "id": "185a1c0d",
   "metadata": {},
   "source": [
    "### Вывод"
   ]
  },
  {
   "cell_type": "markdown",
   "id": "150a0159",
   "metadata": {},
   "source": [
    "- `data_arc.csv`\n",
    "- `data_bulk.csv`  \n",
    "- `data_gas.csv`\n",
    "- `data_temp.csv`\n",
    "- `data_wire.csv`\\\n",
    "Касаемо перечисленных столбцов необходимо задать уточняющие вопросы заказчику по поводу некоторых выбросов, полученных в результате исследования данных \\\n",
    "`data_bulk.csv`, `data_wire.csv` пропуски в данных файлах необходимо заполнить нулями \\\n",
    "`data_temp.csv` - пропуски в данном датасете нужно устранить по результатам общения с заказчиком.\n",
    "\n",
    "\n"
   ]
  },
  {
   "cell_type": "markdown",
   "id": "722f1340",
   "metadata": {},
   "source": [
    "## Проверка корректности данных"
   ]
  },
  {
   "cell_type": "markdown",
   "id": "129c2d75",
   "metadata": {},
   "source": [
    "Необходимо проверить данные на подчинение логике, а именно в таблице с целевым признаком удостовериться в том, что начальная температура ниже конечной, а также достоверность временной хронологии"
   ]
  },
  {
   "cell_type": "code",
   "execution_count": 15,
   "id": "24226e4b",
   "metadata": {},
   "outputs": [],
   "source": [
    "# преобразовываем в нужный данные\n",
    "df_temp['Время замера'] = pd.to_datetime(df_temp['Время замера'], format='%Y-%m-%d %H:%M:%S')\n",
    "\n",
    "# создаём сводную таблицу с последним измерением температуры \n",
    "df_temp_first = df_temp.groupby('key').agg('min')['Время замера']\n",
    "df_temp_first = pd.DataFrame(df_temp_first)\n",
    "df_temp_first = df_temp_first.merge(df_temp, on='Время замера', how='left')\n",
    "df_temp_first.set_axis(['time_first','key','temp_first'], axis = 'columns', inplace = True)\n",
    "\n",
    "# создаём сводную таблицу с первым измерением\n",
    "df_temp_last = df_temp.groupby('key').agg('max')['Время замера']\n",
    "df_temp_last = pd.DataFrame(df_temp_last)\n",
    "df_temp_last = df_temp_last.merge(df_temp, on='Время замера', how='left')\n",
    "df_temp_last.set_axis(['time_last','key','temp_last'], axis = 'columns', inplace = True)\n",
    "\n",
    "\n",
    "df_check = df_temp_first.merge(df_temp_last, on='key', how='left')\\\n",
    "                  .reindex(columns=['key', 'time_first', 'temp_first', 'time_last', 'temp_last'])\n"
   ]
  },
  {
   "cell_type": "markdown",
   "id": "e19260e3",
   "metadata": {},
   "source": [
    "Посмотрим полученный датасет"
   ]
  },
  {
   "cell_type": "code",
   "execution_count": 16,
   "id": "40d56fdd",
   "metadata": {
    "scrolled": true
   },
   "outputs": [
    {
     "data": {
      "text/html": [
       "<div>\n",
       "<style scoped>\n",
       "    .dataframe tbody tr th:only-of-type {\n",
       "        vertical-align: middle;\n",
       "    }\n",
       "\n",
       "    .dataframe tbody tr th {\n",
       "        vertical-align: top;\n",
       "    }\n",
       "\n",
       "    .dataframe thead th {\n",
       "        text-align: right;\n",
       "    }\n",
       "</style>\n",
       "<table border=\"1\" class=\"dataframe\">\n",
       "  <thead>\n",
       "    <tr style=\"text-align: right;\">\n",
       "      <th></th>\n",
       "      <th>key</th>\n",
       "      <th>time_first</th>\n",
       "      <th>temp_first</th>\n",
       "      <th>time_last</th>\n",
       "      <th>temp_last</th>\n",
       "    </tr>\n",
       "  </thead>\n",
       "  <tbody>\n",
       "    <tr>\n",
       "      <th>0</th>\n",
       "      <td>1</td>\n",
       "      <td>2019-05-03 11:16:18</td>\n",
       "      <td>1571.0</td>\n",
       "      <td>2019-05-03 11:30:39</td>\n",
       "      <td>1613.0</td>\n",
       "    </tr>\n",
       "    <tr>\n",
       "      <th>1</th>\n",
       "      <td>2</td>\n",
       "      <td>2019-05-03 11:37:27</td>\n",
       "      <td>1581.0</td>\n",
       "      <td>2019-05-03 11:59:12</td>\n",
       "      <td>1602.0</td>\n",
       "    </tr>\n",
       "    <tr>\n",
       "      <th>2</th>\n",
       "      <td>3</td>\n",
       "      <td>2019-05-03 12:13:17</td>\n",
       "      <td>1596.0</td>\n",
       "      <td>2019-05-03 12:34:57</td>\n",
       "      <td>1599.0</td>\n",
       "    </tr>\n",
       "    <tr>\n",
       "      <th>3</th>\n",
       "      <td>4</td>\n",
       "      <td>2019-05-03 12:52:57</td>\n",
       "      <td>1601.0</td>\n",
       "      <td>2019-05-03 12:59:25</td>\n",
       "      <td>1625.0</td>\n",
       "    </tr>\n",
       "    <tr>\n",
       "      <th>4</th>\n",
       "      <td>5</td>\n",
       "      <td>2019-05-03 13:23:19</td>\n",
       "      <td>1576.0</td>\n",
       "      <td>2019-05-03 13:36:01</td>\n",
       "      <td>1602.0</td>\n",
       "    </tr>\n",
       "    <tr>\n",
       "      <th>5</th>\n",
       "      <td>6</td>\n",
       "      <td>2019-05-03 13:49:24</td>\n",
       "      <td>1543.0</td>\n",
       "      <td>2019-05-03 14:12:29</td>\n",
       "      <td>1596.0</td>\n",
       "    </tr>\n",
       "    <tr>\n",
       "      <th>6</th>\n",
       "      <td>7</td>\n",
       "      <td>2019-05-03 14:19:43</td>\n",
       "      <td>1586.0</td>\n",
       "      <td>2019-05-03 14:42:37</td>\n",
       "      <td>1599.0</td>\n",
       "    </tr>\n",
       "    <tr>\n",
       "      <th>7</th>\n",
       "      <td>8</td>\n",
       "      <td>2019-05-03 15:07:18</td>\n",
       "      <td>1577.0</td>\n",
       "      <td>2019-05-03 15:22:52</td>\n",
       "      <td>1598.0</td>\n",
       "    </tr>\n",
       "    <tr>\n",
       "      <th>8</th>\n",
       "      <td>9</td>\n",
       "      <td>2019-05-03 15:37:03</td>\n",
       "      <td>1587.0</td>\n",
       "      <td>2019-05-03 16:01:16</td>\n",
       "      <td>1592.0</td>\n",
       "    </tr>\n",
       "    <tr>\n",
       "      <th>9</th>\n",
       "      <td>10</td>\n",
       "      <td>2019-05-03 16:14:29</td>\n",
       "      <td>1574.0</td>\n",
       "      <td>2019-05-03 16:36:08</td>\n",
       "      <td>1593.0</td>\n",
       "    </tr>\n",
       "  </tbody>\n",
       "</table>\n",
       "</div>"
      ],
      "text/plain": [
       "   key          time_first  temp_first           time_last  temp_last\n",
       "0    1 2019-05-03 11:16:18      1571.0 2019-05-03 11:30:39     1613.0\n",
       "1    2 2019-05-03 11:37:27      1581.0 2019-05-03 11:59:12     1602.0\n",
       "2    3 2019-05-03 12:13:17      1596.0 2019-05-03 12:34:57     1599.0\n",
       "3    4 2019-05-03 12:52:57      1601.0 2019-05-03 12:59:25     1625.0\n",
       "4    5 2019-05-03 13:23:19      1576.0 2019-05-03 13:36:01     1602.0\n",
       "5    6 2019-05-03 13:49:24      1543.0 2019-05-03 14:12:29     1596.0\n",
       "6    7 2019-05-03 14:19:43      1586.0 2019-05-03 14:42:37     1599.0\n",
       "7    8 2019-05-03 15:07:18      1577.0 2019-05-03 15:22:52     1598.0\n",
       "8    9 2019-05-03 15:37:03      1587.0 2019-05-03 16:01:16     1592.0\n",
       "9   10 2019-05-03 16:14:29      1574.0 2019-05-03 16:36:08     1593.0"
      ]
     },
     "execution_count": 16,
     "metadata": {},
     "output_type": "execute_result"
    }
   ],
   "source": [
    "df_check.head(10)"
   ]
  },
  {
   "cell_type": "code",
   "execution_count": 17,
   "id": "7e78176a",
   "metadata": {
    "scrolled": true
   },
   "outputs": [
    {
     "name": "stdout",
     "output_type": "stream",
     "text": [
      "Пропуски целевого признака 739\n"
     ]
    }
   ],
   "source": [
    "print('Пропуски целевого признака',df_check['temp_last'].isna().sum())"
   ]
  },
  {
   "cell_type": "code",
   "execution_count": 18,
   "id": "a217a8d2",
   "metadata": {},
   "outputs": [],
   "source": [
    "df_check = df_check.dropna()"
   ]
  },
  {
   "cell_type": "markdown",
   "id": "a20dda26",
   "metadata": {},
   "source": [
    "Найдём число строк, которые не пройдут проверку"
   ]
  },
  {
   "cell_type": "code",
   "execution_count": 19,
   "id": "a5d6309c",
   "metadata": {},
   "outputs": [],
   "source": [
    "def check_time(row):\n",
    "    return row['time_last'] >= row['max_time']\n",
    "\n",
    "# \n",
    "def list_of_errors(list_of_data):\n",
    "    data = df_check[['key', 'time_last']].merge(list_of_data[0], on='key', how='left')\n",
    "    for dataset in list_of_data[1:]:\n",
    "        data = data.merge(dataset, on='key', how='left')\n",
    "    data['max_time'] = data.drop('key', axis=1).max(axis=1)\n",
    "    data['check_error'] = data.apply(check_time, axis=1)\n",
    "    keys = list(data[data['check_error'] == 0]['key'])\n",
    "    return keys"
   ]
  },
  {
   "cell_type": "code",
   "execution_count": 20,
   "id": "0fc8d584",
   "metadata": {},
   "outputs": [],
   "source": [
    "# преобразуем тип данных\n",
    "df_arc['Конец нагрева дугой'] = pd.to_datetime(df_arc['Конец нагрева дугой'], format='%Y-%m-%d %H:%M:%S')\n",
    "df_arc['Начало нагрева дугой'] = pd.to_datetime(df_arc['Начало нагрева дугой'], format='%Y-%m-%d %H:%M:%S')\n",
    "\n",
    "for col in df_bulk_time:\n",
    "    if col != 'key':\n",
    "        df_bulk_time[col] = pd.to_datetime(df_bulk_time[col], format='%Y-%m-%d %H:%M:%S')\n",
    "        \n",
    "for col in df_wire_time:\n",
    "    if col != 'key':\n",
    "        df_wire_time[col] = pd.to_datetime(df_wire_time[col], format='%Y-%m-%d %H:%M:%S')\n",
    "\n",
    "# создадим сводную таблицу, где есть время крайнего нагерва \n",
    "df_arc_maxtime = pd.DataFrame(df_arc.groupby('key').agg('max')['Конец нагрева дугой'])\n",
    "df_arc_maxtime.reset_index(inplace=True)"
   ]
  },
  {
   "cell_type": "code",
   "execution_count": 21,
   "id": "4828bc8b",
   "metadata": {},
   "outputs": [
    {
     "name": "stdout",
     "output_type": "stream",
     "text": [
      "Количество некорректных строк в данных 135\n"
     ]
    }
   ],
   "source": [
    "df_all_time = [df_arc_maxtime, df_bulk_time, df_wire_time]\n",
    "keys_errors = list_of_errors(df_all_time)\n",
    "\n",
    "print('Количество некорректных строк в данных',len(keys_errors))"
   ]
  },
  {
   "cell_type": "markdown",
   "id": "40ae166f",
   "metadata": {},
   "source": [
    "### Вывод"
   ]
  },
  {
   "cell_type": "markdown",
   "id": "e12965d7",
   "metadata": {},
   "source": [
    "Некорректными оказалось 135 строк, от которых в последующих пунктах нужно избавиться."
   ]
  },
  {
   "cell_type": "markdown",
   "id": "35cb520e",
   "metadata": {},
   "source": [
    "## Вопросы заказчику"
   ]
  },
  {
   "cell_type": "markdown",
   "id": "e9ae45e6",
   "metadata": {},
   "source": [
    "* Есть ли возможность заполнить пропуски в целевом признаке по какой-либо аналитической формуле? Или же стоит просто убрать пропуски?\n",
    "* Стоит ли убирать все значения в данных, которые считаются выбросами при построении \"ящика с усами\"? Или же это редкие случаи работы предприятия  и их стоит оставить?\n",
    "* Корректным ли будет добавить в качестве признака число добавок в сплав?\n",
    "* Необходимо уточнить нормированный документацией диапазон температур при производстве, или можно принять таковым полученные данные в исследовании?\n",
    "* Стоит ли добавить как признак полную мощность или энергию, затраченную на нагрев? (Можно рассчитать)\n",
    "* Есть либо какие ещё \"подводные камни\", необходимые знать человеку, который впервые работает с такой категорией промышленности?\n",
    "* Стоит ли добавить как признак время нагрева от первого замера до последнего?\n",
    "* Какая метрика необходима в данной задаче и какое количественное значение она должна принять?\n",
    "* Нужно ли учитывать время обучения модели в дальнейших этапах?"
   ]
  },
  {
   "cell_type": "markdown",
   "id": "233d7319",
   "metadata": {},
   "source": [
    " <div style=\"background-color:MintCream; border:solid CadetBlue 2px; padding: 20px\">\n",
    "<b>Итоговый комментарий:</b>  Отличный план и вопросы. Готова его принять, как только ты исправишь пути к данным.\n",
    "<div>"
   ]
  },
  {
   "cell_type": "markdown",
   "id": "c98712fc",
   "metadata": {},
   "source": [
    "## Предобработка данных"
   ]
  },
  {
   "cell_type": "markdown",
   "id": "df5e8200",
   "metadata": {},
   "source": [
    "Добавим дополнительный признак, а именно полную мощность по данным из `df_arc`:"
   ]
  },
  {
   "attachments": {
    "image.png": {
     "image/png": "[encoded data removed]"
    }
   },
   "cell_type": "markdown",
   "id": "1e9285b1",
   "metadata": {},
   "source": [
    "![image.png](attachment:image.png)"
   ]
  },
  {
   "cell_type": "markdown",
   "id": "d6c3650b",
   "metadata": {},
   "source": [
    "*Для справки: Часть полной мощности, которую удалось передать в нагрузку за период переменного тока, называется **активной мощностью** .Мощность, которая не была передана в нагрузку, а привела к потерям на нагрев и излучение, называется **реактивной мощностью**.*"
   ]
  },
  {
   "cell_type": "code",
   "execution_count": 22,
   "id": "e2028f92",
   "metadata": {},
   "outputs": [],
   "source": [
    "df_arc['Полная мощность'] = (df_arc['Активная мощность'] ** 2 + df_arc['Реактивная мощность'] ** 2) ** (0.5)\n",
    "df_arc['Время нагрева'] = (df_arc['Конец нагрева дугой'] - df_arc['Начало нагрева дугой'])\n",
    "df_arc['Время нагрева'] = df_arc['Время нагрева'].apply(pd.Timedelta.total_seconds).astype('int')"
   ]
  },
  {
   "cell_type": "code",
   "execution_count": 23,
   "id": "936ad906",
   "metadata": {},
   "outputs": [
    {
     "data": {
      "text/html": [
       "<div>\n",
       "<style scoped>\n",
       "    .dataframe tbody tr th:only-of-type {\n",
       "        vertical-align: middle;\n",
       "    }\n",
       "\n",
       "    .dataframe tbody tr th {\n",
       "        vertical-align: top;\n",
       "    }\n",
       "\n",
       "    .dataframe thead th {\n",
       "        text-align: right;\n",
       "    }\n",
       "</style>\n",
       "<table border=\"1\" class=\"dataframe\">\n",
       "  <thead>\n",
       "    <tr style=\"text-align: right;\">\n",
       "      <th></th>\n",
       "      <th>key</th>\n",
       "      <th>Начало нагрева дугой</th>\n",
       "      <th>Конец нагрева дугой</th>\n",
       "      <th>Активная мощность</th>\n",
       "      <th>Реактивная мощность</th>\n",
       "      <th>Полная мощность</th>\n",
       "      <th>Время нагрева</th>\n",
       "    </tr>\n",
       "  </thead>\n",
       "  <tbody>\n",
       "    <tr>\n",
       "      <th>0</th>\n",
       "      <td>1</td>\n",
       "      <td>2019-05-03 11:02:14</td>\n",
       "      <td>2019-05-03 11:06:02</td>\n",
       "      <td>0.976059</td>\n",
       "      <td>0.687084</td>\n",
       "      <td>1.193639</td>\n",
       "      <td>228</td>\n",
       "    </tr>\n",
       "    <tr>\n",
       "      <th>1</th>\n",
       "      <td>1</td>\n",
       "      <td>2019-05-03 11:07:28</td>\n",
       "      <td>2019-05-03 11:10:33</td>\n",
       "      <td>0.805607</td>\n",
       "      <td>0.520285</td>\n",
       "      <td>0.959010</td>\n",
       "      <td>185</td>\n",
       "    </tr>\n",
       "    <tr>\n",
       "      <th>2</th>\n",
       "      <td>1</td>\n",
       "      <td>2019-05-03 11:11:44</td>\n",
       "      <td>2019-05-03 11:14:36</td>\n",
       "      <td>0.744363</td>\n",
       "      <td>0.498805</td>\n",
       "      <td>0.896038</td>\n",
       "      <td>172</td>\n",
       "    </tr>\n",
       "    <tr>\n",
       "      <th>3</th>\n",
       "      <td>1</td>\n",
       "      <td>2019-05-03 11:18:14</td>\n",
       "      <td>2019-05-03 11:24:19</td>\n",
       "      <td>1.659363</td>\n",
       "      <td>1.062669</td>\n",
       "      <td>1.970470</td>\n",
       "      <td>365</td>\n",
       "    </tr>\n",
       "    <tr>\n",
       "      <th>4</th>\n",
       "      <td>1</td>\n",
       "      <td>2019-05-03 11:26:09</td>\n",
       "      <td>2019-05-03 11:28:37</td>\n",
       "      <td>0.692755</td>\n",
       "      <td>0.414397</td>\n",
       "      <td>0.807239</td>\n",
       "      <td>148</td>\n",
       "    </tr>\n",
       "    <tr>\n",
       "      <th>5</th>\n",
       "      <td>2</td>\n",
       "      <td>2019-05-03 11:34:14</td>\n",
       "      <td>2019-05-03 11:36:31</td>\n",
       "      <td>0.438063</td>\n",
       "      <td>0.283043</td>\n",
       "      <td>0.521549</td>\n",
       "      <td>137</td>\n",
       "    </tr>\n",
       "    <tr>\n",
       "      <th>6</th>\n",
       "      <td>2</td>\n",
       "      <td>2019-05-03 11:38:50</td>\n",
       "      <td>2019-05-03 11:44:28</td>\n",
       "      <td>1.296415</td>\n",
       "      <td>0.892914</td>\n",
       "      <td>1.574162</td>\n",
       "      <td>338</td>\n",
       "    </tr>\n",
       "    <tr>\n",
       "      <th>7</th>\n",
       "      <td>2</td>\n",
       "      <td>2019-05-03 11:46:19</td>\n",
       "      <td>2019-05-03 11:48:25</td>\n",
       "      <td>0.490377</td>\n",
       "      <td>0.305281</td>\n",
       "      <td>0.577638</td>\n",
       "      <td>126</td>\n",
       "    </tr>\n",
       "    <tr>\n",
       "      <th>8</th>\n",
       "      <td>2</td>\n",
       "      <td>2019-05-03 11:49:48</td>\n",
       "      <td>2019-05-03 11:53:18</td>\n",
       "      <td>0.827743</td>\n",
       "      <td>0.516874</td>\n",
       "      <td>0.975867</td>\n",
       "      <td>210</td>\n",
       "    </tr>\n",
       "    <tr>\n",
       "      <th>9</th>\n",
       "      <td>3</td>\n",
       "      <td>2019-05-03 12:06:54</td>\n",
       "      <td>2019-05-03 12:11:34</td>\n",
       "      <td>1.062053</td>\n",
       "      <td>0.671494</td>\n",
       "      <td>1.256527</td>\n",
       "      <td>280</td>\n",
       "    </tr>\n",
       "    <tr>\n",
       "      <th>10</th>\n",
       "      <td>3</td>\n",
       "      <td>2019-05-03 12:13:52</td>\n",
       "      <td>2019-05-03 12:15:56</td>\n",
       "      <td>0.484206</td>\n",
       "      <td>0.312100</td>\n",
       "      <td>0.576074</td>\n",
       "      <td>124</td>\n",
       "    </tr>\n",
       "    <tr>\n",
       "      <th>11</th>\n",
       "      <td>3</td>\n",
       "      <td>2019-05-03 12:18:56</td>\n",
       "      <td>2019-05-03 12:20:45</td>\n",
       "      <td>0.429355</td>\n",
       "      <td>0.271774</td>\n",
       "      <td>0.508140</td>\n",
       "      <td>109</td>\n",
       "    </tr>\n",
       "    <tr>\n",
       "      <th>12</th>\n",
       "      <td>3</td>\n",
       "      <td>2019-05-03 12:25:43</td>\n",
       "      <td>2019-05-03 12:27:00</td>\n",
       "      <td>0.299989</td>\n",
       "      <td>0.187806</td>\n",
       "      <td>0.353927</td>\n",
       "      <td>77</td>\n",
       "    </tr>\n",
       "    <tr>\n",
       "      <th>13</th>\n",
       "      <td>3</td>\n",
       "      <td>2019-05-03 12:31:14</td>\n",
       "      <td>2019-05-03 12:32:19</td>\n",
       "      <td>0.250280</td>\n",
       "      <td>0.155901</td>\n",
       "      <td>0.294865</td>\n",
       "      <td>65</td>\n",
       "    </tr>\n",
       "    <tr>\n",
       "      <th>14</th>\n",
       "      <td>4</td>\n",
       "      <td>2019-05-03 12:39:37</td>\n",
       "      <td>2019-05-03 12:43:04</td>\n",
       "      <td>0.875313</td>\n",
       "      <td>0.614404</td>\n",
       "      <td>1.069423</td>\n",
       "      <td>207</td>\n",
       "    </tr>\n",
       "  </tbody>\n",
       "</table>\n",
       "</div>"
      ],
      "text/plain": [
       "    key Начало нагрева дугой Конец нагрева дугой  Активная мощность  \\\n",
       "0     1  2019-05-03 11:02:14 2019-05-03 11:06:02           0.976059   \n",
       "1     1  2019-05-03 11:07:28 2019-05-03 11:10:33           0.805607   \n",
       "2     1  2019-05-03 11:11:44 2019-05-03 11:14:36           0.744363   \n",
       "3     1  2019-05-03 11:18:14 2019-05-03 11:24:19           1.659363   \n",
       "4     1  2019-05-03 11:26:09 2019-05-03 11:28:37           0.692755   \n",
       "5     2  2019-05-03 11:34:14 2019-05-03 11:36:31           0.438063   \n",
       "6     2  2019-05-03 11:38:50 2019-05-03 11:44:28           1.296415   \n",
       "7     2  2019-05-03 11:46:19 2019-05-03 11:48:25           0.490377   \n",
       "8     2  2019-05-03 11:49:48 2019-05-03 11:53:18           0.827743   \n",
       "9     3  2019-05-03 12:06:54 2019-05-03 12:11:34           1.062053   \n",
       "10    3  2019-05-03 12:13:52 2019-05-03 12:15:56           0.484206   \n",
       "11    3  2019-05-03 12:18:56 2019-05-03 12:20:45           0.429355   \n",
       "12    3  2019-05-03 12:25:43 2019-05-03 12:27:00           0.299989   \n",
       "13    3  2019-05-03 12:31:14 2019-05-03 12:32:19           0.250280   \n",
       "14    4  2019-05-03 12:39:37 2019-05-03 12:43:04           0.875313   \n",
       "\n",
       "    Реактивная мощность  Полная мощность  Время нагрева  \n",
       "0              0.687084         1.193639            228  \n",
       "1              0.520285         0.959010            185  \n",
       "2              0.498805         0.896038            172  \n",
       "3              1.062669         1.970470            365  \n",
       "4              0.414397         0.807239            148  \n",
       "5              0.283043         0.521549            137  \n",
       "6              0.892914         1.574162            338  \n",
       "7              0.305281         0.577638            126  \n",
       "8              0.516874         0.975867            210  \n",
       "9              0.671494         1.256527            280  \n",
       "10             0.312100         0.576074            124  \n",
       "11             0.271774         0.508140            109  \n",
       "12             0.187806         0.353927             77  \n",
       "13             0.155901         0.294865             65  \n",
       "14             0.614404         1.069423            207  "
      ]
     },
     "execution_count": 23,
     "metadata": {},
     "output_type": "execute_result"
    }
   ],
   "source": [
    "df_arc.head(15)"
   ]
  },
  {
   "cell_type": "markdown",
   "id": "c1333f06",
   "metadata": {},
   "source": [
    "Объеденим полученные данные по столбцу `key`"
   ]
  },
  {
   "cell_type": "code",
   "execution_count": 24,
   "id": "be637cd5",
   "metadata": {},
   "outputs": [
    {
     "data": {
      "text/html": [
       "<div>\n",
       "<style scoped>\n",
       "    .dataframe tbody tr th:only-of-type {\n",
       "        vertical-align: middle;\n",
       "    }\n",
       "\n",
       "    .dataframe tbody tr th {\n",
       "        vertical-align: top;\n",
       "    }\n",
       "\n",
       "    .dataframe thead th {\n",
       "        text-align: right;\n",
       "    }\n",
       "</style>\n",
       "<table border=\"1\" class=\"dataframe\">\n",
       "  <thead>\n",
       "    <tr style=\"text-align: right;\">\n",
       "      <th></th>\n",
       "      <th>key</th>\n",
       "      <th>Время нагрева</th>\n",
       "      <th>Полная мощность</th>\n",
       "    </tr>\n",
       "  </thead>\n",
       "  <tbody>\n",
       "    <tr>\n",
       "      <th>0</th>\n",
       "      <td>1</td>\n",
       "      <td>1098</td>\n",
       "      <td>5.826395</td>\n",
       "    </tr>\n",
       "    <tr>\n",
       "      <th>1</th>\n",
       "      <td>2</td>\n",
       "      <td>811</td>\n",
       "      <td>3.649216</td>\n",
       "    </tr>\n",
       "    <tr>\n",
       "      <th>2</th>\n",
       "      <td>3</td>\n",
       "      <td>655</td>\n",
       "      <td>2.989534</td>\n",
       "    </tr>\n",
       "    <tr>\n",
       "      <th>3</th>\n",
       "      <td>4</td>\n",
       "      <td>741</td>\n",
       "      <td>3.814962</td>\n",
       "    </tr>\n",
       "    <tr>\n",
       "      <th>4</th>\n",
       "      <td>5</td>\n",
       "      <td>869</td>\n",
       "      <td>4.035758</td>\n",
       "    </tr>\n",
       "    <tr>\n",
       "      <th>5</th>\n",
       "      <td>6</td>\n",
       "      <td>952</td>\n",
       "      <td>4.786837</td>\n",
       "    </tr>\n",
       "    <tr>\n",
       "      <th>6</th>\n",
       "      <td>7</td>\n",
       "      <td>673</td>\n",
       "      <td>2.987777</td>\n",
       "    </tr>\n",
       "    <tr>\n",
       "      <th>7</th>\n",
       "      <td>8</td>\n",
       "      <td>913</td>\n",
       "      <td>4.627389</td>\n",
       "    </tr>\n",
       "    <tr>\n",
       "      <th>8</th>\n",
       "      <td>9</td>\n",
       "      <td>625</td>\n",
       "      <td>2.555348</td>\n",
       "    </tr>\n",
       "    <tr>\n",
       "      <th>9</th>\n",
       "      <td>10</td>\n",
       "      <td>825</td>\n",
       "      <td>3.851739</td>\n",
       "    </tr>\n",
       "    <tr>\n",
       "      <th>10</th>\n",
       "      <td>11</td>\n",
       "      <td>627</td>\n",
       "      <td>2.863314</td>\n",
       "    </tr>\n",
       "    <tr>\n",
       "      <th>11</th>\n",
       "      <td>12</td>\n",
       "      <td>739</td>\n",
       "      <td>3.350069</td>\n",
       "    </tr>\n",
       "    <tr>\n",
       "      <th>12</th>\n",
       "      <td>13</td>\n",
       "      <td>1027</td>\n",
       "      <td>5.138650</td>\n",
       "    </tr>\n",
       "    <tr>\n",
       "      <th>13</th>\n",
       "      <td>14</td>\n",
       "      <td>1235</td>\n",
       "      <td>5.690572</td>\n",
       "    </tr>\n",
       "    <tr>\n",
       "      <th>14</th>\n",
       "      <td>15</td>\n",
       "      <td>714</td>\n",
       "      <td>2.982811</td>\n",
       "    </tr>\n",
       "  </tbody>\n",
       "</table>\n",
       "</div>"
      ],
      "text/plain": [
       "    key  Время нагрева  Полная мощность\n",
       "0     1           1098         5.826395\n",
       "1     2            811         3.649216\n",
       "2     3            655         2.989534\n",
       "3     4            741         3.814962\n",
       "4     5            869         4.035758\n",
       "5     6            952         4.786837\n",
       "6     7            673         2.987777\n",
       "7     8            913         4.627389\n",
       "8     9            625         2.555348\n",
       "9    10            825         3.851739\n",
       "10   11            627         2.863314\n",
       "11   12            739         3.350069\n",
       "12   13           1027         5.138650\n",
       "13   14           1235         5.690572\n",
       "14   15            714         2.982811"
      ]
     },
     "execution_count": 24,
     "metadata": {},
     "output_type": "execute_result"
    }
   ],
   "source": [
    "df_arc_total = df_arc.groupby('key').sum()[['Время нагрева', 'Полная мощность']].reset_index()\n",
    "df_arc_total.head(15)"
   ]
  },
  {
   "cell_type": "code",
   "execution_count": 25,
   "id": "256ad96b",
   "metadata": {},
   "outputs": [],
   "source": [
    "def make_new_df(data, name):\n",
    "    \n",
    "    col_for_sum = []\n",
    "\n",
    "    for col in data:\n",
    "        if data[col].isna().sum() >= (len(data) - 0.70*len(data)):\n",
    "            col_for_sum.append(col)\n",
    "    \n",
    "    data[f'count_{name}'] = data.drop('key', axis=1).count(axis=1)\n",
    "    \n",
    "    data[f'sum_{name}'] = data[col_for_sum].sum(axis=1)\n",
    "    \n",
    "    col_lasted = [col for col in data.columns if col not in col_for_sum]\n",
    "    \n",
    "    data = data[col_lasted].fillna(0)\n",
    "    \n",
    "    return data"
   ]
  },
  {
   "cell_type": "code",
   "execution_count": 26,
   "id": "c65a83a4",
   "metadata": {},
   "outputs": [],
   "source": [
    "df_bulk_feat = make_new_df(df_bulk, 'bulk')\n",
    "df_wire_feat = make_new_df(df_wire, 'wire')"
   ]
  },
  {
   "cell_type": "code",
   "execution_count": 27,
   "id": "cecf04fd",
   "metadata": {
    "scrolled": false
   },
   "outputs": [
    {
     "data": {
      "text/html": [
       "<div>\n",
       "<style scoped>\n",
       "    .dataframe tbody tr th:only-of-type {\n",
       "        vertical-align: middle;\n",
       "    }\n",
       "\n",
       "    .dataframe tbody tr th {\n",
       "        vertical-align: top;\n",
       "    }\n",
       "\n",
       "    .dataframe thead th {\n",
       "        text-align: right;\n",
       "    }\n",
       "</style>\n",
       "<table border=\"1\" class=\"dataframe\">\n",
       "  <thead>\n",
       "    <tr style=\"text-align: right;\">\n",
       "      <th></th>\n",
       "      <th>key</th>\n",
       "      <th>Bulk 12</th>\n",
       "      <th>Bulk 14</th>\n",
       "      <th>Bulk 15</th>\n",
       "      <th>count_bulk</th>\n",
       "      <th>sum_bulk</th>\n",
       "    </tr>\n",
       "  </thead>\n",
       "  <tbody>\n",
       "    <tr>\n",
       "      <th>0</th>\n",
       "      <td>1</td>\n",
       "      <td>206.0</td>\n",
       "      <td>150.0</td>\n",
       "      <td>154.0</td>\n",
       "      <td>4</td>\n",
       "      <td>43.0</td>\n",
       "    </tr>\n",
       "    <tr>\n",
       "      <th>1</th>\n",
       "      <td>2</td>\n",
       "      <td>206.0</td>\n",
       "      <td>149.0</td>\n",
       "      <td>154.0</td>\n",
       "      <td>4</td>\n",
       "      <td>73.0</td>\n",
       "    </tr>\n",
       "    <tr>\n",
       "      <th>2</th>\n",
       "      <td>3</td>\n",
       "      <td>205.0</td>\n",
       "      <td>152.0</td>\n",
       "      <td>153.0</td>\n",
       "      <td>4</td>\n",
       "      <td>34.0</td>\n",
       "    </tr>\n",
       "    <tr>\n",
       "      <th>3</th>\n",
       "      <td>4</td>\n",
       "      <td>207.0</td>\n",
       "      <td>153.0</td>\n",
       "      <td>154.0</td>\n",
       "      <td>4</td>\n",
       "      <td>81.0</td>\n",
       "    </tr>\n",
       "    <tr>\n",
       "      <th>4</th>\n",
       "      <td>5</td>\n",
       "      <td>203.0</td>\n",
       "      <td>151.0</td>\n",
       "      <td>152.0</td>\n",
       "      <td>4</td>\n",
       "      <td>78.0</td>\n",
       "    </tr>\n",
       "    <tr>\n",
       "      <th>5</th>\n",
       "      <td>6</td>\n",
       "      <td>204.0</td>\n",
       "      <td>201.0</td>\n",
       "      <td>154.0</td>\n",
       "      <td>4</td>\n",
       "      <td>117.0</td>\n",
       "    </tr>\n",
       "    <tr>\n",
       "      <th>6</th>\n",
       "      <td>7</td>\n",
       "      <td>204.0</td>\n",
       "      <td>152.0</td>\n",
       "      <td>154.0</td>\n",
       "      <td>4</td>\n",
       "      <td>117.0</td>\n",
       "    </tr>\n",
       "    <tr>\n",
       "      <th>7</th>\n",
       "      <td>8</td>\n",
       "      <td>410.0</td>\n",
       "      <td>252.0</td>\n",
       "      <td>153.0</td>\n",
       "      <td>4</td>\n",
       "      <td>99.0</td>\n",
       "    </tr>\n",
       "    <tr>\n",
       "      <th>8</th>\n",
       "      <td>9</td>\n",
       "      <td>107.0</td>\n",
       "      <td>99.0</td>\n",
       "      <td>203.0</td>\n",
       "      <td>4</td>\n",
       "      <td>117.0</td>\n",
       "    </tr>\n",
       "    <tr>\n",
       "      <th>9</th>\n",
       "      <td>10</td>\n",
       "      <td>203.0</td>\n",
       "      <td>102.0</td>\n",
       "      <td>204.0</td>\n",
       "      <td>3</td>\n",
       "      <td>0.0</td>\n",
       "    </tr>\n",
       "    <tr>\n",
       "      <th>10</th>\n",
       "      <td>11</td>\n",
       "      <td>207.0</td>\n",
       "      <td>101.0</td>\n",
       "      <td>202.0</td>\n",
       "      <td>4</td>\n",
       "      <td>69.0</td>\n",
       "    </tr>\n",
       "    <tr>\n",
       "      <th>11</th>\n",
       "      <td>12</td>\n",
       "      <td>618.0</td>\n",
       "      <td>406.0</td>\n",
       "      <td>203.0</td>\n",
       "      <td>5</td>\n",
       "      <td>80.0</td>\n",
       "    </tr>\n",
       "    <tr>\n",
       "      <th>12</th>\n",
       "      <td>13</td>\n",
       "      <td>410.0</td>\n",
       "      <td>151.0</td>\n",
       "      <td>204.0</td>\n",
       "      <td>4</td>\n",
       "      <td>72.0</td>\n",
       "    </tr>\n",
       "    <tr>\n",
       "      <th>13</th>\n",
       "      <td>14</td>\n",
       "      <td>204.0</td>\n",
       "      <td>152.0</td>\n",
       "      <td>203.0</td>\n",
       "      <td>4</td>\n",
       "      <td>71.0</td>\n",
       "    </tr>\n",
       "    <tr>\n",
       "      <th>14</th>\n",
       "      <td>15</td>\n",
       "      <td>0.0</td>\n",
       "      <td>251.0</td>\n",
       "      <td>203.0</td>\n",
       "      <td>3</td>\n",
       "      <td>77.0</td>\n",
       "    </tr>\n",
       "  </tbody>\n",
       "</table>\n",
       "</div>"
      ],
      "text/plain": [
       "    key  Bulk 12  Bulk 14  Bulk 15  count_bulk  sum_bulk\n",
       "0     1    206.0    150.0    154.0           4      43.0\n",
       "1     2    206.0    149.0    154.0           4      73.0\n",
       "2     3    205.0    152.0    153.0           4      34.0\n",
       "3     4    207.0    153.0    154.0           4      81.0\n",
       "4     5    203.0    151.0    152.0           4      78.0\n",
       "5     6    204.0    201.0    154.0           4     117.0\n",
       "6     7    204.0    152.0    154.0           4     117.0\n",
       "7     8    410.0    252.0    153.0           4      99.0\n",
       "8     9    107.0     99.0    203.0           4     117.0\n",
       "9    10    203.0    102.0    204.0           3       0.0\n",
       "10   11    207.0    101.0    202.0           4      69.0\n",
       "11   12    618.0    406.0    203.0           5      80.0\n",
       "12   13    410.0    151.0    204.0           4      72.0\n",
       "13   14    204.0    152.0    203.0           4      71.0\n",
       "14   15      0.0    251.0    203.0           3      77.0"
      ]
     },
     "execution_count": 27,
     "metadata": {},
     "output_type": "execute_result"
    }
   ],
   "source": [
    "df_bulk_feat.head(15)\n"
   ]
  },
  {
   "cell_type": "code",
   "execution_count": 28,
   "id": "42606ae8",
   "metadata": {},
   "outputs": [
    {
     "data": {
      "text/plain": [
       "3129"
      ]
     },
     "execution_count": 28,
     "metadata": {},
     "output_type": "execute_result"
    }
   ],
   "source": [
    "len(df_bulk)"
   ]
  },
  {
   "cell_type": "code",
   "execution_count": 29,
   "id": "7fc5ee77",
   "metadata": {
    "scrolled": false
   },
   "outputs": [
    {
     "data": {
      "text/html": [
       "<div>\n",
       "<style scoped>\n",
       "    .dataframe tbody tr th:only-of-type {\n",
       "        vertical-align: middle;\n",
       "    }\n",
       "\n",
       "    .dataframe tbody tr th {\n",
       "        vertical-align: top;\n",
       "    }\n",
       "\n",
       "    .dataframe thead th {\n",
       "        text-align: right;\n",
       "    }\n",
       "</style>\n",
       "<table border=\"1\" class=\"dataframe\">\n",
       "  <thead>\n",
       "    <tr style=\"text-align: right;\">\n",
       "      <th></th>\n",
       "      <th>key</th>\n",
       "      <th>Wire 1</th>\n",
       "      <th>count_wire</th>\n",
       "      <th>sum_wire</th>\n",
       "    </tr>\n",
       "  </thead>\n",
       "  <tbody>\n",
       "    <tr>\n",
       "      <th>0</th>\n",
       "      <td>1</td>\n",
       "      <td>60.059998</td>\n",
       "      <td>1</td>\n",
       "      <td>0.000000</td>\n",
       "    </tr>\n",
       "    <tr>\n",
       "      <th>1</th>\n",
       "      <td>2</td>\n",
       "      <td>96.052315</td>\n",
       "      <td>1</td>\n",
       "      <td>0.000000</td>\n",
       "    </tr>\n",
       "    <tr>\n",
       "      <th>2</th>\n",
       "      <td>3</td>\n",
       "      <td>91.160157</td>\n",
       "      <td>1</td>\n",
       "      <td>0.000000</td>\n",
       "    </tr>\n",
       "    <tr>\n",
       "      <th>3</th>\n",
       "      <td>4</td>\n",
       "      <td>89.063515</td>\n",
       "      <td>1</td>\n",
       "      <td>0.000000</td>\n",
       "    </tr>\n",
       "    <tr>\n",
       "      <th>4</th>\n",
       "      <td>5</td>\n",
       "      <td>89.238236</td>\n",
       "      <td>2</td>\n",
       "      <td>9.114560</td>\n",
       "    </tr>\n",
       "    <tr>\n",
       "      <th>5</th>\n",
       "      <td>6</td>\n",
       "      <td>99.109917</td>\n",
       "      <td>2</td>\n",
       "      <td>9.114560</td>\n",
       "    </tr>\n",
       "    <tr>\n",
       "      <th>6</th>\n",
       "      <td>7</td>\n",
       "      <td>98.061600</td>\n",
       "      <td>1</td>\n",
       "      <td>0.000000</td>\n",
       "    </tr>\n",
       "    <tr>\n",
       "      <th>7</th>\n",
       "      <td>8</td>\n",
       "      <td>155.282394</td>\n",
       "      <td>1</td>\n",
       "      <td>0.000000</td>\n",
       "    </tr>\n",
       "    <tr>\n",
       "      <th>8</th>\n",
       "      <td>9</td>\n",
       "      <td>113.393279</td>\n",
       "      <td>2</td>\n",
       "      <td>9.143681</td>\n",
       "    </tr>\n",
       "    <tr>\n",
       "      <th>9</th>\n",
       "      <td>10</td>\n",
       "      <td>81.244796</td>\n",
       "      <td>2</td>\n",
       "      <td>12.376000</td>\n",
       "    </tr>\n",
       "    <tr>\n",
       "      <th>10</th>\n",
       "      <td>11</td>\n",
       "      <td>99.197281</td>\n",
       "      <td>1</td>\n",
       "      <td>0.000000</td>\n",
       "    </tr>\n",
       "    <tr>\n",
       "      <th>11</th>\n",
       "      <td>12</td>\n",
       "      <td>153.578873</td>\n",
       "      <td>1</td>\n",
       "      <td>0.000000</td>\n",
       "    </tr>\n",
       "    <tr>\n",
       "      <th>12</th>\n",
       "      <td>13</td>\n",
       "      <td>77.269920</td>\n",
       "      <td>2</td>\n",
       "      <td>52.416003</td>\n",
       "    </tr>\n",
       "    <tr>\n",
       "      <th>13</th>\n",
       "      <td>14</td>\n",
       "      <td>120.251038</td>\n",
       "      <td>2</td>\n",
       "      <td>37.826881</td>\n",
       "    </tr>\n",
       "    <tr>\n",
       "      <th>14</th>\n",
       "      <td>15</td>\n",
       "      <td>71.285759</td>\n",
       "      <td>2</td>\n",
       "      <td>52.095680</td>\n",
       "    </tr>\n",
       "  </tbody>\n",
       "</table>\n",
       "</div>"
      ],
      "text/plain": [
       "    key      Wire 1  count_wire   sum_wire\n",
       "0     1   60.059998           1   0.000000\n",
       "1     2   96.052315           1   0.000000\n",
       "2     3   91.160157           1   0.000000\n",
       "3     4   89.063515           1   0.000000\n",
       "4     5   89.238236           2   9.114560\n",
       "5     6   99.109917           2   9.114560\n",
       "6     7   98.061600           1   0.000000\n",
       "7     8  155.282394           1   0.000000\n",
       "8     9  113.393279           2   9.143681\n",
       "9    10   81.244796           2  12.376000\n",
       "10   11   99.197281           1   0.000000\n",
       "11   12  153.578873           1   0.000000\n",
       "12   13   77.269920           2  52.416003\n",
       "13   14  120.251038           2  37.826881\n",
       "14   15   71.285759           2  52.095680"
      ]
     },
     "execution_count": 29,
     "metadata": {},
     "output_type": "execute_result"
    }
   ],
   "source": [
    "df_wire_feat.head(15)"
   ]
  },
  {
   "cell_type": "code",
   "execution_count": 30,
   "id": "f45f05b3",
   "metadata": {
    "scrolled": false
   },
   "outputs": [
    {
     "name": "stdout",
     "output_type": "stream",
     "text": [
      "<class 'pandas.core.frame.DataFrame'>\n",
      "Int64Index: 2329 entries, 0 to 2476\n",
      "Data columns (total 14 columns):\n",
      " #   Column           Non-Null Count  Dtype  \n",
      "---  ------           --------------  -----  \n",
      " 0   key              2329 non-null   int64  \n",
      " 1   temp_first       2329 non-null   float64\n",
      " 2   temp_last        2329 non-null   float64\n",
      " 3   Bulk 12          2329 non-null   float64\n",
      " 4   Bulk 14          2329 non-null   float64\n",
      " 5   Bulk 15          2329 non-null   float64\n",
      " 6   count_bulk       2329 non-null   float64\n",
      " 7   sum_bulk         2329 non-null   float64\n",
      " 8   Wire 1           2329 non-null   float64\n",
      " 9   count_wire       2329 non-null   float64\n",
      " 10  sum_wire         2329 non-null   float64\n",
      " 11  Время нагрева    2329 non-null   float64\n",
      " 12  Полная мощность  2329 non-null   float64\n",
      " 13  Газ 1            2329 non-null   float64\n",
      "dtypes: float64(13), int64(1)\n",
      "memory usage: 272.9 KB\n"
     ]
    },
    {
     "data": {
      "text/html": [
       "<div>\n",
       "<style scoped>\n",
       "    .dataframe tbody tr th:only-of-type {\n",
       "        vertical-align: middle;\n",
       "    }\n",
       "\n",
       "    .dataframe tbody tr th {\n",
       "        vertical-align: top;\n",
       "    }\n",
       "\n",
       "    .dataframe thead th {\n",
       "        text-align: right;\n",
       "    }\n",
       "</style>\n",
       "<table border=\"1\" class=\"dataframe\">\n",
       "  <thead>\n",
       "    <tr style=\"text-align: right;\">\n",
       "      <th></th>\n",
       "      <th>key</th>\n",
       "      <th>temp_first</th>\n",
       "      <th>temp_last</th>\n",
       "      <th>Bulk 12</th>\n",
       "      <th>Bulk 14</th>\n",
       "      <th>Bulk 15</th>\n",
       "      <th>count_bulk</th>\n",
       "      <th>sum_bulk</th>\n",
       "      <th>Wire 1</th>\n",
       "      <th>count_wire</th>\n",
       "      <th>sum_wire</th>\n",
       "      <th>Время нагрева</th>\n",
       "      <th>Полная мощность</th>\n",
       "      <th>Газ 1</th>\n",
       "    </tr>\n",
       "  </thead>\n",
       "  <tbody>\n",
       "    <tr>\n",
       "      <th>0</th>\n",
       "      <td>1</td>\n",
       "      <td>1571.0</td>\n",
       "      <td>1613.0</td>\n",
       "      <td>206.0</td>\n",
       "      <td>150.0</td>\n",
       "      <td>154.0</td>\n",
       "      <td>4.0</td>\n",
       "      <td>43.0</td>\n",
       "      <td>60.059998</td>\n",
       "      <td>1.0</td>\n",
       "      <td>0.000000</td>\n",
       "      <td>1098.0</td>\n",
       "      <td>5.826395</td>\n",
       "      <td>29.749986</td>\n",
       "    </tr>\n",
       "    <tr>\n",
       "      <th>1</th>\n",
       "      <td>2</td>\n",
       "      <td>1581.0</td>\n",
       "      <td>1602.0</td>\n",
       "      <td>206.0</td>\n",
       "      <td>149.0</td>\n",
       "      <td>154.0</td>\n",
       "      <td>4.0</td>\n",
       "      <td>73.0</td>\n",
       "      <td>96.052315</td>\n",
       "      <td>1.0</td>\n",
       "      <td>0.000000</td>\n",
       "      <td>811.0</td>\n",
       "      <td>3.649216</td>\n",
       "      <td>12.555561</td>\n",
       "    </tr>\n",
       "    <tr>\n",
       "      <th>2</th>\n",
       "      <td>3</td>\n",
       "      <td>1596.0</td>\n",
       "      <td>1599.0</td>\n",
       "      <td>205.0</td>\n",
       "      <td>152.0</td>\n",
       "      <td>153.0</td>\n",
       "      <td>4.0</td>\n",
       "      <td>34.0</td>\n",
       "      <td>91.160157</td>\n",
       "      <td>1.0</td>\n",
       "      <td>0.000000</td>\n",
       "      <td>655.0</td>\n",
       "      <td>2.989534</td>\n",
       "      <td>28.554793</td>\n",
       "    </tr>\n",
       "    <tr>\n",
       "      <th>3</th>\n",
       "      <td>4</td>\n",
       "      <td>1601.0</td>\n",
       "      <td>1625.0</td>\n",
       "      <td>207.0</td>\n",
       "      <td>153.0</td>\n",
       "      <td>154.0</td>\n",
       "      <td>4.0</td>\n",
       "      <td>81.0</td>\n",
       "      <td>89.063515</td>\n",
       "      <td>1.0</td>\n",
       "      <td>0.000000</td>\n",
       "      <td>741.0</td>\n",
       "      <td>3.814962</td>\n",
       "      <td>18.841219</td>\n",
       "    </tr>\n",
       "    <tr>\n",
       "      <th>4</th>\n",
       "      <td>5</td>\n",
       "      <td>1576.0</td>\n",
       "      <td>1602.0</td>\n",
       "      <td>203.0</td>\n",
       "      <td>151.0</td>\n",
       "      <td>152.0</td>\n",
       "      <td>4.0</td>\n",
       "      <td>78.0</td>\n",
       "      <td>89.238236</td>\n",
       "      <td>2.0</td>\n",
       "      <td>9.114560</td>\n",
       "      <td>869.0</td>\n",
       "      <td>4.035758</td>\n",
       "      <td>5.413692</td>\n",
       "    </tr>\n",
       "    <tr>\n",
       "      <th>5</th>\n",
       "      <td>6</td>\n",
       "      <td>1543.0</td>\n",
       "      <td>1596.0</td>\n",
       "      <td>204.0</td>\n",
       "      <td>201.0</td>\n",
       "      <td>154.0</td>\n",
       "      <td>4.0</td>\n",
       "      <td>117.0</td>\n",
       "      <td>99.109917</td>\n",
       "      <td>2.0</td>\n",
       "      <td>9.114560</td>\n",
       "      <td>952.0</td>\n",
       "      <td>4.786837</td>\n",
       "      <td>11.273392</td>\n",
       "    </tr>\n",
       "    <tr>\n",
       "      <th>6</th>\n",
       "      <td>7</td>\n",
       "      <td>1586.0</td>\n",
       "      <td>1599.0</td>\n",
       "      <td>204.0</td>\n",
       "      <td>152.0</td>\n",
       "      <td>154.0</td>\n",
       "      <td>4.0</td>\n",
       "      <td>117.0</td>\n",
       "      <td>98.061600</td>\n",
       "      <td>1.0</td>\n",
       "      <td>0.000000</td>\n",
       "      <td>673.0</td>\n",
       "      <td>2.987777</td>\n",
       "      <td>9.836267</td>\n",
       "    </tr>\n",
       "    <tr>\n",
       "      <th>7</th>\n",
       "      <td>8</td>\n",
       "      <td>1577.0</td>\n",
       "      <td>1598.0</td>\n",
       "      <td>410.0</td>\n",
       "      <td>252.0</td>\n",
       "      <td>153.0</td>\n",
       "      <td>4.0</td>\n",
       "      <td>99.0</td>\n",
       "      <td>155.282394</td>\n",
       "      <td>1.0</td>\n",
       "      <td>0.000000</td>\n",
       "      <td>913.0</td>\n",
       "      <td>4.627389</td>\n",
       "      <td>15.171553</td>\n",
       "    </tr>\n",
       "    <tr>\n",
       "      <th>8</th>\n",
       "      <td>9</td>\n",
       "      <td>1587.0</td>\n",
       "      <td>1592.0</td>\n",
       "      <td>107.0</td>\n",
       "      <td>99.0</td>\n",
       "      <td>203.0</td>\n",
       "      <td>4.0</td>\n",
       "      <td>117.0</td>\n",
       "      <td>113.393279</td>\n",
       "      <td>2.0</td>\n",
       "      <td>9.143681</td>\n",
       "      <td>625.0</td>\n",
       "      <td>2.555348</td>\n",
       "      <td>8.216623</td>\n",
       "    </tr>\n",
       "    <tr>\n",
       "      <th>9</th>\n",
       "      <td>10</td>\n",
       "      <td>1574.0</td>\n",
       "      <td>1593.0</td>\n",
       "      <td>203.0</td>\n",
       "      <td>102.0</td>\n",
       "      <td>204.0</td>\n",
       "      <td>3.0</td>\n",
       "      <td>0.0</td>\n",
       "      <td>81.244796</td>\n",
       "      <td>2.0</td>\n",
       "      <td>12.376000</td>\n",
       "      <td>825.0</td>\n",
       "      <td>3.851739</td>\n",
       "      <td>6.529891</td>\n",
       "    </tr>\n",
       "    <tr>\n",
       "      <th>10</th>\n",
       "      <td>11</td>\n",
       "      <td>1616.0</td>\n",
       "      <td>1597.0</td>\n",
       "      <td>207.0</td>\n",
       "      <td>101.0</td>\n",
       "      <td>202.0</td>\n",
       "      <td>4.0</td>\n",
       "      <td>69.0</td>\n",
       "      <td>99.197281</td>\n",
       "      <td>1.0</td>\n",
       "      <td>0.000000</td>\n",
       "      <td>627.0</td>\n",
       "      <td>2.863314</td>\n",
       "      <td>3.639128</td>\n",
       "    </tr>\n",
       "    <tr>\n",
       "      <th>11</th>\n",
       "      <td>12</td>\n",
       "      <td>1606.0</td>\n",
       "      <td>1591.0</td>\n",
       "      <td>618.0</td>\n",
       "      <td>406.0</td>\n",
       "      <td>203.0</td>\n",
       "      <td>5.0</td>\n",
       "      <td>80.0</td>\n",
       "      <td>153.578873</td>\n",
       "      <td>1.0</td>\n",
       "      <td>0.000000</td>\n",
       "      <td>739.0</td>\n",
       "      <td>3.350069</td>\n",
       "      <td>11.026259</td>\n",
       "    </tr>\n",
       "    <tr>\n",
       "      <th>12</th>\n",
       "      <td>13</td>\n",
       "      <td>1596.0</td>\n",
       "      <td>1619.0</td>\n",
       "      <td>410.0</td>\n",
       "      <td>151.0</td>\n",
       "      <td>204.0</td>\n",
       "      <td>4.0</td>\n",
       "      <td>72.0</td>\n",
       "      <td>77.269920</td>\n",
       "      <td>2.0</td>\n",
       "      <td>52.416003</td>\n",
       "      <td>1027.0</td>\n",
       "      <td>5.138650</td>\n",
       "      <td>11.443643</td>\n",
       "    </tr>\n",
       "    <tr>\n",
       "      <th>13</th>\n",
       "      <td>14</td>\n",
       "      <td>1583.0</td>\n",
       "      <td>1606.0</td>\n",
       "      <td>204.0</td>\n",
       "      <td>152.0</td>\n",
       "      <td>203.0</td>\n",
       "      <td>4.0</td>\n",
       "      <td>71.0</td>\n",
       "      <td>120.251038</td>\n",
       "      <td>2.0</td>\n",
       "      <td>37.826881</td>\n",
       "      <td>1235.0</td>\n",
       "      <td>5.690572</td>\n",
       "      <td>5.098945</td>\n",
       "    </tr>\n",
       "    <tr>\n",
       "      <th>14</th>\n",
       "      <td>15</td>\n",
       "      <td>1605.0</td>\n",
       "      <td>1598.0</td>\n",
       "      <td>0.0</td>\n",
       "      <td>251.0</td>\n",
       "      <td>203.0</td>\n",
       "      <td>3.0</td>\n",
       "      <td>77.0</td>\n",
       "      <td>71.285759</td>\n",
       "      <td>2.0</td>\n",
       "      <td>52.095680</td>\n",
       "      <td>714.0</td>\n",
       "      <td>2.982811</td>\n",
       "      <td>11.085451</td>\n",
       "    </tr>\n",
       "  </tbody>\n",
       "</table>\n",
       "</div>"
      ],
      "text/plain": [
       "    key  temp_first  temp_last  Bulk 12  Bulk 14  Bulk 15  count_bulk  \\\n",
       "0     1      1571.0     1613.0    206.0    150.0    154.0         4.0   \n",
       "1     2      1581.0     1602.0    206.0    149.0    154.0         4.0   \n",
       "2     3      1596.0     1599.0    205.0    152.0    153.0         4.0   \n",
       "3     4      1601.0     1625.0    207.0    153.0    154.0         4.0   \n",
       "4     5      1576.0     1602.0    203.0    151.0    152.0         4.0   \n",
       "5     6      1543.0     1596.0    204.0    201.0    154.0         4.0   \n",
       "6     7      1586.0     1599.0    204.0    152.0    154.0         4.0   \n",
       "7     8      1577.0     1598.0    410.0    252.0    153.0         4.0   \n",
       "8     9      1587.0     1592.0    107.0     99.0    203.0         4.0   \n",
       "9    10      1574.0     1593.0    203.0    102.0    204.0         3.0   \n",
       "10   11      1616.0     1597.0    207.0    101.0    202.0         4.0   \n",
       "11   12      1606.0     1591.0    618.0    406.0    203.0         5.0   \n",
       "12   13      1596.0     1619.0    410.0    151.0    204.0         4.0   \n",
       "13   14      1583.0     1606.0    204.0    152.0    203.0         4.0   \n",
       "14   15      1605.0     1598.0      0.0    251.0    203.0         3.0   \n",
       "\n",
       "    sum_bulk      Wire 1  count_wire   sum_wire  Время нагрева  \\\n",
       "0       43.0   60.059998         1.0   0.000000         1098.0   \n",
       "1       73.0   96.052315         1.0   0.000000          811.0   \n",
       "2       34.0   91.160157         1.0   0.000000          655.0   \n",
       "3       81.0   89.063515         1.0   0.000000          741.0   \n",
       "4       78.0   89.238236         2.0   9.114560          869.0   \n",
       "5      117.0   99.109917         2.0   9.114560          952.0   \n",
       "6      117.0   98.061600         1.0   0.000000          673.0   \n",
       "7       99.0  155.282394         1.0   0.000000          913.0   \n",
       "8      117.0  113.393279         2.0   9.143681          625.0   \n",
       "9        0.0   81.244796         2.0  12.376000          825.0   \n",
       "10      69.0   99.197281         1.0   0.000000          627.0   \n",
       "11      80.0  153.578873         1.0   0.000000          739.0   \n",
       "12      72.0   77.269920         2.0  52.416003         1027.0   \n",
       "13      71.0  120.251038         2.0  37.826881         1235.0   \n",
       "14      77.0   71.285759         2.0  52.095680          714.0   \n",
       "\n",
       "    Полная мощность      Газ 1  \n",
       "0          5.826395  29.749986  \n",
       "1          3.649216  12.555561  \n",
       "2          2.989534  28.554793  \n",
       "3          3.814962  18.841219  \n",
       "4          4.035758   5.413692  \n",
       "5          4.786837  11.273392  \n",
       "6          2.987777   9.836267  \n",
       "7          4.627389  15.171553  \n",
       "8          2.555348   8.216623  \n",
       "9          3.851739   6.529891  \n",
       "10         2.863314   3.639128  \n",
       "11         3.350069  11.026259  \n",
       "12         5.138650  11.443643  \n",
       "13         5.690572   5.098945  \n",
       "14         2.982811  11.085451  "
      ]
     },
     "execution_count": 30,
     "metadata": {},
     "output_type": "execute_result"
    }
   ],
   "source": [
    "df_final = df_check.drop(['time_first', 'time_last'], axis=1)\n",
    "df_final = df_final.merge(df_bulk_feat, on='key', how='left')\n",
    "df_final = df_final.merge(df_wire_feat, on='key', how='left')\n",
    "df_final = df_final.merge(df_arc_total[['key', 'Время нагрева', 'Полная мощность']], on='key', how='left')\n",
    "df_final = df_final.merge(df_gas, on='key', how='left')\n",
    "df_final = df_final.dropna()\n",
    "\n",
    "df_final.info()\n",
    "df_final.head(15)"
   ]
  },
  {
   "cell_type": "markdown",
   "id": "e90dce81",
   "metadata": {},
   "source": [
    "Уберём Температуры ниже 1400"
   ]
  },
  {
   "cell_type": "code",
   "execution_count": 31,
   "id": "2d1c00fc",
   "metadata": {},
   "outputs": [],
   "source": [
    "df_final = df_final[df_final['temp_first'] >= 1400]"
   ]
  },
  {
   "cell_type": "code",
   "execution_count": 32,
   "id": "de7e7fe3",
   "metadata": {},
   "outputs": [
    {
     "data": {
      "image/png": "[encoded data removed]",
      "text/plain": [
       "<Figure size 1080x720 with 2 Axes>"
      ]
     },
     "metadata": {
      "needs_background": "light"
     },
     "output_type": "display_data"
    }
   ],
   "source": [
    "plt.figure(figsize=(15, 10))\n",
    "plt.title('Матрица корреляций зависимости фичей')\n",
    "\n",
    "sns.heatmap(df_final.corr(), annot = True)\n",
    "\n",
    "plt.show()"
   ]
  },
  {
   "cell_type": "markdown",
   "id": "afc425ff",
   "metadata": {},
   "source": [
    "Корреляция значений для полной мощности и времени нагрева достигает единицы, что очень плохо, поэтому посчитаем общую энергию и не будем учитывать время нагрева и полную мощность при обучении модели"
   ]
  },
  {
   "cell_type": "code",
   "execution_count": 33,
   "id": "4b3cabb6",
   "metadata": {},
   "outputs": [],
   "source": [
    "df_final['Энергия'] = df_final['Время нагрева']*df_final['Полная мощность']"
   ]
  },
  {
   "cell_type": "markdown",
   "id": "d27798b3",
   "metadata": {},
   "source": [
    "Была произведена предобработка данных, далее переходим к обучению модели"
   ]
  },
  {
   "cell_type": "markdown",
   "id": "4dde05e4",
   "metadata": {},
   "source": [
    "## Обучение моделей"
   ]
  },
  {
   "cell_type": "markdown",
   "id": "43a9e842",
   "metadata": {},
   "source": [
    "Рассмотрим следующие модели обучения:\n",
    "* XGBoost\n",
    "* LightGBM\n",
    "* CatBoost"
   ]
  },
  {
   "cell_type": "code",
   "execution_count": 34,
   "id": "aecbdca8",
   "metadata": {},
   "outputs": [],
   "source": [
    "from sklearn.model_selection import train_test_split, GridSearchCV\n",
    "from sklearn.metrics import mean_absolute_error\n",
    "\n",
    "from sklearn.ensemble import RandomForestRegressor\n",
    "from sklearn.tree import DecisionTreeRegressor\n",
    "import lightgbm as lgb\n",
    "import xgboost as xgb\n",
    "from catboost import CatBoostRegressor\n",
    "from sklearn.dummy import DummyRegressor\n",
    "\n",
    "from time import time\n",
    "\n",
    "from sklearn.utils import shuffle\n",
    "\n",
    "RANDOM_STATE = 13022023"
   ]
  },
  {
   "cell_type": "markdown",
   "id": "8285f700",
   "metadata": {},
   "source": [
    "Разделим выборки на обучающую и тестовую"
   ]
  },
  {
   "cell_type": "code",
   "execution_count": 35,
   "id": "6b923e06",
   "metadata": {
    "scrolled": false
   },
   "outputs": [
    {
     "name": "stdout",
     "output_type": "stream",
     "text": [
      "<class 'pandas.core.frame.DataFrame'>\n",
      "Int64Index: 2325 entries, 323 to 1613\n",
      "Data columns (total 15 columns):\n",
      " #   Column           Non-Null Count  Dtype  \n",
      "---  ------           --------------  -----  \n",
      " 0   key              2325 non-null   int64  \n",
      " 1   temp_first       2325 non-null   float64\n",
      " 2   temp_last        2325 non-null   float64\n",
      " 3   Bulk 12          2325 non-null   float64\n",
      " 4   Bulk 14          2325 non-null   float64\n",
      " 5   Bulk 15          2325 non-null   float64\n",
      " 6   count_bulk       2325 non-null   float64\n",
      " 7   sum_bulk         2325 non-null   float64\n",
      " 8   Wire 1           2325 non-null   float64\n",
      " 9   count_wire       2325 non-null   float64\n",
      " 10  sum_wire         2325 non-null   float64\n",
      " 11  Время нагрева    2325 non-null   float64\n",
      " 12  Полная мощность  2325 non-null   float64\n",
      " 13  Газ 1            2325 non-null   float64\n",
      " 14  Энергия          2325 non-null   float64\n",
      "dtypes: float64(14), int64(1)\n",
      "memory usage: 290.6 KB\n"
     ]
    }
   ],
   "source": [
    "df_shuffled = shuffle(df_final, random_state=RANDOM_STATE)\n",
    "\n",
    "df_shuffled.info()\n",
    "\n",
    "df_features = df_shuffled.drop(['key', 'temp_last', 'Время нагрева', 'Полная мощность'], axis=1)\n",
    "df_target = df_shuffled['temp_last']\n",
    "\n",
    "train_features, test_features, train_target, test_target = train_test_split(df_features, \n",
    "                                                                            df_target,\n",
    "                                                                            test_size=0.25,\n",
    "                                                                            random_state=RANDOM_STATE)"
   ]
  },
  {
   "cell_type": "code",
   "execution_count": 36,
   "id": "ad67f58c",
   "metadata": {},
   "outputs": [],
   "source": [
    "analisys = pd.DataFrame({'model':[], 'MAE_model':[], 'MAE_on_train':[], 'time_to_predict':[], 'time_to_fit':[]})\n",
    "all_models = []\n",
    "\n",
    "# создаём функцию для подбора параметров\n",
    "def train_model(model, parameters):\n",
    "    \n",
    "    model_random = GridSearchCV(estimator=model,\n",
    "                                param_grid=parameters, \n",
    "                                scoring='neg_mean_absolute_error',\n",
    "                                cv=2, \n",
    "                                verbose=1)\n",
    "\n",
    "    start = time()\n",
    "    model_random.fit(train_features, train_target)\n",
    "    print('GridSearchCV подбирал параметры %.2f секунд' %(time() - start))\n",
    "    \n",
    "    rmse = model_random.best_score_ * -1\n",
    "    rmse_on_train = mean_absolute_error(train_target, model_random.predict(train_features))\n",
    "    \n",
    "    time_to_fit = model_random.cv_results_['mean_fit_time'][0]\n",
    "    print('Время обучения модели %.2f секунд' %time_to_fit)\n",
    "    \n",
    "    time_to_predict = model_random.cv_results_['mean_score_time'][0]\n",
    "    print('Модель предсказывает за %.2f секунд' %time_to_predict)\n",
    "    \n",
    "    print('Лучшие параметры:', model_random.best_params_)\n",
    "    print('MAE обученной модели:', round(rmse,3))\n",
    "    print('MAE на тренировочной выборке:', round(rmse_on_train,3))\n",
    "       \n",
    "    all_models.append(model_random)\n",
    "    row = []\n",
    "    row.extend([model, rmse, rmse_on_train,time_to_predict, time_to_fit])\n",
    "    analisys.loc[len(analisys.index)] = row\n",
    "    \n",
    "    return model_random"
   ]
  },
  {
   "cell_type": "markdown",
   "id": "5a2a204e",
   "metadata": {},
   "source": [
    "### Обучим перечисленные ранее модели"
   ]
  },
  {
   "cell_type": "markdown",
   "id": "075f6394",
   "metadata": {},
   "source": [
    "### LigthGBM"
   ]
  },
  {
   "cell_type": "code",
   "execution_count": 37,
   "id": "887376e2",
   "metadata": {},
   "outputs": [
    {
     "name": "stdout",
     "output_type": "stream",
     "text": [
      "Fitting 2 folds for each of 15 candidates, totalling 30 fits\n",
      "GridSearchCV подбирал параметры 1.55 секунд\n",
      "Время обучения модели 0.04 секунд\n",
      "Модель предсказывает за 0.00 секунд\n",
      "Лучшие параметры: {'learning_rate': 0.1, 'max_depth': 5}\n",
      "MAE обученной модели: 6.236\n",
      "MAE на тренировочной выборке: 4.256\n"
     ]
    }
   ],
   "source": [
    "rand_lgbm_param = {\n",
    "    'max_depth': [5, 10, 15, 25, 35],\n",
    "    'learning_rate': [0.01, 0.1, 0.15]\n",
    "}\n",
    "\n",
    "gbm = lgb.LGBMRegressor(boosting_type='gbdt',\n",
    "                         objective = 'regression',\n",
    "                         metric = 'RMSE')\n",
    "\n",
    "gbm_random = train_model(gbm, rand_lgbm_param)"
   ]
  },
  {
   "cell_type": "markdown",
   "id": "09229efe",
   "metadata": {},
   "source": [
    "### XGboost"
   ]
  },
  {
   "cell_type": "code",
   "execution_count": 38,
   "id": "7ee40960",
   "metadata": {},
   "outputs": [
    {
     "name": "stdout",
     "output_type": "stream",
     "text": [
      "Fitting 2 folds for each of 24 candidates, totalling 48 fits\n",
      "GridSearchCV подбирал параметры 2.98 секунд\n",
      "Время обучения модели 0.05 секунд\n",
      "Модель предсказывает за 0.00 секунд\n",
      "Лучшие параметры: {'learning_rate': 0.1, 'max_depth': 4}\n",
      "MAE обученной модели: 6.069\n",
      "MAE на тренировочной выборке: 4.596\n"
     ]
    }
   ],
   "source": [
    "rand_xgb_param = {\n",
    "    'max_depth': [1, 2, 3, 4, 5, 6, 7, 8],\n",
    "    'learning_rate': [0.1, 0.15, 0.3]\n",
    "}\n",
    "\n",
    "xb = xgb.XGBRegressor(booster='gbtree', \n",
    "                      eval_metric='rmse', \n",
    "                      use_rmm=True,\n",
    "                     verbosity=0)\n",
    "\n",
    "xb_random = train_model(xb, rand_xgb_param)"
   ]
  },
  {
   "cell_type": "markdown",
   "id": "2fd86f6c",
   "metadata": {},
   "source": [
    "### CatBoost"
   ]
  },
  {
   "cell_type": "code",
   "execution_count": 39,
   "id": "6e0f441a",
   "metadata": {},
   "outputs": [
    {
     "name": "stdout",
     "output_type": "stream",
     "text": [
      "Fitting 2 folds for each of 18 candidates, totalling 36 fits\n",
      "GridSearchCV подбирал параметры 51.88 секунд\n",
      "Время обучения модели 0.60 секунд\n",
      "Модель предсказывает за 0.03 секунд\n",
      "Лучшие параметры: {'learning_rate': 0.01, 'max_depth': 7}\n",
      "MAE обученной модели: 6.026\n",
      "MAE на тренировочной выборке: 4.629\n"
     ]
    }
   ],
   "source": [
    "rand_cat_param = {\n",
    "    'max_depth': [3, 4, 5, 6, 7, 8],\n",
    "    'learning_rate': [0.001, 0.01, 0.1]\n",
    "}\n",
    "\n",
    "cat = CatBoostRegressor(verbose=False) \n",
    "\n",
    "cat_random = train_model(cat, rand_cat_param)"
   ]
  },
  {
   "cell_type": "code",
   "execution_count": 40,
   "id": "6085f956",
   "metadata": {
    "scrolled": false
   },
   "outputs": [
    {
     "data": {
      "text/html": [
       "<div>\n",
       "<style scoped>\n",
       "    .dataframe tbody tr th:only-of-type {\n",
       "        vertical-align: middle;\n",
       "    }\n",
       "\n",
       "    .dataframe tbody tr th {\n",
       "        vertical-align: top;\n",
       "    }\n",
       "\n",
       "    .dataframe thead th {\n",
       "        text-align: right;\n",
       "    }\n",
       "</style>\n",
       "<table border=\"1\" class=\"dataframe\">\n",
       "  <thead>\n",
       "    <tr style=\"text-align: right;\">\n",
       "      <th></th>\n",
       "      <th>model</th>\n",
       "      <th>MAE_model</th>\n",
       "      <th>MAE_on_train</th>\n",
       "      <th>time_to_predict</th>\n",
       "      <th>time_to_fit</th>\n",
       "      <th>names</th>\n",
       "    </tr>\n",
       "  </thead>\n",
       "  <tbody>\n",
       "    <tr>\n",
       "      <th>0</th>\n",
       "      <td>LGBMRegressor(metric='RMSE', objective='regres...</td>\n",
       "      <td>6.235661</td>\n",
       "      <td>4.255991</td>\n",
       "      <td>0.002002</td>\n",
       "      <td>0.037033</td>\n",
       "      <td>LightGBM</td>\n",
       "    </tr>\n",
       "    <tr>\n",
       "      <th>1</th>\n",
       "      <td>XGBRegressor(base_score=None, booster='gbtree'...</td>\n",
       "      <td>6.068708</td>\n",
       "      <td>4.595569</td>\n",
       "      <td>0.002502</td>\n",
       "      <td>0.046042</td>\n",
       "      <td>XGBoost</td>\n",
       "    </tr>\n",
       "    <tr>\n",
       "      <th>2</th>\n",
       "      <td>&lt;catboost.core.CatBoostRegressor object at 0x0...</td>\n",
       "      <td>6.025926</td>\n",
       "      <td>4.629382</td>\n",
       "      <td>0.031028</td>\n",
       "      <td>0.603409</td>\n",
       "      <td>CatBoost</td>\n",
       "    </tr>\n",
       "  </tbody>\n",
       "</table>\n",
       "</div>"
      ],
      "text/plain": [
       "                                               model  MAE_model  MAE_on_train  \\\n",
       "0  LGBMRegressor(metric='RMSE', objective='regres...   6.235661      4.255991   \n",
       "1  XGBRegressor(base_score=None, booster='gbtree'...   6.068708      4.595569   \n",
       "2  <catboost.core.CatBoostRegressor object at 0x0...   6.025926      4.629382   \n",
       "\n",
       "   time_to_predict  time_to_fit     names  \n",
       "0         0.002002     0.037033  LightGBM  \n",
       "1         0.002502     0.046042   XGBoost  \n",
       "2         0.031028     0.603409  CatBoost  "
      ]
     },
     "metadata": {},
     "output_type": "display_data"
    },
    {
     "data": {
      "image/png": "[encoded data removed]",
      "text/plain": [
       "<Figure size 1080x504 with 1 Axes>"
      ]
     },
     "metadata": {
      "needs_background": "light"
     },
     "output_type": "display_data"
    },
    {
     "data": {
      "image/png": "[encoded data removed]",
      "text/plain": [
       "<Figure size 1080x504 with 1 Axes>"
      ]
     },
     "metadata": {
      "needs_background": "light"
     },
     "output_type": "display_data"
    }
   ],
   "source": [
    "all_names = pd.DataFrame({'names':['LightGBM', 'XGBoost', 'CatBoost']})\n",
    "analisys = pd.concat([analisys, all_names], axis=1, join='inner')\n",
    "display(analisys)\n",
    "\n",
    "analisys.plot.bar(y='MAE_model', x='names', rot=45, figsize=(15,7), color='orange')\n",
    "plt.title('Сравнение метрик моделей', fontsize='x-large')\n",
    "plt.xlabel('Модель')\n",
    "plt.show()\n",
    "\n",
    "analisys.plot.bar(y='MAE_on_train', x='names', rot=45, figsize=(15,7), color='green')\n",
    "plt.title('Сравнение метрик на обучающей выборке', fontsize='x-large')\n",
    "plt.xlabel('Модель')\n",
    "plt.show()"
   ]
  },
  {
   "cell_type": "markdown",
   "id": "0eccc750",
   "metadata": {},
   "source": [
    "Так как время обучения не было первостепенной задачей, то наилучшие показатели имеет модель CatBoost, которую используем для теста"
   ]
  },
  {
   "cell_type": "code",
   "execution_count": 41,
   "id": "460388fb",
   "metadata": {
    "scrolled": true
   },
   "outputs": [
    {
     "name": "stdout",
     "output_type": "stream",
     "text": [
      "MAE на тестовой выборке при использовании GridSearchCV: 6.709112930563728\n"
     ]
    }
   ],
   "source": [
    "predicted = cat_random.predict(test_features)\n",
    "mae_on_test = mean_absolute_error(test_target, predicted)\n",
    "print('MAE на тестовой выборке при использовании GridSearchCV:', mae_on_test)"
   ]
  },
  {
   "cell_type": "markdown",
   "id": "e1fa9db9",
   "metadata": {},
   "source": [
    "## Проверка модели на адекватность"
   ]
  },
  {
   "cell_type": "code",
   "execution_count": 42,
   "id": "b648bd0a",
   "metadata": {},
   "outputs": [
    {
     "name": "stdout",
     "output_type": "stream",
     "text": [
      "MAE на тестовой выборке: 8.006890596258367\n"
     ]
    }
   ],
   "source": [
    "dummy_model = DummyRegressor() \n",
    "dummy_model.fit(train_features, train_target) \n",
    "\n",
    "\n",
    "dummy_predict = dummy_model.predict(test_features)\n",
    "\n",
    "print('MAE на тестовой выборке:', mean_absolute_error(test_target, dummy_predict)) "
   ]
  },
  {
   "cell_type": "markdown",
   "id": "6763b1fe",
   "metadata": {},
   "source": [
    "Видно, что Dummy модель показывает результат хуже, поэтому модель прошла проверку на адекватность"
   ]
  },
  {
   "cell_type": "markdown",
   "id": "9db503b4",
   "metadata": {},
   "source": [
    "<div style=\"background-color:MintCream; border:solid CadetBlue 2px; padding: 20px\">\n",
    "<b>Итоговый комментарий:</b> У тебя вышла отличная работа. Но есть пару моментов, которые стоит исправить, чтобы я могла принять работу.\n",
    "\n",
    "* не стоит удалять партии, отсеянные по времени, я упомянула на встрече, что, к сожалению, датчики рассинхронизированы\n",
    "* не стоит использовать key для обучения моделей \n",
    "    \n",
    "В остальном все отлично.\n",
    "<div>"
   ]
  },
  {
   "cell_type": "markdown",
   "id": "f1b85f16",
   "metadata": {},
   "source": [
    "<div style=\"background-color:MintCream; border:solid CadetBlue 2px; padding: 20px\">\n",
    "<b>Итоговый комментарий v2:</b> Принимаю работу. Поздравляю, ты сдал первым из группы.\n",
    "<div>"
   ]
  },
  {
   "cell_type": "markdown",
   "id": "1477b41c",
   "metadata": {},
   "source": [
    "## Отчёт"
   ]
  },
  {
   "cell_type": "markdown",
   "id": "a4e86156",
   "metadata": {},
   "source": [
    "* Все пункты предложенного плана проекта были выполнены\n",
    "* В ходе работы возникли трудности с маленьким количеством данных, число партии оказалось очень мало, из-за чего метрика может быть неверной, также показалась затруднительной работа с выбросами.\n",
    "* Ключевые шаги: Исследовательский анализ данных, предобработка данных, объединение данных, обучение моделей и поиск гипперпараметров, выбор лучшей модели, проверка на адекватность\n",
    "* В ходе работы использовались такие признаки как начальная температура в партии, объём добавленных сыпучих и проволочных материалов (для редкоиспользуемых материалов посчитана их сумма и количество добавок), также использовалась рассчитанная энергия, которая получилась из полной мощности и времени нагрева, а именно признаки `temp_first`, `Bulk 12`, `Bulk 14`, `Bulk 15`, `count_bulk`, `sum_bulk`, `Wire 1`,\t`count_wire`, `sum_wire`, `Энергия`, `Газ 1`.\n",
    "* Лучшей оказалась модель CatBoost, с параметрами learning_rate = 0.01, max_depth = 7\n",
    "* Итоговая метрика на тестовой выборке равна 6.7, что соответствует требованию заказчика <6.8"
   ]
  }
 ],
 "metadata": {
  "ExecuteTimeLog": [
   {
    "duration": 1470,
    "start_time": "2023-02-14T13:15:32.082Z"
   },
   {
    "duration": 47,
    "start_time": "2023-02-14T13:15:33.554Z"
   },
   {
    "duration": 225,
    "start_time": "2023-02-14T13:15:33.603Z"
   },
   {
    "duration": 0,
    "start_time": "2023-02-14T13:15:33.830Z"
   },
   {
    "duration": 0,
    "start_time": "2023-02-14T13:15:33.831Z"
   },
   {
    "duration": 0,
    "start_time": "2023-02-14T13:15:33.832Z"
   },
   {
    "duration": 0,
    "start_time": "2023-02-14T13:15:33.833Z"
   },
   {
    "duration": 0,
    "start_time": "2023-02-14T13:15:33.836Z"
   },
   {
    "duration": 0,
    "start_time": "2023-02-14T13:15:33.838Z"
   },
   {
    "duration": 0,
    "start_time": "2023-02-14T13:15:33.839Z"
   },
   {
    "duration": 0,
    "start_time": "2023-02-14T13:15:33.840Z"
   },
   {
    "duration": 0,
    "start_time": "2023-02-14T13:15:33.841Z"
   },
   {
    "duration": 0,
    "start_time": "2023-02-14T13:15:33.842Z"
   },
   {
    "duration": 0,
    "start_time": "2023-02-14T13:15:33.843Z"
   },
   {
    "duration": 0,
    "start_time": "2023-02-14T13:15:33.844Z"
   },
   {
    "duration": 0,
    "start_time": "2023-02-14T13:15:33.845Z"
   },
   {
    "duration": 0,
    "start_time": "2023-02-14T13:15:33.846Z"
   },
   {
    "duration": 0,
    "start_time": "2023-02-14T13:15:33.847Z"
   },
   {
    "duration": 0,
    "start_time": "2023-02-14T13:15:33.849Z"
   },
   {
    "duration": 0,
    "start_time": "2023-02-14T13:15:33.850Z"
   },
   {
    "duration": 0,
    "start_time": "2023-02-14T13:15:33.851Z"
   },
   {
    "duration": 106,
    "start_time": "2023-02-14T13:37:30.913Z"
   },
   {
    "duration": 1328,
    "start_time": "2023-02-16T13:15:27.911Z"
   },
   {
    "duration": 30,
    "start_time": "2023-02-16T13:15:29.241Z"
   },
   {
    "duration": 630,
    "start_time": "2023-02-16T13:15:29.273Z"
   },
   {
    "duration": 3,
    "start_time": "2023-02-16T13:15:29.905Z"
   },
   {
    "duration": 156,
    "start_time": "2023-02-16T13:15:29.910Z"
   },
   {
    "duration": 308,
    "start_time": "2023-02-16T13:15:30.068Z"
   },
   {
    "duration": 5,
    "start_time": "2023-02-16T13:15:30.377Z"
   },
   {
    "duration": 155,
    "start_time": "2023-02-16T13:15:30.384Z"
   },
   {
    "duration": 1311,
    "start_time": "2023-02-16T13:15:30.541Z"
   },
   {
    "duration": 387,
    "start_time": "2023-02-16T13:15:31.854Z"
   },
   {
    "duration": 314,
    "start_time": "2023-02-16T13:15:32.243Z"
   },
   {
    "duration": 558,
    "start_time": "2023-02-16T13:15:32.559Z"
   },
   {
    "duration": 1068,
    "start_time": "2023-02-16T13:15:33.119Z"
   },
   {
    "duration": 17,
    "start_time": "2023-02-16T13:15:34.190Z"
   },
   {
    "duration": 42,
    "start_time": "2023-02-16T13:15:34.208Z"
   },
   {
    "duration": 12,
    "start_time": "2023-02-16T13:15:34.252Z"
   },
   {
    "duration": 8,
    "start_time": "2023-02-16T13:15:34.265Z"
   },
   {
    "duration": 11,
    "start_time": "2023-02-16T13:15:34.275Z"
   },
   {
    "duration": 6,
    "start_time": "2023-02-16T13:15:34.288Z"
   },
   {
    "duration": 54,
    "start_time": "2023-02-16T13:15:36.056Z"
   },
   {
    "duration": 148,
    "start_time": "2023-02-16T13:15:46.097Z"
   },
   {
    "duration": 553,
    "start_time": "2023-02-16T13:16:24.755Z"
   },
   {
    "duration": 341,
    "start_time": "2023-02-16T13:17:02.750Z"
   }
  ],
  "kernelspec": {
   "display_name": "Python 3 (ipykernel)",
   "language": "python",
   "name": "python3"
  },
  "language_info": {
   "codemirror_mode": {
    "name": "ipython",
    "version": 3
   },
   "file_extension": ".py",
   "mimetype": "text/x-python",
   "name": "python",
   "nbconvert_exporter": "python",
   "pygments_lexer": "ipython3",
   "version": "3.9.12"
  },
  "toc": {
   "base_numbering": 1,
   "nav_menu": {},
   "number_sections": true,
   "sideBar": true,
   "skip_h1_title": true,
   "title_cell": "Table of Contents",
   "title_sidebar": "Contents",
   "toc_cell": false,
   "toc_position": {},
   "toc_section_display": true,
   "toc_window_display": false
  }
 },
 "nbformat": 4,
 "nbformat_minor": 5
}
