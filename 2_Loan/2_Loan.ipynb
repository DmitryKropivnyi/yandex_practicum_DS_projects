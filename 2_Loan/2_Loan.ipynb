{
 "cells": [
  {
   "cell_type": "markdown",
   "id": "c81daeeb",
   "metadata": {
    "deletable": false,
    "id": "c81daeeb"
   },
   "source": [
    "# Исследование надежности заемщиков\n"
   ]
  },
  {
   "cell_type": "markdown",
   "id": "827c20bf",
   "metadata": {
    "id": "827c20bf"
   },
   "source": [
    "Заказчик — кредитный отдел банка. Нужно разобраться, влияет ли семейное положение и количество детей клиента на факт погашения кредита в срок. Входные данные от банка — статистика о платёжеспособности клиентов.\n",
    "\n",
    "Результаты исследования будут учтены при построении модели кредитного скоринга — специальной системы, которая оценивает способность потенциального заёмщика вернуть кредит банку.\n",
    "\n"
   ]
  },
  {
   "cell_type": "markdown",
   "id": "744d7639",
   "metadata": {
    "deletable": false,
    "id": "744d7639"
   },
   "source": [
    "## Откройте таблицу и изучите общую информацию о данных"
   ]
  },
  {
   "cell_type": "code",
   "execution_count": 1,
   "id": "a0299483",
   "metadata": {},
   "outputs": [
    {
     "data": {
      "text/html": [
       "<style>.container { width:90% !important; <style>}"
      ],
      "text/plain": [
       "<IPython.core.display.HTML object>"
      ]
     },
     "metadata": {},
     "output_type": "display_data"
    }
   ],
   "source": [
    "from IPython.core.display import display, HTML\n",
    "display(HTML(\"<style>.container { width:90% !important; <style>}\"))"
   ]
  },
  {
   "cell_type": "code",
   "execution_count": 2,
   "id": "7bcf75c9",
   "metadata": {
    "deletable": false,
    "id": "7bcf75c9"
   },
   "outputs": [],
   "source": [
    "import pandas as pd\n",
    "\n",
    "try:\n",
    "    data = pd.read_csv('E:/BuduBogatym/data.csv')\n",
    "except:\n",
    "    data = pd.read_csv('https://code.s3.yandex.net/datasets/data.csv')"
   ]
  },
  {
   "cell_type": "code",
   "execution_count": 3,
   "id": "2a7cab99",
   "metadata": {
    "deletable": false,
    "id": "2a7cab99",
    "outputId": "1a8f3ef2-d323-4ec2-ddf7-89670b5944c4",
    "scrolled": false
   },
   "outputs": [
    {
     "data": {
      "text/html": [
       "<div>\n",
       "<style scoped>\n",
       "    .dataframe tbody tr th:only-of-type {\n",
       "        vertical-align: middle;\n",
       "    }\n",
       "\n",
       "    .dataframe tbody tr th {\n",
       "        vertical-align: top;\n",
       "    }\n",
       "\n",
       "    .dataframe thead th {\n",
       "        text-align: right;\n",
       "    }\n",
       "</style>\n",
       "<table border=\"1\" class=\"dataframe\">\n",
       "  <thead>\n",
       "    <tr style=\"text-align: right;\">\n",
       "      <th></th>\n",
       "      <th>children</th>\n",
       "      <th>days_employed</th>\n",
       "      <th>dob_years</th>\n",
       "      <th>education</th>\n",
       "      <th>education_id</th>\n",
       "      <th>family_status</th>\n",
       "      <th>family_status_id</th>\n",
       "      <th>gender</th>\n",
       "      <th>income_type</th>\n",
       "      <th>debt</th>\n",
       "      <th>total_income</th>\n",
       "      <th>purpose</th>\n",
       "    </tr>\n",
       "  </thead>\n",
       "  <tbody>\n",
       "    <tr>\n",
       "      <th>0</th>\n",
       "      <td>1</td>\n",
       "      <td>-8437.673028</td>\n",
       "      <td>42</td>\n",
       "      <td>высшее</td>\n",
       "      <td>0</td>\n",
       "      <td>женат / замужем</td>\n",
       "      <td>0</td>\n",
       "      <td>F</td>\n",
       "      <td>сотрудник</td>\n",
       "      <td>0</td>\n",
       "      <td>253875.639453</td>\n",
       "      <td>покупка жилья</td>\n",
       "    </tr>\n",
       "    <tr>\n",
       "      <th>1</th>\n",
       "      <td>1</td>\n",
       "      <td>-4024.803754</td>\n",
       "      <td>36</td>\n",
       "      <td>среднее</td>\n",
       "      <td>1</td>\n",
       "      <td>женат / замужем</td>\n",
       "      <td>0</td>\n",
       "      <td>F</td>\n",
       "      <td>сотрудник</td>\n",
       "      <td>0</td>\n",
       "      <td>112080.014102</td>\n",
       "      <td>приобретение автомобиля</td>\n",
       "    </tr>\n",
       "    <tr>\n",
       "      <th>2</th>\n",
       "      <td>0</td>\n",
       "      <td>-5623.422610</td>\n",
       "      <td>33</td>\n",
       "      <td>Среднее</td>\n",
       "      <td>1</td>\n",
       "      <td>женат / замужем</td>\n",
       "      <td>0</td>\n",
       "      <td>M</td>\n",
       "      <td>сотрудник</td>\n",
       "      <td>0</td>\n",
       "      <td>145885.952297</td>\n",
       "      <td>покупка жилья</td>\n",
       "    </tr>\n",
       "    <tr>\n",
       "      <th>3</th>\n",
       "      <td>3</td>\n",
       "      <td>-4124.747207</td>\n",
       "      <td>32</td>\n",
       "      <td>среднее</td>\n",
       "      <td>1</td>\n",
       "      <td>женат / замужем</td>\n",
       "      <td>0</td>\n",
       "      <td>M</td>\n",
       "      <td>сотрудник</td>\n",
       "      <td>0</td>\n",
       "      <td>267628.550329</td>\n",
       "      <td>дополнительное образование</td>\n",
       "    </tr>\n",
       "    <tr>\n",
       "      <th>4</th>\n",
       "      <td>0</td>\n",
       "      <td>340266.072047</td>\n",
       "      <td>53</td>\n",
       "      <td>среднее</td>\n",
       "      <td>1</td>\n",
       "      <td>гражданский брак</td>\n",
       "      <td>1</td>\n",
       "      <td>F</td>\n",
       "      <td>пенсионер</td>\n",
       "      <td>0</td>\n",
       "      <td>158616.077870</td>\n",
       "      <td>сыграть свадьбу</td>\n",
       "    </tr>\n",
       "    <tr>\n",
       "      <th>5</th>\n",
       "      <td>0</td>\n",
       "      <td>-926.185831</td>\n",
       "      <td>27</td>\n",
       "      <td>высшее</td>\n",
       "      <td>0</td>\n",
       "      <td>гражданский брак</td>\n",
       "      <td>1</td>\n",
       "      <td>M</td>\n",
       "      <td>компаньон</td>\n",
       "      <td>0</td>\n",
       "      <td>255763.565419</td>\n",
       "      <td>покупка жилья</td>\n",
       "    </tr>\n",
       "    <tr>\n",
       "      <th>6</th>\n",
       "      <td>0</td>\n",
       "      <td>-2879.202052</td>\n",
       "      <td>43</td>\n",
       "      <td>высшее</td>\n",
       "      <td>0</td>\n",
       "      <td>женат / замужем</td>\n",
       "      <td>0</td>\n",
       "      <td>F</td>\n",
       "      <td>компаньон</td>\n",
       "      <td>0</td>\n",
       "      <td>240525.971920</td>\n",
       "      <td>операции с жильем</td>\n",
       "    </tr>\n",
       "    <tr>\n",
       "      <th>7</th>\n",
       "      <td>0</td>\n",
       "      <td>-152.779569</td>\n",
       "      <td>50</td>\n",
       "      <td>СРЕДНЕЕ</td>\n",
       "      <td>1</td>\n",
       "      <td>женат / замужем</td>\n",
       "      <td>0</td>\n",
       "      <td>M</td>\n",
       "      <td>сотрудник</td>\n",
       "      <td>0</td>\n",
       "      <td>135823.934197</td>\n",
       "      <td>образование</td>\n",
       "    </tr>\n",
       "    <tr>\n",
       "      <th>8</th>\n",
       "      <td>2</td>\n",
       "      <td>-6929.865299</td>\n",
       "      <td>35</td>\n",
       "      <td>ВЫСШЕЕ</td>\n",
       "      <td>0</td>\n",
       "      <td>гражданский брак</td>\n",
       "      <td>1</td>\n",
       "      <td>F</td>\n",
       "      <td>сотрудник</td>\n",
       "      <td>0</td>\n",
       "      <td>95856.832424</td>\n",
       "      <td>на проведение свадьбы</td>\n",
       "    </tr>\n",
       "    <tr>\n",
       "      <th>9</th>\n",
       "      <td>0</td>\n",
       "      <td>-2188.756445</td>\n",
       "      <td>41</td>\n",
       "      <td>среднее</td>\n",
       "      <td>1</td>\n",
       "      <td>женат / замужем</td>\n",
       "      <td>0</td>\n",
       "      <td>M</td>\n",
       "      <td>сотрудник</td>\n",
       "      <td>0</td>\n",
       "      <td>144425.938277</td>\n",
       "      <td>покупка жилья для семьи</td>\n",
       "    </tr>\n",
       "    <tr>\n",
       "      <th>10</th>\n",
       "      <td>2</td>\n",
       "      <td>-4171.483647</td>\n",
       "      <td>36</td>\n",
       "      <td>высшее</td>\n",
       "      <td>0</td>\n",
       "      <td>женат / замужем</td>\n",
       "      <td>0</td>\n",
       "      <td>M</td>\n",
       "      <td>компаньон</td>\n",
       "      <td>0</td>\n",
       "      <td>113943.491460</td>\n",
       "      <td>покупка недвижимости</td>\n",
       "    </tr>\n",
       "    <tr>\n",
       "      <th>11</th>\n",
       "      <td>0</td>\n",
       "      <td>-792.701887</td>\n",
       "      <td>40</td>\n",
       "      <td>среднее</td>\n",
       "      <td>1</td>\n",
       "      <td>женат / замужем</td>\n",
       "      <td>0</td>\n",
       "      <td>F</td>\n",
       "      <td>сотрудник</td>\n",
       "      <td>0</td>\n",
       "      <td>77069.234271</td>\n",
       "      <td>покупка коммерческой недвижимости</td>\n",
       "    </tr>\n",
       "    <tr>\n",
       "      <th>12</th>\n",
       "      <td>0</td>\n",
       "      <td>NaN</td>\n",
       "      <td>65</td>\n",
       "      <td>среднее</td>\n",
       "      <td>1</td>\n",
       "      <td>гражданский брак</td>\n",
       "      <td>1</td>\n",
       "      <td>M</td>\n",
       "      <td>пенсионер</td>\n",
       "      <td>0</td>\n",
       "      <td>NaN</td>\n",
       "      <td>сыграть свадьбу</td>\n",
       "    </tr>\n",
       "    <tr>\n",
       "      <th>13</th>\n",
       "      <td>0</td>\n",
       "      <td>-1846.641941</td>\n",
       "      <td>54</td>\n",
       "      <td>неоконченное высшее</td>\n",
       "      <td>2</td>\n",
       "      <td>женат / замужем</td>\n",
       "      <td>0</td>\n",
       "      <td>F</td>\n",
       "      <td>сотрудник</td>\n",
       "      <td>0</td>\n",
       "      <td>130458.228857</td>\n",
       "      <td>приобретение автомобиля</td>\n",
       "    </tr>\n",
       "    <tr>\n",
       "      <th>14</th>\n",
       "      <td>0</td>\n",
       "      <td>-1844.956182</td>\n",
       "      <td>56</td>\n",
       "      <td>высшее</td>\n",
       "      <td>0</td>\n",
       "      <td>гражданский брак</td>\n",
       "      <td>1</td>\n",
       "      <td>F</td>\n",
       "      <td>компаньон</td>\n",
       "      <td>1</td>\n",
       "      <td>165127.911772</td>\n",
       "      <td>покупка жилой недвижимости</td>\n",
       "    </tr>\n",
       "    <tr>\n",
       "      <th>15</th>\n",
       "      <td>1</td>\n",
       "      <td>-972.364419</td>\n",
       "      <td>26</td>\n",
       "      <td>среднее</td>\n",
       "      <td>1</td>\n",
       "      <td>женат / замужем</td>\n",
       "      <td>0</td>\n",
       "      <td>F</td>\n",
       "      <td>сотрудник</td>\n",
       "      <td>0</td>\n",
       "      <td>116820.904450</td>\n",
       "      <td>строительство собственной недвижимости</td>\n",
       "    </tr>\n",
       "    <tr>\n",
       "      <th>16</th>\n",
       "      <td>0</td>\n",
       "      <td>-1719.934226</td>\n",
       "      <td>35</td>\n",
       "      <td>среднее</td>\n",
       "      <td>1</td>\n",
       "      <td>женат / замужем</td>\n",
       "      <td>0</td>\n",
       "      <td>F</td>\n",
       "      <td>сотрудник</td>\n",
       "      <td>0</td>\n",
       "      <td>289202.704229</td>\n",
       "      <td>недвижимость</td>\n",
       "    </tr>\n",
       "    <tr>\n",
       "      <th>17</th>\n",
       "      <td>0</td>\n",
       "      <td>-2369.999720</td>\n",
       "      <td>33</td>\n",
       "      <td>высшее</td>\n",
       "      <td>0</td>\n",
       "      <td>гражданский брак</td>\n",
       "      <td>1</td>\n",
       "      <td>M</td>\n",
       "      <td>сотрудник</td>\n",
       "      <td>0</td>\n",
       "      <td>90410.586745</td>\n",
       "      <td>строительство недвижимости</td>\n",
       "    </tr>\n",
       "    <tr>\n",
       "      <th>18</th>\n",
       "      <td>0</td>\n",
       "      <td>400281.136913</td>\n",
       "      <td>53</td>\n",
       "      <td>среднее</td>\n",
       "      <td>1</td>\n",
       "      <td>вдовец / вдова</td>\n",
       "      <td>2</td>\n",
       "      <td>F</td>\n",
       "      <td>пенсионер</td>\n",
       "      <td>0</td>\n",
       "      <td>56823.777243</td>\n",
       "      <td>на покупку подержанного автомобиля</td>\n",
       "    </tr>\n",
       "    <tr>\n",
       "      <th>19</th>\n",
       "      <td>0</td>\n",
       "      <td>-10038.818549</td>\n",
       "      <td>48</td>\n",
       "      <td>СРЕДНЕЕ</td>\n",
       "      <td>1</td>\n",
       "      <td>в разводе</td>\n",
       "      <td>3</td>\n",
       "      <td>F</td>\n",
       "      <td>сотрудник</td>\n",
       "      <td>0</td>\n",
       "      <td>242831.107982</td>\n",
       "      <td>на покупку своего автомобиля</td>\n",
       "    </tr>\n",
       "  </tbody>\n",
       "</table>\n",
       "</div>"
      ],
      "text/plain": [
       "    children  days_employed  dob_years            education  education_id  \\\n",
       "0          1   -8437.673028         42               высшее             0   \n",
       "1          1   -4024.803754         36              среднее             1   \n",
       "2          0   -5623.422610         33              Среднее             1   \n",
       "3          3   -4124.747207         32              среднее             1   \n",
       "4          0  340266.072047         53              среднее             1   \n",
       "5          0    -926.185831         27               высшее             0   \n",
       "6          0   -2879.202052         43               высшее             0   \n",
       "7          0    -152.779569         50              СРЕДНЕЕ             1   \n",
       "8          2   -6929.865299         35               ВЫСШЕЕ             0   \n",
       "9          0   -2188.756445         41              среднее             1   \n",
       "10         2   -4171.483647         36               высшее             0   \n",
       "11         0    -792.701887         40              среднее             1   \n",
       "12         0            NaN         65              среднее             1   \n",
       "13         0   -1846.641941         54  неоконченное высшее             2   \n",
       "14         0   -1844.956182         56               высшее             0   \n",
       "15         1    -972.364419         26              среднее             1   \n",
       "16         0   -1719.934226         35              среднее             1   \n",
       "17         0   -2369.999720         33               высшее             0   \n",
       "18         0  400281.136913         53              среднее             1   \n",
       "19         0  -10038.818549         48              СРЕДНЕЕ             1   \n",
       "\n",
       "       family_status  family_status_id gender income_type  debt  \\\n",
       "0    женат / замужем                 0      F   сотрудник     0   \n",
       "1    женат / замужем                 0      F   сотрудник     0   \n",
       "2    женат / замужем                 0      M   сотрудник     0   \n",
       "3    женат / замужем                 0      M   сотрудник     0   \n",
       "4   гражданский брак                 1      F   пенсионер     0   \n",
       "5   гражданский брак                 1      M   компаньон     0   \n",
       "6    женат / замужем                 0      F   компаньон     0   \n",
       "7    женат / замужем                 0      M   сотрудник     0   \n",
       "8   гражданский брак                 1      F   сотрудник     0   \n",
       "9    женат / замужем                 0      M   сотрудник     0   \n",
       "10   женат / замужем                 0      M   компаньон     0   \n",
       "11   женат / замужем                 0      F   сотрудник     0   \n",
       "12  гражданский брак                 1      M   пенсионер     0   \n",
       "13   женат / замужем                 0      F   сотрудник     0   \n",
       "14  гражданский брак                 1      F   компаньон     1   \n",
       "15   женат / замужем                 0      F   сотрудник     0   \n",
       "16   женат / замужем                 0      F   сотрудник     0   \n",
       "17  гражданский брак                 1      M   сотрудник     0   \n",
       "18    вдовец / вдова                 2      F   пенсионер     0   \n",
       "19         в разводе                 3      F   сотрудник     0   \n",
       "\n",
       "     total_income                                 purpose  \n",
       "0   253875.639453                           покупка жилья  \n",
       "1   112080.014102                 приобретение автомобиля  \n",
       "2   145885.952297                           покупка жилья  \n",
       "3   267628.550329              дополнительное образование  \n",
       "4   158616.077870                         сыграть свадьбу  \n",
       "5   255763.565419                           покупка жилья  \n",
       "6   240525.971920                       операции с жильем  \n",
       "7   135823.934197                             образование  \n",
       "8    95856.832424                   на проведение свадьбы  \n",
       "9   144425.938277                 покупка жилья для семьи  \n",
       "10  113943.491460                    покупка недвижимости  \n",
       "11   77069.234271       покупка коммерческой недвижимости  \n",
       "12            NaN                         сыграть свадьбу  \n",
       "13  130458.228857                 приобретение автомобиля  \n",
       "14  165127.911772              покупка жилой недвижимости  \n",
       "15  116820.904450  строительство собственной недвижимости  \n",
       "16  289202.704229                            недвижимость  \n",
       "17   90410.586745              строительство недвижимости  \n",
       "18   56823.777243      на покупку подержанного автомобиля  \n",
       "19  242831.107982            на покупку своего автомобиля  "
      ]
     },
     "execution_count": 3,
     "metadata": {},
     "output_type": "execute_result"
    }
   ],
   "source": [
    "data.head(20)"
   ]
  },
  {
   "cell_type": "code",
   "execution_count": 4,
   "id": "2b757bca",
   "metadata": {
    "deletable": false,
    "id": "2b757bca",
    "outputId": "15376089-8dad-46c9-b520-c05248d43158"
   },
   "outputs": [
    {
     "name": "stdout",
     "output_type": "stream",
     "text": [
      "<class 'pandas.core.frame.DataFrame'>\n",
      "RangeIndex: 21525 entries, 0 to 21524\n",
      "Data columns (total 12 columns):\n",
      " #   Column            Non-Null Count  Dtype  \n",
      "---  ------            --------------  -----  \n",
      " 0   children          21525 non-null  int64  \n",
      " 1   days_employed     19351 non-null  float64\n",
      " 2   dob_years         21525 non-null  int64  \n",
      " 3   education         21525 non-null  object \n",
      " 4   education_id      21525 non-null  int64  \n",
      " 5   family_status     21525 non-null  object \n",
      " 6   family_status_id  21525 non-null  int64  \n",
      " 7   gender            21525 non-null  object \n",
      " 8   income_type       21525 non-null  object \n",
      " 9   debt              21525 non-null  int64  \n",
      " 10  total_income      19351 non-null  float64\n",
      " 11  purpose           21525 non-null  object \n",
      "dtypes: float64(2), int64(5), object(5)\n",
      "memory usage: 2.0+ MB\n"
     ]
    }
   ],
   "source": [
    "data.info()"
   ]
  },
  {
   "cell_type": "markdown",
   "id": "333ec665",
   "metadata": {
    "deletable": false,
    "id": "333ec665"
   },
   "source": [
    "## Предобработка данных"
   ]
  },
  {
   "cell_type": "markdown",
   "id": "02d92d53",
   "metadata": {
    "deletable": false,
    "id": "02d92d53"
   },
   "source": [
    "### Удаление пропусков"
   ]
  },
  {
   "cell_type": "code",
   "execution_count": 5,
   "id": "7f9b2309",
   "metadata": {
    "deletable": false,
    "id": "7f9b2309",
    "outputId": "81f4d817-781c-465c-ed15-91ce4446810d"
   },
   "outputs": [
    {
     "data": {
      "text/plain": [
       "children               0\n",
       "days_employed       2174\n",
       "dob_years              0\n",
       "education              0\n",
       "education_id           0\n",
       "family_status          0\n",
       "family_status_id       0\n",
       "gender                 0\n",
       "income_type            0\n",
       "debt                   0\n",
       "total_income        2174\n",
       "purpose                0\n",
       "dtype: int64"
      ]
     },
     "execution_count": 5,
     "metadata": {},
     "output_type": "execute_result"
    }
   ],
   "source": [
    "data.isna().sum()"
   ]
  },
  {
   "cell_type": "code",
   "execution_count": 6,
   "id": "42006a93",
   "metadata": {
    "deletable": false,
    "id": "42006a93"
   },
   "outputs": [],
   "source": [
    "for t in data['income_type'].unique():\n",
    "    data.loc[(data['income_type'] == t) & (data['total_income'].isna()), 'total_income'] = \\\n",
    "    data.loc[(data['income_type'] == t), 'total_income'].median()"
   ]
  },
  {
   "cell_type": "markdown",
   "id": "89da5ece",
   "metadata": {
    "deletable": false,
    "id": "89da5ece"
   },
   "source": [
    "### Обработка аномальных значений"
   ]
  },
  {
   "cell_type": "code",
   "execution_count": 7,
   "id": "f6f055bf",
   "metadata": {
    "deletable": false,
    "id": "f6f055bf"
   },
   "outputs": [],
   "source": [
    "data['days_employed'] = data['days_employed'].abs()"
   ]
  },
  {
   "cell_type": "code",
   "execution_count": 8,
   "id": "85a5faf6",
   "metadata": {
    "deletable": false,
    "id": "85a5faf6",
    "outputId": "801ef80e-522b-4668-f34e-565af7432bcf"
   },
   "outputs": [
    {
     "data": {
      "text/plain": [
       "income_type\n",
       "безработный        366413.652744\n",
       "в декрете            3296.759962\n",
       "госслужащий          2689.368353\n",
       "компаньон            1547.382223\n",
       "пенсионер          365213.306266\n",
       "предприниматель       520.848083\n",
       "сотрудник            1574.202821\n",
       "студент               578.751554\n",
       "Name: days_employed, dtype: float64"
      ]
     },
     "execution_count": 8,
     "metadata": {},
     "output_type": "execute_result"
    }
   ],
   "source": [
    "data.groupby('income_type')['days_employed'].agg('median')"
   ]
  },
  {
   "cell_type": "markdown",
   "id": "38d1a030",
   "metadata": {
    "deletable": false,
    "id": "38d1a030"
   },
   "source": [
    "У двух типов (безработные и пенсионеры) получатся аномально большие значения. Исправить такие значения сложно, поэтому оставьте их как есть. Тем более этот столбец не понадобится вам для исследования."
   ]
  },
  {
   "cell_type": "code",
   "execution_count": 9,
   "id": "ef5056eb",
   "metadata": {
    "deletable": false,
    "id": "ef5056eb",
    "outputId": "6975b15c-7f95-4697-d16d-a0c79b657b03"
   },
   "outputs": [
    {
     "data": {
      "text/plain": [
       "array([ 1,  0,  3,  2, -1,  4, 20,  5])"
      ]
     },
     "execution_count": 9,
     "metadata": {},
     "output_type": "execute_result"
    }
   ],
   "source": [
    "data['children'].unique()"
   ]
  },
  {
   "cell_type": "code",
   "execution_count": 10,
   "id": "3ff9801d",
   "metadata": {
    "deletable": false,
    "id": "3ff9801d"
   },
   "outputs": [],
   "source": [
    "data = data[(data['children'] != -1) & (data['children'] != 20)]"
   ]
  },
  {
   "cell_type": "code",
   "execution_count": 11,
   "id": "ad4fa8b7",
   "metadata": {
    "deletable": false,
    "id": "ad4fa8b7",
    "outputId": "b2097101-d49d-44d9-901b-32a65c9463d1"
   },
   "outputs": [
    {
     "data": {
      "text/plain": [
       "array([1, 0, 3, 2, 4, 5])"
      ]
     },
     "execution_count": 11,
     "metadata": {},
     "output_type": "execute_result"
    }
   ],
   "source": [
    "data['children'].unique()"
   ]
  },
  {
   "cell_type": "markdown",
   "id": "75440b63",
   "metadata": {
    "id": "75440b63"
   },
   "source": [
    "### Удаление пропусков (продолжение)"
   ]
  },
  {
   "cell_type": "code",
   "execution_count": 12,
   "id": "af6b1a7e",
   "metadata": {
    "deletable": false,
    "id": "af6b1a7e"
   },
   "outputs": [],
   "source": [
    "for t in data['income_type'].unique():\n",
    "    data.loc[(data['income_type'] == t) & (data['days_employed'].isna()), 'days_employed'] = \\\n",
    "    data.loc[(data['income_type'] == t), 'days_employed'].median()"
   ]
  },
  {
   "cell_type": "code",
   "execution_count": 13,
   "id": "55f78bc2",
   "metadata": {
    "deletable": false,
    "id": "55f78bc2",
    "outputId": "8da1e4e1-358e-4e87-98c9-f261bce0a7b2"
   },
   "outputs": [
    {
     "data": {
      "text/plain": [
       "children            0\n",
       "days_employed       0\n",
       "dob_years           0\n",
       "education           0\n",
       "education_id        0\n",
       "family_status       0\n",
       "family_status_id    0\n",
       "gender              0\n",
       "income_type         0\n",
       "debt                0\n",
       "total_income        0\n",
       "purpose             0\n",
       "dtype: int64"
      ]
     },
     "execution_count": 13,
     "metadata": {},
     "output_type": "execute_result"
    }
   ],
   "source": [
    "data.isna().sum()"
   ]
  },
  {
   "cell_type": "markdown",
   "id": "ddc81e43",
   "metadata": {
    "deletable": false,
    "id": "ddc81e43"
   },
   "source": [
    "### Изменение типов данных"
   ]
  },
  {
   "cell_type": "code",
   "execution_count": 14,
   "id": "920b65ad",
   "metadata": {
    "deletable": false,
    "id": "920b65ad"
   },
   "outputs": [],
   "source": [
    "data['total_income'] = data['total_income'].astype(int)"
   ]
  },
  {
   "cell_type": "markdown",
   "id": "80c420ba",
   "metadata": {
    "deletable": false,
    "id": "80c420ba"
   },
   "source": [
    "### Обработка дубликатов"
   ]
  },
  {
   "cell_type": "code",
   "execution_count": 15,
   "id": "3ee445e4",
   "metadata": {
    "deletable": false,
    "id": "3ee445e4",
    "outputId": "9684deba-1934-42d1-99e1-cda61740f822"
   },
   "outputs": [
    {
     "data": {
      "text/plain": [
       "54"
      ]
     },
     "execution_count": 15,
     "metadata": {},
     "output_type": "execute_result"
    }
   ],
   "source": [
    "data.duplicated().sum()"
   ]
  },
  {
   "cell_type": "code",
   "execution_count": 16,
   "id": "8575fe05",
   "metadata": {
    "deletable": false,
    "id": "8575fe05"
   },
   "outputs": [],
   "source": [
    "data = data.drop_duplicates()"
   ]
  },
  {
   "cell_type": "code",
   "execution_count": 17,
   "id": "a9f8e2bf",
   "metadata": {
    "deletable": false,
    "id": "a9f8e2bf"
   },
   "outputs": [],
   "source": [
    "data['education'] = data['education'].str.lower()"
   ]
  },
  {
   "cell_type": "markdown",
   "id": "9904cf55",
   "metadata": {
    "deletable": false,
    "id": "9904cf55"
   },
   "source": [
    "### Категоризация данных"
   ]
  },
  {
   "cell_type": "code",
   "execution_count": 18,
   "id": "e1771346",
   "metadata": {
    "deletable": false,
    "id": "e1771346"
   },
   "outputs": [],
   "source": [
    "def categorize_income(income):\n",
    "    try:\n",
    "        if 0 <= income <= 30000:\n",
    "            return 'E'\n",
    "        elif 30001 <= income <= 50000:\n",
    "            return 'D'\n",
    "        elif 50001 <= income <= 200000:\n",
    "            return 'C'\n",
    "        elif 200001 <= income <= 1000000:\n",
    "            return 'B'\n",
    "        elif income >= 1000001:\n",
    "            return 'A'\n",
    "    except:\n",
    "        pass"
   ]
  },
  {
   "cell_type": "code",
   "execution_count": 19,
   "id": "d5f3586d",
   "metadata": {
    "deletable": false,
    "id": "d5f3586d"
   },
   "outputs": [],
   "source": [
    "data['total_income_category'] = data['total_income'].apply(categorize_income)"
   ]
  },
  {
   "cell_type": "code",
   "execution_count": 20,
   "id": "f67ce9b3",
   "metadata": {
    "deletable": false,
    "id": "f67ce9b3",
    "outputId": "673c12d9-7d7e-4ae0-9812-c622c89dd244"
   },
   "outputs": [
    {
     "data": {
      "text/plain": [
       "array(['покупка жилья', 'приобретение автомобиля',\n",
       "       'дополнительное образование', 'сыграть свадьбу',\n",
       "       'операции с жильем', 'образование', 'на проведение свадьбы',\n",
       "       'покупка жилья для семьи', 'покупка недвижимости',\n",
       "       'покупка коммерческой недвижимости', 'покупка жилой недвижимости',\n",
       "       'строительство собственной недвижимости', 'недвижимость',\n",
       "       'строительство недвижимости', 'на покупку подержанного автомобиля',\n",
       "       'на покупку своего автомобиля',\n",
       "       'операции с коммерческой недвижимостью',\n",
       "       'строительство жилой недвижимости', 'жилье',\n",
       "       'операции со своей недвижимостью', 'автомобили',\n",
       "       'заняться образованием', 'сделка с подержанным автомобилем',\n",
       "       'получение образования', 'автомобиль', 'свадьба',\n",
       "       'получение дополнительного образования', 'покупка своего жилья',\n",
       "       'операции с недвижимостью', 'получение высшего образования',\n",
       "       'свой автомобиль', 'сделка с автомобилем',\n",
       "       'профильное образование', 'высшее образование',\n",
       "       'покупка жилья для сдачи', 'на покупку автомобиля', 'ремонт жилью',\n",
       "       'заняться высшим образованием'], dtype=object)"
      ]
     },
     "execution_count": 20,
     "metadata": {},
     "output_type": "execute_result"
    }
   ],
   "source": [
    "data['purpose'].unique()"
   ]
  },
  {
   "cell_type": "code",
   "execution_count": 21,
   "id": "e149fab4",
   "metadata": {
    "deletable": false,
    "id": "e149fab4"
   },
   "outputs": [],
   "source": [
    "def categorize_purpose(row):\n",
    "    try:\n",
    "        if 'автом' in row:\n",
    "            return 'операции с автомобилем'\n",
    "        elif 'жил' in row or 'недвиж' in row:\n",
    "            return 'операции с недвижимостью'\n",
    "        elif 'свад' in row:\n",
    "            return 'проведение свадьбы'\n",
    "        elif 'образов' in row:\n",
    "            return 'получение образования'\n",
    "    except:\n",
    "        return 'нет категории'"
   ]
  },
  {
   "cell_type": "code",
   "execution_count": 22,
   "id": "bf36e69b",
   "metadata": {
    "deletable": false,
    "id": "bf36e69b"
   },
   "outputs": [],
   "source": [
    "data['purpose_category'] = data['purpose'].apply(categorize_purpose)"
   ]
  },
  {
   "cell_type": "markdown",
   "id": "09b242bf",
   "metadata": {
    "id": "09b242bf"
   },
   "source": [
    "## Исследование данных"
   ]
  },
  {
   "cell_type": "code",
   "execution_count": 23,
   "id": "2cacfc4a",
   "metadata": {
    "id": "2cacfc4a",
    "scrolled": true
   },
   "outputs": [
    {
     "data": {
      "text/html": [
       "<div>\n",
       "<style scoped>\n",
       "    .dataframe tbody tr th:only-of-type {\n",
       "        vertical-align: middle;\n",
       "    }\n",
       "\n",
       "    .dataframe tbody tr th {\n",
       "        vertical-align: top;\n",
       "    }\n",
       "\n",
       "    .dataframe thead th {\n",
       "        text-align: right;\n",
       "    }\n",
       "</style>\n",
       "<table border=\"1\" class=\"dataframe\">\n",
       "  <thead>\n",
       "    <tr style=\"text-align: right;\">\n",
       "      <th></th>\n",
       "      <th>children</th>\n",
       "      <th>days_employed</th>\n",
       "      <th>dob_years</th>\n",
       "      <th>education</th>\n",
       "      <th>education_id</th>\n",
       "      <th>family_status</th>\n",
       "      <th>family_status_id</th>\n",
       "      <th>gender</th>\n",
       "      <th>income_type</th>\n",
       "      <th>debt</th>\n",
       "      <th>total_income</th>\n",
       "      <th>purpose</th>\n",
       "      <th>total_income_category</th>\n",
       "      <th>purpose_category</th>\n",
       "      <th>having_children</th>\n",
       "    </tr>\n",
       "  </thead>\n",
       "  <tbody>\n",
       "    <tr>\n",
       "      <th>0</th>\n",
       "      <td>1</td>\n",
       "      <td>8437.673028</td>\n",
       "      <td>42</td>\n",
       "      <td>высшее</td>\n",
       "      <td>0</td>\n",
       "      <td>женат / замужем</td>\n",
       "      <td>0</td>\n",
       "      <td>F</td>\n",
       "      <td>сотрудник</td>\n",
       "      <td>0</td>\n",
       "      <td>253875</td>\n",
       "      <td>покупка жилья</td>\n",
       "      <td>B</td>\n",
       "      <td>операции с недвижимостью</td>\n",
       "      <td>есть дети</td>\n",
       "    </tr>\n",
       "    <tr>\n",
       "      <th>1</th>\n",
       "      <td>1</td>\n",
       "      <td>4024.803754</td>\n",
       "      <td>36</td>\n",
       "      <td>среднее</td>\n",
       "      <td>1</td>\n",
       "      <td>женат / замужем</td>\n",
       "      <td>0</td>\n",
       "      <td>F</td>\n",
       "      <td>сотрудник</td>\n",
       "      <td>0</td>\n",
       "      <td>112080</td>\n",
       "      <td>приобретение автомобиля</td>\n",
       "      <td>C</td>\n",
       "      <td>операции с автомобилем</td>\n",
       "      <td>есть дети</td>\n",
       "    </tr>\n",
       "    <tr>\n",
       "      <th>2</th>\n",
       "      <td>0</td>\n",
       "      <td>5623.422610</td>\n",
       "      <td>33</td>\n",
       "      <td>среднее</td>\n",
       "      <td>1</td>\n",
       "      <td>женат / замужем</td>\n",
       "      <td>0</td>\n",
       "      <td>M</td>\n",
       "      <td>сотрудник</td>\n",
       "      <td>0</td>\n",
       "      <td>145885</td>\n",
       "      <td>покупка жилья</td>\n",
       "      <td>C</td>\n",
       "      <td>операции с недвижимостью</td>\n",
       "      <td>нет детей</td>\n",
       "    </tr>\n",
       "    <tr>\n",
       "      <th>3</th>\n",
       "      <td>3</td>\n",
       "      <td>4124.747207</td>\n",
       "      <td>32</td>\n",
       "      <td>среднее</td>\n",
       "      <td>1</td>\n",
       "      <td>женат / замужем</td>\n",
       "      <td>0</td>\n",
       "      <td>M</td>\n",
       "      <td>сотрудник</td>\n",
       "      <td>0</td>\n",
       "      <td>267628</td>\n",
       "      <td>дополнительное образование</td>\n",
       "      <td>B</td>\n",
       "      <td>получение образования</td>\n",
       "      <td>есть дети</td>\n",
       "    </tr>\n",
       "    <tr>\n",
       "      <th>4</th>\n",
       "      <td>0</td>\n",
       "      <td>340266.072047</td>\n",
       "      <td>53</td>\n",
       "      <td>среднее</td>\n",
       "      <td>1</td>\n",
       "      <td>гражданский брак</td>\n",
       "      <td>1</td>\n",
       "      <td>F</td>\n",
       "      <td>пенсионер</td>\n",
       "      <td>0</td>\n",
       "      <td>158616</td>\n",
       "      <td>сыграть свадьбу</td>\n",
       "      <td>C</td>\n",
       "      <td>проведение свадьбы</td>\n",
       "      <td>нет детей</td>\n",
       "    </tr>\n",
       "    <tr>\n",
       "      <th>5</th>\n",
       "      <td>0</td>\n",
       "      <td>926.185831</td>\n",
       "      <td>27</td>\n",
       "      <td>высшее</td>\n",
       "      <td>0</td>\n",
       "      <td>гражданский брак</td>\n",
       "      <td>1</td>\n",
       "      <td>M</td>\n",
       "      <td>компаньон</td>\n",
       "      <td>0</td>\n",
       "      <td>255763</td>\n",
       "      <td>покупка жилья</td>\n",
       "      <td>B</td>\n",
       "      <td>операции с недвижимостью</td>\n",
       "      <td>нет детей</td>\n",
       "    </tr>\n",
       "    <tr>\n",
       "      <th>6</th>\n",
       "      <td>0</td>\n",
       "      <td>2879.202052</td>\n",
       "      <td>43</td>\n",
       "      <td>высшее</td>\n",
       "      <td>0</td>\n",
       "      <td>женат / замужем</td>\n",
       "      <td>0</td>\n",
       "      <td>F</td>\n",
       "      <td>компаньон</td>\n",
       "      <td>0</td>\n",
       "      <td>240525</td>\n",
       "      <td>операции с жильем</td>\n",
       "      <td>B</td>\n",
       "      <td>операции с недвижимостью</td>\n",
       "      <td>нет детей</td>\n",
       "    </tr>\n",
       "    <tr>\n",
       "      <th>7</th>\n",
       "      <td>0</td>\n",
       "      <td>152.779569</td>\n",
       "      <td>50</td>\n",
       "      <td>среднее</td>\n",
       "      <td>1</td>\n",
       "      <td>женат / замужем</td>\n",
       "      <td>0</td>\n",
       "      <td>M</td>\n",
       "      <td>сотрудник</td>\n",
       "      <td>0</td>\n",
       "      <td>135823</td>\n",
       "      <td>образование</td>\n",
       "      <td>C</td>\n",
       "      <td>получение образования</td>\n",
       "      <td>нет детей</td>\n",
       "    </tr>\n",
       "    <tr>\n",
       "      <th>8</th>\n",
       "      <td>2</td>\n",
       "      <td>6929.865299</td>\n",
       "      <td>35</td>\n",
       "      <td>высшее</td>\n",
       "      <td>0</td>\n",
       "      <td>гражданский брак</td>\n",
       "      <td>1</td>\n",
       "      <td>F</td>\n",
       "      <td>сотрудник</td>\n",
       "      <td>0</td>\n",
       "      <td>95856</td>\n",
       "      <td>на проведение свадьбы</td>\n",
       "      <td>C</td>\n",
       "      <td>проведение свадьбы</td>\n",
       "      <td>есть дети</td>\n",
       "    </tr>\n",
       "    <tr>\n",
       "      <th>9</th>\n",
       "      <td>0</td>\n",
       "      <td>2188.756445</td>\n",
       "      <td>41</td>\n",
       "      <td>среднее</td>\n",
       "      <td>1</td>\n",
       "      <td>женат / замужем</td>\n",
       "      <td>0</td>\n",
       "      <td>M</td>\n",
       "      <td>сотрудник</td>\n",
       "      <td>0</td>\n",
       "      <td>144425</td>\n",
       "      <td>покупка жилья для семьи</td>\n",
       "      <td>C</td>\n",
       "      <td>операции с недвижимостью</td>\n",
       "      <td>нет детей</td>\n",
       "    </tr>\n",
       "  </tbody>\n",
       "</table>\n",
       "</div>"
      ],
      "text/plain": [
       "   children  days_employed  dob_years education  education_id  \\\n",
       "0         1    8437.673028         42    высшее             0   \n",
       "1         1    4024.803754         36   среднее             1   \n",
       "2         0    5623.422610         33   среднее             1   \n",
       "3         3    4124.747207         32   среднее             1   \n",
       "4         0  340266.072047         53   среднее             1   \n",
       "5         0     926.185831         27    высшее             0   \n",
       "6         0    2879.202052         43    высшее             0   \n",
       "7         0     152.779569         50   среднее             1   \n",
       "8         2    6929.865299         35    высшее             0   \n",
       "9         0    2188.756445         41   среднее             1   \n",
       "\n",
       "      family_status  family_status_id gender income_type  debt  total_income  \\\n",
       "0   женат / замужем                 0      F   сотрудник     0        253875   \n",
       "1   женат / замужем                 0      F   сотрудник     0        112080   \n",
       "2   женат / замужем                 0      M   сотрудник     0        145885   \n",
       "3   женат / замужем                 0      M   сотрудник     0        267628   \n",
       "4  гражданский брак                 1      F   пенсионер     0        158616   \n",
       "5  гражданский брак                 1      M   компаньон     0        255763   \n",
       "6   женат / замужем                 0      F   компаньон     0        240525   \n",
       "7   женат / замужем                 0      M   сотрудник     0        135823   \n",
       "8  гражданский брак                 1      F   сотрудник     0         95856   \n",
       "9   женат / замужем                 0      M   сотрудник     0        144425   \n",
       "\n",
       "                      purpose total_income_category          purpose_category  \\\n",
       "0               покупка жилья                     B  операции с недвижимостью   \n",
       "1     приобретение автомобиля                     C    операции с автомобилем   \n",
       "2               покупка жилья                     C  операции с недвижимостью   \n",
       "3  дополнительное образование                     B     получение образования   \n",
       "4             сыграть свадьбу                     C        проведение свадьбы   \n",
       "5               покупка жилья                     B  операции с недвижимостью   \n",
       "6           операции с жильем                     B  операции с недвижимостью   \n",
       "7                 образование                     C     получение образования   \n",
       "8       на проведение свадьбы                     C        проведение свадьбы   \n",
       "9     покупка жилья для семьи                     C  операции с недвижимостью   \n",
       "\n",
       "  having_children  \n",
       "0       есть дети  \n",
       "1       есть дети  \n",
       "2       нет детей  \n",
       "3       есть дети  \n",
       "4       нет детей  \n",
       "5       нет детей  \n",
       "6       нет детей  \n",
       "7       нет детей  \n",
       "8       есть дети  \n",
       "9       нет детей  "
      ]
     },
     "metadata": {},
     "output_type": "display_data"
    }
   ],
   "source": [
    "def counts_children(children):# Функция для определения наличия детей\n",
    "    if children > 0:\n",
    "        return 'есть дети'\n",
    "    else:\n",
    "        return 'нет детей'\n",
    "    \n",
    "data['having_children'] = data['children'].apply(counts_children)\n",
    "display(data.head(10))# Проверка ожидаемого результата."
   ]
  },
  {
   "cell_type": "markdown",
   "id": "0a3c676a",
   "metadata": {},
   "source": [
    "Создадим сводную таблицу под нашу задачу:"
   ]
  },
  {
   "cell_type": "code",
   "execution_count": 24,
   "id": "d5677228",
   "metadata": {
    "scrolled": true
   },
   "outputs": [
    {
     "data": {
      "text/html": [
       "<div>\n",
       "<style scoped>\n",
       "    .dataframe tbody tr th:only-of-type {\n",
       "        vertical-align: middle;\n",
       "    }\n",
       "\n",
       "    .dataframe tbody tr th {\n",
       "        vertical-align: top;\n",
       "    }\n",
       "\n",
       "    .dataframe thead tr th {\n",
       "        text-align: left;\n",
       "    }\n",
       "\n",
       "    .dataframe thead tr:last-of-type th {\n",
       "        text-align: right;\n",
       "    }\n",
       "</style>\n",
       "<table border=\"1\" class=\"dataframe\">\n",
       "  <thead>\n",
       "    <tr>\n",
       "      <th></th>\n",
       "      <th>count</th>\n",
       "      <th>sum</th>\n",
       "      <th>mean</th>\n",
       "      <th>debt_pers</th>\n",
       "    </tr>\n",
       "    <tr>\n",
       "      <th></th>\n",
       "      <th>debt</th>\n",
       "      <th>debt</th>\n",
       "      <th>debt</th>\n",
       "      <th></th>\n",
       "    </tr>\n",
       "    <tr>\n",
       "      <th>having_children</th>\n",
       "      <th></th>\n",
       "      <th></th>\n",
       "      <th></th>\n",
       "      <th></th>\n",
       "    </tr>\n",
       "  </thead>\n",
       "  <tbody>\n",
       "    <tr>\n",
       "      <th>есть дети</th>\n",
       "      <td>7241</td>\n",
       "      <td>669</td>\n",
       "      <td>0.092391</td>\n",
       "      <td>9.239055</td>\n",
       "    </tr>\n",
       "    <tr>\n",
       "      <th>нет детей</th>\n",
       "      <td>14107</td>\n",
       "      <td>1063</td>\n",
       "      <td>0.075353</td>\n",
       "      <td>7.535266</td>\n",
       "    </tr>\n",
       "  </tbody>\n",
       "</table>\n",
       "</div>"
      ],
      "text/plain": [
       "                 count   sum      mean debt_pers\n",
       "                  debt  debt      debt          \n",
       "having_children                                 \n",
       "есть дети         7241   669  0.092391  9.239055\n",
       "нет детей        14107  1063  0.075353  7.535266"
      ]
     },
     "metadata": {},
     "output_type": "display_data"
    }
   ],
   "source": [
    "data_children = data.pivot_table(index = 'having_children',values = 'debt',aggfunc = ['count','sum','mean'])\n",
    "\n",
    "data_children['debt_pers'] = data_children['mean']['debt']*100\n",
    "data_children = data_children.sort_values('debt_pers',ascending=False)\n",
    "display(data_children)\n",
    "\n",
    "\n",
    "# debt_pers показывает процент должников в зависимости от отсутствия или наличия детей у клиента"
   ]
  },
  {
   "cell_type": "markdown",
   "id": "ba6b3c31",
   "metadata": {},
   "source": [
    "Можно заметить зависимость наличия детей на процент должников, однако для более подробной информации составим таблицу, в зависимости от числа детей"
   ]
  },
  {
   "cell_type": "code",
   "execution_count": 25,
   "id": "c6cde184",
   "metadata": {},
   "outputs": [
    {
     "data": {
      "text/html": [
       "<div>\n",
       "<style scoped>\n",
       "    .dataframe tbody tr th:only-of-type {\n",
       "        vertical-align: middle;\n",
       "    }\n",
       "\n",
       "    .dataframe tbody tr th {\n",
       "        vertical-align: top;\n",
       "    }\n",
       "\n",
       "    .dataframe thead tr th {\n",
       "        text-align: left;\n",
       "    }\n",
       "\n",
       "    .dataframe thead tr:last-of-type th {\n",
       "        text-align: right;\n",
       "    }\n",
       "</style>\n",
       "<table border=\"1\" class=\"dataframe\">\n",
       "  <thead>\n",
       "    <tr>\n",
       "      <th></th>\n",
       "      <th>count</th>\n",
       "      <th>sum</th>\n",
       "      <th>mean</th>\n",
       "      <th>debt_pers</th>\n",
       "    </tr>\n",
       "    <tr>\n",
       "      <th></th>\n",
       "      <th>debt</th>\n",
       "      <th>debt</th>\n",
       "      <th>debt</th>\n",
       "      <th></th>\n",
       "    </tr>\n",
       "    <tr>\n",
       "      <th>children</th>\n",
       "      <th></th>\n",
       "      <th></th>\n",
       "      <th></th>\n",
       "      <th></th>\n",
       "    </tr>\n",
       "  </thead>\n",
       "  <tbody>\n",
       "    <tr>\n",
       "      <th>0</th>\n",
       "      <td>14107</td>\n",
       "      <td>1063</td>\n",
       "      <td>0.075353</td>\n",
       "      <td>7.535266</td>\n",
       "    </tr>\n",
       "    <tr>\n",
       "      <th>1</th>\n",
       "      <td>4809</td>\n",
       "      <td>444</td>\n",
       "      <td>0.092327</td>\n",
       "      <td>9.232689</td>\n",
       "    </tr>\n",
       "    <tr>\n",
       "      <th>2</th>\n",
       "      <td>2052</td>\n",
       "      <td>194</td>\n",
       "      <td>0.094542</td>\n",
       "      <td>9.454191</td>\n",
       "    </tr>\n",
       "    <tr>\n",
       "      <th>3</th>\n",
       "      <td>330</td>\n",
       "      <td>27</td>\n",
       "      <td>0.081818</td>\n",
       "      <td>8.181818</td>\n",
       "    </tr>\n",
       "    <tr>\n",
       "      <th>4</th>\n",
       "      <td>41</td>\n",
       "      <td>4</td>\n",
       "      <td>0.097561</td>\n",
       "      <td>9.756098</td>\n",
       "    </tr>\n",
       "    <tr>\n",
       "      <th>5</th>\n",
       "      <td>9</td>\n",
       "      <td>0</td>\n",
       "      <td>0.000000</td>\n",
       "      <td>0.000000</td>\n",
       "    </tr>\n",
       "  </tbody>\n",
       "</table>\n",
       "</div>"
      ],
      "text/plain": [
       "          count   sum      mean debt_pers\n",
       "           debt  debt      debt          \n",
       "children                                 \n",
       "0         14107  1063  0.075353  7.535266\n",
       "1          4809   444  0.092327  9.232689\n",
       "2          2052   194  0.094542  9.454191\n",
       "3           330    27  0.081818  8.181818\n",
       "4            41     4  0.097561  9.756098\n",
       "5             9     0  0.000000  0.000000"
      ]
     },
     "metadata": {},
     "output_type": "display_data"
    }
   ],
   "source": [
    "df_children = data.pivot_table(index = 'children',values = 'debt',aggfunc = ['count','sum','mean'])\n",
    "\n",
    "df_children['debt_pers'] = df_children['mean']['debt']*100\n",
    "data_children = df_children.sort_values('debt_pers',ascending=False)\n",
    "display(df_children)\n",
    "\n",
    "# debt_pers отражает процент должников в зависимости от количества детей у клиента"
   ]
  },
  {
   "cell_type": "markdown",
   "id": "3a6b99ec",
   "metadata": {
    "deletable": false,
    "id": "3a6b99ec"
   },
   "source": [
    "**Вывод:** В результатах сводной таблице можно отметить наименьший процент среди должников у клиентов без детей. В то время как наличие 1-2 ребенка уже внушительно сказывается на проценте должников, что не может не быть явным признаком зависимости количества детей от уплаты срока в кредит. В данном случае разница составляет около 2.7%, что должно повлиять на подбор клиентов для предоставления кредита. (Клиентов с 3-5 детьми в рамках задачи можно не учитывать так как это не отразит полноту картины из-за низкого количества людей в данных категориях)"
   ]
  },
  {
   "cell_type": "markdown",
   "id": "65780871",
   "metadata": {},
   "source": [
    "Создадим сводную таблицу под нашу задачу:"
   ]
  },
  {
   "cell_type": "code",
   "execution_count": 26,
   "id": "5581a9fb",
   "metadata": {
    "scrolled": true
   },
   "outputs": [
    {
     "data": {
      "text/html": [
       "<div>\n",
       "<style scoped>\n",
       "    .dataframe tbody tr th:only-of-type {\n",
       "        vertical-align: middle;\n",
       "    }\n",
       "\n",
       "    .dataframe tbody tr th {\n",
       "        vertical-align: top;\n",
       "    }\n",
       "\n",
       "    .dataframe thead tr th {\n",
       "        text-align: left;\n",
       "    }\n",
       "\n",
       "    .dataframe thead tr:last-of-type th {\n",
       "        text-align: right;\n",
       "    }\n",
       "</style>\n",
       "<table border=\"1\" class=\"dataframe\">\n",
       "  <thead>\n",
       "    <tr>\n",
       "      <th></th>\n",
       "      <th>count</th>\n",
       "      <th>sum</th>\n",
       "      <th>mean</th>\n",
       "      <th>debt_pers</th>\n",
       "    </tr>\n",
       "    <tr>\n",
       "      <th></th>\n",
       "      <th>debt</th>\n",
       "      <th>debt</th>\n",
       "      <th>debt</th>\n",
       "      <th></th>\n",
       "    </tr>\n",
       "    <tr>\n",
       "      <th>family_status</th>\n",
       "      <th></th>\n",
       "      <th></th>\n",
       "      <th></th>\n",
       "      <th></th>\n",
       "    </tr>\n",
       "  </thead>\n",
       "  <tbody>\n",
       "    <tr>\n",
       "      <th>Не женат / не замужем</th>\n",
       "      <td>2796</td>\n",
       "      <td>273</td>\n",
       "      <td>0.097639</td>\n",
       "      <td>9.763948</td>\n",
       "    </tr>\n",
       "    <tr>\n",
       "      <th>гражданский брак</th>\n",
       "      <td>4146</td>\n",
       "      <td>385</td>\n",
       "      <td>0.092861</td>\n",
       "      <td>9.286059</td>\n",
       "    </tr>\n",
       "    <tr>\n",
       "      <th>женат / замужем</th>\n",
       "      <td>12266</td>\n",
       "      <td>927</td>\n",
       "      <td>0.075575</td>\n",
       "      <td>7.557476</td>\n",
       "    </tr>\n",
       "    <tr>\n",
       "      <th>в разводе</th>\n",
       "      <td>1189</td>\n",
       "      <td>84</td>\n",
       "      <td>0.070648</td>\n",
       "      <td>7.064760</td>\n",
       "    </tr>\n",
       "    <tr>\n",
       "      <th>вдовец / вдова</th>\n",
       "      <td>951</td>\n",
       "      <td>63</td>\n",
       "      <td>0.066246</td>\n",
       "      <td>6.624606</td>\n",
       "    </tr>\n",
       "  </tbody>\n",
       "</table>\n",
       "</div>"
      ],
      "text/plain": [
       "                       count  sum      mean debt_pers\n",
       "                        debt debt      debt          \n",
       "family_status                                        \n",
       "Не женат / не замужем   2796  273  0.097639  9.763948\n",
       "гражданский брак        4146  385  0.092861  9.286059\n",
       "женат / замужем        12266  927  0.075575  7.557476\n",
       "в разводе               1189   84  0.070648  7.064760\n",
       "вдовец / вдова           951   63  0.066246  6.624606"
      ]
     },
     "metadata": {},
     "output_type": "display_data"
    }
   ],
   "source": [
    "data_status = data.pivot_table(index = 'family_status',values = 'debt',aggfunc = ['count','sum','mean'])\n",
    "\n",
    "data_status['debt_pers'] = data_status['mean']['debt']*100\n",
    "data_status = data_status.sort_values('debt_pers',ascending=False)\n",
    "display(data_status)\n",
    "\n",
    "# debt_pers демонстрирует процент должников в зависимости от семейного положения\n"
   ]
  },
  {
   "cell_type": "markdown",
   "id": "1cef7837",
   "metadata": {
    "deletable": false,
    "id": "1cef7837"
   },
   "source": [
    "**Вывод:** На основе сводной таблицы можно проследить зависимость процента должников от семейного положения. Однако количество разведенных и вдовцов(вдов) в сравнении с  другими категориями относительно мало, поэтому ими можно пренебречь в данном случае. Основную зависимость срока уплаты кредита от семейного положения можно проследить на людей, находящихся в браке, и одиноких. В таблице видно, что отсутствие партнёра в жизни клиента отрицательно влияет на уплату кредита в срок, в то время как наличие партнёра - наоборот. Поэтому можно сделать простой вывод, что при выдаче кредита выгоднее и надёжнее довериться женатым/замужним."
   ]
  },
  {
   "cell_type": "markdown",
   "id": "f1c1a136",
   "metadata": {},
   "source": [
    "Создадим свобдную таблицу для решения нашей задачи:"
   ]
  },
  {
   "cell_type": "code",
   "execution_count": 27,
   "id": "cd7e3720",
   "metadata": {
    "id": "cd7e3720",
    "scrolled": true
   },
   "outputs": [
    {
     "data": {
      "text/html": [
       "<div>\n",
       "<style scoped>\n",
       "    .dataframe tbody tr th:only-of-type {\n",
       "        vertical-align: middle;\n",
       "    }\n",
       "\n",
       "    .dataframe tbody tr th {\n",
       "        vertical-align: top;\n",
       "    }\n",
       "\n",
       "    .dataframe thead tr th {\n",
       "        text-align: left;\n",
       "    }\n",
       "\n",
       "    .dataframe thead tr:last-of-type th {\n",
       "        text-align: right;\n",
       "    }\n",
       "</style>\n",
       "<table border=\"1\" class=\"dataframe\">\n",
       "  <thead>\n",
       "    <tr>\n",
       "      <th></th>\n",
       "      <th>count</th>\n",
       "      <th>mean</th>\n",
       "      <th>debt_pers</th>\n",
       "    </tr>\n",
       "    <tr>\n",
       "      <th></th>\n",
       "      <th>debt</th>\n",
       "      <th>debt</th>\n",
       "      <th></th>\n",
       "    </tr>\n",
       "    <tr>\n",
       "      <th>total_income_category</th>\n",
       "      <th></th>\n",
       "      <th></th>\n",
       "      <th></th>\n",
       "    </tr>\n",
       "  </thead>\n",
       "  <tbody>\n",
       "    <tr>\n",
       "      <th>E</th>\n",
       "      <td>22</td>\n",
       "      <td>0.090909</td>\n",
       "      <td>9.090909</td>\n",
       "    </tr>\n",
       "    <tr>\n",
       "      <th>C</th>\n",
       "      <td>15938</td>\n",
       "      <td>0.084891</td>\n",
       "      <td>8.489145</td>\n",
       "    </tr>\n",
       "    <tr>\n",
       "      <th>A</th>\n",
       "      <td>25</td>\n",
       "      <td>0.080000</td>\n",
       "      <td>8.000000</td>\n",
       "    </tr>\n",
       "    <tr>\n",
       "      <th>B</th>\n",
       "      <td>5014</td>\n",
       "      <td>0.070602</td>\n",
       "      <td>7.060231</td>\n",
       "    </tr>\n",
       "    <tr>\n",
       "      <th>D</th>\n",
       "      <td>349</td>\n",
       "      <td>0.060172</td>\n",
       "      <td>6.017192</td>\n",
       "    </tr>\n",
       "  </tbody>\n",
       "</table>\n",
       "</div>"
      ],
      "text/plain": [
       "                       count      mean debt_pers\n",
       "                        debt      debt          \n",
       "total_income_category                           \n",
       "E                         22  0.090909  9.090909\n",
       "C                      15938  0.084891  8.489145\n",
       "A                         25  0.080000  8.000000\n",
       "B                       5014  0.070602  7.060231\n",
       "D                        349  0.060172  6.017192"
      ]
     },
     "metadata": {},
     "output_type": "display_data"
    }
   ],
   "source": [
    "data_income = data.pivot_table(index = 'total_income_category',values = 'debt',aggfunc = ['count','mean'])\n",
    "\n",
    "data_income['debt_pers'] = data_income['mean']['debt']*100\n",
    "data_income = data_income.sort_values('debt_pers',ascending=False)\n",
    "display(data_income)\n",
    "\n",
    "# debt_pers демонстрирует процент должников в зависимости от его дохода\n"
   ]
  },
  {
   "cell_type": "markdown",
   "id": "e8593def",
   "metadata": {
    "deletable": false,
    "id": "e8593def"
   },
   "source": [
    "**Вывод:** По результатам данной сводной таблицы нельзя проследить чёткую зависимость количества должников от их заработка. Однако исключив из списка малочисленные категории всё-таки можно проследить зависимость, в которой становится чётко видно, что категория \"С\", имеющая средний заработок, менее платёжеспособна чем клиенты с большим уровнем достатка в категории \"B\". Поэтому можно сделать вывод о более выгодном сотрудничестве с клиентами, имеющими высокий уровень достатка, что, в принципе, логично."
   ]
  },
  {
   "cell_type": "markdown",
   "id": "4b995977",
   "metadata": {},
   "source": [
    "Создадим сводную таблицу для решения нашей задачи:"
   ]
  },
  {
   "cell_type": "code",
   "execution_count": 28,
   "id": "2b687290",
   "metadata": {
    "id": "2b687290"
   },
   "outputs": [
    {
     "data": {
      "text/html": [
       "<div>\n",
       "<style scoped>\n",
       "    .dataframe tbody tr th:only-of-type {\n",
       "        vertical-align: middle;\n",
       "    }\n",
       "\n",
       "    .dataframe tbody tr th {\n",
       "        vertical-align: top;\n",
       "    }\n",
       "\n",
       "    .dataframe thead tr th {\n",
       "        text-align: left;\n",
       "    }\n",
       "\n",
       "    .dataframe thead tr:last-of-type th {\n",
       "        text-align: right;\n",
       "    }\n",
       "</style>\n",
       "<table border=\"1\" class=\"dataframe\">\n",
       "  <thead>\n",
       "    <tr>\n",
       "      <th></th>\n",
       "      <th>count</th>\n",
       "      <th>mean</th>\n",
       "      <th>debt_pers</th>\n",
       "    </tr>\n",
       "    <tr>\n",
       "      <th></th>\n",
       "      <th>debt</th>\n",
       "      <th>debt</th>\n",
       "      <th></th>\n",
       "    </tr>\n",
       "    <tr>\n",
       "      <th>purpose_category</th>\n",
       "      <th></th>\n",
       "      <th></th>\n",
       "      <th></th>\n",
       "    </tr>\n",
       "  </thead>\n",
       "  <tbody>\n",
       "    <tr>\n",
       "      <th>операции с автомобилем</th>\n",
       "      <td>4281</td>\n",
       "      <td>0.093436</td>\n",
       "      <td>9.343611</td>\n",
       "    </tr>\n",
       "    <tr>\n",
       "      <th>получение образования</th>\n",
       "      <td>3989</td>\n",
       "      <td>0.092504</td>\n",
       "      <td>9.250439</td>\n",
       "    </tr>\n",
       "    <tr>\n",
       "      <th>проведение свадьбы</th>\n",
       "      <td>2324</td>\n",
       "      <td>0.078744</td>\n",
       "      <td>7.874355</td>\n",
       "    </tr>\n",
       "    <tr>\n",
       "      <th>операции с недвижимостью</th>\n",
       "      <td>10754</td>\n",
       "      <td>0.072531</td>\n",
       "      <td>7.253115</td>\n",
       "    </tr>\n",
       "  </tbody>\n",
       "</table>\n",
       "</div>"
      ],
      "text/plain": [
       "                          count      mean debt_pers\n",
       "                           debt      debt          \n",
       "purpose_category                                   \n",
       "операции с автомобилем     4281  0.093436  9.343611\n",
       "получение образования      3989  0.092504  9.250439\n",
       "проведение свадьбы         2324  0.078744  7.874355\n",
       "операции с недвижимостью  10754  0.072531  7.253115"
      ]
     },
     "metadata": {},
     "output_type": "display_data"
    }
   ],
   "source": [
    "data_purpose = data.pivot_table(index = 'purpose_category',values = 'debt',aggfunc = ['count','mean'])\n",
    "\n",
    "data_purpose['debt_pers'] = data_purpose['mean']['debt']*100\n",
    "data_purpose = data_purpose.sort_values('debt_pers',ascending=False)\n",
    "display(data_purpose)\n",
    "\n",
    "# debt_pers демонстрирует процент должников в зависимости от цели  кредита"
   ]
  },
  {
   "cell_type": "markdown",
   "id": "b4bb2ce6",
   "metadata": {
    "deletable": false,
    "id": "b4bb2ce6"
   },
   "source": [
    "**Вывод:** В данной сводной таблице можно проследить, что клиенты, берущие кредит на операции с недвижимостью более ответственно подходят к выплате долга. Думаю, это связано с тем, что данные цели имеют различные средние значения суммы для кредита, поэтому операции с недвижимостью имеют меньший процент должников, так как, например, ипотека на первую квартику имеет куда большую важность для людей, чем покупка автомобиля. Соответственно люди выплачивают данные кредиты лучше. Хоть разница, как и предыдущих случаях невелика, но в условиях бизнеса это является весомым доводом к определенным действиям со стороны банка."
   ]
  },
  {
   "cell_type": "markdown",
   "id": "6db5255a",
   "metadata": {
    "deletable": false,
    "editable": false,
    "id": "6db5255a"
   },
   "source": [
    "## Общий вывод."
   ]
  },
  {
   "cell_type": "markdown",
   "id": "28c91163",
   "metadata": {},
   "source": [
    "В ходе данного проекта была проведена **предобработка данных**:\n",
    "\n",
    "* Заполнение пропусков\n",
    "* Смена типа данных\n",
    "* Удаление дубликатов\n",
    "* Категоризация данных \n",
    "\n",
    "В результате мы смогли создать корректные сводные таблицы в зависимости от следующих **показателей**:\n",
    "\n",
    "* Количество детей\n",
    "* Семейное положение\n",
    "* Уровень дохода\n",
    "* Цель кредита\n",
    "\n",
    "В итоге мы смогли определить, что более низкий уровень задолженностей имеют клиенты, не имеющие детей, находящиеся в браке, имеющие доход от 200 000 до 1 000 000 рублей, а также берущие кредит для недвижимости, в то время как остальные категории людей имеют на 2,5 - 3% выше задолженность, что в реалиях бизнеса имеет высокую значимость при принятии решений в сторону того или иного клиента."
   ]
  }
 ],
 "metadata": {
  "ExecuteTimeLog": [
   {
    "duration": 3,
    "start_time": "2022-07-17T16:21:53.308Z"
   },
   {
    "duration": 540,
    "start_time": "2022-07-17T16:21:59.530Z"
   },
   {
    "duration": 24,
    "start_time": "2022-07-17T16:22:00.072Z"
   },
   {
    "duration": 16,
    "start_time": "2022-07-17T16:22:00.434Z"
   },
   {
    "duration": 16,
    "start_time": "2022-07-17T16:22:01.194Z"
   },
   {
    "duration": 36,
    "start_time": "2022-07-17T16:22:01.546Z"
   },
   {
    "duration": 4,
    "start_time": "2022-07-17T16:22:02.097Z"
   },
   {
    "duration": 9,
    "start_time": "2022-07-17T16:22:02.481Z"
   },
   {
    "duration": 4,
    "start_time": "2022-07-17T16:22:03.085Z"
   },
   {
    "duration": 7,
    "start_time": "2022-07-17T16:22:03.477Z"
   },
   {
    "duration": 5,
    "start_time": "2022-07-17T16:22:03.921Z"
   },
   {
    "duration": 38,
    "start_time": "2022-07-17T16:22:04.610Z"
   },
   {
    "duration": 12,
    "start_time": "2022-07-17T16:22:05.025Z"
   },
   {
    "duration": 4,
    "start_time": "2022-07-17T16:22:07.737Z"
   },
   {
    "duration": 19,
    "start_time": "2022-07-17T16:22:09.233Z"
   },
   {
    "duration": 19,
    "start_time": "2022-07-17T16:22:09.441Z"
   },
   {
    "duration": 12,
    "start_time": "2022-07-17T16:22:09.877Z"
   },
   {
    "duration": 4,
    "start_time": "2022-07-17T16:22:14.313Z"
   },
   {
    "duration": 10,
    "start_time": "2022-07-17T16:22:15.009Z"
   },
   {
    "duration": 6,
    "start_time": "2022-07-17T16:22:16.685Z"
   },
   {
    "duration": 3,
    "start_time": "2022-07-17T16:22:17.929Z"
   },
   {
    "duration": 9,
    "start_time": "2022-07-17T16:22:29.485Z"
   },
   {
    "duration": 73,
    "start_time": "2022-07-17T18:26:01.711Z"
   },
   {
    "duration": 17,
    "start_time": "2022-07-17T18:26:01.786Z"
   },
   {
    "duration": 29,
    "start_time": "2022-07-17T18:26:01.805Z"
   },
   {
    "duration": 13,
    "start_time": "2022-07-17T18:26:01.838Z"
   },
   {
    "duration": 62,
    "start_time": "2022-07-17T18:26:01.853Z"
   },
   {
    "duration": 4,
    "start_time": "2022-07-17T18:26:01.917Z"
   },
   {
    "duration": 18,
    "start_time": "2022-07-17T18:26:01.923Z"
   },
   {
    "duration": 7,
    "start_time": "2022-07-17T18:26:01.943Z"
   },
   {
    "duration": 15,
    "start_time": "2022-07-17T18:26:01.951Z"
   },
   {
    "duration": 5,
    "start_time": "2022-07-17T18:26:01.969Z"
   },
   {
    "duration": 49,
    "start_time": "2022-07-17T18:26:01.976Z"
   },
   {
    "duration": 12,
    "start_time": "2022-07-17T18:26:02.026Z"
   },
   {
    "duration": 4,
    "start_time": "2022-07-17T18:26:02.040Z"
   },
   {
    "duration": 22,
    "start_time": "2022-07-17T18:26:02.045Z"
   },
   {
    "duration": 18,
    "start_time": "2022-07-17T18:26:02.068Z"
   },
   {
    "duration": 32,
    "start_time": "2022-07-17T18:26:02.088Z"
   },
   {
    "duration": 5,
    "start_time": "2022-07-17T18:26:02.122Z"
   },
   {
    "duration": 13,
    "start_time": "2022-07-17T18:26:02.128Z"
   },
   {
    "duration": 5,
    "start_time": "2022-07-17T18:26:02.143Z"
   },
   {
    "duration": 4,
    "start_time": "2022-07-17T18:26:02.150Z"
   },
   {
    "duration": 11,
    "start_time": "2022-07-17T18:26:02.155Z"
   },
   {
    "duration": 3,
    "start_time": "2022-07-17T18:26:02.168Z"
   },
   {
    "duration": 5,
    "start_time": "2022-07-17T18:26:02.172Z"
   },
   {
    "duration": 2,
    "start_time": "2022-07-17T18:26:02.211Z"
   },
   {
    "duration": 6,
    "start_time": "2022-07-17T18:26:02.215Z"
   },
   {
    "duration": 583,
    "start_time": "2022-07-18T17:05:30.311Z"
   },
   {
    "duration": 37,
    "start_time": "2022-07-18T17:05:30.896Z"
   },
   {
    "duration": 18,
    "start_time": "2022-07-18T17:05:30.934Z"
   },
   {
    "duration": 10,
    "start_time": "2022-07-18T17:05:30.954Z"
   },
   {
    "duration": 65,
    "start_time": "2022-07-18T17:05:30.965Z"
   },
   {
    "duration": 4,
    "start_time": "2022-07-18T17:05:31.032Z"
   },
   {
    "duration": 20,
    "start_time": "2022-07-18T17:05:31.038Z"
   },
   {
    "duration": 15,
    "start_time": "2022-07-18T17:05:31.060Z"
   },
   {
    "duration": 23,
    "start_time": "2022-07-18T17:05:31.076Z"
   },
   {
    "duration": 19,
    "start_time": "2022-07-18T17:05:31.101Z"
   },
   {
    "duration": 41,
    "start_time": "2022-07-18T17:05:31.123Z"
   },
   {
    "duration": 8,
    "start_time": "2022-07-18T17:05:31.166Z"
   },
   {
    "duration": 17,
    "start_time": "2022-07-18T17:05:31.176Z"
   },
   {
    "duration": 24,
    "start_time": "2022-07-18T17:05:31.195Z"
   },
   {
    "duration": 18,
    "start_time": "2022-07-18T17:05:31.221Z"
   },
   {
    "duration": 10,
    "start_time": "2022-07-18T17:05:31.241Z"
   },
   {
    "duration": 12,
    "start_time": "2022-07-18T17:05:31.253Z"
   },
   {
    "duration": 28,
    "start_time": "2022-07-18T17:05:31.266Z"
   },
   {
    "duration": 9,
    "start_time": "2022-07-18T17:05:31.295Z"
   },
   {
    "duration": 4,
    "start_time": "2022-07-18T17:05:31.307Z"
   },
   {
    "duration": 26,
    "start_time": "2022-07-18T17:05:31.313Z"
   },
   {
    "duration": 5,
    "start_time": "2022-07-18T17:05:31.341Z"
   },
   {
    "duration": 9,
    "start_time": "2022-07-18T17:05:31.347Z"
   },
   {
    "duration": 6,
    "start_time": "2022-07-18T17:05:31.357Z"
   },
   {
    "duration": 13,
    "start_time": "2022-07-18T17:05:31.365Z"
   },
   {
    "duration": 13,
    "start_time": "2022-07-18T17:05:54.001Z"
   },
   {
    "duration": 66,
    "start_time": "2022-07-18T17:45:18.518Z"
   },
   {
    "duration": 16,
    "start_time": "2022-07-18T17:45:18.586Z"
   },
   {
    "duration": 16,
    "start_time": "2022-07-18T17:45:18.603Z"
   },
   {
    "duration": 10,
    "start_time": "2022-07-18T17:45:18.621Z"
   },
   {
    "duration": 35,
    "start_time": "2022-07-18T17:45:18.632Z"
   },
   {
    "duration": 3,
    "start_time": "2022-07-18T17:45:18.669Z"
   },
   {
    "duration": 32,
    "start_time": "2022-07-18T17:45:18.673Z"
   },
   {
    "duration": 4,
    "start_time": "2022-07-18T17:45:18.706Z"
   },
   {
    "duration": 8,
    "start_time": "2022-07-18T17:45:18.712Z"
   },
   {
    "duration": 6,
    "start_time": "2022-07-18T17:45:18.722Z"
   },
   {
    "duration": 41,
    "start_time": "2022-07-18T17:45:18.729Z"
   },
   {
    "duration": 9,
    "start_time": "2022-07-18T17:45:18.771Z"
   },
   {
    "duration": 37,
    "start_time": "2022-07-18T17:45:18.781Z"
   },
   {
    "duration": 27,
    "start_time": "2022-07-18T17:45:18.820Z"
   },
   {
    "duration": 16,
    "start_time": "2022-07-18T17:45:18.849Z"
   },
   {
    "duration": 10,
    "start_time": "2022-07-18T17:45:18.866Z"
   },
   {
    "duration": 7,
    "start_time": "2022-07-18T17:45:18.878Z"
   },
   {
    "duration": 13,
    "start_time": "2022-07-18T17:45:18.886Z"
   },
   {
    "duration": 7,
    "start_time": "2022-07-18T17:45:18.903Z"
   },
   {
    "duration": 7,
    "start_time": "2022-07-18T17:45:18.912Z"
   },
   {
    "duration": 12,
    "start_time": "2022-07-18T17:45:18.920Z"
   },
   {
    "duration": 4,
    "start_time": "2022-07-18T17:45:18.934Z"
   },
   {
    "duration": 5,
    "start_time": "2022-07-18T17:45:18.939Z"
   },
   {
    "duration": 6,
    "start_time": "2022-07-18T17:45:18.945Z"
   },
   {
    "duration": 6,
    "start_time": "2022-07-18T17:45:18.952Z"
   },
   {
    "duration": 132,
    "start_time": "2022-07-18T17:56:03.373Z"
   },
   {
    "duration": 8,
    "start_time": "2022-07-18T17:56:29.733Z"
   },
   {
    "duration": 14,
    "start_time": "2022-07-18T17:56:45.081Z"
   },
   {
    "duration": 19,
    "start_time": "2022-07-18T17:56:56.682Z"
   },
   {
    "duration": 20,
    "start_time": "2022-07-18T17:57:54.729Z"
   },
   {
    "duration": 5,
    "start_time": "2022-07-18T18:04:25.372Z"
   },
   {
    "duration": 5,
    "start_time": "2022-07-18T18:04:32.123Z"
   },
   {
    "duration": 7,
    "start_time": "2022-07-18T18:06:57.784Z"
   },
   {
    "duration": 18,
    "start_time": "2022-07-18T18:07:20.603Z"
   },
   {
    "duration": 22,
    "start_time": "2022-07-18T18:07:41.785Z"
   },
   {
    "duration": 18,
    "start_time": "2022-07-18T18:09:37.038Z"
   },
   {
    "duration": 685,
    "start_time": "2022-07-18T18:09:48.690Z"
   },
   {
    "duration": 16,
    "start_time": "2022-07-18T18:09:54.765Z"
   },
   {
    "duration": 11,
    "start_time": "2022-07-18T18:10:13.810Z"
   },
   {
    "duration": 14,
    "start_time": "2022-07-18T18:11:12.062Z"
   },
   {
    "duration": 10,
    "start_time": "2022-07-18T18:26:09.426Z"
   },
   {
    "duration": 8,
    "start_time": "2022-07-18T18:26:39.407Z"
   },
   {
    "duration": 7,
    "start_time": "2022-07-18T18:27:49.322Z"
   },
   {
    "duration": 9,
    "start_time": "2022-07-18T18:28:51.900Z"
   },
   {
    "duration": 12,
    "start_time": "2022-07-18T18:28:56.236Z"
   },
   {
    "duration": 9,
    "start_time": "2022-07-18T18:29:10.324Z"
   },
   {
    "duration": 11,
    "start_time": "2022-07-18T18:30:26.000Z"
   },
   {
    "duration": 18,
    "start_time": "2022-07-18T18:30:38.541Z"
   },
   {
    "duration": 67,
    "start_time": "2022-07-18T18:30:47.531Z"
   },
   {
    "duration": 16,
    "start_time": "2022-07-18T18:30:47.600Z"
   },
   {
    "duration": 18,
    "start_time": "2022-07-18T18:30:47.617Z"
   },
   {
    "duration": 9,
    "start_time": "2022-07-18T18:30:47.637Z"
   },
   {
    "duration": 36,
    "start_time": "2022-07-18T18:30:47.648Z"
   },
   {
    "duration": 20,
    "start_time": "2022-07-18T18:30:47.686Z"
   },
   {
    "duration": 15,
    "start_time": "2022-07-18T18:30:47.708Z"
   },
   {
    "duration": 5,
    "start_time": "2022-07-18T18:30:47.725Z"
   },
   {
    "duration": 7,
    "start_time": "2022-07-18T18:30:47.732Z"
   },
   {
    "duration": 8,
    "start_time": "2022-07-18T18:30:47.741Z"
   },
   {
    "duration": 61,
    "start_time": "2022-07-18T18:30:47.750Z"
   },
   {
    "duration": 9,
    "start_time": "2022-07-18T18:30:47.813Z"
   },
   {
    "duration": 47,
    "start_time": "2022-07-18T18:30:47.823Z"
   },
   {
    "duration": 48,
    "start_time": "2022-07-18T18:30:47.873Z"
   },
   {
    "duration": 16,
    "start_time": "2022-07-18T18:30:47.923Z"
   },
   {
    "duration": 30,
    "start_time": "2022-07-18T18:30:47.940Z"
   },
   {
    "duration": 14,
    "start_time": "2022-07-18T18:30:47.972Z"
   },
   {
    "duration": 39,
    "start_time": "2022-07-18T18:30:47.987Z"
   },
   {
    "duration": 13,
    "start_time": "2022-07-18T18:30:48.028Z"
   },
   {
    "duration": 24,
    "start_time": "2022-07-18T18:30:48.043Z"
   },
   {
    "duration": 24,
    "start_time": "2022-07-18T18:30:48.068Z"
   },
   {
    "duration": 28,
    "start_time": "2022-07-18T18:30:48.094Z"
   },
   {
    "duration": 35,
    "start_time": "2022-07-18T18:30:48.124Z"
   },
   {
    "duration": 21,
    "start_time": "2022-07-18T18:30:48.161Z"
   },
   {
    "duration": 4,
    "start_time": "2022-07-18T18:30:48.183Z"
   },
   {
    "duration": 13,
    "start_time": "2022-07-18T18:30:48.189Z"
   },
   {
    "duration": 10,
    "start_time": "2022-07-18T18:30:48.204Z"
   },
   {
    "duration": 17,
    "start_time": "2022-07-18T18:30:51.141Z"
   },
   {
    "duration": 160,
    "start_time": "2022-07-18T18:31:18.808Z"
   },
   {
    "duration": 163,
    "start_time": "2022-07-18T18:31:21.926Z"
   },
   {
    "duration": 167,
    "start_time": "2022-07-18T18:31:28.203Z"
   },
   {
    "duration": 157,
    "start_time": "2022-07-18T18:31:59.273Z"
   },
   {
    "duration": 155,
    "start_time": "2022-07-18T18:32:12.520Z"
   },
   {
    "duration": 20,
    "start_time": "2022-07-18T18:32:20.312Z"
   },
   {
    "duration": 24,
    "start_time": "2022-07-18T18:32:50.897Z"
   },
   {
    "duration": 22,
    "start_time": "2022-07-18T18:33:03.356Z"
   },
   {
    "duration": 10,
    "start_time": "2022-07-18T18:33:11.077Z"
   },
   {
    "duration": 10,
    "start_time": "2022-07-18T18:33:33.088Z"
   },
   {
    "duration": 12,
    "start_time": "2022-07-18T18:33:38.170Z"
   },
   {
    "duration": 9,
    "start_time": "2022-07-18T18:33:53.312Z"
   },
   {
    "duration": 3,
    "start_time": "2022-07-18T18:49:35.665Z"
   },
   {
    "duration": 3,
    "start_time": "2022-07-18T18:49:50.814Z"
   },
   {
    "duration": 7,
    "start_time": "2022-07-18T18:50:31.334Z"
   },
   {
    "duration": 8,
    "start_time": "2022-07-18T18:50:42.099Z"
   },
   {
    "duration": 83,
    "start_time": "2022-07-18T19:00:07.536Z"
   },
   {
    "duration": 102,
    "start_time": "2022-07-18T19:00:52.261Z"
   },
   {
    "duration": 95,
    "start_time": "2022-07-18T19:00:59.319Z"
   },
   {
    "duration": 9,
    "start_time": "2022-07-18T19:01:13.984Z"
   },
   {
    "duration": 77,
    "start_time": "2022-07-18T19:01:38.800Z"
   },
   {
    "duration": 10,
    "start_time": "2022-07-18T19:01:46.826Z"
   },
   {
    "duration": 1205,
    "start_time": "2022-07-18T19:04:03.992Z"
   },
   {
    "duration": 1181,
    "start_time": "2022-07-18T19:04:10.284Z"
   },
   {
    "duration": 1172,
    "start_time": "2022-07-18T19:04:12.146Z"
   },
   {
    "duration": 5,
    "start_time": "2022-07-18T19:04:17.137Z"
   },
   {
    "duration": 5,
    "start_time": "2022-07-18T19:06:51.293Z"
   },
   {
    "duration": 6,
    "start_time": "2022-07-18T19:06:57.537Z"
   },
   {
    "duration": 10,
    "start_time": "2022-07-18T19:08:09.619Z"
   },
   {
    "duration": 10,
    "start_time": "2022-07-18T19:08:10.366Z"
   },
   {
    "duration": 10,
    "start_time": "2022-07-18T19:08:34.798Z"
   },
   {
    "duration": 10,
    "start_time": "2022-07-18T19:08:43.566Z"
   },
   {
    "duration": 12,
    "start_time": "2022-07-18T19:08:45.864Z"
   },
   {
    "duration": 10,
    "start_time": "2022-07-18T19:08:46.652Z"
   },
   {
    "duration": 4,
    "start_time": "2022-07-18T19:10:32.942Z"
   },
   {
    "duration": 5,
    "start_time": "2022-07-18T19:11:01.721Z"
   },
   {
    "duration": 5,
    "start_time": "2022-07-18T19:11:09.250Z"
   },
   {
    "duration": 12,
    "start_time": "2022-07-18T19:14:18.961Z"
   },
   {
    "duration": 13,
    "start_time": "2022-07-18T19:14:25.184Z"
   },
   {
    "duration": 11,
    "start_time": "2022-07-18T19:14:34.946Z"
   },
   {
    "duration": 11,
    "start_time": "2022-07-18T19:14:35.342Z"
   },
   {
    "duration": 6,
    "start_time": "2022-07-18T19:18:42.149Z"
   },
   {
    "duration": 6,
    "start_time": "2022-07-18T19:18:48.578Z"
   },
   {
    "duration": 10,
    "start_time": "2022-07-18T19:18:59.761Z"
   },
   {
    "duration": 4,
    "start_time": "2022-07-18T19:19:08.634Z"
   },
   {
    "duration": 7,
    "start_time": "2022-07-18T19:19:11.643Z"
   },
   {
    "duration": 9,
    "start_time": "2022-07-18T19:19:48.917Z"
   },
   {
    "duration": 10,
    "start_time": "2022-07-18T19:19:56.496Z"
   },
   {
    "duration": 12,
    "start_time": "2022-07-18T19:21:51.684Z"
   },
   {
    "duration": 10,
    "start_time": "2022-07-18T19:22:17.739Z"
   },
   {
    "duration": 9,
    "start_time": "2022-07-18T19:24:08.708Z"
   },
   {
    "duration": 28,
    "start_time": "2022-07-18T19:43:05.660Z"
   },
   {
    "duration": 39,
    "start_time": "2022-07-18T19:44:03.891Z"
   },
   {
    "duration": 35,
    "start_time": "2022-07-18T19:45:00.256Z"
   },
   {
    "duration": 28,
    "start_time": "2022-07-18T19:47:59.870Z"
   },
   {
    "duration": 62,
    "start_time": "2022-07-18T19:48:20.180Z"
   },
   {
    "duration": 519,
    "start_time": "2022-07-18T19:48:26.171Z"
   },
   {
    "duration": 38,
    "start_time": "2022-07-18T19:48:26.693Z"
   },
   {
    "duration": 23,
    "start_time": "2022-07-18T19:48:26.734Z"
   },
   {
    "duration": 17,
    "start_time": "2022-07-18T19:48:26.760Z"
   },
   {
    "duration": 55,
    "start_time": "2022-07-18T19:48:26.780Z"
   },
   {
    "duration": 4,
    "start_time": "2022-07-18T19:48:26.837Z"
   },
   {
    "duration": 10,
    "start_time": "2022-07-18T19:48:26.843Z"
   },
   {
    "duration": 5,
    "start_time": "2022-07-18T19:48:26.856Z"
   },
   {
    "duration": 42,
    "start_time": "2022-07-18T19:48:26.862Z"
   },
   {
    "duration": 6,
    "start_time": "2022-07-18T19:48:26.907Z"
   },
   {
    "duration": 47,
    "start_time": "2022-07-18T19:48:26.914Z"
   },
   {
    "duration": 11,
    "start_time": "2022-07-18T19:48:26.963Z"
   },
   {
    "duration": 4,
    "start_time": "2022-07-18T19:48:26.976Z"
   },
   {
    "duration": 40,
    "start_time": "2022-07-18T19:48:26.982Z"
   },
   {
    "duration": 19,
    "start_time": "2022-07-18T19:48:27.024Z"
   },
   {
    "duration": 13,
    "start_time": "2022-07-18T19:48:27.045Z"
   },
   {
    "duration": 12,
    "start_time": "2022-07-18T19:48:27.060Z"
   },
   {
    "duration": 33,
    "start_time": "2022-07-18T19:48:27.074Z"
   },
   {
    "duration": 19,
    "start_time": "2022-07-18T19:48:27.109Z"
   },
   {
    "duration": 7,
    "start_time": "2022-07-18T19:48:27.131Z"
   },
   {
    "duration": 14,
    "start_time": "2022-07-18T19:48:27.141Z"
   },
   {
    "duration": 26,
    "start_time": "2022-07-18T19:48:27.158Z"
   },
   {
    "duration": 58,
    "start_time": "2022-07-18T19:48:27.186Z"
   },
   {
    "duration": 10,
    "start_time": "2022-07-18T19:48:27.247Z"
   },
   {
    "duration": 72,
    "start_time": "2022-07-18T19:48:27.258Z"
   },
   {
    "duration": 0,
    "start_time": "2022-07-18T19:48:27.332Z"
   },
   {
    "duration": 0,
    "start_time": "2022-07-18T19:48:27.334Z"
   },
   {
    "duration": 30,
    "start_time": "2022-07-18T19:58:36.351Z"
   },
   {
    "duration": 29,
    "start_time": "2022-07-18T20:01:16.927Z"
   },
   {
    "duration": 29,
    "start_time": "2022-07-18T20:06:27.828Z"
   },
   {
    "duration": 59,
    "start_time": "2022-07-18T20:10:25.202Z"
   },
   {
    "duration": 39,
    "start_time": "2022-07-18T20:12:47.616Z"
   },
   {
    "duration": 31,
    "start_time": "2022-07-18T20:13:06.050Z"
   },
   {
    "duration": 36,
    "start_time": "2022-07-18T20:16:35.671Z"
   },
   {
    "duration": 34,
    "start_time": "2022-07-18T20:16:49.415Z"
   },
   {
    "duration": 30,
    "start_time": "2022-07-18T20:28:37.684Z"
   },
   {
    "duration": 35,
    "start_time": "2022-07-18T20:28:58.531Z"
   },
   {
    "duration": 32,
    "start_time": "2022-07-18T21:01:28.005Z"
   },
   {
    "duration": 30,
    "start_time": "2022-07-18T21:01:30.793Z"
   },
   {
    "duration": 726,
    "start_time": "2022-07-19T10:08:09.703Z"
   },
   {
    "duration": 34,
    "start_time": "2022-07-19T10:08:10.431Z"
   },
   {
    "duration": 21,
    "start_time": "2022-07-19T10:08:10.467Z"
   },
   {
    "duration": 14,
    "start_time": "2022-07-19T10:08:10.490Z"
   },
   {
    "duration": 67,
    "start_time": "2022-07-19T10:08:10.506Z"
   },
   {
    "duration": 4,
    "start_time": "2022-07-19T10:08:10.574Z"
   },
   {
    "duration": 10,
    "start_time": "2022-07-19T10:08:10.580Z"
   },
   {
    "duration": 4,
    "start_time": "2022-07-19T10:08:10.592Z"
   },
   {
    "duration": 8,
    "start_time": "2022-07-19T10:08:10.597Z"
   },
   {
    "duration": 4,
    "start_time": "2022-07-19T10:08:10.609Z"
   },
   {
    "duration": 63,
    "start_time": "2022-07-19T10:08:10.614Z"
   },
   {
    "duration": 9,
    "start_time": "2022-07-19T10:08:10.679Z"
   },
   {
    "duration": 7,
    "start_time": "2022-07-19T10:08:10.690Z"
   },
   {
    "duration": 23,
    "start_time": "2022-07-19T10:08:10.698Z"
   },
   {
    "duration": 44,
    "start_time": "2022-07-19T10:08:10.723Z"
   },
   {
    "duration": 11,
    "start_time": "2022-07-19T10:08:10.768Z"
   },
   {
    "duration": 7,
    "start_time": "2022-07-19T10:08:10.780Z"
   },
   {
    "duration": 12,
    "start_time": "2022-07-19T10:08:10.789Z"
   },
   {
    "duration": 10,
    "start_time": "2022-07-19T10:08:10.802Z"
   },
   {
    "duration": 6,
    "start_time": "2022-07-19T10:08:10.813Z"
   },
   {
    "duration": 30,
    "start_time": "2022-07-19T10:08:10.820Z"
   },
   {
    "duration": 33,
    "start_time": "2022-07-19T10:08:10.851Z"
   },
   {
    "duration": 53,
    "start_time": "2022-07-19T10:08:10.886Z"
   },
   {
    "duration": 43,
    "start_time": "2022-07-19T10:08:10.940Z"
   },
   {
    "duration": 27,
    "start_time": "2022-07-19T10:08:10.985Z"
   },
   {
    "duration": 41,
    "start_time": "2022-07-19T10:08:11.014Z"
   },
   {
    "duration": 89,
    "start_time": "2022-07-19T16:04:53.686Z"
   },
   {
    "duration": 780,
    "start_time": "2022-07-19T16:05:07.251Z"
   },
   {
    "duration": 41,
    "start_time": "2022-07-19T16:05:08.038Z"
   },
   {
    "duration": 53,
    "start_time": "2022-07-19T16:05:08.082Z"
   },
   {
    "duration": 30,
    "start_time": "2022-07-19T16:05:08.139Z"
   },
   {
    "duration": 69,
    "start_time": "2022-07-19T16:05:08.171Z"
   },
   {
    "duration": 8,
    "start_time": "2022-07-19T16:05:08.243Z"
   },
   {
    "duration": 57,
    "start_time": "2022-07-19T16:05:08.253Z"
   },
   {
    "duration": 8,
    "start_time": "2022-07-19T16:05:08.313Z"
   },
   {
    "duration": 12,
    "start_time": "2022-07-19T16:05:08.324Z"
   },
   {
    "duration": 10,
    "start_time": "2022-07-19T16:05:08.340Z"
   },
   {
    "duration": 46,
    "start_time": "2022-07-19T16:05:08.352Z"
   },
   {
    "duration": 13,
    "start_time": "2022-07-19T16:05:08.400Z"
   },
   {
    "duration": 25,
    "start_time": "2022-07-19T16:05:08.415Z"
   },
   {
    "duration": 38,
    "start_time": "2022-07-19T16:05:08.442Z"
   },
   {
    "duration": 33,
    "start_time": "2022-07-19T16:05:08.483Z"
   },
   {
    "duration": 31,
    "start_time": "2022-07-19T16:05:08.520Z"
   },
   {
    "duration": 5,
    "start_time": "2022-07-19T16:05:08.555Z"
   },
   {
    "duration": 25,
    "start_time": "2022-07-19T16:05:08.562Z"
   },
   {
    "duration": 16,
    "start_time": "2022-07-19T16:05:08.590Z"
   },
   {
    "duration": 6,
    "start_time": "2022-07-19T16:05:08.608Z"
   },
   {
    "duration": 41,
    "start_time": "2022-07-19T16:05:08.641Z"
   },
   {
    "duration": 52,
    "start_time": "2022-07-19T16:05:08.684Z"
   },
   {
    "duration": 55,
    "start_time": "2022-07-19T16:05:08.738Z"
   },
   {
    "duration": 63,
    "start_time": "2022-07-19T16:05:08.796Z"
   },
   {
    "duration": 81,
    "start_time": "2022-07-19T16:05:08.861Z"
   },
   {
    "duration": 45,
    "start_time": "2022-07-19T16:05:08.945Z"
   },
   {
    "duration": 69,
    "start_time": "2022-07-19T16:05:08.992Z"
   },
   {
    "duration": 52,
    "start_time": "2022-07-19T16:06:10.880Z"
   },
   {
    "duration": 53,
    "start_time": "2022-07-19T16:10:49.310Z"
   },
   {
    "duration": 53,
    "start_time": "2022-07-19T16:18:41.268Z"
   },
   {
    "duration": 79,
    "start_time": "2022-07-19T16:31:49.157Z"
   },
   {
    "duration": 41,
    "start_time": "2022-07-19T16:41:03.968Z"
   },
   {
    "duration": 128,
    "start_time": "2022-07-19T16:41:05.339Z"
   },
   {
    "duration": 26,
    "start_time": "2022-07-19T16:41:05.931Z"
   },
   {
    "duration": 31,
    "start_time": "2022-07-19T16:41:07.018Z"
   },
   {
    "duration": 77,
    "start_time": "2022-07-19T16:41:10.709Z"
   },
   {
    "duration": 105,
    "start_time": "2022-07-19T16:41:10.788Z"
   },
   {
    "duration": 27,
    "start_time": "2022-07-19T16:41:10.895Z"
   },
   {
    "duration": 63,
    "start_time": "2022-07-19T16:41:10.925Z"
   },
   {
    "duration": 18,
    "start_time": "2022-07-19T16:41:10.992Z"
   },
   {
    "duration": 52,
    "start_time": "2022-07-19T16:41:11.014Z"
   },
   {
    "duration": 4,
    "start_time": "2022-07-19T16:41:11.068Z"
   },
   {
    "duration": 24,
    "start_time": "2022-07-19T16:41:11.075Z"
   },
   {
    "duration": 6,
    "start_time": "2022-07-19T16:41:11.101Z"
   },
   {
    "duration": 10,
    "start_time": "2022-07-19T16:41:11.109Z"
   },
   {
    "duration": 13,
    "start_time": "2022-07-19T16:41:11.121Z"
   },
   {
    "duration": 84,
    "start_time": "2022-07-19T16:41:11.137Z"
   },
   {
    "duration": 11,
    "start_time": "2022-07-19T16:41:11.223Z"
   },
   {
    "duration": 45,
    "start_time": "2022-07-19T16:41:11.240Z"
   },
   {
    "duration": 28,
    "start_time": "2022-07-19T16:41:11.287Z"
   },
   {
    "duration": 22,
    "start_time": "2022-07-19T16:41:11.318Z"
   },
   {
    "duration": 35,
    "start_time": "2022-07-19T16:41:11.342Z"
   },
   {
    "duration": 28,
    "start_time": "2022-07-19T16:41:11.379Z"
   },
   {
    "duration": 16,
    "start_time": "2022-07-19T16:41:11.409Z"
   },
   {
    "duration": 8,
    "start_time": "2022-07-19T16:41:11.427Z"
   },
   {
    "duration": 42,
    "start_time": "2022-07-19T16:41:11.438Z"
   },
   {
    "duration": 22,
    "start_time": "2022-07-19T16:41:11.482Z"
   },
   {
    "duration": 25,
    "start_time": "2022-07-19T16:41:11.505Z"
   },
   {
    "duration": 73,
    "start_time": "2022-07-19T16:41:11.532Z"
   },
   {
    "duration": 75,
    "start_time": "2022-07-19T16:41:11.608Z"
   },
   {
    "duration": 45,
    "start_time": "2022-07-19T16:41:11.685Z"
   },
   {
    "duration": 39,
    "start_time": "2022-07-19T16:41:11.732Z"
   },
   {
    "duration": 53,
    "start_time": "2022-07-19T16:41:11.773Z"
   },
   {
    "duration": 67,
    "start_time": "2022-07-19T16:41:31.635Z"
   },
   {
    "duration": 66,
    "start_time": "2022-07-19T18:25:37.827Z"
   },
   {
    "duration": 692,
    "start_time": "2022-07-19T18:25:37.896Z"
   },
   {
    "duration": 18,
    "start_time": "2022-07-19T18:25:38.590Z"
   },
   {
    "duration": 15,
    "start_time": "2022-07-19T18:25:38.610Z"
   },
   {
    "duration": 9,
    "start_time": "2022-07-19T18:25:38.626Z"
   },
   {
    "duration": 35,
    "start_time": "2022-07-19T18:25:38.636Z"
   },
   {
    "duration": 4,
    "start_time": "2022-07-19T18:25:38.672Z"
   },
   {
    "duration": 13,
    "start_time": "2022-07-19T18:25:38.677Z"
   },
   {
    "duration": 4,
    "start_time": "2022-07-19T18:25:38.692Z"
   },
   {
    "duration": 28,
    "start_time": "2022-07-19T18:25:38.700Z"
   },
   {
    "duration": 5,
    "start_time": "2022-07-19T18:25:38.730Z"
   },
   {
    "duration": 33,
    "start_time": "2022-07-19T18:25:38.736Z"
   },
   {
    "duration": 8,
    "start_time": "2022-07-19T18:25:38.771Z"
   },
   {
    "duration": 4,
    "start_time": "2022-07-19T18:25:38.781Z"
   },
   {
    "duration": 51,
    "start_time": "2022-07-19T18:25:38.787Z"
   },
   {
    "duration": 23,
    "start_time": "2022-07-19T18:25:38.839Z"
   },
   {
    "duration": 19,
    "start_time": "2022-07-19T18:25:38.864Z"
   },
   {
    "duration": 12,
    "start_time": "2022-07-19T18:25:38.886Z"
   },
   {
    "duration": 17,
    "start_time": "2022-07-19T18:25:38.902Z"
   },
   {
    "duration": 13,
    "start_time": "2022-07-19T18:25:38.923Z"
   },
   {
    "duration": 19,
    "start_time": "2022-07-19T18:25:38.937Z"
   },
   {
    "duration": 34,
    "start_time": "2022-07-19T18:25:38.958Z"
   },
   {
    "duration": 30,
    "start_time": "2022-07-19T18:25:38.994Z"
   },
   {
    "duration": 51,
    "start_time": "2022-07-19T18:25:39.027Z"
   },
   {
    "duration": 58,
    "start_time": "2022-07-19T18:25:39.080Z"
   },
   {
    "duration": 44,
    "start_time": "2022-07-19T18:25:39.140Z"
   },
   {
    "duration": 43,
    "start_time": "2022-07-19T18:25:39.186Z"
   },
   {
    "duration": 27,
    "start_time": "2022-07-19T18:25:39.232Z"
   },
   {
    "duration": 42,
    "start_time": "2022-07-31T14:19:05.421Z"
   }
  ],
  "celltoolbar": "Edit Metadata",
  "colab": {
   "name": "dpp_template_part2.ipynb",
   "provenance": []
  },
  "kernelspec": {
   "display_name": "Python 3 (ipykernel)",
   "language": "python",
   "name": "python3"
  },
  "language_info": {
   "codemirror_mode": {
    "name": "ipython",
    "version": 3
   },
   "file_extension": ".py",
   "mimetype": "text/x-python",
   "name": "python",
   "nbconvert_exporter": "python",
   "pygments_lexer": "ipython3",
   "version": "3.9.12"
  },
  "toc": {
   "base_numbering": 1,
   "nav_menu": {},
   "number_sections": true,
   "sideBar": true,
   "skip_h1_title": true,
   "title_cell": "Table of Contents",
   "title_sidebar": "Contents",
   "toc_cell": false,
   "toc_position": {},
   "toc_section_display": true,
   "toc_window_display": false
  }
 },
 "nbformat": 4,
 "nbformat_minor": 5
}
