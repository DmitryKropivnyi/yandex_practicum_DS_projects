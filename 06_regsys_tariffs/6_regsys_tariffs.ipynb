{
 "cells": [
  {
   "cell_type": "markdown",
   "metadata": {},
   "source": [
    "# Рекомендация тарифов"
   ]
  },
  {
   "cell_type": "markdown",
   "metadata": {},
   "source": [
    "В нашем распоряжении данные о поведении клиентов, которые уже перешли на эти тарифы (из проекта «Статистический анализ данных»). Нужно построить модель для задачи классификации, которая выберет подходящий тариф. Предобработка данных не понадобится — мы её уже сделали."
   ]
  },
  {
   "cell_type": "markdown",
   "metadata": {},
   "source": [
    "## Откройте и изучите файл"
   ]
  },
  {
   "cell_type": "code",
   "execution_count": 48,
   "metadata": {},
   "outputs": [],
   "source": [
    "import pandas as pd\n",
    "from IPython.display import display, HTML\n",
    "import warnings\n",
    "from sklearn.model_selection import train_test_split\n",
    "from sklearn.ensemble import RandomForestClassifier\n",
    "from sklearn.tree import DecisionTreeClassifier\n",
    "from sklearn.metrics import mean_squared_error\n",
    "from sklearn.metrics import accuracy_score\n",
    "from sklearn.linear_model import LogisticRegression\n",
    "from sklearn.dummy import DummyClassifier\n",
    "import seaborn as sns"
   ]
  },
  {
   "cell_type": "code",
   "execution_count": 2,
   "metadata": {},
   "outputs": [
    {
     "data": {
      "text/html": [
       "<style>.container { width:90% !important; <style>}"
      ],
      "text/plain": [
       "<IPython.core.display.HTML object>"
      ]
     },
     "metadata": {},
     "output_type": "display_data"
    }
   ],
   "source": [
    "display(HTML(\"<style>.container { width:70% !important; <style>}\"))\n",
    "pd.set_option('display.max_columns', None)\n",
    "pd.set_option('display.max_rows', None)\n",
    "warnings.filterwarnings(\"ignore\")"
   ]
  },
  {
   "cell_type": "code",
   "execution_count": 3,
   "metadata": {},
   "outputs": [],
   "source": [
    "df = pd.read_csv('E:/BuduBogatym/users_behavior.csv')"
   ]
  },
  {
   "cell_type": "code",
   "execution_count": 4,
   "metadata": {},
   "outputs": [
    {
     "name": "stdout",
     "output_type": "stream",
     "text": [
      "<class 'pandas.core.frame.DataFrame'>\n",
      "RangeIndex: 3214 entries, 0 to 3213\n",
      "Data columns (total 5 columns):\n",
      " #   Column    Non-Null Count  Dtype  \n",
      "---  ------    --------------  -----  \n",
      " 0   calls     3214 non-null   float64\n",
      " 1   minutes   3214 non-null   float64\n",
      " 2   messages  3214 non-null   float64\n",
      " 3   mb_used   3214 non-null   float64\n",
      " 4   is_ultra  3214 non-null   int64  \n",
      "dtypes: float64(4), int64(1)\n",
      "memory usage: 125.7 KB\n"
     ]
    },
    {
     "data": {
      "text/html": [
       "<div>\n",
       "<style scoped>\n",
       "    .dataframe tbody tr th:only-of-type {\n",
       "        vertical-align: middle;\n",
       "    }\n",
       "\n",
       "    .dataframe tbody tr th {\n",
       "        vertical-align: top;\n",
       "    }\n",
       "\n",
       "    .dataframe thead th {\n",
       "        text-align: right;\n",
       "    }\n",
       "</style>\n",
       "<table border=\"1\" class=\"dataframe\">\n",
       "  <thead>\n",
       "    <tr style=\"text-align: right;\">\n",
       "      <th></th>\n",
       "      <th>calls</th>\n",
       "      <th>minutes</th>\n",
       "      <th>messages</th>\n",
       "      <th>mb_used</th>\n",
       "      <th>is_ultra</th>\n",
       "    </tr>\n",
       "  </thead>\n",
       "  <tbody>\n",
       "    <tr>\n",
       "      <th>0</th>\n",
       "      <td>40.0</td>\n",
       "      <td>311.90</td>\n",
       "      <td>83.0</td>\n",
       "      <td>19915.42</td>\n",
       "      <td>0</td>\n",
       "    </tr>\n",
       "    <tr>\n",
       "      <th>1</th>\n",
       "      <td>85.0</td>\n",
       "      <td>516.75</td>\n",
       "      <td>56.0</td>\n",
       "      <td>22696.96</td>\n",
       "      <td>0</td>\n",
       "    </tr>\n",
       "    <tr>\n",
       "      <th>2</th>\n",
       "      <td>77.0</td>\n",
       "      <td>467.66</td>\n",
       "      <td>86.0</td>\n",
       "      <td>21060.45</td>\n",
       "      <td>0</td>\n",
       "    </tr>\n",
       "    <tr>\n",
       "      <th>3</th>\n",
       "      <td>106.0</td>\n",
       "      <td>745.53</td>\n",
       "      <td>81.0</td>\n",
       "      <td>8437.39</td>\n",
       "      <td>1</td>\n",
       "    </tr>\n",
       "    <tr>\n",
       "      <th>4</th>\n",
       "      <td>66.0</td>\n",
       "      <td>418.74</td>\n",
       "      <td>1.0</td>\n",
       "      <td>14502.75</td>\n",
       "      <td>0</td>\n",
       "    </tr>\n",
       "    <tr>\n",
       "      <th>5</th>\n",
       "      <td>58.0</td>\n",
       "      <td>344.56</td>\n",
       "      <td>21.0</td>\n",
       "      <td>15823.37</td>\n",
       "      <td>0</td>\n",
       "    </tr>\n",
       "    <tr>\n",
       "      <th>6</th>\n",
       "      <td>57.0</td>\n",
       "      <td>431.64</td>\n",
       "      <td>20.0</td>\n",
       "      <td>3738.90</td>\n",
       "      <td>1</td>\n",
       "    </tr>\n",
       "    <tr>\n",
       "      <th>7</th>\n",
       "      <td>15.0</td>\n",
       "      <td>132.40</td>\n",
       "      <td>6.0</td>\n",
       "      <td>21911.60</td>\n",
       "      <td>0</td>\n",
       "    </tr>\n",
       "    <tr>\n",
       "      <th>8</th>\n",
       "      <td>7.0</td>\n",
       "      <td>43.39</td>\n",
       "      <td>3.0</td>\n",
       "      <td>2538.67</td>\n",
       "      <td>1</td>\n",
       "    </tr>\n",
       "    <tr>\n",
       "      <th>9</th>\n",
       "      <td>90.0</td>\n",
       "      <td>665.41</td>\n",
       "      <td>38.0</td>\n",
       "      <td>17358.61</td>\n",
       "      <td>0</td>\n",
       "    </tr>\n",
       "  </tbody>\n",
       "</table>\n",
       "</div>"
      ],
      "text/plain": [
       "   calls  minutes  messages   mb_used  is_ultra\n",
       "0   40.0   311.90      83.0  19915.42         0\n",
       "1   85.0   516.75      56.0  22696.96         0\n",
       "2   77.0   467.66      86.0  21060.45         0\n",
       "3  106.0   745.53      81.0   8437.39         1\n",
       "4   66.0   418.74       1.0  14502.75         0\n",
       "5   58.0   344.56      21.0  15823.37         0\n",
       "6   57.0   431.64      20.0   3738.90         1\n",
       "7   15.0   132.40       6.0  21911.60         0\n",
       "8    7.0    43.39       3.0   2538.67         1\n",
       "9   90.0   665.41      38.0  17358.61         0"
      ]
     },
     "metadata": {},
     "output_type": "display_data"
    }
   ],
   "source": [
    "# Изучим общую информацию о датасете\n",
    "df.info()\n",
    "display(df.head(10))"
   ]
  },
  {
   "cell_type": "code",
   "execution_count": 5,
   "metadata": {
    "scrolled": true
   },
   "outputs": [
    {
     "data": {
      "text/plain": [
       "calls       0\n",
       "minutes     0\n",
       "messages    0\n",
       "mb_used     0\n",
       "is_ultra    0\n",
       "dtype: int64"
      ]
     },
     "execution_count": 5,
     "metadata": {},
     "output_type": "execute_result"
    }
   ],
   "source": [
    "# Убедимся в отсутствии пропусков.\n",
    "df.isna().sum()"
   ]
  },
  {
   "cell_type": "code",
   "execution_count": 6,
   "metadata": {
    "scrolled": false
   },
   "outputs": [
    {
     "data": {
      "text/plain": [
       "30.647168637212197"
      ]
     },
     "execution_count": 6,
     "metadata": {},
     "output_type": "execute_result"
    }
   ],
   "source": [
    "# Посчитаем процентное соотношение количества пользователей которые используют тариф \"Ультра\"\n",
    "df['is_ultra'].sum() /( df['is_ultra'].count())*100"
   ]
  },
  {
   "cell_type": "markdown",
   "metadata": {},
   "source": [
    "Проведя первичный анализ видно, что исходный датасет не имеет пропусков, все типы данных находятся в правильном формате.\n",
    "Также ниже преведено соотношение между тарифами у пользователей:\n",
    " * 30% пользователей используют тариф \"Ультра\"\n",
    " * 70% пользователей используют тариф \"Смарт\""
   ]
  },
  {
   "cell_type": "markdown",
   "metadata": {},
   "source": [
    "## Разбейте данные на выборки"
   ]
  },
  {
   "cell_type": "code",
   "execution_count": 7,
   "metadata": {},
   "outputs": [],
   "source": [
    "features = df.drop(['is_ultra'], axis=1)\n",
    "target = df['is_ultra']\n",
    "features_train, features_valid, target_train, target_valid = \\\n",
    "train_test_split(features, target, test_size=0.4, random_state=12345)# Отделим обучающую выборку в 60% от датасета\n",
    "features_valid, features_test, target_valid, target_test = \\\n",
    "train_test_split(features_valid, target_valid, test_size=0.5, random_state=12345)# Поделим оставшуюся часть на две выборки: Тестовую и валидационную"
   ]
  },
  {
   "cell_type": "code",
   "execution_count": 8,
   "metadata": {
    "scrolled": true
   },
   "outputs": [
    {
     "name": "stdout",
     "output_type": "stream",
     "text": [
      "(1928, 4)\n",
      "(1928,)\n",
      "(643, 4)\n",
      "(643,)\n",
      "(643, 4)\n",
      "(643,)\n"
     ]
    }
   ],
   "source": [
    "# Проверим размеры полученных выборок\n",
    "print(features_train.shape)\n",
    "print(target_train.shape)\n",
    "print(features_valid.shape)\n",
    "print(target_valid.shape)\n",
    "print(features_test.shape)\n",
    "print(target_test.shape)\n"
   ]
  },
  {
   "cell_type": "markdown",
   "metadata": {},
   "source": [
    "## Исследование моделей"
   ]
  },
  {
   "cell_type": "markdown",
   "metadata": {},
   "source": [
    "### Обучим модель деревом решений с различными значениями глубины"
   ]
  },
  {
   "cell_type": "code",
   "execution_count": 10,
   "metadata": {
    "scrolled": false
   },
   "outputs": [
    {
     "name": "stdout",
     "output_type": "stream",
     "text": [
      "Точность валидационной выборки: 0.7853810264385692 Максимальная глубина 3\n",
      "CPU times: user 77.6 ms, sys: 63 µs, total: 77.7 ms\n",
      "Wall time: 76 ms\n"
     ]
    }
   ],
   "source": [
    "%%time\n",
    "# Обозначим переменные в которые будем помещать наилучшие результаты точности и наилучший гиперпараметр\n",
    "best_model_decision_tree = None\n",
    "best_result_decision_tree = 0\n",
    "depth_decision_tree = None\n",
    "valid_list = []\n",
    "train_list = []\n",
    "depth_list = []\n",
    "\n",
    "for depth in range(1, 10):\n",
    "    model_dt = DecisionTreeClassifier(\n",
    "        random_state=12345, max_depth=depth)  # Определяем тип модели\n",
    "    # Обучаем модель на обучающей выборке\n",
    "    model_dt.fit(features_train, target_train)\n",
    "    # Предсказываем результаты с помощью модели на валидационной выборке\n",
    "    predictions_valid_dt = model_dt.predict(features_valid)\n",
    "    # Предсказываем результаты с помощью модели на тестовой выборке\n",
    "    predictions_train_dt = model_dt.predict(features_train)\n",
    "    # Получаем результат точности модели на валидац.выборке\n",
    "    valid_result = accuracy_score(target_valid, predictions_valid_dt)\n",
    "    # Получаем результат точности модели на тренировочной выборке\n",
    "    train_result = accuracy_score(target_train, predictions_train_dt)\n",
    "    \n",
    "    valid_list.append(valid_result)\n",
    "    train_list.append(train_result)\n",
    "    depth_list.append(str(depth))\n",
    "\n",
    "    if valid_result > best_result_decision_tree:  \n",
    "        best_model_decision_tree = model_dt\n",
    "        best_result_decision_tree = valid_result\n",
    "        depth_decision_tree = depth\n",
    "\n",
    "\n",
    "print('Точность валидационной выборки:', best_result_decision_tree, 'Максимальная глубина', depth_decision_tree)"
   ]
  },
  {
   "cell_type": "code",
   "execution_count": 47,
   "metadata": {
    "scrolled": true
   },
   "outputs": [
    {
     "data": {
      "image/png": "[encoded data removed]",
      "text/plain": [
       "<Figure size 720x720 with 1 Axes>"
      ]
     },
     "metadata": {
      "needs_background": "light"
     },
     "output_type": "display_data"
    }
   ],
   "source": [
    "list_for_plot = list(zip(depth_list, valid_list, train_list))\n",
    "plot_df = pd.DataFrame(list_for_plot, columns=['depth', 'valid', 'train'])\n",
    "plot_df.plot(x='depth', y=['valid','train'], kind='line', figsize = (10,10));"
   ]
  },
  {
   "cell_type": "markdown",
   "metadata": {},
   "source": [
    "**Вывод:** Используя \"Решающее дерево\" мы имеем высокий показатель точности, что может говорить о корректном обучении модели, также стоит отметить высокую скорость обучения у данного типа модели."
   ]
  },
  {
   "cell_type": "markdown",
   "metadata": {},
   "source": [
    "### Обучим модель случайному лесу с различными значениями глубины и количества деревьев"
   ]
  },
  {
   "cell_type": "code",
   "execution_count": 10,
   "metadata": {
    "scrolled": false
   },
   "outputs": [
    {
     "name": "stdout",
     "output_type": "stream",
     "text": [
      "Точность на валидационной выборке: 0.8087091757387247 Количество деревьев: 40 Максимальная глубина: 8\n",
      "CPU times: user 19.5 s, sys: 172 ms, total: 19.7 s\n",
      "Wall time: 19.7 s\n"
     ]
    }
   ],
   "source": [
    "%%time\n",
    "best_model_random_forest = None\n",
    "best_result_random_forest = 0\n",
    "depth_max = None\n",
    "est_max = None\n",
    "\n",
    "# Пройдемся по циклу перебрав значения количества деревьев \n",
    "for est in range(10, 101, 10):\n",
    "    # Пройдемся по циклу перебрав значения глубины дерева \n",
    "    for depth in range(1, 15):\n",
    "        model_rf = RandomForestClassifier(\n",
    "            random_state=12345, n_estimators=est, max_depth=depth)  # Определяем тип модели\n",
    "        # Обучаем модель на обучающей выборке\n",
    "        model_rf.fit(features_train, target_train)\n",
    "        # Предсказываем результаты с помощью модели на валидационной выборке\n",
    "        predictions_valid_rf = model_rf.predict(features_valid)\n",
    "        # Получаем результат точности модели\n",
    "        result_rf = accuracy_score(target_valid, predictions_valid_rf)\n",
    "        if result_rf > best_result_random_forest:  # Записываем налиучшие результаты\n",
    "            best_model_random_forest = model_rf\n",
    "            best_result_random_forest = result_rf\n",
    "            est_max = est\n",
    "            depth_max = depth\n",
    "\n",
    "print(\"Точность на валидационной выборке:\", best_result_random_forest, \"Количество деревьев:\", est_max, \"Максимальная глубина:\", depth_max)"
   ]
  },
  {
   "cell_type": "markdown",
   "metadata": {},
   "source": [
    "**Вывод:** Используя \"Случайный лес\", мы получили более высокий показатель точности, относительно других моделей обучения, однако можно заметить низкую скорость обучения, которая связана с большей обработкой данных при нахождении лучших гиперпараметров."
   ]
  },
  {
   "cell_type": "markdown",
   "metadata": {},
   "source": [
    "### Обучим модель логистической регрессии"
   ]
  },
  {
   "cell_type": "code",
   "execution_count": 11,
   "metadata": {
    "scrolled": true
   },
   "outputs": [
    {
     "name": "stdout",
     "output_type": "stream",
     "text": [
      "Точность на валидационной выборки: 0.7107309486780715\n",
      "CPU times: user 24 ms, sys: 0 ns, total: 24 ms\n",
      "Wall time: 21.4 ms\n"
     ]
    }
   ],
   "source": [
    "%%time\n",
    "model_lr = LogisticRegression(random_state=12345)\n",
    "\n",
    "# Обучаем модель на обучающей выборке\n",
    "model_lr.fit(features_train, target_train)\n",
    "# Предсказываем результаты с помощью модели на валидационной выборке\n",
    "predictions_valid_lr = model_lr.predict(features_valid)\n",
    "# Получаем результат точности модели\n",
    "result_lr = accuracy_score(target_valid, predictions_valid_lr)\n",
    "        \n",
    "print(\"Точность на валидационной выборки:\", result_lr)\n",
    "\n",
    "\n"
   ]
  },
  {
   "cell_type": "markdown",
   "metadata": {},
   "source": [
    "**Вывод:** Используя модель \"Логистическая регрессия\" мы получили наименьшую точность из всех моделей, но самую высокую скорость обучения."
   ]
  },
  {
   "cell_type": "markdown",
   "metadata": {},
   "source": [
    "**Исследуя модели машинного обучения мы получили следующие выводы:**  \n",
    " * \"Дерево решений\" имеет средний уровень скорости обучения и среднее значение точности\n",
    " * \"Случайный лес\" самый медленный из всех, однако имеет лучший результат в точности\n",
    " * \"Логистическая регрессия\" самая быстродейственная, но имеет худший показатель точности\n",
    " ---\n",
    "Исходя из вышеперечисленного можно сделать выбор в пользу модели **\"Случайный лес\"**, имеющей следующие **гиперпараметры**:\n",
    " * Количество деревьев: 40 \n",
    " * Максимальная глубина: 8\n",
    "---\n",
    "И далее использовать эту модель на тестовой выборке."
   ]
  },
  {
   "cell_type": "markdown",
   "metadata": {},
   "source": [
    "## Проверьте модель на тестовой выборке"
   ]
  },
  {
   "cell_type": "markdown",
   "metadata": {},
   "source": [
    "Наилучшей моделью оказалась `RandomForest`, поэтому именно с ней проведём проверку на тестовой выборке"
   ]
  },
  {
   "cell_type": "code",
   "execution_count": 12,
   "metadata": {},
   "outputs": [
    {
     "name": "stdout",
     "output_type": "stream",
     "text": [
      "Точность предсказания модели RandomForest на тестовой выборке: 0.7962674961119751\n"
     ]
    }
   ],
   "source": [
    "test_prediction_rf = best_model_random_forest.predict(features_test)\n",
    "\n",
    "print('Точность предсказания модели RandomForest на тестовой выборке:', accuracy_score( target_test, test_prediction_rf))"
   ]
  },
  {
   "cell_type": "markdown",
   "metadata": {},
   "source": [
    "## Проверьте модели на адекватность"
   ]
  },
  {
   "cell_type": "code",
   "execution_count": 52,
   "metadata": {},
   "outputs": [
    {
     "name": "stdout",
     "output_type": "stream",
     "text": [
      "Точность на валидационной выборке: 0.7060653188180405\n",
      "Точность на тестовой выборке: 0.6842923794712286\n"
     ]
    }
   ],
   "source": [
    "dummy_model = DummyClassifier(strategy=\"most_frequent\")  # Определяем тип модели\n",
    "dummy_model.fit(features_train, target_train) \n",
    "\n",
    "# Предсказываем целевые признаки используя валидационные признаки\n",
    "dummy_predict = dummy_model.predict(features_valid)\n",
    "\n",
    "print('Точность на валидационной выборке:', accuracy_score(target_valid, dummy_predict))\n",
    "print('Точность на тестовой выборке:', accuracy_score(target_test, dummy_predict))  "
   ]
  },
  {
   "cell_type": "markdown",
   "metadata": {},
   "source": [
    "Показатель точности DummyClassifier ниже, чем у остальных моделей, поэтому можно считать, что все наши модели прошли проверку на адекватность"
   ]
  },
  {
   "cell_type": "markdown",
   "metadata": {},
   "source": [
    "## Общий вывод:\n",
    "По результатам исследования можно сделать оценку используемых моделей:\n",
    " * **Оценка модели \"Решающее дерево\":**  \n",
    "   * Средний показатель скорости\n",
    "   * Средний показатель качества\n",
    "   ---\n",
    " * **Оценка модели \"Случайный лес\":**\n",
    "   * Самый низкий показатель скорости\n",
    "   * Самая высокое качество модели\n",
    "   ---\n",
    " * **Оценка модели \"Логистическая регрессия\":**\n",
    "   * Самая быстрая модель\n",
    "   * Наименьшее значение качества модели"
   ]
  },
  {
   "cell_type": "code",
   "execution_count": null,
   "metadata": {},
   "outputs": [],
   "source": []
  }
 ],
 "metadata": {
  "ExecuteTimeLog": [
   {
    "duration": 46,
    "start_time": "2022-09-11T12:30:41.343Z"
   },
   {
    "duration": 407,
    "start_time": "2022-09-11T12:30:44.158Z"
   },
   {
    "duration": 117,
    "start_time": "2022-09-11T12:30:44.973Z"
   },
   {
    "duration": 11,
    "start_time": "2022-09-11T12:30:52.805Z"
   },
   {
    "duration": 25,
    "start_time": "2022-09-11T12:31:05.021Z"
   },
   {
    "duration": 3,
    "start_time": "2022-09-11T12:31:47.852Z"
   },
   {
    "duration": 63,
    "start_time": "2022-09-11T12:32:52.037Z"
   },
   {
    "duration": 3,
    "start_time": "2022-09-11T12:32:53.900Z"
   },
   {
    "duration": 21,
    "start_time": "2022-09-11T12:32:54.116Z"
   },
   {
    "duration": 29,
    "start_time": "2022-09-11T12:32:59.709Z"
   },
   {
    "duration": 37,
    "start_time": "2022-09-11T12:33:02.629Z"
   },
   {
    "duration": 26,
    "start_time": "2022-09-11T12:33:12.916Z"
   },
   {
    "duration": 37,
    "start_time": "2022-09-11T12:33:27.572Z"
   },
   {
    "duration": 22,
    "start_time": "2022-09-11T12:33:34.076Z"
   },
   {
    "duration": 7,
    "start_time": "2022-09-11T12:35:44.421Z"
   },
   {
    "duration": 7,
    "start_time": "2022-09-11T12:35:55.900Z"
   },
   {
    "duration": 6,
    "start_time": "2022-09-11T12:36:01.228Z"
   },
   {
    "duration": 6,
    "start_time": "2022-09-11T12:36:05.446Z"
   },
   {
    "duration": 719,
    "start_time": "2022-09-11T12:51:39.658Z"
   },
   {
    "duration": 18,
    "start_time": "2022-09-11T13:00:17.678Z"
   },
   {
    "duration": 6,
    "start_time": "2022-09-11T13:00:17.944Z"
   },
   {
    "duration": 51,
    "start_time": "2022-09-11T13:20:56.955Z"
   },
   {
    "duration": 7,
    "start_time": "2022-09-11T13:21:04.826Z"
   },
   {
    "duration": 3,
    "start_time": "2022-09-11T13:22:19.037Z"
   },
   {
    "duration": 7,
    "start_time": "2022-09-11T13:23:03.125Z"
   },
   {
    "duration": 5,
    "start_time": "2022-09-11T13:23:04.452Z"
   },
   {
    "duration": 8,
    "start_time": "2022-09-11T13:23:20.636Z"
   },
   {
    "duration": 4,
    "start_time": "2022-09-11T13:23:21.156Z"
   },
   {
    "duration": 8,
    "start_time": "2022-09-11T13:23:24.268Z"
   },
   {
    "duration": 5,
    "start_time": "2022-09-11T13:23:24.460Z"
   },
   {
    "duration": 37,
    "start_time": "2022-09-11T13:39:22.896Z"
   },
   {
    "duration": 31,
    "start_time": "2022-09-11T13:39:23.106Z"
   },
   {
    "duration": 29,
    "start_time": "2022-09-11T13:39:23.313Z"
   },
   {
    "duration": 18,
    "start_time": "2022-09-11T13:39:23.538Z"
   },
   {
    "duration": 7,
    "start_time": "2022-09-11T13:39:23.873Z"
   },
   {
    "duration": 7,
    "start_time": "2022-09-11T13:39:24.705Z"
   },
   {
    "duration": 3,
    "start_time": "2022-09-11T13:39:24.938Z"
   },
   {
    "duration": 38,
    "start_time": "2022-09-11T13:48:14.590Z"
   },
   {
    "duration": 51,
    "start_time": "2022-09-11T13:48:23.374Z"
   },
   {
    "duration": 14,
    "start_time": "2022-09-11T13:48:28.296Z"
   },
   {
    "duration": 56,
    "start_time": "2022-09-11T13:48:32.097Z"
   },
   {
    "duration": 52,
    "start_time": "2022-09-11T13:49:11.024Z"
   },
   {
    "duration": 51,
    "start_time": "2022-09-11T13:49:15.467Z"
   },
   {
    "duration": 49,
    "start_time": "2022-09-11T13:49:17.982Z"
   },
   {
    "duration": 49,
    "start_time": "2022-09-11T13:49:26.136Z"
   },
   {
    "duration": 49,
    "start_time": "2022-09-11T13:49:34.400Z"
   },
   {
    "duration": 53,
    "start_time": "2022-09-11T13:49:38.728Z"
   },
   {
    "duration": 18,
    "start_time": "2022-09-11T13:53:36.408Z"
   },
   {
    "duration": 13,
    "start_time": "2022-09-11T13:53:45.096Z"
   },
   {
    "duration": 42,
    "start_time": "2022-09-11T13:53:54.920Z"
   },
   {
    "duration": 38,
    "start_time": "2022-09-11T13:53:57.520Z"
   },
   {
    "duration": 37,
    "start_time": "2022-09-11T13:54:02.143Z"
   },
   {
    "duration": 43,
    "start_time": "2022-09-11T13:56:27.807Z"
   },
   {
    "duration": 75,
    "start_time": "2022-09-11T13:56:42.583Z"
   },
   {
    "duration": 3,
    "start_time": "2022-09-11T13:56:47.478Z"
   },
   {
    "duration": 94,
    "start_time": "2022-09-11T13:56:49.057Z"
   },
   {
    "duration": 29,
    "start_time": "2022-09-11T13:56:49.223Z"
   },
   {
    "duration": 17,
    "start_time": "2022-09-11T13:56:49.415Z"
   },
   {
    "duration": 6,
    "start_time": "2022-09-11T13:56:49.607Z"
   },
   {
    "duration": 7,
    "start_time": "2022-09-11T13:56:50.175Z"
   },
   {
    "duration": 4,
    "start_time": "2022-09-11T13:56:50.423Z"
   },
   {
    "duration": 50,
    "start_time": "2022-09-11T13:56:51.495Z"
   },
   {
    "duration": 47,
    "start_time": "2022-09-11T13:57:00.631Z"
   },
   {
    "duration": 53,
    "start_time": "2022-09-11T13:58:12.255Z"
   },
   {
    "duration": 47,
    "start_time": "2022-09-11T13:58:21.287Z"
   },
   {
    "duration": 217,
    "start_time": "2022-09-11T14:01:55.398Z"
   },
   {
    "duration": 50,
    "start_time": "2022-09-11T14:03:19.391Z"
   },
   {
    "duration": 44,
    "start_time": "2022-09-11T14:03:29.206Z"
   },
   {
    "duration": 47,
    "start_time": "2022-09-11T14:03:31.519Z"
   },
   {
    "duration": 3,
    "start_time": "2022-09-11T14:04:33.830Z"
   },
   {
    "duration": 27,
    "start_time": "2022-09-11T14:04:42.499Z"
   },
   {
    "duration": 31,
    "start_time": "2022-09-11T14:04:42.693Z"
   },
   {
    "duration": 19,
    "start_time": "2022-09-11T14:04:42.981Z"
   },
   {
    "duration": 6,
    "start_time": "2022-09-11T14:04:43.189Z"
   },
   {
    "duration": 7,
    "start_time": "2022-09-11T14:04:43.598Z"
   },
   {
    "duration": 4,
    "start_time": "2022-09-11T14:04:43.837Z"
   },
   {
    "duration": 2470,
    "start_time": "2022-09-11T14:04:44.854Z"
   },
   {
    "duration": 113,
    "start_time": "2022-09-11T14:05:44.350Z"
   },
   {
    "duration": 2302,
    "start_time": "2022-09-11T14:05:47.397Z"
   },
   {
    "duration": 1549,
    "start_time": "2022-09-11T14:06:01.742Z"
   },
   {
    "duration": 2484,
    "start_time": "2022-09-11T14:06:13.101Z"
   },
   {
    "duration": 2347,
    "start_time": "2022-09-11T14:06:18.734Z"
   },
   {
    "duration": 2352,
    "start_time": "2022-09-11T14:06:23.429Z"
   },
   {
    "duration": 2362,
    "start_time": "2022-09-11T14:06:28.982Z"
   },
   {
    "duration": 2308,
    "start_time": "2022-09-11T14:06:38.262Z"
   },
   {
    "duration": 29,
    "start_time": "2022-09-11T14:06:45.155Z"
   },
   {
    "duration": 28,
    "start_time": "2022-09-11T14:06:47.509Z"
   },
   {
    "duration": 20,
    "start_time": "2022-09-11T14:06:47.734Z"
   },
   {
    "duration": 7,
    "start_time": "2022-09-11T14:06:47.917Z"
   },
   {
    "duration": 9,
    "start_time": "2022-09-11T14:06:48.317Z"
   },
   {
    "duration": 5,
    "start_time": "2022-09-11T14:06:48.518Z"
   },
   {
    "duration": 2452,
    "start_time": "2022-09-11T14:06:49.118Z"
   },
   {
    "duration": 2419,
    "start_time": "2022-09-11T14:06:57.694Z"
   },
   {
    "duration": 2515,
    "start_time": "2022-09-11T14:07:07.246Z"
   },
   {
    "duration": 2737,
    "start_time": "2022-09-11T14:07:13.741Z"
   },
   {
    "duration": 2574,
    "start_time": "2022-09-11T14:07:53.261Z"
   },
   {
    "duration": 2368,
    "start_time": "2022-09-11T14:08:15.541Z"
   },
   {
    "duration": 11,
    "start_time": "2022-09-11T14:10:29.309Z"
   },
   {
    "duration": 38,
    "start_time": "2022-09-11T14:11:31.772Z"
   },
   {
    "duration": 2413,
    "start_time": "2022-09-11T14:11:54.661Z"
   },
   {
    "duration": 10,
    "start_time": "2022-09-11T14:12:19.417Z"
   },
   {
    "duration": 29,
    "start_time": "2022-09-11T14:12:19.429Z"
   },
   {
    "duration": 28,
    "start_time": "2022-09-11T14:12:19.460Z"
   },
   {
    "duration": 18,
    "start_time": "2022-09-11T14:12:19.489Z"
   },
   {
    "duration": 5,
    "start_time": "2022-09-11T14:12:19.509Z"
   },
   {
    "duration": 10,
    "start_time": "2022-09-11T14:12:19.515Z"
   },
   {
    "duration": 17,
    "start_time": "2022-09-11T14:12:19.526Z"
   },
   {
    "duration": 39,
    "start_time": "2022-09-11T14:12:19.695Z"
   },
   {
    "duration": 2276,
    "start_time": "2022-09-11T14:12:20.659Z"
   },
   {
    "duration": 3944,
    "start_time": "2022-09-11T14:12:22.937Z"
   },
   {
    "duration": 14257,
    "start_time": "2022-09-11T14:13:23.205Z"
   },
   {
    "duration": 23457,
    "start_time": "2022-09-11T14:15:15.197Z"
   },
   {
    "duration": 36059,
    "start_time": "2022-09-11T14:16:09.828Z"
   },
   {
    "duration": 14754,
    "start_time": "2022-09-11T14:17:00.517Z"
   },
   {
    "duration": 2,
    "start_time": "2022-09-11T14:22:14.587Z"
   },
   {
    "duration": 3,
    "start_time": "2022-09-11T14:23:25.403Z"
   },
   {
    "duration": 27,
    "start_time": "2022-09-11T14:23:25.755Z"
   },
   {
    "duration": 29,
    "start_time": "2022-09-11T14:23:25.947Z"
   },
   {
    "duration": 18,
    "start_time": "2022-09-11T14:23:26.147Z"
   },
   {
    "duration": 6,
    "start_time": "2022-09-11T14:23:26.355Z"
   },
   {
    "duration": 7,
    "start_time": "2022-09-11T14:23:26.771Z"
   },
   {
    "duration": 5,
    "start_time": "2022-09-11T14:23:26.970Z"
   },
   {
    "duration": 51,
    "start_time": "2022-09-11T14:23:27.514Z"
   },
   {
    "duration": 2,
    "start_time": "2022-09-11T14:23:27.699Z"
   },
   {
    "duration": 14318,
    "start_time": "2022-09-11T14:23:28.075Z"
   },
   {
    "duration": 54,
    "start_time": "2022-09-11T14:24:00.563Z"
   },
   {
    "duration": 49,
    "start_time": "2022-09-11T14:24:07.091Z"
   },
   {
    "duration": 52,
    "start_time": "2022-09-11T14:24:17.923Z"
   },
   {
    "duration": 47,
    "start_time": "2022-09-11T14:24:20.634Z"
   },
   {
    "duration": 14433,
    "start_time": "2022-09-11T14:26:24.402Z"
   },
   {
    "duration": 663,
    "start_time": "2022-09-11T14:27:40.634Z"
   },
   {
    "duration": 439,
    "start_time": "2022-09-11T14:29:44.459Z"
   },
   {
    "duration": 379,
    "start_time": "2022-09-11T14:32:24.498Z"
   },
   {
    "duration": 561,
    "start_time": "2022-09-11T14:32:30.018Z"
   },
   {
    "duration": 572,
    "start_time": "2022-09-11T14:33:04.505Z"
   },
   {
    "duration": 4,
    "start_time": "2022-09-11T14:33:11.058Z"
   },
   {
    "duration": 24,
    "start_time": "2022-09-11T14:33:12.002Z"
   },
   {
    "duration": 28,
    "start_time": "2022-09-11T14:33:12.201Z"
   },
   {
    "duration": 19,
    "start_time": "2022-09-11T14:33:12.401Z"
   },
   {
    "duration": 6,
    "start_time": "2022-09-11T14:33:12.601Z"
   },
   {
    "duration": 7,
    "start_time": "2022-09-11T14:33:13.030Z"
   },
   {
    "duration": 5,
    "start_time": "2022-09-11T14:33:13.257Z"
   },
   {
    "duration": 47,
    "start_time": "2022-09-11T14:33:13.913Z"
   },
   {
    "duration": 2,
    "start_time": "2022-09-11T14:33:14.137Z"
   },
   {
    "duration": 0,
    "start_time": "2022-09-11T14:33:29.269Z"
   },
   {
    "duration": 0,
    "start_time": "2022-09-11T14:33:29.271Z"
   },
   {
    "duration": 466,
    "start_time": "2022-09-11T14:33:33.316Z"
   },
   {
    "duration": 14586,
    "start_time": "2022-09-11T14:34:03.994Z"
   },
   {
    "duration": 26,
    "start_time": "2022-09-11T14:35:58.593Z"
   },
   {
    "duration": 27,
    "start_time": "2022-09-11T14:36:02.337Z"
   },
   {
    "duration": 30,
    "start_time": "2022-09-11T14:36:11.057Z"
   },
   {
    "duration": 63,
    "start_time": "2022-09-11T14:45:08.544Z"
   },
   {
    "duration": 54,
    "start_time": "2022-09-11T14:45:46.200Z"
   },
   {
    "duration": 54,
    "start_time": "2022-09-11T14:45:50.623Z"
   },
   {
    "duration": 54,
    "start_time": "2022-09-11T14:45:55.784Z"
   },
   {
    "duration": 52,
    "start_time": "2022-09-11T14:46:14.352Z"
   },
   {
    "duration": 17899,
    "start_time": "2022-09-11T14:46:27.183Z"
   },
   {
    "duration": 17878,
    "start_time": "2022-09-11T14:47:25.655Z"
   },
   {
    "duration": 31,
    "start_time": "2022-09-11T14:47:48.000Z"
   },
   {
    "duration": 2,
    "start_time": "2022-09-11T14:48:26.615Z"
   },
   {
    "duration": 54,
    "start_time": "2022-09-11T14:48:26.919Z"
   },
   {
    "duration": 3,
    "start_time": "2022-09-11T14:48:27.438Z"
   },
   {
    "duration": 618,
    "start_time": "2022-09-11T14:48:28.015Z"
   },
   {
    "duration": 0,
    "start_time": "2022-09-11T14:48:28.635Z"
   },
   {
    "duration": 29,
    "start_time": "2022-09-11T14:48:34.639Z"
   },
   {
    "duration": 1494,
    "start_time": "2022-09-11T14:48:49.863Z"
   },
   {
    "duration": 46,
    "start_time": "2022-09-11T14:50:21.997Z"
   },
   {
    "duration": 1321,
    "start_time": "2022-09-11T14:50:24.501Z"
   },
   {
    "duration": 27,
    "start_time": "2022-09-11T14:50:25.825Z"
   },
   {
    "duration": 35,
    "start_time": "2022-09-11T14:50:25.854Z"
   },
   {
    "duration": 23,
    "start_time": "2022-09-11T14:50:25.891Z"
   },
   {
    "duration": 5,
    "start_time": "2022-09-11T14:50:25.916Z"
   },
   {
    "duration": 10,
    "start_time": "2022-09-11T14:50:25.923Z"
   },
   {
    "duration": 4,
    "start_time": "2022-09-11T14:50:25.935Z"
   },
   {
    "duration": 6,
    "start_time": "2022-09-11T14:50:25.940Z"
   },
   {
    "duration": 144,
    "start_time": "2022-09-11T14:50:25.948Z"
   },
   {
    "duration": 0,
    "start_time": "2022-09-11T14:50:26.094Z"
   },
   {
    "duration": 0,
    "start_time": "2022-09-11T14:50:26.096Z"
   },
   {
    "duration": 0,
    "start_time": "2022-09-11T14:50:26.097Z"
   },
   {
    "duration": 596,
    "start_time": "2022-09-11T14:50:50.284Z"
   },
   {
    "duration": 3,
    "start_time": "2022-09-11T14:53:55.506Z"
   },
   {
    "duration": 38,
    "start_time": "2022-09-11T14:53:56.435Z"
   },
   {
    "duration": 629,
    "start_time": "2022-09-11T14:54:04.348Z"
   },
   {
    "duration": 617,
    "start_time": "2022-09-11T14:54:10.419Z"
   },
   {
    "duration": 1537,
    "start_time": "2022-09-11T14:54:14.355Z"
   },
   {
    "duration": 18110,
    "start_time": "2022-09-11T14:54:22.330Z"
   },
   {
    "duration": 28,
    "start_time": "2022-09-11T15:03:10.587Z"
   },
   {
    "duration": 68,
    "start_time": "2022-09-11T15:03:13.484Z"
   },
   {
    "duration": 17221,
    "start_time": "2022-09-11T15:03:17.843Z"
   },
   {
    "duration": 43,
    "start_time": "2022-09-11T15:18:14.754Z"
   },
   {
    "duration": 4,
    "start_time": "2022-09-11T15:18:15.106Z"
   },
   {
    "duration": 11,
    "start_time": "2022-09-11T15:18:25.138Z"
   },
   {
    "duration": 18,
    "start_time": "2022-09-11T15:18:45.755Z"
   },
   {
    "duration": 8,
    "start_time": "2022-09-11T15:20:33.746Z"
   },
   {
    "duration": 5,
    "start_time": "2022-09-11T15:20:38.729Z"
   },
   {
    "duration": 21,
    "start_time": "2022-09-11T15:22:53.762Z"
   },
   {
    "duration": 4,
    "start_time": "2022-09-11T15:23:01.489Z"
   },
   {
    "duration": 7,
    "start_time": "2022-09-11T15:23:14.499Z"
   },
   {
    "duration": 4,
    "start_time": "2022-09-11T15:23:15.945Z"
   },
   {
    "duration": 5,
    "start_time": "2022-09-11T15:24:37.993Z"
   },
   {
    "duration": 52,
    "start_time": "2022-09-11T15:26:02.786Z"
   },
   {
    "duration": 4,
    "start_time": "2022-09-11T15:27:56.506Z"
   },
   {
    "duration": 41,
    "start_time": "2022-09-11T15:27:56.889Z"
   },
   {
    "duration": 2,
    "start_time": "2022-09-11T15:27:57.344Z"
   },
   {
    "duration": 18752,
    "start_time": "2022-09-11T15:28:04.905Z"
   },
   {
    "duration": 59,
    "start_time": "2022-09-11T15:28:58.113Z"
   },
   {
    "duration": 61,
    "start_time": "2022-09-11T15:29:21.602Z"
   },
   {
    "duration": 71,
    "start_time": "2022-09-11T15:30:54.970Z"
   },
   {
    "duration": 66,
    "start_time": "2022-09-11T15:31:28.874Z"
   },
   {
    "duration": 76,
    "start_time": "2022-09-11T15:31:45.872Z"
   },
   {
    "duration": 4,
    "start_time": "2022-09-11T15:33:27.416Z"
   },
   {
    "duration": 1313,
    "start_time": "2022-09-11T15:33:36.377Z"
   },
   {
    "duration": 67,
    "start_time": "2022-09-11T15:33:37.692Z"
   },
   {
    "duration": 30,
    "start_time": "2022-09-11T15:33:37.761Z"
   },
   {
    "duration": 19,
    "start_time": "2022-09-11T15:33:37.793Z"
   },
   {
    "duration": 5,
    "start_time": "2022-09-11T15:33:37.814Z"
   },
   {
    "duration": 4,
    "start_time": "2022-09-11T15:33:38.337Z"
   },
   {
    "duration": 7,
    "start_time": "2022-09-11T15:33:39.438Z"
   },
   {
    "duration": 5,
    "start_time": "2022-09-11T15:33:39.888Z"
   },
   {
    "duration": 154,
    "start_time": "2022-09-11T15:33:41.344Z"
   },
   {
    "duration": 70,
    "start_time": "2022-09-11T15:36:21.408Z"
   },
   {
    "duration": 79,
    "start_time": "2022-09-11T15:36:24.960Z"
   },
   {
    "duration": 69,
    "start_time": "2022-09-11T15:37:33.584Z"
   },
   {
    "duration": 72,
    "start_time": "2022-09-11T15:39:33.352Z"
   },
   {
    "duration": 373,
    "start_time": "2022-09-11T15:39:46.312Z"
   },
   {
    "duration": 62,
    "start_time": "2022-09-11T15:41:51.200Z"
   },
   {
    "duration": 4,
    "start_time": "2022-09-11T15:42:04.983Z"
   },
   {
    "duration": 27,
    "start_time": "2022-09-11T15:42:05.189Z"
   },
   {
    "duration": 29,
    "start_time": "2022-09-11T15:42:05.367Z"
   },
   {
    "duration": 19,
    "start_time": "2022-09-11T15:42:05.559Z"
   },
   {
    "duration": 5,
    "start_time": "2022-09-11T15:42:05.743Z"
   },
   {
    "duration": 4,
    "start_time": "2022-09-11T15:42:05.919Z"
   },
   {
    "duration": 8,
    "start_time": "2022-09-11T15:42:06.503Z"
   },
   {
    "duration": 3,
    "start_time": "2022-09-11T15:42:06.815Z"
   },
   {
    "duration": 59,
    "start_time": "2022-09-11T15:42:07.727Z"
   },
   {
    "duration": 56,
    "start_time": "2022-09-11T15:42:09.783Z"
   },
   {
    "duration": 4,
    "start_time": "2022-09-11T15:43:05.767Z"
   },
   {
    "duration": 25,
    "start_time": "2022-09-11T15:43:06.127Z"
   },
   {
    "duration": 29,
    "start_time": "2022-09-11T15:43:06.327Z"
   },
   {
    "duration": 18,
    "start_time": "2022-09-11T15:43:06.528Z"
   },
   {
    "duration": 6,
    "start_time": "2022-09-11T15:43:06.743Z"
   },
   {
    "duration": 5,
    "start_time": "2022-09-11T15:43:06.983Z"
   },
   {
    "duration": 7,
    "start_time": "2022-09-11T15:43:07.743Z"
   },
   {
    "duration": 4,
    "start_time": "2022-09-11T15:43:08.015Z"
   },
   {
    "duration": 74,
    "start_time": "2022-09-11T15:43:08.907Z"
   },
   {
    "duration": 60,
    "start_time": "2022-09-11T15:43:10.975Z"
   },
   {
    "duration": 68,
    "start_time": "2022-09-11T15:44:04.800Z"
   },
   {
    "duration": 161,
    "start_time": "2022-09-11T15:44:30.223Z"
   },
   {
    "duration": 41,
    "start_time": "2022-09-11T15:45:01.031Z"
   },
   {
    "duration": 97,
    "start_time": "2022-09-11T15:45:08.559Z"
   },
   {
    "duration": 70,
    "start_time": "2022-09-11T15:45:42.127Z"
   },
   {
    "duration": 67,
    "start_time": "2022-09-11T15:45:48.583Z"
   },
   {
    "duration": 82,
    "start_time": "2022-09-11T15:49:43.969Z"
   },
   {
    "duration": 115,
    "start_time": "2022-09-11T15:50:02.239Z"
   },
   {
    "duration": 73,
    "start_time": "2022-09-11T15:50:12.071Z"
   },
   {
    "duration": 69,
    "start_time": "2022-09-11T15:51:18.566Z"
   },
   {
    "duration": 91,
    "start_time": "2022-09-11T15:51:43.742Z"
   },
   {
    "duration": 86,
    "start_time": "2022-09-11T15:51:54.166Z"
   },
   {
    "duration": 178,
    "start_time": "2022-09-11T15:53:18.438Z"
   },
   {
    "duration": 52,
    "start_time": "2022-09-11T15:56:23.461Z"
   },
   {
    "duration": 14,
    "start_time": "2022-09-11T15:56:27.717Z"
   },
   {
    "duration": 174,
    "start_time": "2022-09-11T15:56:34.489Z"
   },
   {
    "duration": 75,
    "start_time": "2022-09-11T15:56:49.559Z"
   },
   {
    "duration": 81,
    "start_time": "2022-09-11T15:56:53.638Z"
   },
   {
    "duration": 68,
    "start_time": "2022-09-11T15:59:01.086Z"
   },
   {
    "duration": 69,
    "start_time": "2022-09-11T16:01:03.389Z"
   },
   {
    "duration": 653,
    "start_time": "2022-09-11T16:03:31.572Z"
   },
   {
    "duration": 615,
    "start_time": "2022-09-11T16:03:42.205Z"
   },
   {
    "duration": 585,
    "start_time": "2022-09-11T16:04:48.812Z"
   },
   {
    "duration": 83,
    "start_time": "2022-09-11T16:05:14.325Z"
   },
   {
    "duration": 442,
    "start_time": "2022-09-11T16:06:53.149Z"
   },
   {
    "duration": 64,
    "start_time": "2022-09-11T16:11:30.100Z"
   },
   {
    "duration": 30890,
    "start_time": "2022-09-11T16:12:00.235Z"
   },
   {
    "duration": 30573,
    "start_time": "2022-09-11T16:13:19.900Z"
   },
   {
    "duration": 22041,
    "start_time": "2022-09-11T16:14:18.925Z"
   },
   {
    "duration": 20714,
    "start_time": "2022-09-11T16:19:33.697Z"
   },
   {
    "duration": 26,
    "start_time": "2022-09-11T16:21:21.601Z"
   },
   {
    "duration": 11,
    "start_time": "2022-09-11T16:25:51.931Z"
   },
   {
    "duration": 19,
    "start_time": "2022-09-11T16:26:02.809Z"
   },
   {
    "duration": 27,
    "start_time": "2022-09-11T16:26:18.970Z"
   },
   {
    "duration": 15,
    "start_time": "2022-09-11T16:26:28.810Z"
   },
   {
    "duration": 4,
    "start_time": "2022-09-11T16:37:23.942Z"
   },
   {
    "duration": 1078,
    "start_time": "2022-09-11T16:37:34.124Z"
   },
   {
    "duration": 31,
    "start_time": "2022-09-11T16:37:35.206Z"
   },
   {
    "duration": 35,
    "start_time": "2022-09-11T16:37:35.240Z"
   },
   {
    "duration": 31,
    "start_time": "2022-09-11T16:37:35.277Z"
   },
   {
    "duration": 9,
    "start_time": "2022-09-11T16:37:35.310Z"
   },
   {
    "duration": 12,
    "start_time": "2022-09-11T16:37:35.321Z"
   },
   {
    "duration": 19,
    "start_time": "2022-09-11T16:37:35.335Z"
   },
   {
    "duration": 25,
    "start_time": "2022-09-11T16:37:35.356Z"
   },
   {
    "duration": 126,
    "start_time": "2022-09-11T16:37:35.383Z"
   },
   {
    "duration": 21732,
    "start_time": "2022-09-11T16:37:35.510Z"
   },
   {
    "duration": 24,
    "start_time": "2022-09-11T16:37:57.244Z"
   },
   {
    "duration": 15,
    "start_time": "2022-09-11T16:37:57.277Z"
   },
   {
    "duration": 99,
    "start_time": "2022-09-11T16:38:45.833Z"
   },
   {
    "duration": 80,
    "start_time": "2022-09-11T16:38:50.639Z"
   },
   {
    "duration": 1362,
    "start_time": "2022-09-11T17:42:19.494Z"
   },
   {
    "duration": 36,
    "start_time": "2022-09-11T17:42:20.859Z"
   },
   {
    "duration": 119,
    "start_time": "2022-09-11T17:42:20.897Z"
   },
   {
    "duration": 19,
    "start_time": "2022-09-11T17:42:21.018Z"
   },
   {
    "duration": 5,
    "start_time": "2022-09-11T17:42:21.039Z"
   },
   {
    "duration": 10,
    "start_time": "2022-09-11T17:42:21.045Z"
   },
   {
    "duration": 15,
    "start_time": "2022-09-11T17:42:21.057Z"
   },
   {
    "duration": 9,
    "start_time": "2022-09-11T17:42:21.075Z"
   },
   {
    "duration": 81,
    "start_time": "2022-09-11T17:42:21.085Z"
   },
   {
    "duration": 19686,
    "start_time": "2022-09-11T17:42:21.168Z"
   },
   {
    "duration": 26,
    "start_time": "2022-09-11T17:42:40.856Z"
   },
   {
    "duration": 12,
    "start_time": "2022-09-11T17:42:40.883Z"
   },
   {
    "duration": 1092,
    "start_time": "2022-09-12T16:14:17.745Z"
   },
   {
    "duration": 53,
    "start_time": "2022-09-12T16:14:18.840Z"
   },
   {
    "duration": 64,
    "start_time": "2022-09-12T16:14:18.895Z"
   },
   {
    "duration": 23,
    "start_time": "2022-09-12T16:14:18.962Z"
   },
   {
    "duration": 7,
    "start_time": "2022-09-12T16:14:19.125Z"
   },
   {
    "duration": 4,
    "start_time": "2022-09-12T16:14:20.054Z"
   },
   {
    "duration": 8,
    "start_time": "2022-09-12T16:14:21.781Z"
   },
   {
    "duration": 5,
    "start_time": "2022-09-12T16:14:25.613Z"
   },
   {
    "duration": 75,
    "start_time": "2022-09-12T16:14:28.311Z"
   },
   {
    "duration": 82,
    "start_time": "2022-09-12T16:27:55.857Z"
   },
   {
    "duration": 101,
    "start_time": "2022-09-12T16:29:50.563Z"
   },
   {
    "duration": 502,
    "start_time": "2022-09-12T16:29:57.843Z"
   },
   {
    "duration": 368,
    "start_time": "2022-09-12T16:30:02.355Z"
   },
   {
    "duration": 312,
    "start_time": "2022-09-12T16:30:12.331Z"
   },
   {
    "duration": 603,
    "start_time": "2022-09-12T16:30:35.675Z"
   },
   {
    "duration": 32,
    "start_time": "2022-09-12T16:32:51.860Z"
   },
   {
    "duration": 636,
    "start_time": "2022-09-12T16:32:55.819Z"
   },
   {
    "duration": 940,
    "start_time": "2022-09-12T16:33:07.373Z"
   },
   {
    "duration": 572,
    "start_time": "2022-09-12T16:33:15.796Z"
   },
   {
    "duration": 542,
    "start_time": "2022-09-12T16:35:22.356Z"
   },
   {
    "duration": 611,
    "start_time": "2022-09-12T16:35:27.132Z"
   },
   {
    "duration": 19,
    "start_time": "2022-09-12T16:35:58.140Z"
   },
   {
    "duration": 163,
    "start_time": "2022-09-12T16:36:03.236Z"
   },
   {
    "duration": 18,
    "start_time": "2022-09-12T16:36:07.740Z"
   },
   {
    "duration": 553,
    "start_time": "2022-09-12T16:36:19.395Z"
   },
   {
    "duration": 14,
    "start_time": "2022-09-12T16:38:55.232Z"
   },
   {
    "duration": 566,
    "start_time": "2022-09-12T16:39:04.204Z"
   },
   {
    "duration": 103,
    "start_time": "2022-09-12T16:39:35.020Z"
   },
   {
    "duration": 76,
    "start_time": "2022-09-12T16:39:38.516Z"
   },
   {
    "duration": 590,
    "start_time": "2022-09-12T16:39:47.015Z"
   },
   {
    "duration": 99,
    "start_time": "2022-09-12T16:39:58.886Z"
   },
   {
    "duration": 183,
    "start_time": "2022-09-12T16:40:02.477Z"
   },
   {
    "duration": 600,
    "start_time": "2022-09-12T16:40:07.260Z"
   },
   {
    "duration": 578,
    "start_time": "2022-09-12T16:44:50.188Z"
   },
   {
    "duration": 595,
    "start_time": "2022-09-12T16:45:28.380Z"
   },
   {
    "duration": 590,
    "start_time": "2022-09-12T16:45:34.084Z"
   },
   {
    "duration": 721,
    "start_time": "2022-09-12T16:46:13.541Z"
   },
   {
    "duration": 658,
    "start_time": "2022-09-12T16:46:21.428Z"
   },
   {
    "duration": 617,
    "start_time": "2022-09-12T16:46:52.681Z"
   },
   {
    "duration": 596,
    "start_time": "2022-09-12T16:47:12.181Z"
   },
   {
    "duration": 151,
    "start_time": "2022-09-12T16:48:25.937Z"
   },
   {
    "duration": 153,
    "start_time": "2022-09-12T16:48:31.220Z"
   },
   {
    "duration": 164,
    "start_time": "2022-09-12T16:48:49.684Z"
   },
   {
    "duration": 150,
    "start_time": "2022-09-12T16:48:55.452Z"
   },
   {
    "duration": 148,
    "start_time": "2022-09-12T16:49:15.123Z"
   },
   {
    "duration": 228,
    "start_time": "2022-09-12T16:49:37.613Z"
   },
   {
    "duration": 188,
    "start_time": "2022-09-12T16:49:41.506Z"
   },
   {
    "duration": 4,
    "start_time": "2022-09-12T16:59:01.890Z"
   },
   {
    "duration": 7,
    "start_time": "2022-09-12T16:59:48.371Z"
   },
   {
    "duration": 7,
    "start_time": "2022-09-12T17:07:17.994Z"
   },
   {
    "duration": 6,
    "start_time": "2022-09-12T17:14:57.977Z"
   },
   {
    "duration": 6,
    "start_time": "2022-09-12T17:16:25.296Z"
   }
  ],
  "kernelspec": {
   "display_name": "Python 3 (ipykernel)",
   "language": "python",
   "name": "python3"
  },
  "language_info": {
   "codemirror_mode": {
    "name": "ipython",
    "version": 3
   },
   "file_extension": ".py",
   "mimetype": "text/x-python",
   "name": "python",
   "nbconvert_exporter": "python",
   "pygments_lexer": "ipython3",
   "version": "3.9.12"
  },
  "toc": {
   "base_numbering": 1,
   "nav_menu": {},
   "number_sections": true,
   "sideBar": true,
   "skip_h1_title": true,
   "title_cell": "Table of Contents",
   "title_sidebar": "Contents",
   "toc_cell": false,
   "toc_position": {},
   "toc_section_display": true,
   "toc_window_display": true
  }
 },
 "nbformat": 4,
 "nbformat_minor": 2
}
